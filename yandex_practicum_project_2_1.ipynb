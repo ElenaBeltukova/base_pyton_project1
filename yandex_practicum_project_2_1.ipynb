{
 "cells": [
  {
   "cell_type": "markdown",
   "id": "c81daeeb",
   "metadata": {
    "deletable": false,
    "editable": false,
    "id": "c81daeeb"
   },
   "source": [
    "# Исследование надежности заемщиков"
   ]
  },
  {
   "cell_type": "markdown",
   "id": "-G3EJWzf62s6",
   "metadata": {
    "deletable": false,
    "editable": false,
    "id": "-G3EJWzf62s6"
   },
   "source": [
    "Это первая часть проекта, она будет проверена автоматически. Вторую часть проверит ревьюер. "
   ]
  },
  {
   "cell_type": "markdown",
   "id": "744d7639",
   "metadata": {
    "deletable": false,
    "editable": false,
    "id": "744d7639"
   },
   "source": [
    "## Откройте таблицу и изучите общую информацию о данных"
   ]
  },
  {
   "cell_type": "markdown",
   "id": "e7a14c31",
   "metadata": {
    "deletable": false,
    "editable": false,
    "id": "e7a14c31",
    "tags": [
     "start_task"
    ]
   },
   "source": [
    "**Задание 1. Импортируйте библиотеку pandas. Считайте данные из csv-файла в датафрейм и сохраните в переменную `data`. Путь к файлу:**\n",
    "\n",
    "`/datasets/data.csv`"
   ]
  },
  {
   "cell_type": "code",
   "execution_count": 1,
   "id": "7bcf75c9",
   "metadata": {
    "id": "7bcf75c9"
   },
   "outputs": [],
   "source": [
    "# импортируйте библиотеку pandas\n",
    "import pandas as pd"
   ]
  },
  {
   "cell_type": "code",
   "execution_count": 2,
   "id": "4d240ee2",
   "metadata": {
    "id": "4d240ee2"
   },
   "outputs": [],
   "source": [
    "# прочитайте csv-файл\n",
    "data = pd.read_csv('datasets/data.csv')"
   ]
  },
  {
   "cell_type": "markdown",
   "id": "b8038fe3",
   "metadata": {
    "deletable": false,
    "editable": false,
    "id": "b8038fe3",
    "tags": [
     "start_task"
    ]
   },
   "source": [
    "**Задание 2. Выведите первые 20 строчек датафрейма `data` на экран.**"
   ]
  },
  {
   "cell_type": "code",
   "execution_count": 3,
   "id": "2a7cab99",
   "metadata": {
    "id": "2a7cab99"
   },
   "outputs": [
    {
     "name": "stdout",
     "output_type": "stream",
     "text": [
      "    children  days_employed  dob_years            education  education_id  \\\n",
      "0          1   -8437.673028         42               высшее             0   \n",
      "1          1   -4024.803754         36              среднее             1   \n",
      "2          0   -5623.422610         33              Среднее             1   \n",
      "3          3   -4124.747207         32              среднее             1   \n",
      "4          0  340266.072047         53              среднее             1   \n",
      "5          0    -926.185831         27               высшее             0   \n",
      "6          0   -2879.202052         43               высшее             0   \n",
      "7          0    -152.779569         50              СРЕДНЕЕ             1   \n",
      "8          2   -6929.865299         35               ВЫСШЕЕ             0   \n",
      "9          0   -2188.756445         41              среднее             1   \n",
      "10         2   -4171.483647         36               высшее             0   \n",
      "11         0    -792.701887         40              среднее             1   \n",
      "12         0            NaN         65              среднее             1   \n",
      "13         0   -1846.641941         54  неоконченное высшее             2   \n",
      "14         0   -1844.956182         56               высшее             0   \n",
      "15         1    -972.364419         26              среднее             1   \n",
      "16         0   -1719.934226         35              среднее             1   \n",
      "17         0   -2369.999720         33               высшее             0   \n",
      "18         0  400281.136913         53              среднее             1   \n",
      "19         0  -10038.818549         48              СРЕДНЕЕ             1   \n",
      "\n",
      "       family_status  family_status_id gender income_type  debt  \\\n",
      "0    женат / замужем                 0      F   сотрудник     0   \n",
      "1    женат / замужем                 0      F   сотрудник     0   \n",
      "2    женат / замужем                 0      M   сотрудник     0   \n",
      "3    женат / замужем                 0      M   сотрудник     0   \n",
      "4   гражданский брак                 1      F   пенсионер     0   \n",
      "5   гражданский брак                 1      M   компаньон     0   \n",
      "6    женат / замужем                 0      F   компаньон     0   \n",
      "7    женат / замужем                 0      M   сотрудник     0   \n",
      "8   гражданский брак                 1      F   сотрудник     0   \n",
      "9    женат / замужем                 0      M   сотрудник     0   \n",
      "10   женат / замужем                 0      M   компаньон     0   \n",
      "11   женат / замужем                 0      F   сотрудник     0   \n",
      "12  гражданский брак                 1      M   пенсионер     0   \n",
      "13   женат / замужем                 0      F   сотрудник     0   \n",
      "14  гражданский брак                 1      F   компаньон     1   \n",
      "15   женат / замужем                 0      F   сотрудник     0   \n",
      "16   женат / замужем                 0      F   сотрудник     0   \n",
      "17  гражданский брак                 1      M   сотрудник     0   \n",
      "18    вдовец / вдова                 2      F   пенсионер     0   \n",
      "19         в разводе                 3      F   сотрудник     0   \n",
      "\n",
      "     total_income                                 purpose  \n",
      "0   253875.639453                           покупка жилья  \n",
      "1   112080.014102                 приобретение автомобиля  \n",
      "2   145885.952297                           покупка жилья  \n",
      "3   267628.550329              дополнительное образование  \n",
      "4   158616.077870                         сыграть свадьбу  \n",
      "5   255763.565419                           покупка жилья  \n",
      "6   240525.971920                       операции с жильем  \n",
      "7   135823.934197                             образование  \n",
      "8    95856.832424                   на проведение свадьбы  \n",
      "9   144425.938277                 покупка жилья для семьи  \n",
      "10  113943.491460                    покупка недвижимости  \n",
      "11   77069.234271       покупка коммерческой недвижимости  \n",
      "12            NaN                         сыграть свадьбу  \n",
      "13  130458.228857                 приобретение автомобиля  \n",
      "14  165127.911772              покупка жилой недвижимости  \n",
      "15  116820.904450  строительство собственной недвижимости  \n",
      "16  289202.704229                            недвижимость  \n",
      "17   90410.586745              строительство недвижимости  \n",
      "18   56823.777243      на покупку подержанного автомобиля  \n",
      "19  242831.107982            на покупку своего автомобиля  \n"
     ]
    }
   ],
   "source": [
    "# ваш код здесь\n",
    "print(data.head(20))"
   ]
  },
  {
   "cell_type": "markdown",
   "id": "1c12e233",
   "metadata": {
    "deletable": false,
    "editable": false,
    "id": "1c12e233",
    "tags": [
     "start_task"
    ]
   },
   "source": [
    "**Задание 3. Выведите основную информацию о датафрейме с помощью метода `info()`.**"
   ]
  },
  {
   "cell_type": "code",
   "execution_count": 4,
   "id": "2b757bca",
   "metadata": {
    "id": "2b757bca"
   },
   "outputs": [
    {
     "name": "stdout",
     "output_type": "stream",
     "text": [
      "<class 'pandas.core.frame.DataFrame'>\n",
      "RangeIndex: 21525 entries, 0 to 21524\n",
      "Data columns (total 12 columns):\n",
      " #   Column            Non-Null Count  Dtype  \n",
      "---  ------            --------------  -----  \n",
      " 0   children          21525 non-null  int64  \n",
      " 1   days_employed     19351 non-null  float64\n",
      " 2   dob_years         21525 non-null  int64  \n",
      " 3   education         21525 non-null  object \n",
      " 4   education_id      21525 non-null  int64  \n",
      " 5   family_status     21525 non-null  object \n",
      " 6   family_status_id  21525 non-null  int64  \n",
      " 7   gender            21525 non-null  object \n",
      " 8   income_type       21525 non-null  object \n",
      " 9   debt              21525 non-null  int64  \n",
      " 10  total_income      19351 non-null  float64\n",
      " 11  purpose           21525 non-null  object \n",
      "dtypes: float64(2), int64(5), object(5)\n",
      "memory usage: 2.0+ MB\n"
     ]
    }
   ],
   "source": [
    "# ваш код здесь\n",
    "data.info()"
   ]
  },
  {
   "cell_type": "markdown",
   "id": "333ec665",
   "metadata": {
    "deletable": false,
    "editable": false,
    "id": "333ec665"
   },
   "source": [
    "## Предобработка данных"
   ]
  },
  {
   "cell_type": "markdown",
   "id": "02d92d53",
   "metadata": {
    "deletable": false,
    "editable": false,
    "id": "02d92d53"
   },
   "source": [
    "### Удаление пропусков"
   ]
  },
  {
   "cell_type": "markdown",
   "id": "cd84967c",
   "metadata": {
    "deletable": false,
    "editable": false,
    "id": "cd84967c",
    "tags": [
     "start_task"
    ]
   },
   "source": [
    "**Задание 4. Выведите количество пропущенных значений для каждого столбца. Используйте комбинацию двух методов.**"
   ]
  },
  {
   "cell_type": "code",
   "execution_count": 5,
   "id": "7f9b2309",
   "metadata": {
    "id": "7f9b2309"
   },
   "outputs": [
    {
     "name": "stdout",
     "output_type": "stream",
     "text": [
      "children               0\n",
      "days_employed       2174\n",
      "dob_years              0\n",
      "education              0\n",
      "education_id           0\n",
      "family_status          0\n",
      "family_status_id       0\n",
      "gender                 0\n",
      "income_type            0\n",
      "debt                   0\n",
      "total_income        2174\n",
      "purpose                0\n",
      "dtype: int64\n"
     ]
    }
   ],
   "source": [
    "# ваш код здесь\n",
    "print(data.isna().sum())"
   ]
  },
  {
   "cell_type": "markdown",
   "id": "db86e27b",
   "metadata": {
    "deletable": false,
    "editable": false,
    "id": "db86e27b",
    "tags": [
     "start_task"
    ]
   },
   "source": [
    "**Задание 5. В двух столбцах есть пропущенные значения. Один из них — `days_employed`. Пропуски в этом столбце вы обработаете на следующем этапе. Другой столбец с пропущенными значениями — `total_income` — хранит данные о доходах. На сумму дохода сильнее всего влияет тип занятости, поэтому заполнить пропуски в этом столбце нужно медианным значением по каждому типу из столбца `income_type`. Например, у человека с типом занятости `сотрудник` пропуск в столбце `total_income` должен быть заполнен медианным доходом среди всех записей с тем же типом.**"
   ]
  },
  {
   "cell_type": "code",
   "execution_count": 6,
   "id": "42006a93",
   "metadata": {
    "id": "42006a93"
   },
   "outputs": [],
   "source": [
    "# ваш код здесь\n",
    "#uniq = data['income_type'].unique()\n",
    "#medians = {}\n",
    "#for u in uniq:\n",
    "#    medians[u] = data[data['income_type'] == u]['total_income'].median()\n",
    "\n",
    "#def foo(row):\n",
    "#    if pd.isnull(row['total_income']):\n",
    "#        return medians[row['income_type']]\n",
    "#    else:\n",
    "#         return row['total_income']\n",
    "        \n",
    "#data = data.apply(foo,axis=1) \n",
    "\n",
    "for uniq in data['income_type'].unique():\n",
    "    data.loc[(data['income_type'] == uniq) & (data['total_income'].isna()), 'total_income'] = \\\n",
    "    data.loc[(data['income_type'] == uniq), 'total_income'].median()\n",
    "\n",
    "\n"
   ]
  },
  {
   "cell_type": "markdown",
   "id": "89da5ece",
   "metadata": {
    "deletable": false,
    "editable": false,
    "id": "89da5ece"
   },
   "source": [
    "### Обработка аномальных значений"
   ]
  },
  {
   "cell_type": "markdown",
   "id": "57964554",
   "metadata": {
    "deletable": false,
    "editable": false,
    "id": "57964554",
    "tags": [
     "start_task"
    ]
   },
   "source": [
    "**Задание 6. В данных могут встречаться артефакты (аномалии) — значения, которые не отражают действительность и появились по какой-то ошибке. Таким артефактом будет отрицательное количество дней трудового стажа в столбце `days_employed`. Для реальных данных это нормально. Обработайте значения в этом столбце: замените все отрицательные значения положительными с помощью метода `abs()`.**"
   ]
  },
  {
   "cell_type": "code",
   "execution_count": 7,
   "id": "f6f055bf",
   "metadata": {
    "id": "f6f055bf"
   },
   "outputs": [],
   "source": [
    "# ваш код здесь\n",
    "data['days_employed'] = data['days_employed'].abs()"
   ]
  },
  {
   "cell_type": "markdown",
   "id": "6107dd2f",
   "metadata": {
    "deletable": false,
    "editable": false,
    "id": "6107dd2f",
    "tags": [
     "start_task"
    ]
   },
   "source": [
    "**Задание 7. Для каждого типа занятости выведите медианное значение трудового стажа `days_employed` в днях.**"
   ]
  },
  {
   "cell_type": "code",
   "execution_count": 8,
   "id": "85a5faf6",
   "metadata": {
    "id": "85a5faf6"
   },
   "outputs": [
    {
     "data": {
      "text/plain": [
       "income_type\n",
       "безработный        366413.652744\n",
       "в декрете            3296.759962\n",
       "госслужащий          2689.368353\n",
       "компаньон            1547.382223\n",
       "пенсионер          365213.306266\n",
       "предприниматель       520.848083\n",
       "сотрудник            1574.202821\n",
       "студент               578.751554\n",
       "Name: days_employed, dtype: float64"
      ]
     },
     "execution_count": 8,
     "metadata": {},
     "output_type": "execute_result"
    }
   ],
   "source": [
    "# ваш код здесь\n",
    "#for uniq in data['income_type'].unique():\n",
    "#    print(uniq, data.loc[(data['income_type'] == uniq), 'total_income'].median())\n",
    "data.groupby('income_type')['days_employed'].median()"
   ]
  },
  {
   "cell_type": "markdown",
   "id": "38d1a030",
   "metadata": {
    "deletable": false,
    "editable": false,
    "id": "38d1a030"
   },
   "source": [
    "У двух типов (безработные и пенсионеры) получатся аномально большие значения. Исправить такие значения сложно, поэтому оставьте их как есть. Тем более этот столбец не понадобится вам для исследования."
   ]
  },
  {
   "cell_type": "markdown",
   "id": "d8a9f147",
   "metadata": {
    "deletable": false,
    "editable": false,
    "id": "d8a9f147",
    "tags": [
     "start_task"
    ]
   },
   "source": [
    "**Задание 8. Выведите перечень уникальных значений столбца `children`.**"
   ]
  },
  {
   "cell_type": "code",
   "execution_count": 9,
   "id": "ef5056eb",
   "metadata": {
    "id": "ef5056eb"
   },
   "outputs": [
    {
     "data": {
      "text/plain": [
       "array([ 1,  0,  3,  2, -1,  4, 20,  5], dtype=int64)"
      ]
     },
     "execution_count": 9,
     "metadata": {},
     "output_type": "execute_result"
    }
   ],
   "source": [
    "# ваш код здесь\n",
    "data['children'].unique()"
   ]
  },
  {
   "cell_type": "markdown",
   "id": "40b9ebf2",
   "metadata": {
    "deletable": false,
    "editable": false,
    "id": "40b9ebf2",
    "tags": [
     "start_task"
    ]
   },
   "source": [
    "**Задание 9. В столбце `children` есть два аномальных значения. Удалите строки, в которых встречаются такие аномальные значения из датафрейма `data`.**"
   ]
  },
  {
   "cell_type": "code",
   "execution_count": 10,
   "id": "3ff9801d",
   "metadata": {
    "id": "3ff9801d"
   },
   "outputs": [],
   "source": [
    "# ваш код здесь\n",
    "#index = data[data['children'] == -1].index\n",
    "#data.drop(index, inplace=True)\n",
    "\n",
    "#index = data[data['children'] == 20].index\n",
    "#data.drop(index, inplace=True)\n",
    "\n",
    "index = data[data['children'].isin([-1, 20])].index\n",
    "#data.drop(index, inplace=True)"
   ]
  },
  {
   "cell_type": "markdown",
   "id": "bbc4d0ce",
   "metadata": {
    "deletable": false,
    "editable": false,
    "id": "bbc4d0ce",
    "tags": [
     "start_task"
    ]
   },
   "source": [
    "**Задание 10. Ещё раз выведите перечень уникальных значений столбца `children`, чтобы убедиться, что артефакты удалены.**"
   ]
  },
  {
   "cell_type": "code",
   "execution_count": 11,
   "id": "ad4fa8b7",
   "metadata": {
    "id": "ad4fa8b7"
   },
   "outputs": [
    {
     "data": {
      "text/plain": [
       "array([ 1,  0,  3,  2, -1,  4, 20,  5], dtype=int64)"
      ]
     },
     "execution_count": 11,
     "metadata": {},
     "output_type": "execute_result"
    }
   ],
   "source": [
    "# ваш код здесь\n",
    "data['children'].unique()"
   ]
  },
  {
   "cell_type": "markdown",
   "id": "75440b63",
   "metadata": {
    "deletable": false,
    "editable": false,
    "id": "75440b63"
   },
   "source": [
    "### Удаление пропусков (продолжение)"
   ]
  },
  {
   "cell_type": "markdown",
   "id": "f4ea573f",
   "metadata": {
    "deletable": false,
    "editable": false,
    "id": "f4ea573f",
    "tags": [
     "start_task"
    ]
   },
   "source": [
    "**Задание 11. Заполните пропуски в столбце `days_employed` медианными значениями по каждому типу занятости `income_type`.**"
   ]
  },
  {
   "cell_type": "code",
   "execution_count": 12,
   "id": "af6b1a7e",
   "metadata": {
    "id": "af6b1a7e"
   },
   "outputs": [],
   "source": [
    "# ваш код здесь\n",
    "for uniq in data['income_type'].unique():\n",
    "    data.loc[(data['income_type'] == uniq) & (data['days_employed'].isna()), 'days_employed'] = \\\n",
    "    data.loc[(data['income_type'] == uniq), 'days_employed'].median()"
   ]
  },
  {
   "cell_type": "markdown",
   "id": "2753f40d",
   "metadata": {
    "deletable": false,
    "editable": false,
    "id": "2753f40d",
    "tags": [
     "start_task"
    ]
   },
   "source": [
    "**Задание 12. Убедитесь, что все пропуски заполнены. Проверьте себя и ещё раз выведите количество пропущенных значений для каждого столбца с помощью двух методов.**"
   ]
  },
  {
   "cell_type": "code",
   "execution_count": 13,
   "id": "55f78bc2",
   "metadata": {
    "id": "55f78bc2"
   },
   "outputs": [
    {
     "name": "stdout",
     "output_type": "stream",
     "text": [
      "children            0\n",
      "days_employed       0\n",
      "dob_years           0\n",
      "education           0\n",
      "education_id        0\n",
      "family_status       0\n",
      "family_status_id    0\n",
      "gender              0\n",
      "income_type         0\n",
      "debt                0\n",
      "total_income        0\n",
      "purpose             0\n",
      "dtype: int64\n"
     ]
    }
   ],
   "source": [
    "# ваш код здесь\n",
    "print(data.isna().sum())"
   ]
  },
  {
   "cell_type": "markdown",
   "id": "ddc81e43",
   "metadata": {
    "deletable": false,
    "editable": false,
    "id": "ddc81e43"
   },
   "source": [
    "### Изменение типов данных"
   ]
  },
  {
   "cell_type": "markdown",
   "id": "42d19d24",
   "metadata": {
    "deletable": false,
    "editable": false,
    "id": "42d19d24",
    "tags": [
     "start_task"
    ]
   },
   "source": [
    "**Задание 13. Замените вещественный тип данных в столбце `total_income` на целочисленный с помощью метода `astype()`.**"
   ]
  },
  {
   "cell_type": "code",
   "execution_count": 14,
   "id": "920b65ad",
   "metadata": {
    "id": "920b65ad"
   },
   "outputs": [],
   "source": [
    "# ваш код здесь\n",
    "data['total_income'] = data['total_income'].astype(int)"
   ]
  },
  {
   "cell_type": "markdown",
   "id": "80c420ba",
   "metadata": {
    "deletable": false,
    "editable": false,
    "id": "80c420ba"
   },
   "source": [
    "### Обработка дубликатов"
   ]
  },
  {
   "cell_type": "markdown",
   "id": "dc587695",
   "metadata": {
    "deletable": false,
    "editable": false,
    "id": "dc587695",
    "tags": [
     "start_task"
    ]
   },
   "source": [
    "**Задание 14. Обработайте неявные дубликаты в столбце `education`. В этом столбце есть одни и те же значения, но записанные по-разному: с использованием заглавных и строчных букв. Приведите их к нижнему регистру.**"
   ]
  },
  {
   "cell_type": "code",
   "execution_count": 15,
   "id": "a9f8e2bf",
   "metadata": {
    "id": "a9f8e2bf"
   },
   "outputs": [],
   "source": [
    "# ваш код здесь\n",
    "data['education'] = data['education'].str.lower()\n"
   ]
  },
  {
   "cell_type": "markdown",
   "id": "9771a76c",
   "metadata": {
    "deletable": false,
    "editable": false,
    "id": "9771a76c",
    "tags": [
     "start_task"
    ]
   },
   "source": [
    "**Задание 15. Выведите на экран количество строк-дубликатов в данных. Если такие строки присутствуют, удалите их. Сбрасывать индексы после удаления строк дубликатов с помощью `reset_index(drop=True)` здесь не требуется.**"
   ]
  },
  {
   "cell_type": "code",
   "execution_count": 16,
   "id": "3ee445e4",
   "metadata": {
    "id": "3ee445e4"
   },
   "outputs": [
    {
     "data": {
      "text/plain": [
       "71"
      ]
     },
     "execution_count": 16,
     "metadata": {},
     "output_type": "execute_result"
    }
   ],
   "source": [
    "# посчитайте дубликаты\n",
    "data.duplicated().sum()"
   ]
  },
  {
   "cell_type": "code",
   "execution_count": 17,
   "id": "8575fe05",
   "metadata": {
    "id": "8575fe05"
   },
   "outputs": [],
   "source": [
    "# удалите дубликаты\n",
    "data = data.drop_duplicates()"
   ]
  },
  {
   "cell_type": "markdown",
   "id": "9904cf55",
   "metadata": {
    "deletable": false,
    "editable": false,
    "id": "9904cf55"
   },
   "source": [
    "### Категоризация данных"
   ]
  },
  {
   "cell_type": "markdown",
   "id": "72fcc8a2",
   "metadata": {
    "deletable": false,
    "editable": false,
    "id": "72fcc8a2",
    "tags": [
     "start_task"
    ]
   },
   "source": [
    "**Задание 16. На основании диапазонов, указанных ниже, создайте в датафрейме `data` столбец `total_income_category` с категориями:**\n",
    "\n",
    "- 0–30000 — `'E'`;\n",
    "- 30001–50000 — `'D'`;\n",
    "- 50001–200000 — `'C'`;\n",
    "- 200001–1000000 — `'B'`;\n",
    "- 1000001 и выше — `'A'`.\n",
    "\n",
    "\n",
    "**Например, кредитополучателю с доходом 25000 нужно назначить категорию `'E'`, а клиенту, получающему 235000, — `'B'`. Используйте собственную функцию с именем `categorize_income()` и метод `apply()`.**"
   ]
  },
  {
   "cell_type": "code",
   "execution_count": 18,
   "id": "e1771346",
   "metadata": {
    "id": "e1771346"
   },
   "outputs": [],
   "source": [
    "# создайте функцию categorize_income()\n",
    "def categorize_income(sum):\n",
    "    if 0 <= sum <=30000:\n",
    "        return 'E'\n",
    "    elif 30001 <= sum <=50000:\n",
    "        return 'D'\n",
    "    elif 50001 <= sum <=200000:\n",
    "        return 'C'\n",
    "    elif 200001 <= sum <=1000000:\n",
    "        return 'B'\n",
    "    elif 1000001 <= sum:\n",
    "        return 'A'"
   ]
  },
  {
   "cell_type": "code",
   "execution_count": 19,
   "id": "d5f3586d",
   "metadata": {
    "id": "d5f3586d"
   },
   "outputs": [],
   "source": [
    "# примените функцию методом apply()\n",
    "data['total_income_category'] = data['total_income'].apply(categorize_income)"
   ]
  },
  {
   "cell_type": "markdown",
   "id": "dde49b5c",
   "metadata": {
    "deletable": false,
    "editable": false,
    "id": "dde49b5c",
    "tags": [
     "start_task"
    ]
   },
   "source": [
    "**Задание 17. Выведите на экран перечень уникальных целей взятия кредита из столбца `purpose`.**"
   ]
  },
  {
   "cell_type": "code",
   "execution_count": 20,
   "id": "f67ce9b3",
   "metadata": {
    "id": "f67ce9b3"
   },
   "outputs": [
    {
     "data": {
      "text/plain": [
       "array(['покупка жилья', 'приобретение автомобиля',\n",
       "       'дополнительное образование', 'сыграть свадьбу',\n",
       "       'операции с жильем', 'образование', 'на проведение свадьбы',\n",
       "       'покупка жилья для семьи', 'покупка недвижимости',\n",
       "       'покупка коммерческой недвижимости', 'покупка жилой недвижимости',\n",
       "       'строительство собственной недвижимости', 'недвижимость',\n",
       "       'строительство недвижимости', 'на покупку подержанного автомобиля',\n",
       "       'на покупку своего автомобиля',\n",
       "       'операции с коммерческой недвижимостью',\n",
       "       'строительство жилой недвижимости', 'жилье',\n",
       "       'операции со своей недвижимостью', 'автомобили',\n",
       "       'заняться образованием', 'сделка с подержанным автомобилем',\n",
       "       'получение образования', 'автомобиль', 'свадьба',\n",
       "       'получение дополнительного образования', 'покупка своего жилья',\n",
       "       'операции с недвижимостью', 'получение высшего образования',\n",
       "       'свой автомобиль', 'сделка с автомобилем',\n",
       "       'профильное образование', 'высшее образование',\n",
       "       'покупка жилья для сдачи', 'на покупку автомобиля', 'ремонт жилью',\n",
       "       'заняться высшим образованием'], dtype=object)"
      ]
     },
     "execution_count": 20,
     "metadata": {},
     "output_type": "execute_result"
    }
   ],
   "source": [
    "# ваш код здесь\n",
    "data['purpose'].unique()"
   ]
  },
  {
   "cell_type": "markdown",
   "id": "85d0aef0",
   "metadata": {
    "deletable": false,
    "editable": false,
    "id": "85d0aef0",
    "tags": [
     "start_task"
    ]
   },
   "source": [
    "**Задание 18. Создайте функцию, которая на основании данных из столбца `purpose` сформирует новый столбец `purpose_category`, в который войдут следующие категории:**\n",
    "\n",
    "- `'операции с автомобилем'`,\n",
    "- `'операции с недвижимостью'`,\n",
    "- `'проведение свадьбы'`,\n",
    "- `'получение образования'`.\n",
    "\n",
    "**Например, если в столбце `purpose` находится подстрока `'на покупку автомобиля'`, то в столбце `purpose_category` должна появиться строка `'операции с автомобилем'`.**\n",
    "\n",
    "**Используйте собственную функцию с именем `categorize_purpose()` и метод `apply()`. Изучите данные в столбце `purpose` и определите, какие подстроки помогут вам правильно определить категорию.**"
   ]
  },
  {
   "cell_type": "code",
   "execution_count": 21,
   "id": "e149fab4",
   "metadata": {
    "id": "e149fab4"
   },
   "outputs": [],
   "source": [
    "# создайте функцию categorize_purpose()\n",
    "def categorize_purpose(purp):\n",
    "    if purp.find('авто') != -1:\n",
    "        return 'операции с автомобилем'\n",
    "    elif purp.find('жиль') != -1 or purp.find('недвиж') != -1:\n",
    "        return 'операции с недвижимостью'\n",
    "    elif purp.find('свадь') != -1:\n",
    "        return 'проведение свадьбы'\n",
    "    elif purp.find('образов') != -1:\n",
    "        return 'получение образования'\n",
    "    else:\n",
    "        return purp"
   ]
  },
  {
   "cell_type": "code",
   "execution_count": 22,
   "id": "bf36e69b",
   "metadata": {
    "id": "bf36e69b"
   },
   "outputs": [],
   "source": [
    "# примените функцию методом apply()\n",
    "data['purpose_category'] = data['purpose'].apply(categorize_purpose)"
   ]
  },
  {
   "cell_type": "code",
   "execution_count": 23,
   "id": "08300b45",
   "metadata": {},
   "outputs": [
    {
     "data": {
      "text/plain": [
       "операции с недвижимостью    10811\n",
       "операции с автомобилем       4306\n",
       "получение образования        4013\n",
       "проведение свадьбы           2324\n",
       "Name: purpose_category, dtype: int64"
      ]
     },
     "execution_count": 23,
     "metadata": {},
     "output_type": "execute_result"
    }
   ],
   "source": [
    "data['purpose_category'].unique()\n",
    "data['purpose_category'].value_counts()"
   ]
  },
  {
   "cell_type": "code",
   "execution_count": null,
   "id": "417abfe6",
   "metadata": {},
   "outputs": [],
   "source": []
  },
  {
   "cell_type": "code",
   "execution_count": null,
   "id": "c049b599",
   "metadata": {},
   "outputs": [],
   "source": []
  }
 ],
 "metadata": {
  "ExecuteTimeLog": [
   {
    "duration": 393,
    "start_time": "2022-12-19T06:18:28.612Z"
   },
   {
    "duration": 140,
    "start_time": "2022-12-19T06:18:29.822Z"
   },
   {
    "duration": 14,
    "start_time": "2022-12-19T06:21:43.159Z"
   },
   {
    "duration": 16,
    "start_time": "2022-12-19T06:21:47.016Z"
   },
   {
    "duration": 61,
    "start_time": "2022-12-19T06:23:13.409Z"
   },
   {
    "duration": 17,
    "start_time": "2022-12-19T06:23:57.525Z"
   },
   {
    "duration": 3,
    "start_time": "2022-12-19T06:24:10.138Z"
   },
   {
    "duration": 13,
    "start_time": "2022-12-19T06:24:16.991Z"
   },
   {
    "duration": 8,
    "start_time": "2022-12-19T06:24:25.355Z"
   },
   {
    "duration": 5,
    "start_time": "2022-12-19T06:26:43.418Z"
   },
   {
    "duration": 5,
    "start_time": "2022-12-19T06:27:03.218Z"
   },
   {
    "duration": 22,
    "start_time": "2022-12-19T06:33:51.721Z"
   },
   {
    "duration": 24,
    "start_time": "2022-12-19T06:34:01.124Z"
   },
   {
    "duration": 27,
    "start_time": "2022-12-19T06:36:11.765Z"
   },
   {
    "duration": 28,
    "start_time": "2022-12-19T06:37:50.489Z"
   },
   {
    "duration": 28,
    "start_time": "2022-12-19T06:37:58.714Z"
   },
   {
    "duration": 27,
    "start_time": "2022-12-19T06:38:19.113Z"
   },
   {
    "duration": 27,
    "start_time": "2022-12-19T06:38:44.265Z"
   },
   {
    "duration": 37,
    "start_time": "2022-12-19T06:39:06.916Z"
   },
   {
    "duration": 442,
    "start_time": "2022-12-19T06:39:19.761Z"
   },
   {
    "duration": 78,
    "start_time": "2022-12-19T06:39:20.205Z"
   },
   {
    "duration": 11,
    "start_time": "2022-12-19T06:39:20.285Z"
   },
   {
    "duration": 24,
    "start_time": "2022-12-19T06:39:20.297Z"
   },
   {
    "duration": 19,
    "start_time": "2022-12-19T06:39:20.324Z"
   },
   {
    "duration": 110,
    "start_time": "2022-12-19T06:39:20.345Z"
   },
   {
    "duration": 0,
    "start_time": "2022-12-19T06:39:20.457Z"
   },
   {
    "duration": 0,
    "start_time": "2022-12-19T06:39:20.458Z"
   },
   {
    "duration": 0,
    "start_time": "2022-12-19T06:39:20.478Z"
   },
   {
    "duration": 0,
    "start_time": "2022-12-19T06:39:20.480Z"
   },
   {
    "duration": 0,
    "start_time": "2022-12-19T06:39:20.481Z"
   },
   {
    "duration": 0,
    "start_time": "2022-12-19T06:39:20.483Z"
   },
   {
    "duration": 0,
    "start_time": "2022-12-19T06:39:20.485Z"
   },
   {
    "duration": 0,
    "start_time": "2022-12-19T06:39:20.486Z"
   },
   {
    "duration": 0,
    "start_time": "2022-12-19T06:39:20.487Z"
   },
   {
    "duration": 0,
    "start_time": "2022-12-19T06:39:20.489Z"
   },
   {
    "duration": 0,
    "start_time": "2022-12-19T06:39:20.490Z"
   },
   {
    "duration": 0,
    "start_time": "2022-12-19T06:39:20.492Z"
   },
   {
    "duration": 0,
    "start_time": "2022-12-19T06:39:20.493Z"
   },
   {
    "duration": 0,
    "start_time": "2022-12-19T06:39:20.494Z"
   },
   {
    "duration": 0,
    "start_time": "2022-12-19T06:39:20.496Z"
   },
   {
    "duration": 0,
    "start_time": "2022-12-19T06:39:20.496Z"
   },
   {
    "duration": 33,
    "start_time": "2022-12-19T06:41:00.924Z"
   },
   {
    "duration": 215,
    "start_time": "2022-12-19T06:41:14.785Z"
   },
   {
    "duration": 11,
    "start_time": "2022-12-19T06:42:36.421Z"
   },
   {
    "duration": 393,
    "start_time": "2022-12-19T06:42:55.288Z"
   },
   {
    "duration": 81,
    "start_time": "2022-12-19T06:42:55.684Z"
   },
   {
    "duration": 12,
    "start_time": "2022-12-19T06:42:55.767Z"
   },
   {
    "duration": 22,
    "start_time": "2022-12-19T06:42:55.782Z"
   },
   {
    "duration": 11,
    "start_time": "2022-12-19T06:42:55.806Z"
   },
   {
    "duration": 242,
    "start_time": "2022-12-19T06:42:55.819Z"
   },
   {
    "duration": 4,
    "start_time": "2022-12-19T06:42:56.063Z"
   },
   {
    "duration": 11,
    "start_time": "2022-12-19T06:42:56.068Z"
   },
   {
    "duration": 7,
    "start_time": "2022-12-19T06:42:56.081Z"
   },
   {
    "duration": 3,
    "start_time": "2022-12-19T06:42:56.092Z"
   },
   {
    "duration": 5,
    "start_time": "2022-12-19T06:42:56.097Z"
   },
   {
    "duration": 7,
    "start_time": "2022-12-19T06:42:56.104Z"
   },
   {
    "duration": 4,
    "start_time": "2022-12-19T06:42:56.113Z"
   },
   {
    "duration": 7,
    "start_time": "2022-12-19T06:42:56.119Z"
   },
   {
    "duration": 5,
    "start_time": "2022-12-19T06:42:56.128Z"
   },
   {
    "duration": 5,
    "start_time": "2022-12-19T06:42:56.135Z"
   },
   {
    "duration": 5,
    "start_time": "2022-12-19T06:42:56.142Z"
   },
   {
    "duration": 36,
    "start_time": "2022-12-19T06:42:56.149Z"
   },
   {
    "duration": 11,
    "start_time": "2022-12-19T06:42:56.187Z"
   },
   {
    "duration": 9,
    "start_time": "2022-12-19T06:42:56.200Z"
   },
   {
    "duration": 20,
    "start_time": "2022-12-19T06:42:56.210Z"
   },
   {
    "duration": 15,
    "start_time": "2022-12-19T06:42:56.232Z"
   },
   {
    "duration": 74,
    "start_time": "2022-12-19T06:46:41.651Z"
   },
   {
    "duration": 367,
    "start_time": "2022-12-19T06:46:48.223Z"
   },
   {
    "duration": 72,
    "start_time": "2022-12-19T06:46:48.592Z"
   },
   {
    "duration": 11,
    "start_time": "2022-12-19T06:46:48.668Z"
   },
   {
    "duration": 18,
    "start_time": "2022-12-19T06:46:48.681Z"
   },
   {
    "duration": 8,
    "start_time": "2022-12-19T06:46:48.701Z"
   },
   {
    "duration": 211,
    "start_time": "2022-12-19T06:46:48.711Z"
   },
   {
    "duration": 3,
    "start_time": "2022-12-19T06:46:48.924Z"
   },
   {
    "duration": 8,
    "start_time": "2022-12-19T06:46:48.928Z"
   },
   {
    "duration": 3,
    "start_time": "2022-12-19T06:46:48.939Z"
   },
   {
    "duration": 7,
    "start_time": "2022-12-19T06:46:48.944Z"
   },
   {
    "duration": 26,
    "start_time": "2022-12-19T06:46:48.953Z"
   },
   {
    "duration": 6,
    "start_time": "2022-12-19T06:46:48.981Z"
   },
   {
    "duration": 6,
    "start_time": "2022-12-19T06:46:48.989Z"
   },
   {
    "duration": 5,
    "start_time": "2022-12-19T06:46:48.997Z"
   },
   {
    "duration": 7,
    "start_time": "2022-12-19T06:46:49.003Z"
   },
   {
    "duration": 8,
    "start_time": "2022-12-19T06:46:49.012Z"
   },
   {
    "duration": 7,
    "start_time": "2022-12-19T06:46:49.021Z"
   },
   {
    "duration": 7,
    "start_time": "2022-12-19T06:46:49.030Z"
   },
   {
    "duration": 7,
    "start_time": "2022-12-19T06:46:49.039Z"
   },
   {
    "duration": 9,
    "start_time": "2022-12-19T06:46:49.048Z"
   },
   {
    "duration": 4,
    "start_time": "2022-12-19T06:46:49.059Z"
   },
   {
    "duration": 2,
    "start_time": "2022-12-19T06:46:49.078Z"
   },
   {
    "duration": 62,
    "start_time": "2022-12-19T06:47:47.532Z"
   },
   {
    "duration": 2,
    "start_time": "2022-12-19T06:47:53.528Z"
   },
   {
    "duration": 66,
    "start_time": "2022-12-19T06:47:54.214Z"
   },
   {
    "duration": 8,
    "start_time": "2022-12-19T06:47:55.182Z"
   },
   {
    "duration": 14,
    "start_time": "2022-12-19T06:47:56.751Z"
   },
   {
    "duration": 8,
    "start_time": "2022-12-19T06:48:00.995Z"
   },
   {
    "duration": 205,
    "start_time": "2022-12-19T06:48:02.855Z"
   },
   {
    "duration": 10,
    "start_time": "2022-12-19T06:53:50.027Z"
   },
   {
    "duration": 350,
    "start_time": "2022-12-19T06:53:55.328Z"
   },
   {
    "duration": 75,
    "start_time": "2022-12-19T06:53:55.680Z"
   },
   {
    "duration": 11,
    "start_time": "2022-12-19T06:53:55.757Z"
   },
   {
    "duration": 22,
    "start_time": "2022-12-19T06:53:55.770Z"
   },
   {
    "duration": 9,
    "start_time": "2022-12-19T06:53:55.795Z"
   },
   {
    "duration": 385,
    "start_time": "2022-12-19T06:53:55.805Z"
   },
   {
    "duration": 0,
    "start_time": "2022-12-19T06:53:56.192Z"
   },
   {
    "duration": 0,
    "start_time": "2022-12-19T06:53:56.193Z"
   },
   {
    "duration": 0,
    "start_time": "2022-12-19T06:53:56.195Z"
   },
   {
    "duration": 0,
    "start_time": "2022-12-19T06:53:56.196Z"
   },
   {
    "duration": 0,
    "start_time": "2022-12-19T06:53:56.198Z"
   },
   {
    "duration": 0,
    "start_time": "2022-12-19T06:53:56.199Z"
   },
   {
    "duration": 0,
    "start_time": "2022-12-19T06:53:56.201Z"
   },
   {
    "duration": 0,
    "start_time": "2022-12-19T06:53:56.202Z"
   },
   {
    "duration": 0,
    "start_time": "2022-12-19T06:53:56.204Z"
   },
   {
    "duration": 1,
    "start_time": "2022-12-19T06:53:56.205Z"
   },
   {
    "duration": 0,
    "start_time": "2022-12-19T06:53:56.207Z"
   },
   {
    "duration": 0,
    "start_time": "2022-12-19T06:53:56.208Z"
   },
   {
    "duration": 0,
    "start_time": "2022-12-19T06:53:56.210Z"
   },
   {
    "duration": 0,
    "start_time": "2022-12-19T06:53:56.211Z"
   },
   {
    "duration": 0,
    "start_time": "2022-12-19T06:53:56.212Z"
   },
   {
    "duration": 0,
    "start_time": "2022-12-19T06:53:56.214Z"
   },
   {
    "duration": 307,
    "start_time": "2022-12-19T06:54:10.884Z"
   },
   {
    "duration": 283,
    "start_time": "2022-12-19T06:54:36.132Z"
   },
   {
    "duration": 302,
    "start_time": "2022-12-19T06:55:08.320Z"
   },
   {
    "duration": 33,
    "start_time": "2022-12-19T07:01:05.886Z"
   },
   {
    "duration": 3,
    "start_time": "2022-12-19T07:10:27.301Z"
   },
   {
    "duration": 21,
    "start_time": "2022-12-19T07:11:13.667Z"
   },
   {
    "duration": 20,
    "start_time": "2022-12-19T07:11:51.260Z"
   },
   {
    "duration": 22,
    "start_time": "2022-12-19T07:12:12.763Z"
   },
   {
    "duration": 26,
    "start_time": "2022-12-19T07:13:51.458Z"
   },
   {
    "duration": 7,
    "start_time": "2022-12-19T07:14:22.282Z"
   },
   {
    "duration": 8,
    "start_time": "2022-12-19T07:14:42.545Z"
   },
   {
    "duration": 357,
    "start_time": "2022-12-19T07:14:47.912Z"
   },
   {
    "duration": 71,
    "start_time": "2022-12-19T07:14:48.271Z"
   },
   {
    "duration": 10,
    "start_time": "2022-12-19T07:14:48.344Z"
   },
   {
    "duration": 18,
    "start_time": "2022-12-19T07:14:48.356Z"
   },
   {
    "duration": 13,
    "start_time": "2022-12-19T07:14:48.376Z"
   },
   {
    "duration": 39,
    "start_time": "2022-12-19T07:14:48.390Z"
   },
   {
    "duration": 3,
    "start_time": "2022-12-19T07:14:48.431Z"
   },
   {
    "duration": 22,
    "start_time": "2022-12-19T07:14:48.435Z"
   },
   {
    "duration": 29,
    "start_time": "2022-12-19T07:14:48.458Z"
   },
   {
    "duration": 10,
    "start_time": "2022-12-19T07:14:48.490Z"
   },
   {
    "duration": 12,
    "start_time": "2022-12-19T07:14:48.501Z"
   },
   {
    "duration": 16,
    "start_time": "2022-12-19T07:14:48.514Z"
   },
   {
    "duration": 12,
    "start_time": "2022-12-19T07:14:48.531Z"
   },
   {
    "duration": 17,
    "start_time": "2022-12-19T07:14:48.544Z"
   },
   {
    "duration": 9,
    "start_time": "2022-12-19T07:14:48.563Z"
   },
   {
    "duration": 6,
    "start_time": "2022-12-19T07:14:48.574Z"
   },
   {
    "duration": 14,
    "start_time": "2022-12-19T07:14:48.581Z"
   },
   {
    "duration": 6,
    "start_time": "2022-12-19T07:14:48.597Z"
   },
   {
    "duration": 6,
    "start_time": "2022-12-19T07:14:48.604Z"
   },
   {
    "duration": 7,
    "start_time": "2022-12-19T07:14:48.611Z"
   },
   {
    "duration": 14,
    "start_time": "2022-12-19T07:14:48.620Z"
   },
   {
    "duration": 12,
    "start_time": "2022-12-19T07:14:48.636Z"
   },
   {
    "duration": 5,
    "start_time": "2022-12-19T07:24:24.001Z"
   },
   {
    "duration": 62,
    "start_time": "2022-12-19T07:25:25.878Z"
   },
   {
    "duration": 14,
    "start_time": "2022-12-19T07:26:36.606Z"
   },
   {
    "duration": 11,
    "start_time": "2022-12-19T07:28:04.846Z"
   },
   {
    "duration": 9,
    "start_time": "2022-12-19T07:29:34.539Z"
   },
   {
    "duration": 9,
    "start_time": "2022-12-19T07:29:46.915Z"
   },
   {
    "duration": 4,
    "start_time": "2022-12-19T07:30:02.051Z"
   },
   {
    "duration": 10,
    "start_time": "2022-12-19T07:30:52.346Z"
   },
   {
    "duration": 11,
    "start_time": "2022-12-19T07:31:08.690Z"
   },
   {
    "duration": 9,
    "start_time": "2022-12-19T07:31:31.627Z"
   },
   {
    "duration": 11,
    "start_time": "2022-12-19T07:31:49.314Z"
   },
   {
    "duration": 4,
    "start_time": "2022-12-19T07:31:59.258Z"
   },
   {
    "duration": 8,
    "start_time": "2022-12-19T07:32:09.434Z"
   },
   {
    "duration": 6,
    "start_time": "2022-12-19T07:32:16.171Z"
   },
   {
    "duration": 10,
    "start_time": "2022-12-19T07:32:35.728Z"
   },
   {
    "duration": 379,
    "start_time": "2022-12-19T07:32:46.799Z"
   },
   {
    "duration": 70,
    "start_time": "2022-12-19T07:32:47.180Z"
   },
   {
    "duration": 9,
    "start_time": "2022-12-19T07:32:47.252Z"
   },
   {
    "duration": 15,
    "start_time": "2022-12-19T07:32:47.263Z"
   },
   {
    "duration": 8,
    "start_time": "2022-12-19T07:32:47.280Z"
   },
   {
    "duration": 31,
    "start_time": "2022-12-19T07:32:47.289Z"
   },
   {
    "duration": 3,
    "start_time": "2022-12-19T07:32:47.321Z"
   },
   {
    "duration": 17,
    "start_time": "2022-12-19T07:32:47.325Z"
   },
   {
    "duration": 4,
    "start_time": "2022-12-19T07:32:47.343Z"
   },
   {
    "duration": 32,
    "start_time": "2022-12-19T07:32:47.349Z"
   },
   {
    "duration": 2,
    "start_time": "2022-12-19T07:32:47.383Z"
   },
   {
    "duration": 6,
    "start_time": "2022-12-19T07:32:47.387Z"
   },
   {
    "duration": 5,
    "start_time": "2022-12-19T07:32:47.394Z"
   },
   {
    "duration": 6,
    "start_time": "2022-12-19T07:32:47.401Z"
   },
   {
    "duration": 10,
    "start_time": "2022-12-19T07:32:47.409Z"
   },
   {
    "duration": 9,
    "start_time": "2022-12-19T07:32:47.421Z"
   },
   {
    "duration": 6,
    "start_time": "2022-12-19T07:32:47.432Z"
   },
   {
    "duration": 4,
    "start_time": "2022-12-19T07:32:47.440Z"
   },
   {
    "duration": 4,
    "start_time": "2022-12-19T07:32:47.446Z"
   },
   {
    "duration": 6,
    "start_time": "2022-12-19T07:32:47.452Z"
   },
   {
    "duration": 5,
    "start_time": "2022-12-19T07:32:47.459Z"
   },
   {
    "duration": 16,
    "start_time": "2022-12-19T07:32:47.466Z"
   },
   {
    "duration": 5,
    "start_time": "2022-12-19T07:33:06.634Z"
   },
   {
    "duration": 346,
    "start_time": "2022-12-19T07:33:35.936Z"
   },
   {
    "duration": 73,
    "start_time": "2022-12-19T07:33:36.284Z"
   },
   {
    "duration": 10,
    "start_time": "2022-12-19T07:33:36.358Z"
   },
   {
    "duration": 22,
    "start_time": "2022-12-19T07:33:36.370Z"
   },
   {
    "duration": 10,
    "start_time": "2022-12-19T07:33:36.394Z"
   },
   {
    "duration": 33,
    "start_time": "2022-12-19T07:33:36.406Z"
   },
   {
    "duration": 3,
    "start_time": "2022-12-19T07:33:36.441Z"
   },
   {
    "duration": 31,
    "start_time": "2022-12-19T07:33:36.446Z"
   },
   {
    "duration": 15,
    "start_time": "2022-12-19T07:33:36.479Z"
   },
   {
    "duration": 30,
    "start_time": "2022-12-19T07:33:36.496Z"
   },
   {
    "duration": 4,
    "start_time": "2022-12-19T07:33:36.528Z"
   },
   {
    "duration": 6,
    "start_time": "2022-12-19T07:33:36.533Z"
   },
   {
    "duration": 5,
    "start_time": "2022-12-19T07:33:36.540Z"
   },
   {
    "duration": 4,
    "start_time": "2022-12-19T07:33:36.548Z"
   },
   {
    "duration": 9,
    "start_time": "2022-12-19T07:33:36.553Z"
   },
   {
    "duration": 7,
    "start_time": "2022-12-19T07:33:36.564Z"
   },
   {
    "duration": 5,
    "start_time": "2022-12-19T07:33:36.572Z"
   },
   {
    "duration": 6,
    "start_time": "2022-12-19T07:33:36.579Z"
   },
   {
    "duration": 9,
    "start_time": "2022-12-19T07:33:36.586Z"
   },
   {
    "duration": 6,
    "start_time": "2022-12-19T07:33:36.597Z"
   },
   {
    "duration": 8,
    "start_time": "2022-12-19T07:33:36.604Z"
   },
   {
    "duration": 12,
    "start_time": "2022-12-19T07:33:36.614Z"
   },
   {
    "duration": 6,
    "start_time": "2022-12-19T07:34:04.120Z"
   },
   {
    "duration": 7,
    "start_time": "2022-12-19T07:34:29.640Z"
   },
   {
    "duration": 5,
    "start_time": "2022-12-19T07:34:30.824Z"
   },
   {
    "duration": 76,
    "start_time": "2022-12-19T07:35:38.871Z"
   },
   {
    "duration": 11,
    "start_time": "2022-12-19T07:40:40.643Z"
   },
   {
    "duration": 14,
    "start_time": "2022-12-19T07:45:40.743Z"
   },
   {
    "duration": 11,
    "start_time": "2022-12-19T07:45:54.221Z"
   },
   {
    "duration": 449,
    "start_time": "2022-12-19T07:46:06.169Z"
   },
   {
    "duration": 84,
    "start_time": "2022-12-19T07:46:06.621Z"
   },
   {
    "duration": 16,
    "start_time": "2022-12-19T07:46:06.707Z"
   },
   {
    "duration": 63,
    "start_time": "2022-12-19T07:46:06.725Z"
   },
   {
    "duration": 32,
    "start_time": "2022-12-19T07:46:06.791Z"
   },
   {
    "duration": 74,
    "start_time": "2022-12-19T07:46:06.824Z"
   },
   {
    "duration": 5,
    "start_time": "2022-12-19T07:46:06.900Z"
   },
   {
    "duration": 38,
    "start_time": "2022-12-19T07:46:06.907Z"
   },
   {
    "duration": 32,
    "start_time": "2022-12-19T07:46:06.948Z"
   },
   {
    "duration": 105,
    "start_time": "2022-12-19T07:46:06.983Z"
   },
   {
    "duration": 0,
    "start_time": "2022-12-19T07:46:07.092Z"
   },
   {
    "duration": 0,
    "start_time": "2022-12-19T07:46:07.093Z"
   },
   {
    "duration": 0,
    "start_time": "2022-12-19T07:46:07.094Z"
   },
   {
    "duration": 0,
    "start_time": "2022-12-19T07:46:07.096Z"
   },
   {
    "duration": 0,
    "start_time": "2022-12-19T07:46:07.097Z"
   },
   {
    "duration": 0,
    "start_time": "2022-12-19T07:46:07.099Z"
   },
   {
    "duration": 0,
    "start_time": "2022-12-19T07:46:07.100Z"
   },
   {
    "duration": 0,
    "start_time": "2022-12-19T07:46:07.101Z"
   },
   {
    "duration": 0,
    "start_time": "2022-12-19T07:46:07.102Z"
   },
   {
    "duration": 0,
    "start_time": "2022-12-19T07:46:07.104Z"
   },
   {
    "duration": 0,
    "start_time": "2022-12-19T07:46:07.105Z"
   },
   {
    "duration": 0,
    "start_time": "2022-12-19T07:46:07.106Z"
   },
   {
    "duration": 10,
    "start_time": "2022-12-19T07:46:27.718Z"
   },
   {
    "duration": 6,
    "start_time": "2022-12-19T07:46:31.390Z"
   },
   {
    "duration": 11,
    "start_time": "2022-12-19T07:46:32.365Z"
   },
   {
    "duration": 6,
    "start_time": "2022-12-19T07:46:38.670Z"
   },
   {
    "duration": 2,
    "start_time": "2022-12-19T07:46:42.621Z"
   },
   {
    "duration": 78,
    "start_time": "2022-12-19T07:46:42.988Z"
   },
   {
    "duration": 11,
    "start_time": "2022-12-19T07:46:43.685Z"
   },
   {
    "duration": 16,
    "start_time": "2022-12-19T07:46:44.613Z"
   },
   {
    "duration": 13,
    "start_time": "2022-12-19T07:46:46.405Z"
   },
   {
    "duration": 35,
    "start_time": "2022-12-19T07:46:47.349Z"
   },
   {
    "duration": 5,
    "start_time": "2022-12-19T07:46:48.740Z"
   },
   {
    "duration": 8,
    "start_time": "2022-12-19T07:46:50.389Z"
   },
   {
    "duration": 5,
    "start_time": "2022-12-19T07:46:52.430Z"
   },
   {
    "duration": 10,
    "start_time": "2022-12-19T07:46:53.829Z"
   },
   {
    "duration": 16,
    "start_time": "2022-12-19T07:47:04.118Z"
   },
   {
    "duration": 5,
    "start_time": "2022-12-19T07:47:05.309Z"
   },
   {
    "duration": 59,
    "start_time": "2022-12-19T07:48:12.748Z"
   },
   {
    "duration": 9,
    "start_time": "2022-12-19T07:48:35.444Z"
   },
   {
    "duration": 5,
    "start_time": "2022-12-19T07:51:39.121Z"
   },
   {
    "duration": 7,
    "start_time": "2022-12-19T07:52:21.249Z"
   },
   {
    "duration": 14,
    "start_time": "2022-12-19T07:52:40.617Z"
   },
   {
    "duration": 22,
    "start_time": "2022-12-19T07:53:58.736Z"
   },
   {
    "duration": 21,
    "start_time": "2022-12-19T07:54:08.360Z"
   },
   {
    "duration": 3,
    "start_time": "2022-12-19T07:55:55.479Z"
   },
   {
    "duration": 20,
    "start_time": "2022-12-19T07:56:24.236Z"
   },
   {
    "duration": 22,
    "start_time": "2022-12-19T07:58:20.012Z"
   },
   {
    "duration": 30,
    "start_time": "2022-12-19T07:59:05.931Z"
   },
   {
    "duration": 19,
    "start_time": "2022-12-19T08:00:10.034Z"
   },
   {
    "duration": 17,
    "start_time": "2022-12-19T08:00:10.393Z"
   },
   {
    "duration": 4,
    "start_time": "2022-12-19T08:04:05.406Z"
   },
   {
    "duration": 9,
    "start_time": "2022-12-19T08:05:51.324Z"
   },
   {
    "duration": 4,
    "start_time": "2022-12-19T08:06:02.756Z"
   },
   {
    "duration": 10,
    "start_time": "2022-12-19T08:06:03.059Z"
   },
   {
    "duration": 7,
    "start_time": "2022-12-19T08:06:29.372Z"
   },
   {
    "duration": 18,
    "start_time": "2022-12-19T08:11:29.560Z"
   },
   {
    "duration": 3,
    "start_time": "2022-12-19T08:16:07.403Z"
   },
   {
    "duration": 9,
    "start_time": "2022-12-19T08:16:08.197Z"
   },
   {
    "duration": 3,
    "start_time": "2022-12-19T08:16:43.675Z"
   },
   {
    "duration": 9,
    "start_time": "2022-12-19T08:16:50.179Z"
   },
   {
    "duration": 6,
    "start_time": "2022-12-19T08:16:50.707Z"
   },
   {
    "duration": 411,
    "start_time": "2022-12-19T08:16:59.481Z"
   },
   {
    "duration": 76,
    "start_time": "2022-12-19T08:16:59.895Z"
   },
   {
    "duration": 11,
    "start_time": "2022-12-19T08:16:59.972Z"
   },
   {
    "duration": 18,
    "start_time": "2022-12-19T08:16:59.985Z"
   },
   {
    "duration": 14,
    "start_time": "2022-12-19T08:17:00.006Z"
   },
   {
    "duration": 39,
    "start_time": "2022-12-19T08:17:00.022Z"
   },
   {
    "duration": 14,
    "start_time": "2022-12-19T08:17:00.065Z"
   },
   {
    "duration": 22,
    "start_time": "2022-12-19T08:17:00.081Z"
   },
   {
    "duration": 9,
    "start_time": "2022-12-19T08:17:00.105Z"
   },
   {
    "duration": 38,
    "start_time": "2022-12-19T08:17:00.115Z"
   },
   {
    "duration": 9,
    "start_time": "2022-12-19T08:17:00.155Z"
   },
   {
    "duration": 44,
    "start_time": "2022-12-19T08:17:00.166Z"
   },
   {
    "duration": 10,
    "start_time": "2022-12-19T08:17:00.211Z"
   },
   {
    "duration": 14,
    "start_time": "2022-12-19T08:17:00.224Z"
   },
   {
    "duration": 26,
    "start_time": "2022-12-19T08:17:00.240Z"
   },
   {
    "duration": 38,
    "start_time": "2022-12-19T08:17:00.267Z"
   },
   {
    "duration": 39,
    "start_time": "2022-12-19T08:17:00.307Z"
   },
   {
    "duration": 5,
    "start_time": "2022-12-19T08:17:00.348Z"
   },
   {
    "duration": 32,
    "start_time": "2022-12-19T08:17:00.354Z"
   },
   {
    "duration": 31,
    "start_time": "2022-12-19T08:17:00.387Z"
   },
   {
    "duration": 19,
    "start_time": "2022-12-19T08:17:00.420Z"
   },
   {
    "duration": 41,
    "start_time": "2022-12-19T08:17:00.441Z"
   },
   {
    "duration": 27,
    "start_time": "2022-12-19T08:17:00.484Z"
   },
   {
    "duration": 12,
    "start_time": "2022-12-19T08:17:27.156Z"
   },
   {
    "duration": 7,
    "start_time": "2022-12-19T08:17:27.799Z"
   },
   {
    "duration": 4,
    "start_time": "2022-12-19T08:17:31.443Z"
   },
   {
    "duration": 12,
    "start_time": "2022-12-19T08:17:31.946Z"
   },
   {
    "duration": 12,
    "start_time": "2022-12-19T08:17:32.356Z"
   },
   {
    "duration": 3,
    "start_time": "2022-12-19T08:17:59.907Z"
   },
   {
    "duration": 8,
    "start_time": "2022-12-19T08:18:00.314Z"
   },
   {
    "duration": 6,
    "start_time": "2022-12-19T08:18:00.699Z"
   },
   {
    "duration": 68,
    "start_time": "2022-12-19T08:19:02.059Z"
   },
   {
    "duration": 10,
    "start_time": "2022-12-19T08:19:11.188Z"
   },
   {
    "duration": 3,
    "start_time": "2022-12-19T08:19:34.801Z"
   },
   {
    "duration": 2685,
    "start_time": "2022-12-19T08:19:35.217Z"
   },
   {
    "duration": 5,
    "start_time": "2022-12-19T08:20:16.947Z"
   },
   {
    "duration": 495,
    "start_time": "2022-12-19T08:20:17.443Z"
   },
   {
    "duration": 9,
    "start_time": "2022-12-19T08:20:20.450Z"
   },
   {
    "duration": 3,
    "start_time": "2022-12-19T08:20:51.273Z"
   },
   {
    "duration": 501,
    "start_time": "2022-12-19T08:20:52.019Z"
   },
   {
    "duration": 7,
    "start_time": "2022-12-19T08:20:52.809Z"
   },
   {
    "duration": 4,
    "start_time": "2022-12-19T08:21:29.272Z"
   },
   {
    "duration": 11,
    "start_time": "2022-12-19T08:21:29.714Z"
   },
   {
    "duration": 4,
    "start_time": "2022-12-19T08:21:55.943Z"
   },
   {
    "duration": 13,
    "start_time": "2022-12-19T08:21:56.488Z"
   },
   {
    "duration": 10,
    "start_time": "2022-12-19T08:21:56.905Z"
   }
  ],
  "colab": {
   "provenance": []
  },
  "kernelspec": {
   "display_name": "Python 3 (ipykernel)",
   "language": "python",
   "name": "python3"
  },
  "language_info": {
   "codemirror_mode": {
    "name": "ipython",
    "version": 3
   },
   "file_extension": ".py",
   "mimetype": "text/x-python",
   "name": "python",
   "nbconvert_exporter": "python",
   "pygments_lexer": "ipython3",
   "version": "3.9.13"
  },
  "toc": {
   "base_numbering": 1,
   "nav_menu": {},
   "number_sections": true,
   "sideBar": true,
   "skip_h1_title": true,
   "title_cell": "Table of Contents",
   "title_sidebar": "Contents",
   "toc_cell": false,
   "toc_position": {},
   "toc_section_display": true,
   "toc_window_display": false
  }
 },
 "nbformat": 4,
 "nbformat_minor": 5
}
