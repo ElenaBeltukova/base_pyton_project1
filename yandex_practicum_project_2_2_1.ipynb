{
 "cells": [
  {
   "cell_type": "markdown",
   "id": "2f69adc7",
   "metadata": {},
   "source": [
    "<div style=\"border:solid Chocolate 2px; padding: 40px\">\n",
    "\n",
    "<b>Елена, привет!👋</b>\n",
    "\n",
    "Меня зовут Кирилл Васильев, я буду ревьюером твоего проекта. Я предлагаю общаться на «ты», но если привычнее на «вы», просто скажи об этом! \n",
    "    \n",
    "Я оставил комментарии в твоем проекте. Пожалуйста, не удаляй их до технического принятия проекта.\n",
    "\n",
    "Ты можешь реагировать на комментарии как просто написав их в Markdown-ячейках, так и выделив их цветом. Например, <font color='blue'>синим</font>. Второй способ, на мой взгляд, удобнее.\n",
    "\n",
    "Свои комментарии я буду обозначать <font color='green'>зеленым</font>, <font color='gold'>желтым</font> и <font color='red'>красным </font> цветами, например:\n",
    "\n",
    "<br/>\n",
    "\n",
    "<div class=\"alert alert-success\">\n",
    "<h2> Комментарий ревьюера <a class=\"tocSkip\"> </h2>\n",
    "\n",
    "<b>Все отлично!👍:</b> В случае, если решение на отдельном шаге является полностью правильным.\n",
    "</div>\n",
    "\n",
    "<br/>\n",
    "\n",
    "<div class=\"alert alert-warning\">\n",
    "    <h2> Комментарий ревьюера <a class=\"tocSkip\"> </h2>\n",
    "    \n",
    "<b>Некоторые замечания и рекомендации💡:</b> В случае, когда решение на отдельном шаге станет еще лучше, если внести небольшие коррективы.\n",
    "</div>\n",
    "\n",
    "\n",
    "<br/>\n",
    "<div class=\"alert alert-block alert-danger\">\n",
    "<h2> Комментарий ревьюера <a class=\"tocSkip\"></h2>\n",
    "\n",
    "    \n",
    "<b>На доработку🤔:</b>\n",
    " В случае, когда решение на отдельном шаге требует существенной переработки и внесения правок. Напоминаю, что проект не может быть принят с первого раза, если ревью содержит комментарии, рекомендующие доработать шаги.\n",
    "</div>\n",
    "\n",
    "P.S. На всякий случай, я оставлю пустой шаблон для твоих комментариев ниже. Кликни два раза на мой комментарий, скопируй последние четыре строчки кода и вставляй их в пустую ячейку там, где ты хочешь оставить комментарий. Не забудь только перед этим сменить тип ячейки на Markdown. Быстро это можно сделать так: кликнуть на ячейку - нажать ESC - нажать M. \n",
    "    \n",
    "    \n",
    "<div class=\"alert alert-info\">\n",
    "<b>Комментарий студента:</b>\n",
    "<br>Место для твоего комментария\n",
    "</div>\n",
    "        \n",
    "Предлагаю тебе задавать вопросы по первым двум шагам и авторскому решению, если они возникнут. По проверке сразу переходим к третьему шагу и собственно аналитике проекта.\n",
    "    \n"
   ]
  },
  {
   "cell_type": "markdown",
   "id": "6e33056a",
   "metadata": {
    "deletable": false,
    "editable": false,
    "id": "c81daeeb"
   },
   "source": [
    "# Исследование надежности заемщиков\n"
   ]
  },
  {
   "cell_type": "markdown",
   "id": "f5bebb38",
   "metadata": {
    "deletable": false,
    "editable": false,
    "id": "827c20bf"
   },
   "source": [
    "Во второй части проекта вы выполните шаги 3 и 4. Их вручную проверит ревьюер.\n",
    "Чтобы вам не пришлось писать код заново для шагов 1 и 2, мы добавили авторские решения в ячейки с кодом. \n",
    "\n"
   ]
  },
  {
   "cell_type": "markdown",
   "id": "64e4ca6c",
   "metadata": {
    "deletable": false,
    "editable": false,
    "id": "744d7639"
   },
   "source": [
    "## Откройте таблицу и изучите общую информацию о данных"
   ]
  },
  {
   "cell_type": "markdown",
   "id": "c4544c89",
   "metadata": {
    "deletable": false,
    "editable": false,
    "id": "e7a14c31"
   },
   "source": [
    "**Задание 1. Импортируйте библиотеку pandas. Считайте данные из csv-файла в датафрейм и сохраните в переменную `data`. Путь к файлу:**\n",
    "\n",
    "`/datasets/data.csv`"
   ]
  },
  {
   "cell_type": "code",
   "execution_count": 1,
   "id": "aac259dd",
   "metadata": {
    "deletable": false,
    "id": "7bcf75c9"
   },
   "outputs": [],
   "source": [
    "import pandas as pd\n",
    "\n",
    "try:\n",
    "    data = pd.read_csv('/datasets/data.csv')\n",
    "except:\n",
    "    data = pd.read_csv('https://code.s3.yandex.net/datasets/data.csv')"
   ]
  },
  {
   "cell_type": "markdown",
   "id": "b4c80078",
   "metadata": {
    "deletable": false,
    "editable": false,
    "id": "b8038fe3"
   },
   "source": [
    "**Задание 2. Выведите первые 20 строчек датафрейма `data` на экран.**"
   ]
  },
  {
   "cell_type": "code",
   "execution_count": 2,
   "id": "fad3e4a3",
   "metadata": {
    "deletable": false,
    "id": "2a7cab99",
    "outputId": "1a8f3ef2-d323-4ec2-ddf7-89670b5944c4"
   },
   "outputs": [
    {
     "data": {
      "text/html": [
       "<div>\n",
       "<style scoped>\n",
       "    .dataframe tbody tr th:only-of-type {\n",
       "        vertical-align: middle;\n",
       "    }\n",
       "\n",
       "    .dataframe tbody tr th {\n",
       "        vertical-align: top;\n",
       "    }\n",
       "\n",
       "    .dataframe thead th {\n",
       "        text-align: right;\n",
       "    }\n",
       "</style>\n",
       "<table border=\"1\" class=\"dataframe\">\n",
       "  <thead>\n",
       "    <tr style=\"text-align: right;\">\n",
       "      <th></th>\n",
       "      <th>children</th>\n",
       "      <th>days_employed</th>\n",
       "      <th>dob_years</th>\n",
       "      <th>education</th>\n",
       "      <th>education_id</th>\n",
       "      <th>family_status</th>\n",
       "      <th>family_status_id</th>\n",
       "      <th>gender</th>\n",
       "      <th>income_type</th>\n",
       "      <th>debt</th>\n",
       "      <th>total_income</th>\n",
       "      <th>purpose</th>\n",
       "    </tr>\n",
       "  </thead>\n",
       "  <tbody>\n",
       "    <tr>\n",
       "      <th>0</th>\n",
       "      <td>1</td>\n",
       "      <td>-8437.673028</td>\n",
       "      <td>42</td>\n",
       "      <td>высшее</td>\n",
       "      <td>0</td>\n",
       "      <td>женат / замужем</td>\n",
       "      <td>0</td>\n",
       "      <td>F</td>\n",
       "      <td>сотрудник</td>\n",
       "      <td>0</td>\n",
       "      <td>253875.639453</td>\n",
       "      <td>покупка жилья</td>\n",
       "    </tr>\n",
       "    <tr>\n",
       "      <th>1</th>\n",
       "      <td>1</td>\n",
       "      <td>-4024.803754</td>\n",
       "      <td>36</td>\n",
       "      <td>среднее</td>\n",
       "      <td>1</td>\n",
       "      <td>женат / замужем</td>\n",
       "      <td>0</td>\n",
       "      <td>F</td>\n",
       "      <td>сотрудник</td>\n",
       "      <td>0</td>\n",
       "      <td>112080.014102</td>\n",
       "      <td>приобретение автомобиля</td>\n",
       "    </tr>\n",
       "    <tr>\n",
       "      <th>2</th>\n",
       "      <td>0</td>\n",
       "      <td>-5623.422610</td>\n",
       "      <td>33</td>\n",
       "      <td>Среднее</td>\n",
       "      <td>1</td>\n",
       "      <td>женат / замужем</td>\n",
       "      <td>0</td>\n",
       "      <td>M</td>\n",
       "      <td>сотрудник</td>\n",
       "      <td>0</td>\n",
       "      <td>145885.952297</td>\n",
       "      <td>покупка жилья</td>\n",
       "    </tr>\n",
       "    <tr>\n",
       "      <th>3</th>\n",
       "      <td>3</td>\n",
       "      <td>-4124.747207</td>\n",
       "      <td>32</td>\n",
       "      <td>среднее</td>\n",
       "      <td>1</td>\n",
       "      <td>женат / замужем</td>\n",
       "      <td>0</td>\n",
       "      <td>M</td>\n",
       "      <td>сотрудник</td>\n",
       "      <td>0</td>\n",
       "      <td>267628.550329</td>\n",
       "      <td>дополнительное образование</td>\n",
       "    </tr>\n",
       "    <tr>\n",
       "      <th>4</th>\n",
       "      <td>0</td>\n",
       "      <td>340266.072047</td>\n",
       "      <td>53</td>\n",
       "      <td>среднее</td>\n",
       "      <td>1</td>\n",
       "      <td>гражданский брак</td>\n",
       "      <td>1</td>\n",
       "      <td>F</td>\n",
       "      <td>пенсионер</td>\n",
       "      <td>0</td>\n",
       "      <td>158616.077870</td>\n",
       "      <td>сыграть свадьбу</td>\n",
       "    </tr>\n",
       "    <tr>\n",
       "      <th>5</th>\n",
       "      <td>0</td>\n",
       "      <td>-926.185831</td>\n",
       "      <td>27</td>\n",
       "      <td>высшее</td>\n",
       "      <td>0</td>\n",
       "      <td>гражданский брак</td>\n",
       "      <td>1</td>\n",
       "      <td>M</td>\n",
       "      <td>компаньон</td>\n",
       "      <td>0</td>\n",
       "      <td>255763.565419</td>\n",
       "      <td>покупка жилья</td>\n",
       "    </tr>\n",
       "    <tr>\n",
       "      <th>6</th>\n",
       "      <td>0</td>\n",
       "      <td>-2879.202052</td>\n",
       "      <td>43</td>\n",
       "      <td>высшее</td>\n",
       "      <td>0</td>\n",
       "      <td>женат / замужем</td>\n",
       "      <td>0</td>\n",
       "      <td>F</td>\n",
       "      <td>компаньон</td>\n",
       "      <td>0</td>\n",
       "      <td>240525.971920</td>\n",
       "      <td>операции с жильем</td>\n",
       "    </tr>\n",
       "    <tr>\n",
       "      <th>7</th>\n",
       "      <td>0</td>\n",
       "      <td>-152.779569</td>\n",
       "      <td>50</td>\n",
       "      <td>СРЕДНЕЕ</td>\n",
       "      <td>1</td>\n",
       "      <td>женат / замужем</td>\n",
       "      <td>0</td>\n",
       "      <td>M</td>\n",
       "      <td>сотрудник</td>\n",
       "      <td>0</td>\n",
       "      <td>135823.934197</td>\n",
       "      <td>образование</td>\n",
       "    </tr>\n",
       "    <tr>\n",
       "      <th>8</th>\n",
       "      <td>2</td>\n",
       "      <td>-6929.865299</td>\n",
       "      <td>35</td>\n",
       "      <td>ВЫСШЕЕ</td>\n",
       "      <td>0</td>\n",
       "      <td>гражданский брак</td>\n",
       "      <td>1</td>\n",
       "      <td>F</td>\n",
       "      <td>сотрудник</td>\n",
       "      <td>0</td>\n",
       "      <td>95856.832424</td>\n",
       "      <td>на проведение свадьбы</td>\n",
       "    </tr>\n",
       "    <tr>\n",
       "      <th>9</th>\n",
       "      <td>0</td>\n",
       "      <td>-2188.756445</td>\n",
       "      <td>41</td>\n",
       "      <td>среднее</td>\n",
       "      <td>1</td>\n",
       "      <td>женат / замужем</td>\n",
       "      <td>0</td>\n",
       "      <td>M</td>\n",
       "      <td>сотрудник</td>\n",
       "      <td>0</td>\n",
       "      <td>144425.938277</td>\n",
       "      <td>покупка жилья для семьи</td>\n",
       "    </tr>\n",
       "    <tr>\n",
       "      <th>10</th>\n",
       "      <td>2</td>\n",
       "      <td>-4171.483647</td>\n",
       "      <td>36</td>\n",
       "      <td>высшее</td>\n",
       "      <td>0</td>\n",
       "      <td>женат / замужем</td>\n",
       "      <td>0</td>\n",
       "      <td>M</td>\n",
       "      <td>компаньон</td>\n",
       "      <td>0</td>\n",
       "      <td>113943.491460</td>\n",
       "      <td>покупка недвижимости</td>\n",
       "    </tr>\n",
       "    <tr>\n",
       "      <th>11</th>\n",
       "      <td>0</td>\n",
       "      <td>-792.701887</td>\n",
       "      <td>40</td>\n",
       "      <td>среднее</td>\n",
       "      <td>1</td>\n",
       "      <td>женат / замужем</td>\n",
       "      <td>0</td>\n",
       "      <td>F</td>\n",
       "      <td>сотрудник</td>\n",
       "      <td>0</td>\n",
       "      <td>77069.234271</td>\n",
       "      <td>покупка коммерческой недвижимости</td>\n",
       "    </tr>\n",
       "    <tr>\n",
       "      <th>12</th>\n",
       "      <td>0</td>\n",
       "      <td>NaN</td>\n",
       "      <td>65</td>\n",
       "      <td>среднее</td>\n",
       "      <td>1</td>\n",
       "      <td>гражданский брак</td>\n",
       "      <td>1</td>\n",
       "      <td>M</td>\n",
       "      <td>пенсионер</td>\n",
       "      <td>0</td>\n",
       "      <td>NaN</td>\n",
       "      <td>сыграть свадьбу</td>\n",
       "    </tr>\n",
       "    <tr>\n",
       "      <th>13</th>\n",
       "      <td>0</td>\n",
       "      <td>-1846.641941</td>\n",
       "      <td>54</td>\n",
       "      <td>неоконченное высшее</td>\n",
       "      <td>2</td>\n",
       "      <td>женат / замужем</td>\n",
       "      <td>0</td>\n",
       "      <td>F</td>\n",
       "      <td>сотрудник</td>\n",
       "      <td>0</td>\n",
       "      <td>130458.228857</td>\n",
       "      <td>приобретение автомобиля</td>\n",
       "    </tr>\n",
       "    <tr>\n",
       "      <th>14</th>\n",
       "      <td>0</td>\n",
       "      <td>-1844.956182</td>\n",
       "      <td>56</td>\n",
       "      <td>высшее</td>\n",
       "      <td>0</td>\n",
       "      <td>гражданский брак</td>\n",
       "      <td>1</td>\n",
       "      <td>F</td>\n",
       "      <td>компаньон</td>\n",
       "      <td>1</td>\n",
       "      <td>165127.911772</td>\n",
       "      <td>покупка жилой недвижимости</td>\n",
       "    </tr>\n",
       "    <tr>\n",
       "      <th>15</th>\n",
       "      <td>1</td>\n",
       "      <td>-972.364419</td>\n",
       "      <td>26</td>\n",
       "      <td>среднее</td>\n",
       "      <td>1</td>\n",
       "      <td>женат / замужем</td>\n",
       "      <td>0</td>\n",
       "      <td>F</td>\n",
       "      <td>сотрудник</td>\n",
       "      <td>0</td>\n",
       "      <td>116820.904450</td>\n",
       "      <td>строительство собственной недвижимости</td>\n",
       "    </tr>\n",
       "    <tr>\n",
       "      <th>16</th>\n",
       "      <td>0</td>\n",
       "      <td>-1719.934226</td>\n",
       "      <td>35</td>\n",
       "      <td>среднее</td>\n",
       "      <td>1</td>\n",
       "      <td>женат / замужем</td>\n",
       "      <td>0</td>\n",
       "      <td>F</td>\n",
       "      <td>сотрудник</td>\n",
       "      <td>0</td>\n",
       "      <td>289202.704229</td>\n",
       "      <td>недвижимость</td>\n",
       "    </tr>\n",
       "    <tr>\n",
       "      <th>17</th>\n",
       "      <td>0</td>\n",
       "      <td>-2369.999720</td>\n",
       "      <td>33</td>\n",
       "      <td>высшее</td>\n",
       "      <td>0</td>\n",
       "      <td>гражданский брак</td>\n",
       "      <td>1</td>\n",
       "      <td>M</td>\n",
       "      <td>сотрудник</td>\n",
       "      <td>0</td>\n",
       "      <td>90410.586745</td>\n",
       "      <td>строительство недвижимости</td>\n",
       "    </tr>\n",
       "    <tr>\n",
       "      <th>18</th>\n",
       "      <td>0</td>\n",
       "      <td>400281.136913</td>\n",
       "      <td>53</td>\n",
       "      <td>среднее</td>\n",
       "      <td>1</td>\n",
       "      <td>вдовец / вдова</td>\n",
       "      <td>2</td>\n",
       "      <td>F</td>\n",
       "      <td>пенсионер</td>\n",
       "      <td>0</td>\n",
       "      <td>56823.777243</td>\n",
       "      <td>на покупку подержанного автомобиля</td>\n",
       "    </tr>\n",
       "    <tr>\n",
       "      <th>19</th>\n",
       "      <td>0</td>\n",
       "      <td>-10038.818549</td>\n",
       "      <td>48</td>\n",
       "      <td>СРЕДНЕЕ</td>\n",
       "      <td>1</td>\n",
       "      <td>в разводе</td>\n",
       "      <td>3</td>\n",
       "      <td>F</td>\n",
       "      <td>сотрудник</td>\n",
       "      <td>0</td>\n",
       "      <td>242831.107982</td>\n",
       "      <td>на покупку своего автомобиля</td>\n",
       "    </tr>\n",
       "  </tbody>\n",
       "</table>\n",
       "</div>"
      ],
      "text/plain": [
       "    children  days_employed  dob_years            education  education_id  \\\n",
       "0          1   -8437.673028         42               высшее             0   \n",
       "1          1   -4024.803754         36              среднее             1   \n",
       "2          0   -5623.422610         33              Среднее             1   \n",
       "3          3   -4124.747207         32              среднее             1   \n",
       "4          0  340266.072047         53              среднее             1   \n",
       "5          0    -926.185831         27               высшее             0   \n",
       "6          0   -2879.202052         43               высшее             0   \n",
       "7          0    -152.779569         50              СРЕДНЕЕ             1   \n",
       "8          2   -6929.865299         35               ВЫСШЕЕ             0   \n",
       "9          0   -2188.756445         41              среднее             1   \n",
       "10         2   -4171.483647         36               высшее             0   \n",
       "11         0    -792.701887         40              среднее             1   \n",
       "12         0            NaN         65              среднее             1   \n",
       "13         0   -1846.641941         54  неоконченное высшее             2   \n",
       "14         0   -1844.956182         56               высшее             0   \n",
       "15         1    -972.364419         26              среднее             1   \n",
       "16         0   -1719.934226         35              среднее             1   \n",
       "17         0   -2369.999720         33               высшее             0   \n",
       "18         0  400281.136913         53              среднее             1   \n",
       "19         0  -10038.818549         48              СРЕДНЕЕ             1   \n",
       "\n",
       "       family_status  family_status_id gender income_type  debt  \\\n",
       "0    женат / замужем                 0      F   сотрудник     0   \n",
       "1    женат / замужем                 0      F   сотрудник     0   \n",
       "2    женат / замужем                 0      M   сотрудник     0   \n",
       "3    женат / замужем                 0      M   сотрудник     0   \n",
       "4   гражданский брак                 1      F   пенсионер     0   \n",
       "5   гражданский брак                 1      M   компаньон     0   \n",
       "6    женат / замужем                 0      F   компаньон     0   \n",
       "7    женат / замужем                 0      M   сотрудник     0   \n",
       "8   гражданский брак                 1      F   сотрудник     0   \n",
       "9    женат / замужем                 0      M   сотрудник     0   \n",
       "10   женат / замужем                 0      M   компаньон     0   \n",
       "11   женат / замужем                 0      F   сотрудник     0   \n",
       "12  гражданский брак                 1      M   пенсионер     0   \n",
       "13   женат / замужем                 0      F   сотрудник     0   \n",
       "14  гражданский брак                 1      F   компаньон     1   \n",
       "15   женат / замужем                 0      F   сотрудник     0   \n",
       "16   женат / замужем                 0      F   сотрудник     0   \n",
       "17  гражданский брак                 1      M   сотрудник     0   \n",
       "18    вдовец / вдова                 2      F   пенсионер     0   \n",
       "19         в разводе                 3      F   сотрудник     0   \n",
       "\n",
       "     total_income                                 purpose  \n",
       "0   253875.639453                           покупка жилья  \n",
       "1   112080.014102                 приобретение автомобиля  \n",
       "2   145885.952297                           покупка жилья  \n",
       "3   267628.550329              дополнительное образование  \n",
       "4   158616.077870                         сыграть свадьбу  \n",
       "5   255763.565419                           покупка жилья  \n",
       "6   240525.971920                       операции с жильем  \n",
       "7   135823.934197                             образование  \n",
       "8    95856.832424                   на проведение свадьбы  \n",
       "9   144425.938277                 покупка жилья для семьи  \n",
       "10  113943.491460                    покупка недвижимости  \n",
       "11   77069.234271       покупка коммерческой недвижимости  \n",
       "12            NaN                         сыграть свадьбу  \n",
       "13  130458.228857                 приобретение автомобиля  \n",
       "14  165127.911772              покупка жилой недвижимости  \n",
       "15  116820.904450  строительство собственной недвижимости  \n",
       "16  289202.704229                            недвижимость  \n",
       "17   90410.586745              строительство недвижимости  \n",
       "18   56823.777243      на покупку подержанного автомобиля  \n",
       "19  242831.107982            на покупку своего автомобиля  "
      ]
     },
     "execution_count": 2,
     "metadata": {},
     "output_type": "execute_result"
    }
   ],
   "source": [
    "data.head(20)"
   ]
  },
  {
   "cell_type": "markdown",
   "id": "139da3e9",
   "metadata": {
    "deletable": false,
    "editable": false,
    "id": "1c12e233"
   },
   "source": [
    "**Задание 3. Выведите основную информацию о датафрейме с помощью метода `info()`.**"
   ]
  },
  {
   "cell_type": "code",
   "execution_count": 3,
   "id": "56689d3b",
   "metadata": {
    "deletable": false,
    "id": "2b757bca",
    "outputId": "15376089-8dad-46c9-b520-c05248d43158"
   },
   "outputs": [
    {
     "name": "stdout",
     "output_type": "stream",
     "text": [
      "<class 'pandas.core.frame.DataFrame'>\n",
      "RangeIndex: 21525 entries, 0 to 21524\n",
      "Data columns (total 12 columns):\n",
      " #   Column            Non-Null Count  Dtype  \n",
      "---  ------            --------------  -----  \n",
      " 0   children          21525 non-null  int64  \n",
      " 1   days_employed     19351 non-null  float64\n",
      " 2   dob_years         21525 non-null  int64  \n",
      " 3   education         21525 non-null  object \n",
      " 4   education_id      21525 non-null  int64  \n",
      " 5   family_status     21525 non-null  object \n",
      " 6   family_status_id  21525 non-null  int64  \n",
      " 7   gender            21525 non-null  object \n",
      " 8   income_type       21525 non-null  object \n",
      " 9   debt              21525 non-null  int64  \n",
      " 10  total_income      19351 non-null  float64\n",
      " 11  purpose           21525 non-null  object \n",
      "dtypes: float64(2), int64(5), object(5)\n",
      "memory usage: 2.0+ MB\n"
     ]
    }
   ],
   "source": [
    "data.info()"
   ]
  },
  {
   "cell_type": "markdown",
   "id": "a8b8911e",
   "metadata": {
    "deletable": false,
    "editable": false,
    "id": "333ec665"
   },
   "source": [
    "## Предобработка данных"
   ]
  },
  {
   "cell_type": "markdown",
   "id": "de9053bb",
   "metadata": {
    "deletable": false,
    "editable": false,
    "id": "02d92d53"
   },
   "source": [
    "### Удаление пропусков"
   ]
  },
  {
   "cell_type": "markdown",
   "id": "a8227f02",
   "metadata": {
    "deletable": false,
    "editable": false,
    "id": "cd84967c"
   },
   "source": [
    "**Задание 4. Выведите количество пропущенных значений для каждого столбца. Используйте комбинацию двух методов.**"
   ]
  },
  {
   "cell_type": "code",
   "execution_count": 4,
   "id": "bc09cde0",
   "metadata": {
    "deletable": false,
    "id": "7f9b2309",
    "outputId": "81f4d817-781c-465c-ed15-91ce4446810d"
   },
   "outputs": [
    {
     "data": {
      "text/plain": [
       "children               0\n",
       "days_employed       2174\n",
       "dob_years              0\n",
       "education              0\n",
       "education_id           0\n",
       "family_status          0\n",
       "family_status_id       0\n",
       "gender                 0\n",
       "income_type            0\n",
       "debt                   0\n",
       "total_income        2174\n",
       "purpose                0\n",
       "dtype: int64"
      ]
     },
     "execution_count": 4,
     "metadata": {},
     "output_type": "execute_result"
    }
   ],
   "source": [
    "data.isna().sum()"
   ]
  },
  {
   "cell_type": "markdown",
   "id": "9b1d4c97",
   "metadata": {
    "deletable": false,
    "editable": false,
    "id": "db86e27b"
   },
   "source": [
    "**Задание 5. В двух столбцах есть пропущенные значения. Один из них — `days_employed`. Пропуски в этом столбце вы обработаете на следующем этапе. Другой столбец с пропущенными значениями — `total_income` — хранит данные о доходах. На сумму дохода сильнее всего влияет тип занятости, поэтому заполнить пропуски в этом столбце нужно медианным значением по каждому типу из столбца `income_type`. Например, у человека с типом занятости `сотрудник` пропуск в столбце `total_income` должен быть заполнен медианным доходом среди всех записей с тем же типом.**"
   ]
  },
  {
   "cell_type": "code",
   "execution_count": 5,
   "id": "45057710",
   "metadata": {
    "deletable": false,
    "id": "42006a93"
   },
   "outputs": [],
   "source": [
    "for t in data['income_type'].unique():\n",
    "    data.loc[(data['income_type'] == t) & (data['total_income'].isna()), 'total_income'] = \\\n",
    "    data.loc[(data['income_type'] == t), 'total_income'].median()"
   ]
  },
  {
   "cell_type": "markdown",
   "id": "0ce6584b",
   "metadata": {
    "deletable": false,
    "editable": false,
    "id": "89da5ece"
   },
   "source": [
    "### Обработка аномальных значений"
   ]
  },
  {
   "cell_type": "markdown",
   "id": "4d82d94b",
   "metadata": {
    "deletable": false,
    "editable": false,
    "id": "57964554"
   },
   "source": [
    "**Задание 6. В данных могут встречаться артефакты (аномалии) — значения, которые не отражают действительность и появились по какой-то ошибке. таким артефактом будет отрицательное количество дней трудового стажа в столбце `days_employed`. Для реальных данных это нормально. Обработайте значения в этом столбце: замените все отрицательные значения положительными с помощью метода `abs()`.**"
   ]
  },
  {
   "cell_type": "code",
   "execution_count": 6,
   "id": "c9507d4f",
   "metadata": {
    "deletable": false,
    "id": "f6f055bf"
   },
   "outputs": [],
   "source": [
    "data['days_employed'] = data['days_employed'].abs()"
   ]
  },
  {
   "cell_type": "markdown",
   "id": "3379121e",
   "metadata": {
    "deletable": false,
    "editable": false,
    "id": "6107dd2f"
   },
   "source": [
    "**Задание 7. Для каждого типа занятости выведите медианное значение трудового стажа `days_employed` в днях.**"
   ]
  },
  {
   "cell_type": "code",
   "execution_count": 7,
   "id": "a48e474d",
   "metadata": {
    "deletable": false,
    "id": "85a5faf6",
    "outputId": "801ef80e-522b-4668-f34e-565af7432bcf"
   },
   "outputs": [
    {
     "data": {
      "text/plain": [
       "income_type\n",
       "безработный        366413.652744\n",
       "в декрете            3296.759962\n",
       "госслужащий          2689.368353\n",
       "компаньон            1547.382223\n",
       "пенсионер          365213.306266\n",
       "предприниматель       520.848083\n",
       "сотрудник            1574.202821\n",
       "студент               578.751554\n",
       "Name: days_employed, dtype: float64"
      ]
     },
     "execution_count": 7,
     "metadata": {},
     "output_type": "execute_result"
    }
   ],
   "source": [
    "data.groupby('income_type')['days_employed'].agg('median')"
   ]
  },
  {
   "cell_type": "markdown",
   "id": "d1bf8959",
   "metadata": {
    "deletable": false,
    "editable": false,
    "id": "38d1a030"
   },
   "source": [
    "У двух типов (безработные и пенсионеры) получатся аномально большие значения. Исправить такие значения сложно, поэтому оставьте их как есть. Тем более этот столбец не понадобится вам для исследования."
   ]
  },
  {
   "cell_type": "markdown",
   "id": "37cf9629",
   "metadata": {
    "deletable": false,
    "editable": false,
    "id": "d8a9f147"
   },
   "source": [
    "**Задание 8. Выведите перечень уникальных значений столбца `children`.**"
   ]
  },
  {
   "cell_type": "code",
   "execution_count": 8,
   "id": "e13029ca",
   "metadata": {
    "deletable": false,
    "id": "ef5056eb",
    "outputId": "6975b15c-7f95-4697-d16d-a0c79b657b03"
   },
   "outputs": [
    {
     "data": {
      "text/plain": [
       "array([ 1,  0,  3,  2, -1,  4, 20,  5])"
      ]
     },
     "execution_count": 8,
     "metadata": {},
     "output_type": "execute_result"
    }
   ],
   "source": [
    "data['children'].unique()"
   ]
  },
  {
   "cell_type": "markdown",
   "id": "314771af",
   "metadata": {
    "deletable": false,
    "editable": false,
    "id": "40b9ebf2"
   },
   "source": [
    "**Задание 9. В столбце `children` есть два аномальных значения. Удалите строки, в которых встречаются такие аномальные значения из датафрейма `data`.**"
   ]
  },
  {
   "cell_type": "code",
   "execution_count": 9,
   "id": "a2f0ed09",
   "metadata": {
    "deletable": false,
    "id": "3ff9801d"
   },
   "outputs": [],
   "source": [
    "data = data[(data['children'] != -1) & (data['children'] != 20)]"
   ]
  },
  {
   "cell_type": "markdown",
   "id": "3156dcad",
   "metadata": {
    "deletable": false,
    "editable": false,
    "id": "bbc4d0ce"
   },
   "source": [
    "**Задание 10. Ещё раз выведите перечень уникальных значений столбца `children`, чтобы убедиться, что артефакты удалены.**"
   ]
  },
  {
   "cell_type": "code",
   "execution_count": 10,
   "id": "59c35fb9",
   "metadata": {
    "deletable": false,
    "id": "ad4fa8b7",
    "outputId": "b2097101-d49d-44d9-901b-32a65c9463d1"
   },
   "outputs": [
    {
     "data": {
      "text/plain": [
       "array([1, 0, 3, 2, 4, 5])"
      ]
     },
     "execution_count": 10,
     "metadata": {},
     "output_type": "execute_result"
    }
   ],
   "source": [
    "data['children'].unique()"
   ]
  },
  {
   "cell_type": "markdown",
   "id": "afc28222",
   "metadata": {
    "deletable": false,
    "editable": false,
    "id": "75440b63"
   },
   "source": [
    "### Удаление пропусков (продолжение)"
   ]
  },
  {
   "cell_type": "markdown",
   "id": "81fe29bb",
   "metadata": {
    "deletable": false,
    "editable": false,
    "id": "f4ea573f"
   },
   "source": [
    "**Задание 11. Заполните пропуски в столбце `days_employed` медианными значениями по каждого типа занятости `income_type`.**"
   ]
  },
  {
   "cell_type": "code",
   "execution_count": 11,
   "id": "0e81fd79",
   "metadata": {
    "deletable": false,
    "id": "af6b1a7e"
   },
   "outputs": [],
   "source": [
    "for t in data['income_type'].unique():\n",
    "    data.loc[(data['income_type'] == t) & (data['days_employed'].isna()), 'days_employed'] = \\\n",
    "    data.loc[(data['income_type'] == t), 'days_employed'].median()"
   ]
  },
  {
   "cell_type": "markdown",
   "id": "0dfe1b56",
   "metadata": {
    "deletable": false,
    "editable": false,
    "id": "2753f40d"
   },
   "source": [
    "**Задание 12. Убедитесь, что все пропуски заполнены. Проверьте себя и ещё раз выведите количество пропущенных значений для каждого столбца с помощью двух методов.**"
   ]
  },
  {
   "cell_type": "code",
   "execution_count": 12,
   "id": "2bb3fc3e",
   "metadata": {
    "deletable": false,
    "id": "55f78bc2",
    "outputId": "8da1e4e1-358e-4e87-98c9-f261bce0a7b2"
   },
   "outputs": [
    {
     "data": {
      "text/plain": [
       "children            0\n",
       "days_employed       0\n",
       "dob_years           0\n",
       "education           0\n",
       "education_id        0\n",
       "family_status       0\n",
       "family_status_id    0\n",
       "gender              0\n",
       "income_type         0\n",
       "debt                0\n",
       "total_income        0\n",
       "purpose             0\n",
       "dtype: int64"
      ]
     },
     "execution_count": 12,
     "metadata": {},
     "output_type": "execute_result"
    }
   ],
   "source": [
    "data.isna().sum()"
   ]
  },
  {
   "cell_type": "markdown",
   "id": "ada72801",
   "metadata": {
    "deletable": false,
    "editable": false,
    "id": "ddc81e43"
   },
   "source": [
    "### Изменение типов данных"
   ]
  },
  {
   "cell_type": "markdown",
   "id": "ad44d0ea",
   "metadata": {
    "deletable": false,
    "editable": false,
    "id": "42d19d24"
   },
   "source": [
    "**Задание 13. Замените вещественный тип данных в столбце `total_income` на целочисленный с помощью метода `astype()`.**"
   ]
  },
  {
   "cell_type": "code",
   "execution_count": 13,
   "id": "9152fbda",
   "metadata": {
    "deletable": false,
    "id": "920b65ad"
   },
   "outputs": [],
   "source": [
    "data['total_income'] = data['total_income'].astype(int)"
   ]
  },
  {
   "cell_type": "markdown",
   "id": "098128af",
   "metadata": {
    "deletable": false,
    "editable": false,
    "id": "80c420ba"
   },
   "source": [
    "### Обработка дубликатов"
   ]
  },
  {
   "cell_type": "markdown",
   "id": "bd69e379",
   "metadata": {
    "deletable": false,
    "editable": false
   },
   "source": [
    "**Задание 14. Обработайте неявные дубликаты в столбце `education`. В этом столбце есть одни и те же значения, но записанные по-разному: с использованием заглавных и строчных букв. Приведите их к нижнему регистру. Проверьте остальные столбцы.**"
   ]
  },
  {
   "cell_type": "code",
   "execution_count": 14,
   "id": "89077472",
   "metadata": {
    "deletable": false
   },
   "outputs": [],
   "source": [
    "data['education'] = data['education'].str.lower()"
   ]
  },
  {
   "cell_type": "markdown",
   "id": "fadda210",
   "metadata": {
    "deletable": false,
    "editable": false,
    "id": "dc587695"
   },
   "source": [
    "**Задание 15. Выведите на экран количество строк-дубликатов в данных. Если такие строки присутствуют, удалите их.**"
   ]
  },
  {
   "cell_type": "code",
   "execution_count": 15,
   "id": "a5a10497",
   "metadata": {
    "deletable": false,
    "id": "3ee445e4",
    "outputId": "9684deba-1934-42d1-99e1-cda61740f822"
   },
   "outputs": [
    {
     "data": {
      "text/plain": [
       "71"
      ]
     },
     "execution_count": 15,
     "metadata": {},
     "output_type": "execute_result"
    }
   ],
   "source": [
    "data.duplicated().sum()"
   ]
  },
  {
   "cell_type": "code",
   "execution_count": 16,
   "id": "05deb073",
   "metadata": {
    "deletable": false,
    "id": "8575fe05"
   },
   "outputs": [],
   "source": [
    "data = data.drop_duplicates()"
   ]
  },
  {
   "cell_type": "markdown",
   "id": "6f510223",
   "metadata": {
    "deletable": false,
    "editable": false,
    "id": "9904cf55"
   },
   "source": [
    "### Категоризация данных"
   ]
  },
  {
   "cell_type": "markdown",
   "id": "4c7f146e",
   "metadata": {
    "deletable": false,
    "editable": false,
    "id": "72fcc8a2"
   },
   "source": [
    "**Задание 16. На основании диапазонов, указанных ниже, создайте в датафрейме `data` столбец `total_income_category` с категориями:**\n",
    "\n",
    "- 0–30000 — `'E'`;\n",
    "- 30001–50000 — `'D'`;\n",
    "- 50001–200000 — `'C'`;\n",
    "- 200001–1000000 — `'B'`;\n",
    "- 1000001 и выше — `'A'`.\n",
    "\n",
    "\n",
    "**Например, кредитополучателю с доходом 25000 нужно назначить категорию `'E'`, а клиенту, получающему 235000, — `'B'`. Используйте собственную функцию с именем `categorize_income()` и метод `apply()`.**"
   ]
  },
  {
   "cell_type": "code",
   "execution_count": 17,
   "id": "05f0a446",
   "metadata": {
    "deletable": false,
    "id": "e1771346"
   },
   "outputs": [],
   "source": [
    "def categorize_income(income):\n",
    "    try:\n",
    "        if 0 <= income <= 30000:\n",
    "            return 'E'\n",
    "        elif 30001 <= income <= 50000:\n",
    "            return 'D'\n",
    "        elif 50001 <= income <= 200000:\n",
    "            return 'C'\n",
    "        elif 200001 <= income <= 1000000:\n",
    "            return 'B'\n",
    "        elif income >= 1000001:\n",
    "            return 'A'\n",
    "    except:\n",
    "        pass"
   ]
  },
  {
   "cell_type": "code",
   "execution_count": 18,
   "id": "3a7f476a",
   "metadata": {
    "deletable": false,
    "id": "d5f3586d"
   },
   "outputs": [],
   "source": [
    "data['total_income_category'] = data['total_income'].apply(categorize_income)"
   ]
  },
  {
   "cell_type": "markdown",
   "id": "4acfb811",
   "metadata": {
    "deletable": false,
    "editable": false,
    "id": "dde49b5c"
   },
   "source": [
    "**Задание 17. Выведите на экран перечень уникальных целей взятия кредита из столбца `purpose`.**"
   ]
  },
  {
   "cell_type": "code",
   "execution_count": 19,
   "id": "d2700ab2",
   "metadata": {
    "deletable": false,
    "id": "f67ce9b3",
    "outputId": "673c12d9-7d7e-4ae0-9812-c622c89dd244"
   },
   "outputs": [
    {
     "data": {
      "text/plain": [
       "array(['покупка жилья', 'приобретение автомобиля',\n",
       "       'дополнительное образование', 'сыграть свадьбу',\n",
       "       'операции с жильем', 'образование', 'на проведение свадьбы',\n",
       "       'покупка жилья для семьи', 'покупка недвижимости',\n",
       "       'покупка коммерческой недвижимости', 'покупка жилой недвижимости',\n",
       "       'строительство собственной недвижимости', 'недвижимость',\n",
       "       'строительство недвижимости', 'на покупку подержанного автомобиля',\n",
       "       'на покупку своего автомобиля',\n",
       "       'операции с коммерческой недвижимостью',\n",
       "       'строительство жилой недвижимости', 'жилье',\n",
       "       'операции со своей недвижимостью', 'автомобили',\n",
       "       'заняться образованием', 'сделка с подержанным автомобилем',\n",
       "       'получение образования', 'автомобиль', 'свадьба',\n",
       "       'получение дополнительного образования', 'покупка своего жилья',\n",
       "       'операции с недвижимостью', 'получение высшего образования',\n",
       "       'свой автомобиль', 'сделка с автомобилем',\n",
       "       'профильное образование', 'высшее образование',\n",
       "       'покупка жилья для сдачи', 'на покупку автомобиля', 'ремонт жилью',\n",
       "       'заняться высшим образованием'], dtype=object)"
      ]
     },
     "execution_count": 19,
     "metadata": {},
     "output_type": "execute_result"
    }
   ],
   "source": [
    "data['purpose'].unique()"
   ]
  },
  {
   "cell_type": "markdown",
   "id": "d68cd84c",
   "metadata": {
    "deletable": false,
    "editable": false,
    "id": "85d0aef0"
   },
   "source": [
    "**Задание 18. Создайте функцию, которая на основании данных из столбца `purpose` сформирует новый столбец `purpose_category`, в который войдут следующие категории:**\n",
    "\n",
    "- `'операции с автомобилем'`,\n",
    "- `'операции с недвижимостью'`,\n",
    "- `'проведение свадьбы'`,\n",
    "- `'получение образования'`.\n",
    "\n",
    "**Например, если в столбце `purpose` находится подстрока `'на покупку автомобиля'`, то в столбце `purpose_category` должна появиться строка `'операции с автомобилем'`.**\n",
    "\n",
    "**Используйте собственную функцию с именем `categorize_purpose()` и метод `apply()`. Изучите данные в столбце `purpose` и определите, какие подстроки помогут вам правильно определить категорию.**"
   ]
  },
  {
   "cell_type": "code",
   "execution_count": 20,
   "id": "93b97b3a",
   "metadata": {
    "deletable": false,
    "id": "e149fab4"
   },
   "outputs": [],
   "source": [
    "def categorize_purpose(row):\n",
    "    try:\n",
    "        if 'автом' in row:\n",
    "            return 'операции с автомобилем'\n",
    "        elif 'жил' in row or 'недвиж' in row:\n",
    "            return 'операции с недвижимостью'\n",
    "        elif 'свад' in row:\n",
    "            return 'проведение свадьбы'\n",
    "        elif 'образов' in row:\n",
    "            return 'получение образования'\n",
    "    except:\n",
    "        return 'нет категории'"
   ]
  },
  {
   "cell_type": "code",
   "execution_count": 21,
   "id": "696dd2ef",
   "metadata": {
    "deletable": false,
    "id": "bf36e69b"
   },
   "outputs": [],
   "source": [
    "data['purpose_category'] = data['purpose'].apply(categorize_purpose)"
   ]
  },
  {
   "cell_type": "markdown",
   "id": "c630e6ae",
   "metadata": {
    "deletable": false,
    "editable": false,
    "id": "09b242bf"
   },
   "source": [
    "### Шаг 3. Исследуйте данные и ответьте на вопросы"
   ]
  },
  {
   "cell_type": "markdown",
   "id": "8554421f",
   "metadata": {
    "deletable": false,
    "editable": false,
    "id": "c5d66278"
   },
   "source": [
    "#### 3.1 Есть ли зависимость между количеством детей и возвратом кредита в срок?"
   ]
  },
  {
   "cell_type": "code",
   "execution_count": 22,
   "id": "3cb76a8f",
   "metadata": {
    "deletable": false,
    "id": "2cacfc4a"
   },
   "outputs": [
    {
     "data": {
      "text/html": [
       "<div>\n",
       "<style scoped>\n",
       "    .dataframe tbody tr th:only-of-type {\n",
       "        vertical-align: middle;\n",
       "    }\n",
       "\n",
       "    .dataframe tbody tr th {\n",
       "        vertical-align: top;\n",
       "    }\n",
       "\n",
       "    .dataframe thead tr th {\n",
       "        text-align: left;\n",
       "    }\n",
       "\n",
       "    .dataframe thead tr:last-of-type th {\n",
       "        text-align: right;\n",
       "    }\n",
       "</style>\n",
       "<table border=\"1\" class=\"dataframe\">\n",
       "  <thead>\n",
       "    <tr>\n",
       "      <th></th>\n",
       "      <th colspan=\"2\" halign=\"left\">debt</th>\n",
       "      <th>conv</th>\n",
       "    </tr>\n",
       "    <tr>\n",
       "      <th></th>\n",
       "      <th>count</th>\n",
       "      <th>sum</th>\n",
       "      <th></th>\n",
       "    </tr>\n",
       "    <tr>\n",
       "      <th>has_children</th>\n",
       "      <th></th>\n",
       "      <th></th>\n",
       "      <th></th>\n",
       "    </tr>\n",
       "  </thead>\n",
       "  <tbody>\n",
       "    <tr>\n",
       "      <th>True</th>\n",
       "      <td>7240</td>\n",
       "      <td>669</td>\n",
       "      <td>0.092403</td>\n",
       "    </tr>\n",
       "    <tr>\n",
       "      <th>False</th>\n",
       "      <td>14091</td>\n",
       "      <td>1063</td>\n",
       "      <td>0.075438</td>\n",
       "    </tr>\n",
       "  </tbody>\n",
       "</table>\n",
       "</div>"
      ],
      "text/plain": [
       "               debt            conv\n",
       "              count   sum          \n",
       "has_children                       \n",
       "True           7240   669  0.092403\n",
       "False         14091  1063  0.075438"
      ]
     },
     "execution_count": 22,
     "metadata": {},
     "output_type": "execute_result"
    }
   ],
   "source": [
    "# Ваш код будет здесь. Вы можете создавать новые ячейки.\n",
    "data['has_children'] = data['children'] > 0\n",
    "data_grouped = data.groupby('has_children').agg({'debt': ['count', 'sum']}) \n",
    "data_grouped['conv'] = data_grouped['debt']['sum']/data_grouped['debt']['count']\n",
    "data_grouped.sort_values('conv', ascending = False)"
   ]
  },
  {
   "cell_type": "markdown",
   "id": "cb551e14",
   "metadata": {},
   "source": [
    "<div class=\"alert alert-warning\">\n",
    "<h2> Комментарий ревьюера <a class=\"tocSkip\"> </h2>\n",
    "    \n",
    "<b>Некоторые замечания и рекомендации💡:</b> \n",
    "\n",
    "1) По структуре и вычислениям таблица верная, однако можно немного оптимизировать:\n",
    "\n",
    "Долю должников можно вычислить не только делением одного столбца на другой, но и с помощью `'mean'`, так как этот показатель − среднее между нулями и единицами (среднее = сумма элементов, деленная на их количество). Среднее можно добавить в список функций в первой строке.\n",
    "\n",
    "Для наглядности, колонки можно переназвать. `grouped_by_children.columns = ['первое название', 'второе название', '...']`\n",
    "    \n",
    "2) Необходимо обязательно аргументировать укрупнение категорий, проговорить в комментарии, везде ли в авторской разбивке хватает данных для анализа, а также просмотреть, есть ли различие в группах с разным количеством детей (от 1 до 4). Логика решения понятна и верна, но для предполагаемого заказчика нужно записать все логические ходы, чтобы не было вопросов.\n",
    "       \n",
    "</div>\n"
   ]
  },
  {
   "cell_type": "markdown",
   "id": "76779c05",
   "metadata": {
    "deletable": false,
    "id": "3a6b99ec"
   },
   "source": [
    "**Вывод:** 7,5% задолженностей у заемщиков без детей, 9,2% задолженности у заемщиков с детьми. У заемщиков с детьми чуть чаще бывает задолженность."
   ]
  },
  {
   "cell_type": "markdown",
   "id": "4b9680f4",
   "metadata": {},
   "source": [
    "<div class=\"alert alert-success\">\n",
    "<h2> Комментарий ревьюера <a class=\"tocSkip\"> </h2>\n",
    "\n",
    "👍 Отлично. Действительно, бездетные несут меньше рисков по невозврату кредита, а данных по клиентам с пятью детьми недостаточно для анализа.\n",
    "</div>\n",
    "\n"
   ]
  },
  {
   "cell_type": "code",
   "execution_count": 28,
   "id": "8804a5ab",
   "metadata": {},
   "outputs": [
    {
     "data": {
      "text/html": [
       "<div>\n",
       "<style scoped>\n",
       "    .dataframe tbody tr th:only-of-type {\n",
       "        vertical-align: middle;\n",
       "    }\n",
       "\n",
       "    .dataframe tbody tr th {\n",
       "        vertical-align: top;\n",
       "    }\n",
       "\n",
       "    .dataframe thead th {\n",
       "        text-align: right;\n",
       "    }\n",
       "</style>\n",
       "<table border=\"1\" class=\"dataframe\">\n",
       "  <thead>\n",
       "    <tr style=\"text-align: right;\">\n",
       "      <th></th>\n",
       "      <th>sum</th>\n",
       "      <th>mean</th>\n",
       "    </tr>\n",
       "    <tr>\n",
       "      <th>children</th>\n",
       "      <th></th>\n",
       "      <th></th>\n",
       "    </tr>\n",
       "  </thead>\n",
       "  <tbody>\n",
       "    <tr>\n",
       "      <th>4</th>\n",
       "      <td>4</td>\n",
       "      <td>0.097561</td>\n",
       "    </tr>\n",
       "    <tr>\n",
       "      <th>2</th>\n",
       "      <td>194</td>\n",
       "      <td>0.094542</td>\n",
       "    </tr>\n",
       "    <tr>\n",
       "      <th>1</th>\n",
       "      <td>444</td>\n",
       "      <td>0.092346</td>\n",
       "    </tr>\n",
       "    <tr>\n",
       "      <th>3</th>\n",
       "      <td>27</td>\n",
       "      <td>0.081818</td>\n",
       "    </tr>\n",
       "    <tr>\n",
       "      <th>0</th>\n",
       "      <td>1063</td>\n",
       "      <td>0.075438</td>\n",
       "    </tr>\n",
       "    <tr>\n",
       "      <th>5</th>\n",
       "      <td>0</td>\n",
       "      <td>0.000000</td>\n",
       "    </tr>\n",
       "  </tbody>\n",
       "</table>\n",
       "</div>"
      ],
      "text/plain": [
       "           sum      mean\n",
       "children                \n",
       "4            4  0.097561\n",
       "2          194  0.094542\n",
       "1          444  0.092346\n",
       "3           27  0.081818\n",
       "0         1063  0.075438\n",
       "5            0  0.000000"
      ]
     },
     "execution_count": 28,
     "metadata": {},
     "output_type": "execute_result"
    }
   ],
   "source": [
    "data_grouped = data.groupby('children')['debt'].agg(['sum', 'mean']) \n",
    "data_grouped.sort_values('mean', ascending = False)"
   ]
  },
  {
   "cell_type": "markdown",
   "id": "59a6a72d",
   "metadata": {},
   "source": [
    "<div class=\"alert alert-info\">\n",
    "<b>Комментарий студента:</b>\n",
    "<br>Добавлено исследование с разбивкой по количеству детей у заемщика, а также вместо конверсии было использовано среднее значение. Подтвердился вывод, что бездетные с большей вероятностью возвращают кредит. Для заемщиков с пятью детьми данных слишком мало, чтобы делать выводы.\n",
    "    \n",
    "    PS: Кирилл, подскажи, как отсортировать такие значения: \n",
    "    data_grouped = data.groupby('children').agg({'debt': ['sum', 'mean']}) \n",
    "    data_grouped.sort_values('mean', ascending = False) - выдает ошибку\n",
    "</div>"
   ]
  },
  {
   "cell_type": "markdown",
   "id": "35d477e9",
   "metadata": {},
   "source": [
    "<div class=\"alert alert-success\">\n",
    "<h2> Комментарий ревьюера #2 <a class=\"tocSkip\"> </h2>\n",
    "\n",
    "👍 Привет. Думаю, тут стоит вспоминить, что {} в таких ковычках у нас set - неупорядоченнй набор уникальных значений. Попробуй вариант без использования таких ковычек:\n",
    "    \n",
    "`data_children_group = data.groupby('children')['debt'].agg(['count','sum','mean'])`\n",
    "    \n",
    "Тогда сортировка должна пройти хорошо.\n",
    "    \n",
    "Еще может быть проблема в том, что мы обращаемся к «двухэтажной» индексации колонок по одному индексу. Здесь нжуно погуглить, как обращаться к двухэтажному (перечислением двух колонок в разных скобках) или, как я предложил выше − переименовать колонки. но тоже не словарем, а списком.\n",
    "    \n",
    "\n",
    "</div>\n"
   ]
  },
  {
   "cell_type": "markdown",
   "id": "41774b58",
   "metadata": {
    "deletable": false,
    "editable": false,
    "id": "97be82ca"
   },
   "source": [
    "#### 3.2 Есть ли зависимость между семейным положением и возвратом кредита в срок?"
   ]
  },
  {
   "cell_type": "code",
   "execution_count": 24,
   "id": "9d86bef0",
   "metadata": {
    "deletable": false,
    "id": "dc3f7ee8"
   },
   "outputs": [
    {
     "data": {
      "text/html": [
       "<div>\n",
       "<style scoped>\n",
       "    .dataframe tbody tr th:only-of-type {\n",
       "        vertical-align: middle;\n",
       "    }\n",
       "\n",
       "    .dataframe tbody tr th {\n",
       "        vertical-align: top;\n",
       "    }\n",
       "\n",
       "    .dataframe thead tr th {\n",
       "        text-align: left;\n",
       "    }\n",
       "\n",
       "    .dataframe thead tr:last-of-type th {\n",
       "        text-align: right;\n",
       "    }\n",
       "</style>\n",
       "<table border=\"1\" class=\"dataframe\">\n",
       "  <thead>\n",
       "    <tr>\n",
       "      <th></th>\n",
       "      <th colspan=\"2\" halign=\"left\">debt</th>\n",
       "      <th>conv</th>\n",
       "    </tr>\n",
       "    <tr>\n",
       "      <th></th>\n",
       "      <th>count</th>\n",
       "      <th>sum</th>\n",
       "      <th></th>\n",
       "    </tr>\n",
       "    <tr>\n",
       "      <th>family_status</th>\n",
       "      <th></th>\n",
       "      <th></th>\n",
       "      <th></th>\n",
       "    </tr>\n",
       "  </thead>\n",
       "  <tbody>\n",
       "    <tr>\n",
       "      <th>Не женат / не замужем</th>\n",
       "      <td>2796</td>\n",
       "      <td>273</td>\n",
       "      <td>0.097639</td>\n",
       "    </tr>\n",
       "    <tr>\n",
       "      <th>гражданский брак</th>\n",
       "      <td>4134</td>\n",
       "      <td>385</td>\n",
       "      <td>0.093130</td>\n",
       "    </tr>\n",
       "    <tr>\n",
       "      <th>женат / замужем</th>\n",
       "      <td>12261</td>\n",
       "      <td>927</td>\n",
       "      <td>0.075606</td>\n",
       "    </tr>\n",
       "    <tr>\n",
       "      <th>в разводе</th>\n",
       "      <td>1189</td>\n",
       "      <td>84</td>\n",
       "      <td>0.070648</td>\n",
       "    </tr>\n",
       "    <tr>\n",
       "      <th>вдовец / вдова</th>\n",
       "      <td>951</td>\n",
       "      <td>63</td>\n",
       "      <td>0.066246</td>\n",
       "    </tr>\n",
       "  </tbody>\n",
       "</table>\n",
       "</div>"
      ],
      "text/plain": [
       "                        debt           conv\n",
       "                       count  sum          \n",
       "family_status                              \n",
       "Не женат / не замужем   2796  273  0.097639\n",
       "гражданский брак        4134  385  0.093130\n",
       "женат / замужем        12261  927  0.075606\n",
       "в разводе               1189   84  0.070648\n",
       "вдовец / вдова           951   63  0.066246"
      ]
     },
     "execution_count": 24,
     "metadata": {},
     "output_type": "execute_result"
    }
   ],
   "source": [
    "# Ваш код будет здесь. Вы можете создавать новые ячейки.\n",
    "data_grouped = data.groupby('family_status').agg({'debt': ['count', 'sum']}) \n",
    "data_grouped['conv'] = data_grouped['debt']['sum']/data_grouped['debt']['count']\n",
    "data_grouped.sort_values('conv', ascending = False)"
   ]
  },
  {
   "cell_type": "markdown",
   "id": "16d279cb",
   "metadata": {
    "deletable": false,
    "id": "1cef7837"
   },
   "source": [
    "**Вывод:** Чаще всего задолженности бывают у не женатых/ не замужних и тех, кто в гражданском браке (около 9%). Вдовцы / вдовы чаще других возвращают в срок."
   ]
  },
  {
   "cell_type": "markdown",
   "id": "a5e316c1",
   "metadata": {},
   "source": [
    "<div class=\"alert alert-success\">\n",
    "<h2> Комментарий ревьюера <a class=\"tocSkip\"> </h2>\n",
    "\n",
    "👍 Отлично\n",
    "</div>\n"
   ]
  },
  {
   "cell_type": "markdown",
   "id": "3ebb746c",
   "metadata": {
    "deletable": false,
    "editable": false,
    "id": "1e8b2fca"
   },
   "source": [
    "#### 3.3 Есть ли зависимость между уровнем дохода и возвратом кредита в срок?"
   ]
  },
  {
   "cell_type": "code",
   "execution_count": 25,
   "id": "08b89269",
   "metadata": {
    "deletable": false,
    "id": "cd7e3720"
   },
   "outputs": [
    {
     "data": {
      "text/html": [
       "<div>\n",
       "<style scoped>\n",
       "    .dataframe tbody tr th:only-of-type {\n",
       "        vertical-align: middle;\n",
       "    }\n",
       "\n",
       "    .dataframe tbody tr th {\n",
       "        vertical-align: top;\n",
       "    }\n",
       "\n",
       "    .dataframe thead tr th {\n",
       "        text-align: left;\n",
       "    }\n",
       "\n",
       "    .dataframe thead tr:last-of-type th {\n",
       "        text-align: right;\n",
       "    }\n",
       "</style>\n",
       "<table border=\"1\" class=\"dataframe\">\n",
       "  <thead>\n",
       "    <tr>\n",
       "      <th></th>\n",
       "      <th colspan=\"2\" halign=\"left\">debt</th>\n",
       "      <th>conv</th>\n",
       "    </tr>\n",
       "    <tr>\n",
       "      <th></th>\n",
       "      <th>count</th>\n",
       "      <th>sum</th>\n",
       "      <th></th>\n",
       "    </tr>\n",
       "    <tr>\n",
       "      <th>total_income_category</th>\n",
       "      <th></th>\n",
       "      <th></th>\n",
       "      <th></th>\n",
       "    </tr>\n",
       "  </thead>\n",
       "  <tbody>\n",
       "    <tr>\n",
       "      <th>E</th>\n",
       "      <td>22</td>\n",
       "      <td>2</td>\n",
       "      <td>0.090909</td>\n",
       "    </tr>\n",
       "    <tr>\n",
       "      <th>C</th>\n",
       "      <td>15921</td>\n",
       "      <td>1353</td>\n",
       "      <td>0.084982</td>\n",
       "    </tr>\n",
       "    <tr>\n",
       "      <th>A</th>\n",
       "      <td>25</td>\n",
       "      <td>2</td>\n",
       "      <td>0.080000</td>\n",
       "    </tr>\n",
       "    <tr>\n",
       "      <th>B</th>\n",
       "      <td>5014</td>\n",
       "      <td>354</td>\n",
       "      <td>0.070602</td>\n",
       "    </tr>\n",
       "    <tr>\n",
       "      <th>D</th>\n",
       "      <td>349</td>\n",
       "      <td>21</td>\n",
       "      <td>0.060172</td>\n",
       "    </tr>\n",
       "  </tbody>\n",
       "</table>\n",
       "</div>"
      ],
      "text/plain": [
       "                        debt            conv\n",
       "                       count   sum          \n",
       "total_income_category                       \n",
       "E                         22     2  0.090909\n",
       "C                      15921  1353  0.084982\n",
       "A                         25     2  0.080000\n",
       "B                       5014   354  0.070602\n",
       "D                        349    21  0.060172"
      ]
     },
     "execution_count": 25,
     "metadata": {},
     "output_type": "execute_result"
    }
   ],
   "source": [
    "# Ваш код будет здесь. Вы можете создавать новые ячейки.\n",
    "#data['cat_total_income'] = pd.cut(data['total_income'],bins=[50000, 100000,500000,1000000],labels=[1, 2, 3, 4],right=False)\n",
    "\n",
    "\n",
    "#data_grouped = data.groupby('total_income').agg({'debt': ['count', 'sum']}) \n",
    "#data_grouped['conv'] = data_grouped['debt']['sum']/data_grouped['debt']['count']\n",
    "#data_grouped.sort_values('total_income', ascending = False)\n",
    "\n",
    "data_grouped = data.groupby('total_income_category').agg({'debt': ['count', 'sum']}) \n",
    "data_grouped['conv'] = data_grouped['debt']['sum']/data_grouped['debt']['count']\n",
    "data_grouped.sort_values('conv', ascending = False)"
   ]
  },
  {
   "cell_type": "markdown",
   "id": "e7536ee3",
   "metadata": {
    "deletable": false,
    "id": "e8593def"
   },
   "source": [
    "**Вывод:** Основная масса заемщиов не отдает кредит с вероятностью 8%. Заемщики с максимальным доходом (А и В) имеют процент невозвращенных кредитов чуть меньше. Заемщики с минимальным доходом имеют самый большой показатель по количеству невозвратов."
   ]
  },
  {
   "cell_type": "markdown",
   "id": "44606f5b",
   "metadata": {},
   "source": [
    "<div class=\"alert alert-success\">\n",
    "<h2> Комментарий ревьюера <a class=\"tocSkip\"> </h2>\n",
    "\n",
    "👍 Самый сложный момент проекта, но здесь все корректно и хорошо по аргументации.\n",
    "</div>\n"
   ]
  },
  {
   "cell_type": "markdown",
   "id": "3a2b9574",
   "metadata": {
    "deletable": false,
    "editable": false,
    "id": "99ecbd1f"
   },
   "source": [
    "#### 3.4 Как разные цели кредита влияют на его возврат в срок?"
   ]
  },
  {
   "cell_type": "code",
   "execution_count": 26,
   "id": "7f483455",
   "metadata": {
    "deletable": false,
    "id": "2b687290"
   },
   "outputs": [
    {
     "data": {
      "text/html": [
       "<div>\n",
       "<style scoped>\n",
       "    .dataframe tbody tr th:only-of-type {\n",
       "        vertical-align: middle;\n",
       "    }\n",
       "\n",
       "    .dataframe tbody tr th {\n",
       "        vertical-align: top;\n",
       "    }\n",
       "\n",
       "    .dataframe thead tr th {\n",
       "        text-align: left;\n",
       "    }\n",
       "\n",
       "    .dataframe thead tr:last-of-type th {\n",
       "        text-align: right;\n",
       "    }\n",
       "</style>\n",
       "<table border=\"1\" class=\"dataframe\">\n",
       "  <thead>\n",
       "    <tr>\n",
       "      <th></th>\n",
       "      <th colspan=\"2\" halign=\"left\">debt</th>\n",
       "      <th>conv</th>\n",
       "    </tr>\n",
       "    <tr>\n",
       "      <th></th>\n",
       "      <th>count</th>\n",
       "      <th>sum</th>\n",
       "      <th></th>\n",
       "    </tr>\n",
       "    <tr>\n",
       "      <th>purpose_category</th>\n",
       "      <th></th>\n",
       "      <th></th>\n",
       "      <th></th>\n",
       "    </tr>\n",
       "  </thead>\n",
       "  <tbody>\n",
       "    <tr>\n",
       "      <th>операции с автомобилем</th>\n",
       "      <td>4279</td>\n",
       "      <td>400</td>\n",
       "      <td>0.093480</td>\n",
       "    </tr>\n",
       "    <tr>\n",
       "      <th>получение образования</th>\n",
       "      <td>3988</td>\n",
       "      <td>369</td>\n",
       "      <td>0.092528</td>\n",
       "    </tr>\n",
       "    <tr>\n",
       "      <th>проведение свадьбы</th>\n",
       "      <td>2313</td>\n",
       "      <td>183</td>\n",
       "      <td>0.079118</td>\n",
       "    </tr>\n",
       "    <tr>\n",
       "      <th>операции с недвижимостью</th>\n",
       "      <td>10751</td>\n",
       "      <td>780</td>\n",
       "      <td>0.072551</td>\n",
       "    </tr>\n",
       "  </tbody>\n",
       "</table>\n",
       "</div>"
      ],
      "text/plain": [
       "                           debt           conv\n",
       "                          count  sum          \n",
       "purpose_category                              \n",
       "операции с автомобилем     4279  400  0.093480\n",
       "получение образования      3988  369  0.092528\n",
       "проведение свадьбы         2313  183  0.079118\n",
       "операции с недвижимостью  10751  780  0.072551"
      ]
     },
     "execution_count": 26,
     "metadata": {},
     "output_type": "execute_result"
    }
   ],
   "source": [
    "# Ваш код будет здесь. Вы можете создавать новые ячейки.\n",
    "data_grouped = data.groupby('purpose_category').agg({'debt': ['count', 'sum']}) \n",
    "data_grouped['conv'] = data_grouped['debt']['sum']/data_grouped['debt']['count']\n",
    "data_grouped.sort_values('conv', ascending = False)"
   ]
  },
  {
   "cell_type": "markdown",
   "id": "993348ae",
   "metadata": {
    "deletable": false,
    "id": "b4bb2ce6"
   },
   "source": [
    "**Вывод:** Процент невозврата  ниже для категорий \"проведение свадьбы\" и \"проведение свадьбы\". И выше для \"операции с автомобилем\" и \"получение образования\"."
   ]
  },
  {
   "cell_type": "markdown",
   "id": "9c6e452d",
   "metadata": {},
   "source": [
    "<div class=\"alert alert-success\">\n",
    "<h2> Комментарий ревьюера <a class=\"tocSkip\"> </h2>\n",
    "\n",
    "👍 Согласен.\n",
    "</div>\n"
   ]
  },
  {
   "cell_type": "markdown",
   "id": "f2801d70",
   "metadata": {
    "deletable": false,
    "editable": false,
    "id": "09c3ac4c"
   },
   "source": [
    "#### 3.5 Приведите возможные причины появления пропусков в исходных данных."
   ]
  },
  {
   "cell_type": "markdown",
   "id": "14c250a9",
   "metadata": {
    "deletable": false,
    "id": "9da2ceda"
   },
   "source": [
    "*Ответ:* заемщик не предоставил данные или на стороне банка сотрудники внесли некорректно"
   ]
  },
  {
   "cell_type": "markdown",
   "id": "216bff3b",
   "metadata": {},
   "source": [
    "<div class=\"alert alert-success\">\n",
    "<h2> Комментарий ревьюера <a class=\"tocSkip\"> </h2>\n",
    "\n",
    "👍 Ты указываешь наиболее вероятные гипотезы. Здесь можно также упомянуть две группы причин: технические и человеческий фактор. Я думаю, еще есть вариант, что заемщики не смогли документально подтвердить информацию о доходе и стаже.\n",
    "</div>\n"
   ]
  },
  {
   "cell_type": "markdown",
   "id": "760bc8de",
   "metadata": {
    "deletable": false,
    "editable": false,
    "id": "7b0487d6"
   },
   "source": [
    "#### 3.6 Объясните, почему заполнить пропуски медианным значением — лучшее решение для количественных переменных."
   ]
  },
  {
   "cell_type": "markdown",
   "id": "3b84958d",
   "metadata": {
    "deletable": false,
    "id": "7ecf2b8e"
   },
   "source": [
    "*Ответ:* Заполнить пропуски медианными значениями для количественных переменных лучше, чем средними, тк разброс от самого меньшего числа до самого большего может быть слишком большим. Одно самое большое значение может повлиять на среднее, что не будет отражать реального положения."
   ]
  },
  {
   "cell_type": "markdown",
   "id": "3df92cfc",
   "metadata": {},
   "source": [
    "<div class=\"alert alert-success\">\n",
    "<h2> Комментарий ревьюера <a class=\"tocSkip\"> </h2>\n",
    "\n",
    "👍 Абсолютно верно, однако можно сформулировать чуть строже и академичнее. Медиана  не чувствительна к выбросам, которые смещают среднее относительно области наибольшей плотности значений (пика гистограммы). Медиана же продолжает показывать область наибольшей плотности значений. Именно значения медианы будут вероятнее всего ближе к ожидаемым значениям в пропусках.\n",
    "</div>\n"
   ]
  },
  {
   "cell_type": "markdown",
   "id": "842a741b",
   "metadata": {
    "deletable": false,
    "editable": false,
    "id": "6db5255a"
   },
   "source": [
    "### Шаг 4: общий вывод."
   ]
  },
  {
   "cell_type": "markdown",
   "id": "243a7519",
   "metadata": {
    "deletable": false,
    "id": "bad65432"
   },
   "source": [
    "Исходя из результатов анализа можно сделать вывод, что самые хорошие заемщики для банка - это люди, которые берут кредит на свадьбу или недвижимость, с доходом выше среднего и без детей."
   ]
  },
  {
   "cell_type": "markdown",
   "id": "abaa3eba",
   "metadata": {},
   "source": [
    "<div class=\"alert alert-warning\">\n",
    "<h2> Комментарий ревьюера <a class=\"tocSkip\"> </h2>\n",
    "    \n",
    "<b>Некоторые замечания и рекомендации💡:</b> \n",
    "\n",
    "Все отлично. Единственное, я бы посоветовал не выводить портрет идеального заемщика, так как мы не проводили многофакторный анализ и не смотрели как наши признаки работают в сумме. Можно ограничиться простым перечислением рисков внутри каждой из категорий.\n",
    "    \n",
    "И да, заказчика в первую очередь интересуют группы риска − именно с ними он будет потом работать.\n",
    "       \n",
    "</div>"
   ]
  },
  {
   "cell_type": "markdown",
   "id": "ae340beb",
   "metadata": {},
   "source": [
    "<div class=\"alert alert-info\">\n",
    "<b>Комментарий студента:</b>\n",
    "<br>Исходя из результатов анализа можно сделать вывод, что наибольший риск невозврата кредита у заемщиков с детьми, не женатых/не замужем, а также наибольший риск невозврата у кредита на автомобиль. \n",
    "</div>"
   ]
  },
  {
   "cell_type": "markdown",
   "id": "4819a769",
   "metadata": {},
   "source": [
    "<div class=\"alert alert-success\">\n",
    "<h2> Комментарий ревьюера #2 <a class=\"tocSkip\"> </h2>\n",
    "\n",
    "👍 Спасибо за добавление.\n",
    "</div>\n",
    " \n"
   ]
  },
  {
   "cell_type": "markdown",
   "id": "b3ad9109",
   "metadata": {},
   "source": [
    "<div style=\"border:solid Chocolate 2px; padding: 40px\">\n",
    "\n",
    "**Общий вывод по проверке**\n",
    "\n",
    "У тебя получился хороший проект. Верные вычисления и структура таблиц, хорошая аналитика и правильные ответы на вопросы.\n",
    "    \n",
    "В желтых комментариях оставил пожелания по улучшению проекта. Работу могу принять уже сейчас, но отправлю на доработку, чтобы иметь возможность дать обратную связь по изменениям.\n",
    " \n",
    "\n",
    "**Желаю удачи и жду твой проект на повторное ревью!**😉\n",
    "\n",
    "</div>\n"
   ]
  },
  {
   "cell_type": "markdown",
   "id": "d649c60d",
   "metadata": {},
   "source": [
    "<div style=\"border:solid Chocolate 2px; padding: 40px\">\n",
    "\n",
    "**Комментарий ко второй проверке**\n",
    "\n",
    "Спасибо за доработку. Критичных комментариев нет. \n",
    "    \n",
    "Попробовал ответить на вопрос о сортировке, сам варианты не попробовал, но почти уверен, что дело в скобках {} или в обращении к иерархичному столбцу. Не буду задерживать с дедлайном, если вдруг что-то не получится, смело пиши в телеграм @kriill.\n",
    "    \n",
    "Рекомендую еще прочитать про то, чем отличаются список, сет, словарь, кортеж https://habr.com/ru/post/319164/ \n",
    "\n",
    "Желаю удачи в дальнейшей учебе!\n",
    "\n",
    "</div>"
   ]
  }
 ],
 "metadata": {
  "ExecuteTimeLog": [
   {
    "duration": 503,
    "start_time": "2022-12-19T09:00:08.795Z"
   },
   {
    "duration": 27,
    "start_time": "2022-12-19T09:00:09.300Z"
   },
   {
    "duration": 33,
    "start_time": "2022-12-19T09:00:09.329Z"
   },
   {
    "duration": 14,
    "start_time": "2022-12-19T09:00:09.363Z"
   },
   {
    "duration": 51,
    "start_time": "2022-12-19T09:00:09.380Z"
   },
   {
    "duration": 4,
    "start_time": "2022-12-19T09:00:09.433Z"
   },
   {
    "duration": 13,
    "start_time": "2022-12-19T09:00:09.439Z"
   },
   {
    "duration": 16,
    "start_time": "2022-12-19T09:00:09.454Z"
   },
   {
    "duration": 29,
    "start_time": "2022-12-19T09:00:09.471Z"
   },
   {
    "duration": 27,
    "start_time": "2022-12-19T09:00:09.502Z"
   },
   {
    "duration": 39,
    "start_time": "2022-12-19T09:00:09.531Z"
   },
   {
    "duration": 17,
    "start_time": "2022-12-19T09:00:09.571Z"
   },
   {
    "duration": 15,
    "start_time": "2022-12-19T09:00:09.589Z"
   },
   {
    "duration": 14,
    "start_time": "2022-12-19T09:00:09.607Z"
   },
   {
    "duration": 24,
    "start_time": "2022-12-19T09:00:09.623Z"
   },
   {
    "duration": 20,
    "start_time": "2022-12-19T09:00:09.648Z"
   },
   {
    "duration": 15,
    "start_time": "2022-12-19T09:00:09.669Z"
   },
   {
    "duration": 22,
    "start_time": "2022-12-19T09:00:09.687Z"
   },
   {
    "duration": 6,
    "start_time": "2022-12-19T09:00:09.711Z"
   },
   {
    "duration": 6,
    "start_time": "2022-12-19T09:00:09.718Z"
   },
   {
    "duration": 15,
    "start_time": "2022-12-19T09:00:09.726Z"
   },
   {
    "duration": 6,
    "start_time": "2022-12-19T09:00:09.743Z"
   },
   {
    "duration": 7,
    "start_time": "2022-12-19T09:00:09.751Z"
   },
   {
    "duration": 5,
    "start_time": "2022-12-19T09:00:09.760Z"
   },
   {
    "duration": 12,
    "start_time": "2022-12-19T09:00:09.767Z"
   },
   {
    "duration": 17,
    "start_time": "2022-12-19T09:06:33.601Z"
   },
   {
    "duration": 14,
    "start_time": "2022-12-19T09:08:11.401Z"
   },
   {
    "duration": 10,
    "start_time": "2022-12-19T09:09:00.928Z"
   },
   {
    "duration": 10,
    "start_time": "2022-12-19T09:09:38.094Z"
   },
   {
    "duration": 69,
    "start_time": "2022-12-19T09:11:04.254Z"
   },
   {
    "duration": 11,
    "start_time": "2022-12-19T09:13:05.652Z"
   },
   {
    "duration": 9,
    "start_time": "2022-12-19T09:13:52.052Z"
   },
   {
    "duration": 10,
    "start_time": "2022-12-19T09:14:13.730Z"
   },
   {
    "duration": 11,
    "start_time": "2022-12-19T09:14:26.732Z"
   },
   {
    "duration": 15,
    "start_time": "2022-12-19T09:14:44.707Z"
   },
   {
    "duration": 19,
    "start_time": "2022-12-19T09:15:03.554Z"
   },
   {
    "duration": 18,
    "start_time": "2022-12-19T09:15:18.618Z"
   },
   {
    "duration": 17,
    "start_time": "2022-12-19T09:15:26.970Z"
   },
   {
    "duration": 11,
    "start_time": "2022-12-19T09:15:33.130Z"
   },
   {
    "duration": 8,
    "start_time": "2022-12-19T09:18:26.008Z"
   },
   {
    "duration": 10,
    "start_time": "2022-12-19T09:18:54.587Z"
   },
   {
    "duration": 12,
    "start_time": "2022-12-19T09:30:07.718Z"
   },
   {
    "duration": 14,
    "start_time": "2022-12-19T09:30:25.621Z"
   },
   {
    "duration": 1169,
    "start_time": "2022-12-19T09:31:51.364Z"
   },
   {
    "duration": 16,
    "start_time": "2022-12-19T09:32:21.060Z"
   },
   {
    "duration": 17,
    "start_time": "2022-12-19T09:38:12.167Z"
   },
   {
    "duration": 23,
    "start_time": "2022-12-19T09:38:39.175Z"
   },
   {
    "duration": 16,
    "start_time": "2022-12-19T09:41:20.575Z"
   },
   {
    "duration": 17,
    "start_time": "2022-12-19T09:41:28.204Z"
   },
   {
    "duration": 18,
    "start_time": "2022-12-19T09:41:30.548Z"
   },
   {
    "duration": 27,
    "start_time": "2022-12-19T09:42:56.378Z"
   },
   {
    "duration": 26,
    "start_time": "2022-12-19T09:47:43.953Z"
   },
   {
    "duration": 504,
    "start_time": "2022-12-19T09:47:56.568Z"
   },
   {
    "duration": 26,
    "start_time": "2022-12-19T09:47:57.074Z"
   },
   {
    "duration": 18,
    "start_time": "2022-12-19T09:47:57.102Z"
   },
   {
    "duration": 10,
    "start_time": "2022-12-19T09:47:57.122Z"
   },
   {
    "duration": 63,
    "start_time": "2022-12-19T09:47:57.133Z"
   },
   {
    "duration": 3,
    "start_time": "2022-12-19T09:47:57.198Z"
   },
   {
    "duration": 13,
    "start_time": "2022-12-19T09:47:57.203Z"
   },
   {
    "duration": 6,
    "start_time": "2022-12-19T09:47:57.218Z"
   },
   {
    "duration": 14,
    "start_time": "2022-12-19T09:47:57.225Z"
   },
   {
    "duration": 11,
    "start_time": "2022-12-19T09:47:57.241Z"
   },
   {
    "duration": 51,
    "start_time": "2022-12-19T09:47:57.253Z"
   },
   {
    "duration": 10,
    "start_time": "2022-12-19T09:47:57.306Z"
   },
   {
    "duration": 3,
    "start_time": "2022-12-19T09:47:57.318Z"
   },
   {
    "duration": 15,
    "start_time": "2022-12-19T09:47:57.323Z"
   },
   {
    "duration": 38,
    "start_time": "2022-12-19T09:47:57.340Z"
   },
   {
    "duration": 19,
    "start_time": "2022-12-19T09:47:57.379Z"
   },
   {
    "duration": 4,
    "start_time": "2022-12-19T09:47:57.400Z"
   },
   {
    "duration": 17,
    "start_time": "2022-12-19T09:47:57.406Z"
   },
   {
    "duration": 16,
    "start_time": "2022-12-19T09:47:57.425Z"
   },
   {
    "duration": 12,
    "start_time": "2022-12-19T09:47:57.443Z"
   },
   {
    "duration": 26,
    "start_time": "2022-12-19T09:47:57.457Z"
   },
   {
    "duration": 27,
    "start_time": "2022-12-19T09:47:57.485Z"
   },
   {
    "duration": 29,
    "start_time": "2022-12-19T09:47:57.514Z"
   },
   {
    "duration": 89,
    "start_time": "2022-12-19T09:47:57.544Z"
   },
   {
    "duration": 0,
    "start_time": "2022-12-19T09:47:57.635Z"
   },
   {
    "duration": 18,
    "start_time": "2022-12-19T09:48:25.528Z"
   },
   {
    "duration": 24,
    "start_time": "2022-12-19T09:48:54.128Z"
   },
   {
    "duration": 18,
    "start_time": "2022-12-19T09:49:05.311Z"
   },
   {
    "duration": 9,
    "start_time": "2022-12-19T09:49:52.958Z"
   },
   {
    "duration": 20,
    "start_time": "2022-12-19T09:50:05.431Z"
   },
   {
    "duration": 1264,
    "start_time": "2022-12-19T10:39:57.356Z"
   },
   {
    "duration": 19,
    "start_time": "2022-12-19T10:40:05.228Z"
   },
   {
    "duration": 14,
    "start_time": "2022-12-19T10:40:36.211Z"
   },
   {
    "duration": 26,
    "start_time": "2022-12-19T10:41:09.363Z"
   },
   {
    "duration": 19,
    "start_time": "2022-12-19T10:42:19.004Z"
   },
   {
    "duration": 13,
    "start_time": "2022-12-19T10:42:32.417Z"
   },
   {
    "duration": 23,
    "start_time": "2022-12-19T10:42:41.577Z"
   },
   {
    "duration": 13,
    "start_time": "2022-12-19T10:43:32.391Z"
   },
   {
    "duration": 14,
    "start_time": "2022-12-19T10:43:38.313Z"
   },
   {
    "duration": 15,
    "start_time": "2022-12-19T10:43:47.666Z"
   },
   {
    "duration": 17,
    "start_time": "2022-12-19T10:45:34.552Z"
   },
   {
    "duration": 19,
    "start_time": "2022-12-19T10:46:07.159Z"
   },
   {
    "duration": 16,
    "start_time": "2022-12-19T10:46:11.550Z"
   },
   {
    "duration": 23,
    "start_time": "2022-12-19T10:46:32.205Z"
   },
   {
    "duration": 24,
    "start_time": "2022-12-19T10:47:09.848Z"
   },
   {
    "duration": 31,
    "start_time": "2022-12-19T10:47:33.756Z"
   },
   {
    "duration": 25,
    "start_time": "2022-12-19T10:48:16.037Z"
   },
   {
    "duration": 26,
    "start_time": "2022-12-19T10:48:42.013Z"
   },
   {
    "duration": 24,
    "start_time": "2022-12-19T10:48:49.355Z"
   },
   {
    "duration": 25,
    "start_time": "2022-12-19T10:49:28.267Z"
   },
   {
    "duration": 47,
    "start_time": "2022-12-19T10:57:40.818Z"
   },
   {
    "duration": 548,
    "start_time": "2022-12-19T10:58:04.635Z"
   },
   {
    "duration": 24,
    "start_time": "2022-12-19T10:58:05.185Z"
   },
   {
    "duration": 27,
    "start_time": "2022-12-19T10:58:05.211Z"
   },
   {
    "duration": 10,
    "start_time": "2022-12-19T10:58:05.240Z"
   },
   {
    "duration": 43,
    "start_time": "2022-12-19T10:58:05.252Z"
   },
   {
    "duration": 3,
    "start_time": "2022-12-19T10:58:05.297Z"
   },
   {
    "duration": 21,
    "start_time": "2022-12-19T10:58:05.302Z"
   },
   {
    "duration": 4,
    "start_time": "2022-12-19T10:58:05.325Z"
   },
   {
    "duration": 11,
    "start_time": "2022-12-19T10:58:05.331Z"
   },
   {
    "duration": 4,
    "start_time": "2022-12-19T10:58:05.344Z"
   },
   {
    "duration": 36,
    "start_time": "2022-12-19T10:58:05.350Z"
   },
   {
    "duration": 9,
    "start_time": "2022-12-19T10:58:05.388Z"
   },
   {
    "duration": 26,
    "start_time": "2022-12-19T10:58:05.398Z"
   },
   {
    "duration": 25,
    "start_time": "2022-12-19T10:58:05.427Z"
   },
   {
    "duration": 25,
    "start_time": "2022-12-19T10:58:05.454Z"
   },
   {
    "duration": 26,
    "start_time": "2022-12-19T10:58:05.481Z"
   },
   {
    "duration": 11,
    "start_time": "2022-12-19T10:58:05.508Z"
   },
   {
    "duration": 47,
    "start_time": "2022-12-19T10:58:05.521Z"
   },
   {
    "duration": 19,
    "start_time": "2022-12-19T10:58:05.570Z"
   },
   {
    "duration": 8,
    "start_time": "2022-12-19T10:58:05.591Z"
   },
   {
    "duration": 21,
    "start_time": "2022-12-19T10:58:05.601Z"
   },
   {
    "duration": 21,
    "start_time": "2022-12-19T10:58:05.623Z"
   },
   {
    "duration": 16,
    "start_time": "2022-12-19T10:58:05.645Z"
   },
   {
    "duration": 30,
    "start_time": "2022-12-19T10:58:05.663Z"
   },
   {
    "duration": 18,
    "start_time": "2022-12-19T10:58:05.694Z"
   },
   {
    "duration": 23,
    "start_time": "2022-12-19T11:01:28.043Z"
   },
   {
    "duration": 24,
    "start_time": "2022-12-19T11:22:52.949Z"
   },
   {
    "duration": 17,
    "start_time": "2022-12-19T11:25:15.739Z"
   },
   {
    "duration": 20,
    "start_time": "2022-12-19T11:36:03.563Z"
   },
   {
    "duration": 18,
    "start_time": "2022-12-19T11:40:26.047Z"
   },
   {
    "duration": 519,
    "start_time": "2022-12-20T08:07:10.979Z"
   },
   {
    "duration": 20,
    "start_time": "2022-12-20T08:07:11.500Z"
   },
   {
    "duration": 28,
    "start_time": "2022-12-20T08:07:11.522Z"
   },
   {
    "duration": 21,
    "start_time": "2022-12-20T08:07:11.552Z"
   },
   {
    "duration": 49,
    "start_time": "2022-12-20T08:07:11.574Z"
   },
   {
    "duration": 3,
    "start_time": "2022-12-20T08:07:11.624Z"
   },
   {
    "duration": 32,
    "start_time": "2022-12-20T08:07:11.629Z"
   },
   {
    "duration": 25,
    "start_time": "2022-12-20T08:07:11.662Z"
   },
   {
    "duration": 10,
    "start_time": "2022-12-20T08:07:11.688Z"
   },
   {
    "duration": 7,
    "start_time": "2022-12-20T08:07:11.701Z"
   },
   {
    "duration": 32,
    "start_time": "2022-12-20T08:07:11.709Z"
   },
   {
    "duration": 9,
    "start_time": "2022-12-20T08:07:11.742Z"
   },
   {
    "duration": 5,
    "start_time": "2022-12-20T08:07:11.752Z"
   },
   {
    "duration": 21,
    "start_time": "2022-12-20T08:07:11.759Z"
   },
   {
    "duration": 26,
    "start_time": "2022-12-20T08:07:11.782Z"
   },
   {
    "duration": 17,
    "start_time": "2022-12-20T08:07:11.810Z"
   },
   {
    "duration": 4,
    "start_time": "2022-12-20T08:07:11.828Z"
   },
   {
    "duration": 12,
    "start_time": "2022-12-20T08:07:11.833Z"
   },
   {
    "duration": 9,
    "start_time": "2022-12-20T08:07:11.847Z"
   },
   {
    "duration": 23,
    "start_time": "2022-12-20T08:07:11.857Z"
   },
   {
    "duration": 39,
    "start_time": "2022-12-20T08:07:11.882Z"
   },
   {
    "duration": 31,
    "start_time": "2022-12-20T08:07:11.922Z"
   },
   {
    "duration": 17,
    "start_time": "2022-12-20T08:07:11.955Z"
   },
   {
    "duration": 18,
    "start_time": "2022-12-20T08:07:11.973Z"
   },
   {
    "duration": 15,
    "start_time": "2022-12-20T08:07:11.992Z"
   },
   {
    "duration": 17,
    "start_time": "2022-12-20T08:07:12.009Z"
   },
   {
    "duration": 16,
    "start_time": "2022-12-20T08:07:29.561Z"
   },
   {
    "duration": 70,
    "start_time": "2022-12-20T08:07:38.860Z"
   },
   {
    "duration": 14,
    "start_time": "2022-12-20T08:07:39.488Z"
   },
   {
    "duration": 13,
    "start_time": "2022-12-20T08:07:39.896Z"
   },
   {
    "duration": 9,
    "start_time": "2022-12-20T08:07:40.767Z"
   },
   {
    "duration": 40,
    "start_time": "2022-12-20T08:07:41.118Z"
   },
   {
    "duration": 3,
    "start_time": "2022-12-20T08:07:41.689Z"
   },
   {
    "duration": 7,
    "start_time": "2022-12-20T08:07:42.088Z"
   },
   {
    "duration": 5,
    "start_time": "2022-12-20T08:07:43.552Z"
   },
   {
    "duration": 6,
    "start_time": "2022-12-20T08:07:44.654Z"
   },
   {
    "duration": 4,
    "start_time": "2022-12-20T08:07:45.223Z"
   },
   {
    "duration": 32,
    "start_time": "2022-12-20T08:07:46.486Z"
   },
   {
    "duration": 13,
    "start_time": "2022-12-20T08:07:47.480Z"
   },
   {
    "duration": 3,
    "start_time": "2022-12-20T08:07:48.631Z"
   },
   {
    "duration": 10,
    "start_time": "2022-12-20T08:07:49.614Z"
   },
   {
    "duration": 19,
    "start_time": "2022-12-20T08:07:50.040Z"
   },
   {
    "duration": 16,
    "start_time": "2022-12-20T08:07:50.327Z"
   },
   {
    "duration": 3,
    "start_time": "2022-12-20T08:07:50.880Z"
   },
   {
    "duration": 9,
    "start_time": "2022-12-20T08:07:51.049Z"
   },
   {
    "duration": 7,
    "start_time": "2022-12-20T08:07:56.974Z"
   },
   {
    "duration": 4,
    "start_time": "2022-12-20T08:08:01.624Z"
   },
   {
    "duration": 8,
    "start_time": "2022-12-20T08:08:03.135Z"
   },
   {
    "duration": 15,
    "start_time": "2022-12-20T08:08:04.736Z"
   },
   {
    "duration": 18,
    "start_time": "2022-12-20T08:08:08.447Z"
   },
   {
    "duration": 16,
    "start_time": "2022-12-20T08:08:36.304Z"
   },
   {
    "duration": 70,
    "start_time": "2022-12-20T08:10:07.943Z"
   },
   {
    "duration": 318,
    "start_time": "2022-12-20T08:10:16.053Z"
   },
   {
    "duration": 15,
    "start_time": "2022-12-20T08:10:36.430Z"
   },
   {
    "duration": 14,
    "start_time": "2022-12-20T08:10:45.989Z"
   },
   {
    "duration": 14,
    "start_time": "2022-12-20T08:10:57.085Z"
   },
   {
    "duration": 15,
    "start_time": "2022-12-20T08:11:24.189Z"
   },
   {
    "duration": 15,
    "start_time": "2022-12-20T08:11:41.949Z"
   },
   {
    "duration": 880,
    "start_time": "2022-12-20T08:16:00.019Z"
   },
   {
    "duration": 9,
    "start_time": "2022-12-20T08:17:03.392Z"
   },
   {
    "duration": 10,
    "start_time": "2022-12-20T08:17:14.816Z"
   },
   {
    "duration": 13,
    "start_time": "2022-12-20T08:18:22.407Z"
   },
   {
    "duration": 105,
    "start_time": "2022-12-20T08:19:32.598Z"
   },
   {
    "duration": 22,
    "start_time": "2022-12-20T08:19:44.943Z"
   },
   {
    "duration": 131,
    "start_time": "2022-12-20T08:21:03.151Z"
   },
   {
    "duration": 13,
    "start_time": "2022-12-20T08:21:17.333Z"
   },
   {
    "duration": 11,
    "start_time": "2022-12-20T08:21:28.918Z"
   },
   {
    "duration": 241,
    "start_time": "2022-12-20T08:22:45.884Z"
   },
   {
    "duration": 350,
    "start_time": "2022-12-20T08:23:15.067Z"
   },
   {
    "duration": 13,
    "start_time": "2022-12-20T08:24:02.387Z"
   },
   {
    "duration": 11,
    "start_time": "2022-12-20T08:24:07.571Z"
   },
   {
    "duration": 22,
    "start_time": "2022-12-20T08:33:15.324Z"
   },
   {
    "duration": 14,
    "start_time": "2022-12-20T08:33:35.326Z"
   },
   {
    "duration": 19,
    "start_time": "2022-12-20T08:33:44.340Z"
   },
   {
    "duration": 331,
    "start_time": "2022-12-20T08:33:53.852Z"
   },
   {
    "duration": 17,
    "start_time": "2022-12-20T08:34:10.548Z"
   },
   {
    "duration": 16,
    "start_time": "2022-12-20T08:34:28.227Z"
   },
   {
    "duration": 12,
    "start_time": "2022-12-20T08:35:05.677Z"
   },
   {
    "duration": 346,
    "start_time": "2022-12-20T08:35:56.643Z"
   },
   {
    "duration": 11,
    "start_time": "2022-12-20T08:36:12.010Z"
   },
   {
    "duration": 333,
    "start_time": "2022-12-20T08:36:22.362Z"
   },
   {
    "duration": 13,
    "start_time": "2022-12-20T08:36:33.210Z"
   },
   {
    "duration": 12,
    "start_time": "2022-12-20T08:36:47.986Z"
   },
   {
    "duration": 13,
    "start_time": "2022-12-20T08:36:52.250Z"
   },
   {
    "duration": 10,
    "start_time": "2022-12-20T08:37:01.450Z"
   },
   {
    "duration": 13,
    "start_time": "2022-12-20T08:37:25.409Z"
   },
   {
    "duration": 13,
    "start_time": "2022-12-20T08:37:35.202Z"
   },
   {
    "duration": 12,
    "start_time": "2022-12-20T08:37:43.826Z"
   },
   {
    "duration": 11,
    "start_time": "2022-12-20T08:48:23.518Z"
   },
   {
    "duration": 13,
    "start_time": "2022-12-20T08:48:35.894Z"
   },
   {
    "duration": 15,
    "start_time": "2022-12-20T08:49:35.309Z"
   },
   {
    "duration": 11,
    "start_time": "2022-12-20T08:50:35.859Z"
   },
   {
    "duration": 12,
    "start_time": "2022-12-20T09:08:19.250Z"
   },
   {
    "duration": 55,
    "start_time": "2022-12-20T11:13:47.870Z"
   },
   {
    "duration": 6,
    "start_time": "2022-12-20T11:15:02.703Z"
   },
   {
    "duration": 480,
    "start_time": "2022-12-20T11:15:19.365Z"
   },
   {
    "duration": 22,
    "start_time": "2022-12-20T11:15:19.846Z"
   },
   {
    "duration": 15,
    "start_time": "2022-12-20T11:15:19.870Z"
   },
   {
    "duration": 20,
    "start_time": "2022-12-20T11:15:19.886Z"
   },
   {
    "duration": 33,
    "start_time": "2022-12-20T11:15:19.908Z"
   },
   {
    "duration": 3,
    "start_time": "2022-12-20T11:15:19.942Z"
   },
   {
    "duration": 10,
    "start_time": "2022-12-20T11:15:19.947Z"
   },
   {
    "duration": 4,
    "start_time": "2022-12-20T11:15:19.959Z"
   },
   {
    "duration": 10,
    "start_time": "2022-12-20T11:15:19.964Z"
   },
   {
    "duration": 4,
    "start_time": "2022-12-20T11:15:19.975Z"
   },
   {
    "duration": 34,
    "start_time": "2022-12-20T11:15:20.005Z"
   },
   {
    "duration": 10,
    "start_time": "2022-12-20T11:15:20.041Z"
   },
   {
    "duration": 10,
    "start_time": "2022-12-20T11:15:20.052Z"
   },
   {
    "duration": 13,
    "start_time": "2022-12-20T11:15:20.065Z"
   },
   {
    "duration": 36,
    "start_time": "2022-12-20T11:15:20.080Z"
   },
   {
    "duration": 16,
    "start_time": "2022-12-20T11:15:20.117Z"
   },
   {
    "duration": 5,
    "start_time": "2022-12-20T11:15:20.135Z"
   },
   {
    "duration": 23,
    "start_time": "2022-12-20T11:15:20.142Z"
   },
   {
    "duration": 9,
    "start_time": "2022-12-20T11:15:20.167Z"
   },
   {
    "duration": 20,
    "start_time": "2022-12-20T11:15:20.178Z"
   },
   {
    "duration": 34,
    "start_time": "2022-12-20T11:15:20.200Z"
   },
   {
    "duration": 37,
    "start_time": "2022-12-20T11:15:20.236Z"
   },
   {
    "duration": 8,
    "start_time": "2022-12-20T11:15:20.275Z"
   },
   {
    "duration": 31,
    "start_time": "2022-12-20T11:15:20.285Z"
   },
   {
    "duration": 16,
    "start_time": "2022-12-20T11:15:20.318Z"
   },
   {
    "duration": 16,
    "start_time": "2022-12-20T11:15:20.336Z"
   },
   {
    "duration": 10,
    "start_time": "2022-12-20T11:15:33.354Z"
   },
   {
    "duration": 13,
    "start_time": "2022-12-20T11:15:47.622Z"
   }
  ],
  "colab": {
   "name": "dpp_template_part2.ipynb",
   "provenance": []
  },
  "kernelspec": {
   "display_name": "Python 3 (ipykernel)",
   "language": "python",
   "name": "python3"
  },
  "language_info": {
   "codemirror_mode": {
    "name": "ipython",
    "version": 3
   },
   "file_extension": ".py",
   "mimetype": "text/x-python",
   "name": "python",
   "nbconvert_exporter": "python",
   "pygments_lexer": "ipython3",
   "version": "3.9.5"
  },
  "toc": {
   "base_numbering": 1,
   "nav_menu": {},
   "number_sections": true,
   "sideBar": true,
   "skip_h1_title": true,
   "title_cell": "Table of Contents",
   "title_sidebar": "Contents",
   "toc_cell": false,
   "toc_position": {},
   "toc_section_display": true,
   "toc_window_display": false
  }
 },
 "nbformat": 4,
 "nbformat_minor": 5
}
