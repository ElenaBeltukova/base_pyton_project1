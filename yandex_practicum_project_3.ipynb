{
 "cells": [
  {
   "cell_type": "markdown",
   "metadata": {},
   "source": [
    "<div style=\"border:solid green 3px; padding: 20px\">\n",
    "\n",
    "<b>Привет!</b>\n",
    "\n",
    "Меня зовут Сороколетов Илья и я буду проверять твой проект. \n",
    "\n",
    "Предлагаю общаться на «**ты**», но если тебе будет комфортнее общаться на «**вы**», то сообщи об этом в комментариях)\n",
    "\n",
    "\n",
    "Для твоего удобства, я буду выделять свои комментарии следующим образом:\n",
    "\n",
    "<div class=\"alert alert-danger\">\n",
    "<b>❌ Комментарий ревьюера v1:</b> Самые важные замечания. Они указывают на ключевые моменты, которые влияют на конечный результат проекта. </div>\n",
    "\n",
    "<div class=\"alert alert-warning\">\n",
    "<b>⚠️ Комментарий ревьюера v1:</b> Советы или замечания, которые помогут сделать твою работу лучше, но необязательны к выполнению.\n",
    "\n",
    "</div>\n",
    "\n",
    "<div class=\"alert alert-success\">\n",
    "<b>✔️ Комментарий ревьюера v1:</b> Так я выделяю все остальные комментарии.</div>\n",
    "\n",
    "\n",
    "Пометками <b>v1-v2-v3-...</b> я буду отмечать версию проверки. Так ты сможешь быстро найти мои новые комментарии.\n",
    "\n",
    "Давай работать над проектом в диалоге: если ты что-то меняешь в проекте по моим рекомендациям — пиши об этом. Выбери для своих комментариев какой-то заметный цвет, так мне будет легче отследить изменения, например вот так:\n",
    "    \n",
    "<div class=\"alert alert-info\">\n",
    "<b>Комментарий студента:</b>\n",
    "<br>\n",
    "</div>\n",
    "\n",
    "<b>Пожалуйста, не перемещай, не изменяй и не удаляй мои комментарии.</b> Если ты оставляешь свои комментарии, то делай это под моими, чтобы сообщения были расположены в хронологическом порядке. Всё это поможет выполнить повторную проверку твоего проекта быстрее. \n",
    "\n",
    "Перед отправкой работы я рекомендую нажимать Kernel -> Restart & Run All. Это перезапустит ядро и по очереди выполнит все ячейки. Так ты сможешь проверить, что всё работает корректно. Кнопка Kernel находится в панели сверху\n",
    "\n",
    "Обязательно задавай вопросы если они возникнут, а я перехожу к проверке)\n",
    "\n",
    "P.S. На всякий случай, я оставлю пустой шаблон для твоих комментариев ниже. Кликни два раза на мой комментарий, скопируй последние четыре строчки кода и вставляй их в пустую ячейку там, где ты хочешь оставить комментарий. Не забудь только перед этим сменить тип ячейки на Markdown. Быстро это можно сделать так: кликнуть на ячейку - нажать ESC - нажать M. \n",
    "    \n",
    "    \n",
    "<div class=\"alert alert-info\">\n",
    "<b>Комментарий студента:</b>\n",
    "<br>Удали этот текст и вместо него напиши свой комментарий 🙂\n",
    "</div>"
   ]
  },
  {
   "cell_type": "markdown",
   "metadata": {},
   "source": [
    "<div class=\"alert alert-danger\">\n",
    "<b>❌ Комментарий ревьюера:</b> \n",
    "<br>Перед отправкой проекта обязательно перезапускай ядро через Kernel -> Restart & Run All и проверяй, чтобы все ячейки отработали без ошибок. 43 ячейка сейчас падает с ошибкой. Поправь, пожалуйста, чтобы я смог проверить твой проект\n",
    "</div>\n"
   ]
  },
  {
   "cell_type": "markdown",
   "metadata": {},
   "source": [
    "# Исследование объявлений о продаже квартир\n",
    "\n",
    "В вашем распоряжении данные сервиса Яндекс.Недвижимость — архив объявлений о продаже квартир в Санкт-Петербурге и соседних населённых пунктов за несколько лет. Нужно научиться определять рыночную стоимость объектов недвижимости. Ваша задача — установить параметры. Это позволит построить автоматизированную систему: она отследит аномалии и мошенническую деятельность. \n",
    "\n",
    "По каждой квартире на продажу доступны два вида данных. Первые вписаны пользователем, вторые — получены автоматически на основе картографических данных. Например, расстояние до центра, аэропорта, ближайшего парка и водоёма. "
   ]
  },
  {
   "cell_type": "markdown",
   "metadata": {},
   "source": [
    "### Откройте файл с данными и изучите общую информацию. "
   ]
  },
  {
   "cell_type": "code",
   "execution_count": 1,
   "metadata": {},
   "outputs": [],
   "source": [
    "import pandas as pd"
   ]
  },
  {
   "cell_type": "code",
   "execution_count": 2,
   "metadata": {},
   "outputs": [],
   "source": [
    "pd.set_option('display.max_columns', None)"
   ]
  },
  {
   "cell_type": "code",
   "execution_count": 3,
   "metadata": {},
   "outputs": [
    {
     "name": "stdout",
     "output_type": "stream",
     "text": [
      "<class 'pandas.core.frame.DataFrame'>\n",
      "RangeIndex: 23699 entries, 0 to 23698\n",
      "Data columns (total 22 columns):\n",
      " #   Column                Non-Null Count  Dtype  \n",
      "---  ------                --------------  -----  \n",
      " 0   total_images          23699 non-null  int64  \n",
      " 1   last_price            23699 non-null  float64\n",
      " 2   total_area            23699 non-null  float64\n",
      " 3   first_day_exposition  23699 non-null  object \n",
      " 4   rooms                 23699 non-null  int64  \n",
      " 5   ceiling_height        14504 non-null  float64\n",
      " 6   floors_total          23613 non-null  float64\n",
      " 7   living_area           21796 non-null  float64\n",
      " 8   floor                 23699 non-null  int64  \n",
      " 9   is_apartment          2775 non-null   object \n",
      " 10  studio                23699 non-null  bool   \n",
      " 11  open_plan             23699 non-null  bool   \n",
      " 12  kitchen_area          21421 non-null  float64\n",
      " 13  balcony               12180 non-null  float64\n",
      " 14  locality_name         23650 non-null  object \n",
      " 15  airports_nearest      18157 non-null  float64\n",
      " 16  cityCenters_nearest   18180 non-null  float64\n",
      " 17  parks_around3000      18181 non-null  float64\n",
      " 18  parks_nearest         8079 non-null   float64\n",
      " 19  ponds_around3000      18181 non-null  float64\n",
      " 20  ponds_nearest         9110 non-null   float64\n",
      " 21  days_exposition       20518 non-null  float64\n",
      "dtypes: bool(2), float64(14), int64(3), object(3)\n",
      "memory usage: 3.7+ MB\n"
     ]
    },
    {
     "data": {
      "text/html": [
       "<div>\n",
       "<style scoped>\n",
       "    .dataframe tbody tr th:only-of-type {\n",
       "        vertical-align: middle;\n",
       "    }\n",
       "\n",
       "    .dataframe tbody tr th {\n",
       "        vertical-align: top;\n",
       "    }\n",
       "\n",
       "    .dataframe thead th {\n",
       "        text-align: right;\n",
       "    }\n",
       "</style>\n",
       "<table border=\"1\" class=\"dataframe\">\n",
       "  <thead>\n",
       "    <tr style=\"text-align: right;\">\n",
       "      <th></th>\n",
       "      <th>total_images</th>\n",
       "      <th>last_price</th>\n",
       "      <th>total_area</th>\n",
       "      <th>first_day_exposition</th>\n",
       "      <th>rooms</th>\n",
       "      <th>ceiling_height</th>\n",
       "      <th>floors_total</th>\n",
       "      <th>living_area</th>\n",
       "      <th>floor</th>\n",
       "      <th>is_apartment</th>\n",
       "      <th>studio</th>\n",
       "      <th>open_plan</th>\n",
       "      <th>kitchen_area</th>\n",
       "      <th>balcony</th>\n",
       "      <th>locality_name</th>\n",
       "      <th>airports_nearest</th>\n",
       "      <th>cityCenters_nearest</th>\n",
       "      <th>parks_around3000</th>\n",
       "      <th>parks_nearest</th>\n",
       "      <th>ponds_around3000</th>\n",
       "      <th>ponds_nearest</th>\n",
       "      <th>days_exposition</th>\n",
       "    </tr>\n",
       "  </thead>\n",
       "  <tbody>\n",
       "    <tr>\n",
       "      <th>0</th>\n",
       "      <td>20</td>\n",
       "      <td>13000000.0</td>\n",
       "      <td>108.0</td>\n",
       "      <td>2019-03-07T00:00:00</td>\n",
       "      <td>3</td>\n",
       "      <td>2.70</td>\n",
       "      <td>16.0</td>\n",
       "      <td>51.0</td>\n",
       "      <td>8</td>\n",
       "      <td>NaN</td>\n",
       "      <td>False</td>\n",
       "      <td>False</td>\n",
       "      <td>25.0</td>\n",
       "      <td>NaN</td>\n",
       "      <td>Санкт-Петербург</td>\n",
       "      <td>18863.0</td>\n",
       "      <td>16028.0</td>\n",
       "      <td>1.0</td>\n",
       "      <td>482.0</td>\n",
       "      <td>2.0</td>\n",
       "      <td>755.0</td>\n",
       "      <td>NaN</td>\n",
       "    </tr>\n",
       "    <tr>\n",
       "      <th>1</th>\n",
       "      <td>7</td>\n",
       "      <td>3350000.0</td>\n",
       "      <td>40.4</td>\n",
       "      <td>2018-12-04T00:00:00</td>\n",
       "      <td>1</td>\n",
       "      <td>NaN</td>\n",
       "      <td>11.0</td>\n",
       "      <td>18.6</td>\n",
       "      <td>1</td>\n",
       "      <td>NaN</td>\n",
       "      <td>False</td>\n",
       "      <td>False</td>\n",
       "      <td>11.0</td>\n",
       "      <td>2.0</td>\n",
       "      <td>посёлок Шушары</td>\n",
       "      <td>12817.0</td>\n",
       "      <td>18603.0</td>\n",
       "      <td>0.0</td>\n",
       "      <td>NaN</td>\n",
       "      <td>0.0</td>\n",
       "      <td>NaN</td>\n",
       "      <td>81.0</td>\n",
       "    </tr>\n",
       "    <tr>\n",
       "      <th>2</th>\n",
       "      <td>10</td>\n",
       "      <td>5196000.0</td>\n",
       "      <td>56.0</td>\n",
       "      <td>2015-08-20T00:00:00</td>\n",
       "      <td>2</td>\n",
       "      <td>NaN</td>\n",
       "      <td>5.0</td>\n",
       "      <td>34.3</td>\n",
       "      <td>4</td>\n",
       "      <td>NaN</td>\n",
       "      <td>False</td>\n",
       "      <td>False</td>\n",
       "      <td>8.3</td>\n",
       "      <td>0.0</td>\n",
       "      <td>Санкт-Петербург</td>\n",
       "      <td>21741.0</td>\n",
       "      <td>13933.0</td>\n",
       "      <td>1.0</td>\n",
       "      <td>90.0</td>\n",
       "      <td>2.0</td>\n",
       "      <td>574.0</td>\n",
       "      <td>558.0</td>\n",
       "    </tr>\n",
       "    <tr>\n",
       "      <th>3</th>\n",
       "      <td>0</td>\n",
       "      <td>64900000.0</td>\n",
       "      <td>159.0</td>\n",
       "      <td>2015-07-24T00:00:00</td>\n",
       "      <td>3</td>\n",
       "      <td>NaN</td>\n",
       "      <td>14.0</td>\n",
       "      <td>NaN</td>\n",
       "      <td>9</td>\n",
       "      <td>NaN</td>\n",
       "      <td>False</td>\n",
       "      <td>False</td>\n",
       "      <td>NaN</td>\n",
       "      <td>0.0</td>\n",
       "      <td>Санкт-Петербург</td>\n",
       "      <td>28098.0</td>\n",
       "      <td>6800.0</td>\n",
       "      <td>2.0</td>\n",
       "      <td>84.0</td>\n",
       "      <td>3.0</td>\n",
       "      <td>234.0</td>\n",
       "      <td>424.0</td>\n",
       "    </tr>\n",
       "    <tr>\n",
       "      <th>4</th>\n",
       "      <td>2</td>\n",
       "      <td>10000000.0</td>\n",
       "      <td>100.0</td>\n",
       "      <td>2018-06-19T00:00:00</td>\n",
       "      <td>2</td>\n",
       "      <td>3.03</td>\n",
       "      <td>14.0</td>\n",
       "      <td>32.0</td>\n",
       "      <td>13</td>\n",
       "      <td>NaN</td>\n",
       "      <td>False</td>\n",
       "      <td>False</td>\n",
       "      <td>41.0</td>\n",
       "      <td>NaN</td>\n",
       "      <td>Санкт-Петербург</td>\n",
       "      <td>31856.0</td>\n",
       "      <td>8098.0</td>\n",
       "      <td>2.0</td>\n",
       "      <td>112.0</td>\n",
       "      <td>1.0</td>\n",
       "      <td>48.0</td>\n",
       "      <td>121.0</td>\n",
       "    </tr>\n",
       "  </tbody>\n",
       "</table>\n",
       "</div>"
      ],
      "text/plain": [
       "   total_images  last_price  total_area first_day_exposition  rooms  \\\n",
       "0            20  13000000.0       108.0  2019-03-07T00:00:00      3   \n",
       "1             7   3350000.0        40.4  2018-12-04T00:00:00      1   \n",
       "2            10   5196000.0        56.0  2015-08-20T00:00:00      2   \n",
       "3             0  64900000.0       159.0  2015-07-24T00:00:00      3   \n",
       "4             2  10000000.0       100.0  2018-06-19T00:00:00      2   \n",
       "\n",
       "   ceiling_height  floors_total  living_area  floor is_apartment  studio  \\\n",
       "0            2.70          16.0         51.0      8          NaN   False   \n",
       "1             NaN          11.0         18.6      1          NaN   False   \n",
       "2             NaN           5.0         34.3      4          NaN   False   \n",
       "3             NaN          14.0          NaN      9          NaN   False   \n",
       "4            3.03          14.0         32.0     13          NaN   False   \n",
       "\n",
       "   open_plan  kitchen_area  balcony    locality_name  airports_nearest  \\\n",
       "0      False          25.0      NaN  Санкт-Петербург           18863.0   \n",
       "1      False          11.0      2.0   посёлок Шушары           12817.0   \n",
       "2      False           8.3      0.0  Санкт-Петербург           21741.0   \n",
       "3      False           NaN      0.0  Санкт-Петербург           28098.0   \n",
       "4      False          41.0      NaN  Санкт-Петербург           31856.0   \n",
       "\n",
       "   cityCenters_nearest  parks_around3000  parks_nearest  ponds_around3000  \\\n",
       "0              16028.0               1.0          482.0               2.0   \n",
       "1              18603.0               0.0            NaN               0.0   \n",
       "2              13933.0               1.0           90.0               2.0   \n",
       "3               6800.0               2.0           84.0               3.0   \n",
       "4               8098.0               2.0          112.0               1.0   \n",
       "\n",
       "   ponds_nearest  days_exposition  \n",
       "0          755.0              NaN  \n",
       "1            NaN             81.0  \n",
       "2          574.0            558.0  \n",
       "3          234.0            424.0  \n",
       "4           48.0            121.0  "
      ]
     },
     "execution_count": 3,
     "metadata": {},
     "output_type": "execute_result"
    }
   ],
   "source": [
    "df = pd.read_csv('/datasets/real_estate_data.csv', sep='\\t')\n",
    "df.info()\n",
    "df.head(5)"
   ]
  },
  {
   "cell_type": "markdown",
   "metadata": {},
   "source": [
    "<div class=\"alert alert-warning\">\n",
    "<b>⚠️ Комментарий ревьюера v1:</b> \n",
    "<br>Все библиотеки лучше импортировать отдельно в первой ячейке. Это позволит тебе в любой момент добавить ещё одну библиотеку без перезаписи переменных.\n",
    "</div>"
   ]
  },
  {
   "cell_type": "markdown",
   "metadata": {},
   "source": [
    "<div class=\"alert alert-warning\">\n",
    "<b>⚠️ Комментарий ревьюера v1:</b> \n",
    "<br>Обрати внимание, что часть столбцов заменилась на \"...\". Чтобы это исправить, нужно увеличить максимальное количество отображающихся столбцов командой\n",
    "\n",
    "\tpd.set_option('display.max_columns', None)\n",
    "</div>"
   ]
  },
  {
   "cell_type": "code",
   "execution_count": 4,
   "metadata": {},
   "outputs": [
    {
     "data": {
      "image/png": "[encoded data removed]",
      "text/plain": [
       "<Figure size 1080x1440 with 20 Axes>"
      ]
     },
     "metadata": {
      "needs_background": "light"
     },
     "output_type": "display_data"
    }
   ],
   "source": [
    "df.hist(figsize=(15, 20));"
   ]
  },
  {
   "cell_type": "markdown",
   "metadata": {},
   "source": [
    "<div class=\"alert alert-success\">\n",
    "<b>✔️ Комментарий ревьюера v1:</b> \n",
    "<br>Графики построено верно! \n",
    "</div>\n",
    "\t\t\n",
    "<div class=\"alert alert-warning\">\n",
    "<b>⚠️ Комментарий ревьюера v1:</b> \n",
    "<br>Если после кода вызывающего график добавить \";\", то мы избавимся от строчки над графиком)\n",
    "</div>"
   ]
  },
  {
   "cell_type": "markdown",
   "metadata": {},
   "source": [
    "<div class=\"alert alert-danger\">\n",
    "<b>❌ Комментарий ревьюера v1:</b> \n",
    "<br>Здесь необходимо написать короткий вывод о проблемах с данными (пропуски, дубликаты, неверный тип данных, странные значения и т.д.)\n",
    "</div>"
   ]
  },
  {
   "cell_type": "markdown",
   "metadata": {},
   "source": [
    "Исходя из графиков, можно сделать вывод, что данные имеют нормальное распределение. Выбивающихся значений нет или очень мало, тк они не заметны на гистограммах."
   ]
  },
  {
   "cell_type": "markdown",
   "metadata": {},
   "source": [
    "<div class=\"alert alert-success\">\n",
    "<b>✔️ Комментарий ревьюера v2:</b>\n",
    "<br>Правка выполнена 👍\n",
    "</div>"
   ]
  },
  {
   "cell_type": "markdown",
   "metadata": {},
   "source": [
    "### Предобработка данных"
   ]
  },
  {
   "cell_type": "markdown",
   "metadata": {},
   "source": [
    "#### 0   total_images   non-null  int64  - число фотографий квартиры в объявлении"
   ]
  },
  {
   "cell_type": "code",
   "execution_count": 5,
   "metadata": {},
   "outputs": [
    {
     "name": "stdout",
     "output_type": "stream",
     "text": [
      "0\n",
      "50\n"
     ]
    }
   ],
   "source": [
    "print(df['total_images'].min())\n",
    "print(df['total_images'].max())"
   ]
  },
  {
   "cell_type": "raw",
   "metadata": {},
   "source": [
    "Параметр total_images - \"число фотографий квартиры в объявлении\" имеет корректный тип данных int64, значения от 0 до 50, заполнены везде. Оставим без изменений."
   ]
  },
  {
   "cell_type": "markdown",
   "metadata": {},
   "source": [
    "#### 1   last_price  non-null  float64  -  цена на момент снятия с публикации"
   ]
  },
  {
   "cell_type": "code",
   "execution_count": 6,
   "metadata": {},
   "outputs": [
    {
     "name": "stdout",
     "output_type": "stream",
     "text": [
      "12190.0\n",
      "763000000.0\n"
     ]
    },
    {
     "data": {
      "text/plain": [
       "<AxesSubplot:>"
      ]
     },
     "execution_count": 6,
     "metadata": {},
     "output_type": "execute_result"
    },
    {
     "data": {
      "image/png": "[encoded data removed]",
      "text/plain": [
       "<Figure size 432x288 with 1 Axes>"
      ]
     },
     "metadata": {
      "needs_background": "light"
     },
     "output_type": "display_data"
    }
   ],
   "source": [
    "print(df['last_price'].min())\n",
    "print(df['last_price'].max())\n",
    "df['last_price'] = df['last_price'].astype('int')\n",
    "df['total_area'].hist(bins=20)"
   ]
  },
  {
   "cell_type": "markdown",
   "metadata": {},
   "source": [
    "Параметр last_price - \"цена на момент снятия с публикации\" имеет корректный тип float64, но преобразуем его в int, тк квартиры продаются без копеек. Стоимость заполнена везде, имеет большой разброс."
   ]
  },
  {
   "cell_type": "markdown",
   "metadata": {},
   "source": [
    "#### 2   total_area non-null  float64 - общая площадь квартиры в квадратных метрах (м²)"
   ]
  },
  {
   "cell_type": "code",
   "execution_count": 7,
   "metadata": {},
   "outputs": [
    {
     "data": {
      "text/plain": [
       "<AxesSubplot:>"
      ]
     },
     "execution_count": 7,
     "metadata": {},
     "output_type": "execute_result"
    },
    {
     "data": {
      "image/png": "[encoded data removed]",
      "text/plain": [
       "<Figure size 432x288 with 1 Axes>"
      ]
     },
     "metadata": {
      "needs_background": "light"
     },
     "output_type": "display_data"
    }
   ],
   "source": [
    "df.boxplot(column='total_area')\n"
   ]
  },
  {
   "cell_type": "code",
   "execution_count": 8,
   "metadata": {},
   "outputs": [
    {
     "name": "stdout",
     "output_type": "stream",
     "text": [
      "count    23699.000000\n",
      "mean        60.348651\n",
      "std         35.654083\n",
      "min         12.000000\n",
      "25%         40.000000\n",
      "50%         52.000000\n",
      "75%         69.900000\n",
      "max        900.000000\n",
      "Name: total_area, dtype: float64\n"
     ]
    },
    {
     "data": {
      "text/plain": [
       "<AxesSubplot:>"
      ]
     },
     "execution_count": 8,
     "metadata": {},
     "output_type": "execute_result"
    },
    {
     "data": {
      "image/png": "[encoded data removed]",
      "text/plain": [
       "<Figure size 432x288 with 1 Axes>"
      ]
     },
     "metadata": {
      "needs_background": "light"
     },
     "output_type": "display_data"
    }
   ],
   "source": [
    "print(df['total_area'].describe())\n",
    "df['total_area'].hist(range=(12, 900), bins=20)"
   ]
  },
  {
   "cell_type": "markdown",
   "metadata": {},
   "source": [
    "Параметр total_area - \"общая площадь квартиры в квадратных метрах (м²)\" имеет корректный тип float64. Данные заполнены везде. Основной объем квартир до 100 м² (12 - 69 м²), максимум 900 м². Возможно, квартиры больше 300 м² - это аномальные значения, а также очень редкие. Удалим такие квартиры, тк их слишком мало (61), чтобы по ним делать выводы о продаже. А также, скорее всего это не квартиры."
   ]
  },
  {
   "cell_type": "code",
   "execution_count": 9,
   "metadata": {
    "scrolled": true
   },
   "outputs": [],
   "source": [
    "#print(df[df['total_area']>300])\n",
    "rows = df[df['total_area']>300].index\n",
    "df = df.drop(rows)"
   ]
  },
  {
   "cell_type": "markdown",
   "metadata": {},
   "source": [
    "#### 3   first_day_exposition  non-null  object  - дата публикации"
   ]
  },
  {
   "cell_type": "markdown",
   "metadata": {},
   "source": [
    "Изменим тип столбца на Дату."
   ]
  },
  {
   "cell_type": "code",
   "execution_count": 10,
   "metadata": {},
   "outputs": [
    {
     "name": "stdout",
     "output_type": "stream",
     "text": [
      "2014-11-27 00:00:00\n",
      "2019-05-03 00:00:00\n"
     ]
    }
   ],
   "source": [
    "df['first_day_exposition'] = pd.to_datetime(df['first_day_exposition'])\n",
    "print(df['first_day_exposition'].min())\n",
    "print(df['first_day_exposition'].max())"
   ]
  },
  {
   "cell_type": "markdown",
   "metadata": {},
   "source": [
    "#### 4   rooms   non-null  int64  - число комнат"
   ]
  },
  {
   "cell_type": "code",
   "execution_count": 11,
   "metadata": {
    "scrolled": true
   },
   "outputs": [
    {
     "name": "stdout",
     "output_type": "stream",
     "text": [
      "1     8046\n",
      "2     7940\n",
      "3     5813\n",
      "4     1175\n",
      "5      310\n",
      "0      196\n",
      "6       96\n",
      "7       43\n",
      "8        8\n",
      "9        4\n",
      "10       3\n",
      "11       2\n",
      "16       1\n",
      "14       1\n",
      "Name: rooms, dtype: int64\n"
     ]
    }
   ],
   "source": [
    "print(df['rooms'].value_counts())"
   ]
  },
  {
   "cell_type": "markdown",
   "metadata": {},
   "source": [
    "Так как мы рассматриваем объявления о продаже квартир, то количество комнат 0 или больше 5 посчитаем аномальным и удалим лишние данные."
   ]
  },
  {
   "cell_type": "code",
   "execution_count": 12,
   "metadata": {
    "scrolled": true
   },
   "outputs": [],
   "source": [
    "rows = df[(df['rooms']>5) | (df['rooms']==0)].index\n",
    "df = df.drop(rows)"
   ]
  },
  {
   "cell_type": "markdown",
   "metadata": {},
   "source": [
    "#### 5 ceiling_height -  высота потолков (м) "
   ]
  },
  {
   "cell_type": "code",
   "execution_count": 13,
   "metadata": {},
   "outputs": [
    {
     "name": "stdout",
     "output_type": "stream",
     "text": [
      "2.50    3511\n",
      "2.60    1635\n",
      "2.70    1548\n",
      "3.00    1090\n",
      "2.55     978\n",
      "2.80     976\n",
      "2.75     896\n",
      "2.65     672\n",
      "3.20     264\n",
      "3.10     197\n",
      "2.90     159\n",
      "2.56     139\n",
      "3.30     131\n",
      "3.50     113\n",
      "2.57     102\n",
      "Name: ceiling_height, dtype: int64\n",
      "1.0\n",
      "100.0\n"
     ]
    },
    {
     "data": {
      "text/plain": [
       "<AxesSubplot:>"
      ]
     },
     "execution_count": 13,
     "metadata": {},
     "output_type": "execute_result"
    },
    {
     "data": {
      "image/png": "[encoded data removed]",
      "text/plain": [
       "<Figure size 432x288 with 1 Axes>"
      ]
     },
     "metadata": {
      "needs_background": "light"
     },
     "output_type": "display_data"
    }
   ],
   "source": [
    "print(df['ceiling_height'].value_counts().head(15))\n",
    "print(df['ceiling_height'].min())\n",
    "print(df['ceiling_height'].max())\n",
    "df['ceiling_height'].hist(range=(1, 10), bins=20)"
   ]
  },
  {
   "cell_type": "code",
   "execution_count": null,
   "metadata": {},
   "outputs": [],
   "source": []
  },
  {
   "cell_type": "markdown",
   "metadata": {},
   "source": [
    "Примем нормальную высоту потолков - от 2.4 метров до 4 метров. Посмотрим сколько строк укладывается в \"норму\" и сколько нет"
   ]
  },
  {
   "cell_type": "code",
   "execution_count": 14,
   "metadata": {},
   "outputs": [
    {
     "name": "stdout",
     "output_type": "stream",
     "text": [
      "14181\n",
      "85\n",
      "2.00     11\n",
      "4.20      9\n",
      "25.00     7\n",
      "27.00     7\n",
      "4.50      5\n",
      "2.30      4\n",
      "4.10      3\n",
      "8.00      3\n",
      "4.40      2\n",
      "32.00     2\n",
      "4.70      2\n",
      "4.19      2\n",
      "2.34      1\n",
      "20.00     1\n",
      "4.30      1\n",
      "Name: ceiling_height, dtype: int64\n"
     ]
    }
   ],
   "source": [
    "print(len(df.query('ceiling_height>=2.4 & ceiling_height<=4')))\n",
    "print(len(df.query('ceiling_height<2.4 | ceiling_height>4')))\n",
    "print(df.query('ceiling_height<2.4 | ceiling_height>4')['ceiling_height'].value_counts().head(15))"
   ]
  },
  {
   "cell_type": "markdown",
   "metadata": {},
   "source": [
    "Видим, что квартир с высотой потолков больше 4 метров и меньше 2.4 метров 85 штук. Также видим, что есть квартиры с высотой потолков 25, 27 и 32. Скорее всего в данном случае забыли поставить точку. Такие значения разделим на 10."
   ]
  },
  {
   "cell_type": "code",
   "execution_count": 15,
   "metadata": {},
   "outputs": [
    {
     "name": "stdout",
     "output_type": "stream",
     "text": [
      "66\n"
     ]
    }
   ],
   "source": [
    "df['ceiling_height'] = df['ceiling_height']. \\\n",
    "    where((df['ceiling_height']<24) | (df['ceiling_height']>33), df['ceiling_height']/10)\n",
    "\n",
    "print(len(df.query('ceiling_height<2.4 | ceiling_height>4')))"
   ]
  },
  {
   "cell_type": "markdown",
   "metadata": {},
   "source": [
    "Осталось 66 некорректных значений. Все-таки будем считать значения больше 4 метров и меньше 2.4 метров некорректными, тк мы рассматриваем квартиры, а не подвальные помещения (с очень низкими потолками) или торговые центры (там потолки могут быть очень высокими).\n",
    "Остальные значания сделаем равными -1."
   ]
  },
  {
   "cell_type": "code",
   "execution_count": 16,
   "metadata": {},
   "outputs": [],
   "source": [
    "df['ceiling_height'].fillna(df['ceiling_height'].median())\n",
    "df['ceiling_height'] = df['ceiling_height']. \\\n",
    "    where((df['ceiling_height']>2.4) & (df['ceiling_height']<4), -1)\n"
   ]
  },
  {
   "cell_type": "markdown",
   "metadata": {},
   "source": [
    "<div class=\"alert alert-success\">\n",
    "<b>✔️ Комментарий ревьюера v1:</b> \n",
    "<br>Хороший способ)\n",
    "</div>"
   ]
  },
  {
   "cell_type": "markdown",
   "metadata": {},
   "source": [
    "#### 6 floors_total  -  всего этажей в доме"
   ]
  },
  {
   "cell_type": "code",
   "execution_count": 17,
   "metadata": {
    "scrolled": false
   },
   "outputs": [
    {
     "name": "stdout",
     "output_type": "stream",
     "text": [
      "1.0       25\n",
      "2.0      374\n",
      "3.0      648\n",
      "4.0     1167\n",
      "5.0     5714\n",
      "6.0      862\n",
      "7.0      569\n",
      "8.0      379\n",
      "9.0     3745\n",
      "10.0    1167\n",
      "11.0     200\n",
      "12.0    1352\n",
      "13.0     228\n",
      "14.0     545\n",
      "15.0     358\n",
      "16.0    1354\n",
      "17.0     815\n",
      "18.0     491\n",
      "19.0     330\n",
      "20.0     263\n",
      "21.0     151\n",
      "22.0     282\n",
      "23.0     346\n",
      "24.0     454\n",
      "25.0    1047\n",
      "26.0     122\n",
      "27.0     162\n",
      "28.0      21\n",
      "29.0       1\n",
      "33.0       1\n",
      "34.0       1\n",
      "35.0      22\n",
      "36.0       3\n",
      "37.0       1\n",
      "52.0       1\n",
      "60.0       1\n",
      "Name: floors_total, dtype: int64\n"
     ]
    }
   ],
   "source": [
    "print(df['floors_total'].value_counts().sort_index())"
   ]
  },
  {
   "cell_type": "code",
   "execution_count": 18,
   "metadata": {},
   "outputs": [
    {
     "data": {
      "text/plain": [
       "82"
      ]
     },
     "execution_count": 18,
     "metadata": {},
     "output_type": "execute_result"
    }
   ],
   "source": [
    "len(df[df['floors_total'].isna()])"
   ]
  },
  {
   "cell_type": "markdown",
   "metadata": {},
   "source": [
    "82 квартир, в которых не указана этажность дома. Оставим пока как есть, тк этажность по-умолчанию определить невозможно. \n",
    "Этажи остальных квартир с 1 по 60. Похоже на верные значения."
   ]
  },
  {
   "cell_type": "markdown",
   "metadata": {},
   "source": [
    "#### 7 living_area -  жилая площадь в квадратных метрах (м²) "
   ]
  },
  {
   "cell_type": "code",
   "execution_count": 19,
   "metadata": {},
   "outputs": [
    {
     "name": "stdout",
     "output_type": "stream",
     "text": [
      "250.0\n",
      "2.0\n"
     ]
    },
    {
     "data": {
      "text/plain": [
       "23"
      ]
     },
     "execution_count": 19,
     "metadata": {},
     "output_type": "execute_result"
    }
   ],
   "source": [
    "print(df['living_area'].max())\n",
    "print(df['living_area'].min())\n",
    "len(df[df['living_area']<10])"
   ]
  },
  {
   "cell_type": "code",
   "execution_count": 20,
   "metadata": {},
   "outputs": [
    {
     "data": {
      "text/plain": [
       "0.9239300640761341"
      ]
     },
     "execution_count": 20,
     "metadata": {},
     "output_type": "execute_result"
    }
   ],
   "source": [
    "df[df['total_area'].isna() & df['living_area'].isna()]\n",
    "df['total_area'].corr(df['living_area'])"
   ]
  },
  {
   "cell_type": "markdown",
   "metadata": {},
   "source": [
    "Жилая площадь меньше 10 метров очень неправдоподобна. Также видим сильную связь между общей и жилой площадью."
   ]
  },
  {
   "cell_type": "markdown",
   "metadata": {},
   "source": [
    "#### 8   floor int64 - этаж"
   ]
  },
  {
   "cell_type": "code",
   "execution_count": 21,
   "metadata": {},
   "outputs": [
    {
     "name": "stdout",
     "output_type": "stream",
     "text": [
      "33\n",
      "1\n",
      "0\n"
     ]
    }
   ],
   "source": [
    "print(df['floor'].max())\n",
    "print(df['floor'].min())\n",
    "print(len(df[df['floor']>df['floors_total']]))"
   ]
  },
  {
   "cell_type": "markdown",
   "metadata": {},
   "source": [
    "С этажами все хорошо. Нет таких квартр, где номер этажа больше количества этажей в доме."
   ]
  },
  {
   "cell_type": "markdown",
   "metadata": {},
   "source": [
    "#### 9   is_apartment  object  -  апартаменты (булев тип)"
   ]
  },
  {
   "cell_type": "markdown",
   "metadata": {},
   "source": [
    "Аппартаменты - это булев тип, поэтому меняем тип на bool"
   ]
  },
  {
   "cell_type": "code",
   "execution_count": 22,
   "metadata": {},
   "outputs": [
    {
     "name": "stdout",
     "output_type": "stream",
     "text": [
      "True     20579\n",
      "False     2705\n",
      "Name: is_apartment, dtype: int64\n"
     ]
    }
   ],
   "source": [
    "df['is_apartment'] = df['is_apartment'].astype('bool')\n",
    "print(df['is_apartment'].value_counts())"
   ]
  },
  {
   "cell_type": "markdown",
   "metadata": {},
   "source": [
    "#### 10  studio  bool - квартира-студия (булев тип)"
   ]
  },
  {
   "cell_type": "code",
   "execution_count": 23,
   "metadata": {},
   "outputs": [
    {
     "name": "stdout",
     "output_type": "stream",
     "text": [
      "False    23273\n",
      "True        11\n",
      "Name: studio, dtype: int64\n"
     ]
    }
   ],
   "source": [
    "print(df['studio'].value_counts())"
   ]
  },
  {
   "cell_type": "markdown",
   "metadata": {},
   "source": [
    "#### 11  open_plan  bool - свободная планировка (булев тип)"
   ]
  },
  {
   "cell_type": "code",
   "execution_count": 24,
   "metadata": {},
   "outputs": [
    {
     "name": "stdout",
     "output_type": "stream",
     "text": [
      "False    23276\n",
      "True         8\n",
      "Name: open_plan, dtype: int64\n"
     ]
    }
   ],
   "source": [
    "print(df['open_plan'].value_counts())"
   ]
  },
  {
   "cell_type": "markdown",
   "metadata": {},
   "source": [
    "#### 12  kitchen_area  float64 - площадь кухни в квадратных метрах (м²)"
   ]
  },
  {
   "cell_type": "code",
   "execution_count": 25,
   "metadata": {},
   "outputs": [
    {
     "name": "stdout",
     "output_type": "stream",
     "text": [
      "107.0\n",
      "1.3\n",
      "64\n",
      "10\n"
     ]
    },
    {
     "data": {
      "image/png": "[encoded data removed]",
      "text/plain": [
       "<Figure size 432x288 with 1 Axes>"
      ]
     },
     "metadata": {
      "needs_background": "light"
     },
     "output_type": "display_data"
    }
   ],
   "source": [
    "print(df['kitchen_area'].max())\n",
    "print(df['kitchen_area'].min())\n",
    "df['kitchen_area'].hist(range=(0, 50), bins=20)\n",
    "print(len(df.query('kitchen_area<5 & total_area>30')[['total_area', 'kitchen_area', 'studio']].sort_values('kitchen_area')))\n",
    "print(len(df.query('kitchen_area>30  & total_area<65')[['total_area', 'kitchen_area', 'studio']].sort_values('kitchen_area')))"
   ]
  },
  {
   "cell_type": "markdown",
   "metadata": {},
   "source": [
    "Размер кухни от 1.3 до 112.0 м². Больше всего кухонь от 5 метров. Рассмотрим кухни меньше 5 метров при общей площади больше 30 метров, а также кухни больше 30 метров при общей площади меньше 65. Таких выбивающихся значений 64+10 не так много, оставим их."
   ]
  },
  {
   "cell_type": "markdown",
   "metadata": {},
   "source": [
    "#### 13  balcony  float64 - число балконов"
   ]
  },
  {
   "cell_type": "markdown",
   "metadata": {},
   "source": [
    "Количество балконов - целое число, необходимо изменить тип даных на int. Отсутствующие значения заменим 0. А также значения больше трех заменим на 0, тк 4 или 5 балконов не встречаются."
   ]
  },
  {
   "cell_type": "code",
   "execution_count": 26,
   "metadata": {},
   "outputs": [
    {
     "name": "stdout",
     "output_type": "stream",
     "text": [
      "0    15507\n",
      "1     4130\n",
      "2     3568\n",
      "3       79\n",
      "Name: balcony, dtype: int64\n"
     ]
    }
   ],
   "source": [
    "df['balcony'] = df['balcony'].fillna(0)\n",
    "df['balcony'] = df['balcony'].astype('int')\n",
    "df['balcony'] = df['balcony'].where(df['balcony']<=3, 0)\n",
    "print(df['balcony'].value_counts())"
   ]
  },
  {
   "cell_type": "markdown",
   "metadata": {},
   "source": [
    "#### 14  locality_name  object -  название населённого пункта"
   ]
  },
  {
   "cell_type": "markdown",
   "metadata": {},
   "source": [
    "Можно заметить, что в названиях встречаются Е и Ё. Необходимо заменить тип на str, для корректной работы функции replace."
   ]
  },
  {
   "cell_type": "code",
   "execution_count": 27,
   "metadata": {},
   "outputs": [
    {
     "name": "stdout",
     "output_type": "stream",
     "text": [
      "Санкт-Петербург                     15402\n",
      "поселок Мурино                        529\n",
      "поселок Шушары                        436\n",
      "Всеволожск                            392\n",
      "Пушкин                                366\n",
      "                                    ...  \n",
      "деревня Раздолье                        1\n",
      "поселок Левашово                        1\n",
      "садовое товарищество Новая Ропша        1\n",
      "поселок Рабитицы                        1\n",
      "деревня Русско                          1\n",
      "Name: locality_name, Length: 329, dtype: int64\n"
     ]
    }
   ],
   "source": [
    "df['locality_name'] = df['locality_name'].astype('str')\n",
    "#df['locality_name'] = df['locality_name'].str.lower()\n",
    "df['locality_name'] = df['locality_name'].apply(lambda x: x.replace('ё', 'е'))\n",
    "df.loc[df['locality_name']=='nan', 'locality_name'] = 'Другой'\n",
    "df['locality_name'].fillna('Другой')\n",
    "print(df['locality_name'].value_counts())\n",
    "#print(df['locality_name'].unique())"
   ]
  },
  {
   "cell_type": "markdown",
   "metadata": {},
   "source": [
    "<div class=\"alert alert-success\">\n",
    "<b>✔️ Комментарий ревьюера v1:</b> \n",
    "<br>Супер! Здесь всё верно)\n",
    "</div>"
   ]
  },
  {
   "cell_type": "markdown",
   "metadata": {},
   "source": [
    "#### 16  cityCenters_nearest  float64 - расстояние до центра города (м)"
   ]
  },
  {
   "cell_type": "markdown",
   "metadata": {},
   "source": [
    "Название столбца нужно переименовать, тк не соответствует змеиной нотации."
   ]
  },
  {
   "cell_type": "code",
   "execution_count": 28,
   "metadata": {},
   "outputs": [],
   "source": [
    "df.rename(columns={'cityCenters_nearest':'city_сenters_nearest'}, inplace=True)"
   ]
  },
  {
   "cell_type": "markdown",
   "metadata": {},
   "source": [
    "<div class=\"alert alert-success\">\n",
    "<b>✔️ Комментарий ревьюера v1:</b> \n",
    "<br>Молодец! Так датафрейм будет более аккуратным\n",
    "</div>"
   ]
  },
  {
   "cell_type": "markdown",
   "metadata": {},
   "source": [
    "#### 21  days_exposition  float64 - сколько дней было размещено объявление"
   ]
  },
  {
   "cell_type": "markdown",
   "metadata": {},
   "source": [
    "Количество дней - это целое число, необходимо изменить тип столбца, а перед этим заполнить пустые значения на -1, чтобы отличить их от остальных(и пометить как обработанные). Пустые значения могут быть в случае, если квартира все еще продается"
   ]
  },
  {
   "cell_type": "code",
   "execution_count": 29,
   "metadata": {},
   "outputs": [
    {
     "data": {
      "text/plain": [
       "count    20180.000000\n",
       "mean       180.697027\n",
       "std        219.328527\n",
       "min          1.000000\n",
       "25%         45.000000\n",
       "50%         95.500000\n",
       "75%        231.000000\n",
       "max       1580.000000\n",
       "Name: days_exposition, dtype: float64"
      ]
     },
     "execution_count": 29,
     "metadata": {},
     "output_type": "execute_result"
    }
   ],
   "source": [
    "df['days_exposition'] = df['days_exposition'].fillna(-1)\n",
    "df['days_exposition'] = df['days_exposition'].astype('int')\n",
    "df[df['days_exposition']>0]['days_exposition'].describe()"
   ]
  },
  {
   "cell_type": "markdown",
   "metadata": {},
   "source": [
    "<div class=\"alert alert-warning\">\n",
    "<b>⚠️ Комментарий ревьюера v1:</b> \n",
    "<br>Можно изменить тип данных без замены пропусков следующим образом\n",
    "    \n",
    "    import numpy as np\n",
    "    df['col'] = np.floor(pd.to_numeric(df['col'], errors='coerce')).astype('Int64')\n",
    "</div>"
   ]
  },
  {
   "cell_type": "markdown",
   "metadata": {},
   "source": [
    "<div class=\"alert alert-success\">\n",
    "<b>✔️ Комментарий ревьюера v1:</b> \n",
    "<br>Отличная работа! Ты верно заполнила пропуски, поработал с типами данных, а также отбросил аномальные значения\n",
    "</div>"
   ]
  },
  {
   "cell_type": "markdown",
   "metadata": {},
   "source": [
    "### Посчитайте и добавьте в таблицу новые столбцы"
   ]
  },
  {
   "cell_type": "markdown",
   "metadata": {},
   "source": [
    "#### цена одного квадратного метра;"
   ]
  },
  {
   "cell_type": "code",
   "execution_count": 30,
   "metadata": {},
   "outputs": [],
   "source": [
    "df['price_metr'] = df['last_price'] / df['total_area']"
   ]
  },
  {
   "cell_type": "markdown",
   "metadata": {},
   "source": [
    "#### день недели публикации объявления (0 — понедельник, 1 — вторник и так далее);"
   ]
  },
  {
   "cell_type": "code",
   "execution_count": 31,
   "metadata": {},
   "outputs": [],
   "source": [
    "df['day_of_week'] = df['first_day_exposition'].apply(lambda x: x.dayofweek)"
   ]
  },
  {
   "cell_type": "markdown",
   "metadata": {},
   "source": [
    "#### месяц публикации объявления;"
   ]
  },
  {
   "cell_type": "code",
   "execution_count": 32,
   "metadata": {},
   "outputs": [],
   "source": [
    "df['month'] = df['first_day_exposition'].apply(lambda x: x.month)"
   ]
  },
  {
   "cell_type": "markdown",
   "metadata": {},
   "source": [
    "####  год публикации объявления;"
   ]
  },
  {
   "cell_type": "code",
   "execution_count": 33,
   "metadata": {},
   "outputs": [],
   "source": [
    "df['year'] = df['first_day_exposition'].apply(lambda x: x.year)"
   ]
  },
  {
   "cell_type": "markdown",
   "metadata": {},
   "source": [
    "#### тип этажа квартиры (значения — «‎первый», «последний», «другой»);"
   ]
  },
  {
   "cell_type": "code",
   "execution_count": 34,
   "metadata": {},
   "outputs": [],
   "source": [
    "def get_floor_type(floor, floors_total):\n",
    "    if floor==1:\n",
    "        return 'первый'\n",
    "    elif floor==floors_total:\n",
    "        return 'последний'\n",
    "    else:\n",
    "        return 'другой'\n",
    "\n",
    "df['floor_type'] = df.apply(lambda x: get_floor_type(x['floor'], x['floors_total']), axis=1)"
   ]
  },
  {
   "cell_type": "markdown",
   "metadata": {},
   "source": [
    "#### расстояние до центра города в километрах (переведите из м в км и округлите до целых значений)."
   ]
  },
  {
   "cell_type": "code",
   "execution_count": 35,
   "metadata": {},
   "outputs": [],
   "source": [
    "df['city_km_nearest'] = (df['city_сenters_nearest']/1000).round().fillna(-1)\n",
    "df['city_km_nearest'] = df['city_km_nearest'].astype('int')"
   ]
  },
  {
   "cell_type": "markdown",
   "metadata": {},
   "source": [
    "<div class=\"alert alert-success\">\n",
    "<b>✔️ Комментарий ревьюера v1:</b> \n",
    "<br>Все необходимые колонки добавлены. Идём дальше)\n",
    "</div>"
   ]
  },
  {
   "cell_type": "markdown",
   "metadata": {},
   "source": [
    "### Проведите исследовательский анализ данных"
   ]
  },
  {
   "cell_type": "markdown",
   "metadata": {},
   "source": [
    "Изучите следующие параметры объектов"
   ]
  },
  {
   "cell_type": "markdown",
   "metadata": {},
   "source": [
    "#### общая площадь"
   ]
  },
  {
   "cell_type": "code",
   "execution_count": 36,
   "metadata": {},
   "outputs": [
    {
     "data": {
      "text/plain": [
       "count    23284.000000\n",
       "mean        58.806964\n",
       "std         28.219240\n",
       "min         12.000000\n",
       "25%         40.000000\n",
       "50%         52.000000\n",
       "75%         69.000000\n",
       "max        295.000000\n",
       "Name: total_area, dtype: float64"
      ]
     },
     "execution_count": 36,
     "metadata": {},
     "output_type": "execute_result"
    },
    {
     "data": {
      "image/png": "[encoded data removed]",
      "text/plain": [
       "<Figure size 432x288 with 1 Axes>"
      ]
     },
     "metadata": {
      "needs_background": "light"
     },
     "output_type": "display_data"
    }
   ],
   "source": [
    "df['total_area'].hist(bins=20)\n",
    "df['total_area'].describe()"
   ]
  },
  {
   "cell_type": "markdown",
   "metadata": {},
   "source": [
    "Средняя площадь продаваемых квартир 58 м² (медиана 52 м²), минимальная площадь 12 м², максимальная 295 м² (в исходных данных была квартира 900 м², но все квартиры больше 300 м² были удалены как выбивающиеся значения)"
   ]
  },
  {
   "cell_type": "markdown",
   "metadata": {},
   "source": [
    "#### жилая площадь"
   ]
  },
  {
   "cell_type": "code",
   "execution_count": 37,
   "metadata": {},
   "outputs": [
    {
     "data": {
      "text/plain": [
       "count    21415.000000\n",
       "mean        33.481991\n",
       "std         17.959358\n",
       "min          2.000000\n",
       "25%         18.600000\n",
       "50%         30.000000\n",
       "75%         42.000000\n",
       "max        250.000000\n",
       "Name: living_area, dtype: float64"
      ]
     },
     "execution_count": 37,
     "metadata": {},
     "output_type": "execute_result"
    },
    {
     "data": {
      "image/png": "[encoded data removed]",
      "text/plain": [
       "<Figure size 432x288 with 1 Axes>"
      ]
     },
     "metadata": {
      "needs_background": "light"
     },
     "output_type": "display_data"
    }
   ],
   "source": [
    "df['living_area'].hist(bins=20)\n",
    "df['living_area'].describe()"
   ]
  },
  {
   "cell_type": "code",
   "execution_count": 38,
   "metadata": {},
   "outputs": [
    {
     "data": {
      "text/plain": [
       "<AxesSubplot:>"
      ]
     },
     "execution_count": 38,
     "metadata": {},
     "output_type": "execute_result"
    },
    {
     "data": {
      "image/png": "[encoded data removed]",
      "text/plain": [
       "<Figure size 432x288 with 1 Axes>"
      ]
     },
     "metadata": {
      "needs_background": "light"
     },
     "output_type": "display_data"
    }
   ],
   "source": [
    "df.boxplot(column='living_area')"
   ]
  },
  {
   "cell_type": "markdown",
   "metadata": {},
   "source": [
    "Средняя жилая площадь продаваемых квартир 33м² (медиана 30 м²). Минимальная площадь 2 м² - это выбивающееся значение."
   ]
  },
  {
   "cell_type": "markdown",
   "metadata": {},
   "source": [
    "#### площадь кухни"
   ]
  },
  {
   "cell_type": "code",
   "execution_count": 39,
   "metadata": {},
   "outputs": [
    {
     "data": {
      "text/plain": [
       "count    21229.000000\n",
       "mean        10.447941\n",
       "std          5.613517\n",
       "min          1.300000\n",
       "25%          7.000000\n",
       "50%          9.000000\n",
       "75%         12.000000\n",
       "max        107.000000\n",
       "Name: kitchen_area, dtype: float64"
      ]
     },
     "execution_count": 39,
     "metadata": {},
     "output_type": "execute_result"
    },
    {
     "data": {
      "image/png": "[encoded data removed]",
      "text/plain": [
       "<Figure size 432x288 with 1 Axes>"
      ]
     },
     "metadata": {
      "needs_background": "light"
     },
     "output_type": "display_data"
    }
   ],
   "source": [
    "df['kitchen_area'].hist(bins=20)\n",
    "df['kitchen_area'].describe()"
   ]
  },
  {
   "cell_type": "code",
   "execution_count": 40,
   "metadata": {},
   "outputs": [
    {
     "data": {
      "text/plain": [
       "<AxesSubplot:>"
      ]
     },
     "execution_count": 40,
     "metadata": {},
     "output_type": "execute_result"
    },
    {
     "data": {
      "image/png": "[encoded data removed]",
      "text/plain": [
       "<Figure size 432x288 with 1 Axes>"
      ]
     },
     "metadata": {
      "needs_background": "light"
     },
     "output_type": "display_data"
    }
   ],
   "source": [
    "df['kitchen_area'].plot(kind='box', ylim=(1, 107))"
   ]
  },
  {
   "cell_type": "markdown",
   "metadata": {},
   "source": [
    "Средняя площадь кухни 10 м² (медиана 9 м²). Но есть и кухня площадью 107 м² . Также есть и очень маленькие кухни, которые выбиваются."
   ]
  },
  {
   "cell_type": "markdown",
   "metadata": {},
   "source": [
    "#### цена объекта"
   ]
  },
  {
   "cell_type": "code",
   "execution_count": 41,
   "metadata": {},
   "outputs": [
    {
     "data": {
      "text/plain": [
       "count    23284.000000\n",
       "mean         6.195074\n",
       "std          7.296687\n",
       "min          0.012190\n",
       "25%          3.450000\n",
       "50%          4.630000\n",
       "75%          6.700000\n",
       "max        330.000000\n",
       "Name: last_price_mln, dtype: float64"
      ]
     },
     "execution_count": 41,
     "metadata": {},
     "output_type": "execute_result"
    },
    {
     "data": {
      "image/png": "[encoded data removed]",
      "text/plain": [
       "<Figure size 432x288 with 1 Axes>"
      ]
     },
     "metadata": {
      "needs_background": "light"
     },
     "output_type": "display_data"
    }
   ],
   "source": [
    "df['last_price_mln'] = df['last_price']/1000000\n",
    "df['last_price_mln'].hist(bins=20, range=(0.5, 15))\n",
    "df['last_price_mln'].describe()"
   ]
  },
  {
   "cell_type": "markdown",
   "metadata": {},
   "source": [
    "<div class=\"alert alert-warning\">\n",
    "<b>⚠️ Комментарий ревьюера v1:</b> \n",
    "<br>Тут можно разделить все значения в столбце last_price на 1 млн, чтобы они пришли в более понятный вид)\n",
    "</div>"
   ]
  },
  {
   "cell_type": "markdown",
   "metadata": {},
   "source": [
    "Средняя стоимость квартиры 6,19 млн (медиана 4,63 млн). Есть очень дорогие и очень дешевые квартиры."
   ]
  },
  {
   "cell_type": "markdown",
   "metadata": {},
   "source": [
    "#### количество комнат"
   ]
  },
  {
   "cell_type": "code",
   "execution_count": 42,
   "metadata": {},
   "outputs": [
    {
     "data": {
      "text/plain": [
       "count    23284.000000\n",
       "mean         2.044967\n",
       "std          0.956511\n",
       "min          1.000000\n",
       "25%          1.000000\n",
       "50%          2.000000\n",
       "75%          3.000000\n",
       "max          5.000000\n",
       "Name: rooms, dtype: float64"
      ]
     },
     "execution_count": 42,
     "metadata": {},
     "output_type": "execute_result"
    },
    {
     "data": {
      "image/png": "[encoded data removed]",
      "text/plain": [
       "<Figure size 432x288 with 1 Axes>"
      ]
     },
     "metadata": {
      "needs_background": "light"
     },
     "output_type": "display_data"
    }
   ],
   "source": [
    "df['rooms'].hist(bins=20)\n",
    "df['rooms'].describe()"
   ]
  },
  {
   "cell_type": "markdown",
   "metadata": {},
   "source": [
    "В основном продаются одно и двухкомнатные квартиры, чуть меньше трехномнатных. "
   ]
  },
  {
   "cell_type": "markdown",
   "metadata": {},
   "source": [
    "#### высота потолков"
   ]
  },
  {
   "cell_type": "code",
   "execution_count": 43,
   "metadata": {},
   "outputs": [
    {
     "data": {
      "text/plain": [
       "count    14141.000000\n",
       "mean         2.713308\n",
       "std          0.242780\n",
       "min          2.450000\n",
       "25%          2.500000\n",
       "50%          2.650000\n",
       "75%          2.800000\n",
       "max          3.980000\n",
       "Name: ceiling_height, dtype: float64"
      ]
     },
     "execution_count": 43,
     "metadata": {},
     "output_type": "execute_result"
    },
    {
     "data": {
      "image/png": "[encoded data removed]",
      "text/plain": [
       "<Figure size 432x288 with 1 Axes>"
      ]
     },
     "metadata": {
      "needs_background": "light"
     },
     "output_type": "display_data"
    }
   ],
   "source": [
    "ch = df.query('ceiling_height>0')\n",
    "ch['ceiling_height'].hist(bins=20)\n",
    "ch['ceiling_height'].describe()"
   ]
  },
  {
   "cell_type": "code",
   "execution_count": 44,
   "metadata": {},
   "outputs": [
    {
     "data": {
      "text/plain": [
       "<AxesSubplot:>"
      ]
     },
     "execution_count": 44,
     "metadata": {},
     "output_type": "execute_result"
    },
    {
     "data": {
      "image/png": "[encoded data removed]",
      "text/plain": [
       "<Figure size 432x288 with 1 Axes>"
      ]
     },
     "metadata": {
      "needs_background": "light"
     },
     "output_type": "display_data"
    }
   ],
   "source": [
    "ch['ceiling_height'].plot(kind='box')"
   ]
  },
  {
   "cell_type": "markdown",
   "metadata": {},
   "source": [
    "Обычно высота потолков 2,45-2,65 метров, но бывают и гораздо выше, но встречаются редко."
   ]
  },
  {
   "cell_type": "markdown",
   "metadata": {},
   "source": [
    "#### этаж квартиры"
   ]
  },
  {
   "cell_type": "code",
   "execution_count": 45,
   "metadata": {},
   "outputs": [
    {
     "data": {
      "text/plain": [
       "count    23284.000000\n",
       "mean         5.883697\n",
       "std          4.874674\n",
       "min          1.000000\n",
       "25%          2.000000\n",
       "50%          4.000000\n",
       "75%          8.000000\n",
       "max         33.000000\n",
       "Name: floor, dtype: float64"
      ]
     },
     "execution_count": 45,
     "metadata": {},
     "output_type": "execute_result"
    },
    {
     "data": {
      "image/png": "[encoded data removed]",
      "text/plain": [
       "<Figure size 432x288 with 1 Axes>"
      ]
     },
     "metadata": {
      "needs_background": "light"
     },
     "output_type": "display_data"
    }
   ],
   "source": [
    "df['floor'].hist(bins=20)\n",
    "df['floor'].describe()"
   ]
  },
  {
   "cell_type": "markdown",
   "metadata": {},
   "source": [
    "В продаже больше всего квартир до 5 этажа."
   ]
  },
  {
   "cell_type": "markdown",
   "metadata": {},
   "source": [
    "#### тип этажа квартиры («первый», «последний», «другой»)"
   ]
  },
  {
   "cell_type": "code",
   "execution_count": 46,
   "metadata": {},
   "outputs": [
    {
     "data": {
      "text/plain": [
       "<AxesSubplot:ylabel='floor'>"
      ]
     },
     "execution_count": 46,
     "metadata": {},
     "output_type": "execute_result"
    },
    {
     "data": {
      "image/png": "[encoded data removed]",
      "text/plain": [
       "<Figure size 432x288 with 1 Axes>"
      ]
     },
     "metadata": {},
     "output_type": "display_data"
    }
   ],
   "source": [
    "df['floor_type'].describe()\n",
    "df \\\n",
    "    .pivot_table(index='floor_type', values='floor',  aggfunc='count')['floor'] \\\n",
    "    .plot(kind='pie')\n"
   ]
  },
  {
   "cell_type": "markdown",
   "metadata": {},
   "source": [
    "Около четверти всех квартир - это первые и последние этажи."
   ]
  },
  {
   "cell_type": "markdown",
   "metadata": {},
   "source": [
    "#### общее количество этажей в доме"
   ]
  },
  {
   "cell_type": "code",
   "execution_count": 47,
   "metadata": {},
   "outputs": [
    {
     "data": {
      "text/plain": [
       "count    23202.000000\n",
       "mean        10.665158\n",
       "std          6.578132\n",
       "min          1.000000\n",
       "25%          5.000000\n",
       "50%          9.000000\n",
       "75%         16.000000\n",
       "max         60.000000\n",
       "Name: floors_total, dtype: float64"
      ]
     },
     "execution_count": 47,
     "metadata": {},
     "output_type": "execute_result"
    },
    {
     "data": {
      "image/png": "[encoded data removed]",
      "text/plain": [
       "<Figure size 432x288 with 1 Axes>"
      ]
     },
     "metadata": {
      "needs_background": "light"
     },
     "output_type": "display_data"
    }
   ],
   "source": [
    "df['floors_total'].hist(bins=20)\n",
    "df['floors_total'].describe()"
   ]
  },
  {
   "cell_type": "markdown",
   "metadata": {},
   "source": [
    "В основном продаются квартиры в 5-16 - этажных домах."
   ]
  },
  {
   "cell_type": "markdown",
   "metadata": {},
   "source": [
    "#### расстояние до центра города в метрах"
   ]
  },
  {
   "cell_type": "code",
   "execution_count": 48,
   "metadata": {},
   "outputs": [
    {
     "data": {
      "text/plain": [
       "count    17849.000000\n",
       "mean     14292.630624\n",
       "std       8609.509651\n",
       "min        181.000000\n",
       "25%       9425.000000\n",
       "50%      13149.000000\n",
       "75%      16333.000000\n",
       "max      65968.000000\n",
       "Name: city_сenters_nearest, dtype: float64"
      ]
     },
     "execution_count": 48,
     "metadata": {},
     "output_type": "execute_result"
    },
    {
     "data": {
      "image/png": "[encoded data removed]",
      "text/plain": [
       "<Figure size 432x288 with 1 Axes>"
      ]
     },
     "metadata": {
      "needs_background": "light"
     },
     "output_type": "display_data"
    }
   ],
   "source": [
    "df['city_сenters_nearest'].hist(bins=20)\n",
    "df['city_сenters_nearest'].describe()\n"
   ]
  },
  {
   "cell_type": "markdown",
   "metadata": {},
   "source": [
    "Основная масса квартир находится на расстоянии 9-16 км от центра города."
   ]
  },
  {
   "cell_type": "markdown",
   "metadata": {},
   "source": [
    "#### расстояние до ближайшего аэропорта"
   ]
  },
  {
   "cell_type": "code",
   "execution_count": 49,
   "metadata": {},
   "outputs": [
    {
     "data": {
      "text/plain": [
       "count    17828.000000\n",
       "mean     28864.577799\n",
       "std      12674.484441\n",
       "min          0.000000\n",
       "25%      18542.000000\n",
       "50%      26885.500000\n",
       "75%      37407.000000\n",
       "max      84869.000000\n",
       "Name: airports_nearest, dtype: float64"
      ]
     },
     "execution_count": 49,
     "metadata": {},
     "output_type": "execute_result"
    },
    {
     "data": {
      "image/png": "[encoded data removed]",
      "text/plain": [
       "<Figure size 432x288 with 1 Axes>"
      ]
     },
     "metadata": {
      "needs_background": "light"
     },
     "output_type": "display_data"
    }
   ],
   "source": [
    "df['airports_nearest'].hist(bins=20)\n",
    "df['airports_nearest'].describe()"
   ]
  },
  {
   "cell_type": "markdown",
   "metadata": {},
   "source": [
    "Основная масса квартир находится на расстоянии 18-37 км от аэропорта."
   ]
  },
  {
   "cell_type": "markdown",
   "metadata": {},
   "source": [
    "#### расстояние до ближайшего парка"
   ]
  },
  {
   "cell_type": "code",
   "execution_count": 50,
   "metadata": {},
   "outputs": [
    {
     "data": {
      "text/plain": [
       "count    7902.000000\n",
       "mean      491.977854\n",
       "std       344.044345\n",
       "min         1.000000\n",
       "25%       288.000000\n",
       "50%       455.000000\n",
       "75%       613.000000\n",
       "max      3190.000000\n",
       "Name: parks_nearest, dtype: float64"
      ]
     },
     "execution_count": 50,
     "metadata": {},
     "output_type": "execute_result"
    },
    {
     "data": {
      "image/png": "[encoded data removed]",
      "text/plain": [
       "<Figure size 432x288 with 1 Axes>"
      ]
     },
     "metadata": {
      "needs_background": "light"
     },
     "output_type": "display_data"
    }
   ],
   "source": [
    "df['parks_nearest'].hist(bins=20)\n",
    "df['parks_nearest'].describe()"
   ]
  },
  {
   "cell_type": "markdown",
   "metadata": {},
   "source": [
    "Расстояние до ближайшего парка 288-613 метров. Видимо, если парк находится на расстоянии больше 613 он уже не считается ближайшим парком, не все его указывали при продаже."
   ]
  },
  {
   "cell_type": "markdown",
   "metadata": {},
   "source": [
    "#### день и месяц публикации объявления."
   ]
  },
  {
   "cell_type": "code",
   "execution_count": 51,
   "metadata": {},
   "outputs": [
    {
     "data": {
      "text/plain": [
       "count    23284.00000\n",
       "mean         6.39671\n",
       "std          3.49130\n",
       "min          1.00000\n",
       "25%          3.00000\n",
       "50%          6.00000\n",
       "75%         10.00000\n",
       "max         12.00000\n",
       "Name: month, dtype: float64"
      ]
     },
     "execution_count": 51,
     "metadata": {},
     "output_type": "execute_result"
    },
    {
     "data": {
      "image/png": "[encoded data removed]",
      "text/plain": [
       "<Figure size 432x288 with 1 Axes>"
      ]
     },
     "metadata": {
      "needs_background": "light"
     },
     "output_type": "display_data"
    }
   ],
   "source": [
    "df['month'].hist(bins=12)\n",
    "df['month'].describe()"
   ]
  },
  {
   "cell_type": "markdown",
   "metadata": {},
   "source": [
    "В мае на продажу выставляется меньше всего квартир."
   ]
  },
  {
   "cell_type": "code",
   "execution_count": 52,
   "metadata": {},
   "outputs": [
    {
     "data": {
      "text/plain": [
       "count    23284.000000\n",
       "mean         2.568674\n",
       "std          1.790793\n",
       "min          0.000000\n",
       "25%          1.000000\n",
       "50%          3.000000\n",
       "75%          4.000000\n",
       "max          6.000000\n",
       "Name: day_of_week, dtype: float64"
      ]
     },
     "execution_count": 52,
     "metadata": {},
     "output_type": "execute_result"
    },
    {
     "data": {
      "image/png": "[encoded data removed]",
      "text/plain": [
       "<Figure size 432x288 with 1 Axes>"
      ]
     },
     "metadata": {
      "needs_background": "light"
     },
     "output_type": "display_data"
    }
   ],
   "source": [
    "df['day_of_week'].hist(bins=7)\n",
    "df['day_of_week'].describe()"
   ]
  },
  {
   "cell_type": "markdown",
   "metadata": {},
   "source": [
    "В выходные публикуется в два раза меньше объявлений."
   ]
  },
  {
   "cell_type": "markdown",
   "metadata": {},
   "source": [
    "<div class=\"alert alert-success\">\n",
    "<b>✔️ Комментарий ревьюера v1:</b> \n",
    "<br>Ты корректно подбираешь основные диапазоны, а также верно читаешь графики! Отдельный плюс за то, что ты подписываешь графики \n",
    "</div>\n",
    "\n",
    "<div class=\"alert alert-warning\">\n",
    "<b>⚠️ Комментарий ревьюера v1:</b> \n",
    "<br>По ссылке ниже можно почитать подробнее как подписать оси у графика\n",
    "    \n",
    "    https://pyprog.pro/mpl/mpl_axis_signatures.html \n",
    "</div>"
   ]
  },
  {
   "cell_type": "markdown",
   "metadata": {},
   "source": [
    "#### Изучите, как быстро продавались квартиры"
   ]
  },
  {
   "cell_type": "code",
   "execution_count": 53,
   "metadata": {},
   "outputs": [
    {
     "data": {
      "text/plain": [
       "count    20180.000000\n",
       "mean       180.697027\n",
       "std        219.328527\n",
       "min          1.000000\n",
       "25%         45.000000\n",
       "50%         95.500000\n",
       "75%        231.000000\n",
       "max       1580.000000\n",
       "Name: days_exposition, dtype: float64"
      ]
     },
     "execution_count": 53,
     "metadata": {},
     "output_type": "execute_result"
    },
    {
     "data": {
      "image/png": "[encoded data removed]",
      "text/plain": [
       "<Figure size 432x288 with 1 Axes>"
      ]
     },
     "metadata": {
      "needs_background": "light"
     },
     "output_type": "display_data"
    }
   ],
   "source": [
    "df[df['days_exposition']>0]['days_exposition'].hist(bins=15)\n",
    "df[df['days_exposition']>0]['days_exposition'].describe()"
   ]
  },
  {
   "cell_type": "code",
   "execution_count": 54,
   "metadata": {},
   "outputs": [
    {
     "data": {
      "text/plain": [
       "<AxesSubplot:>"
      ]
     },
     "execution_count": 54,
     "metadata": {},
     "output_type": "execute_result"
    },
    {
     "data": {
      "image/png": "[encoded data removed]",
      "text/plain": [
       "<Figure size 432x288 with 1 Axes>"
      ]
     },
     "metadata": {
      "needs_background": "light"
     },
     "output_type": "display_data"
    }
   ],
   "source": [
    "df[df['days_exposition']>0]['days_exposition'].hist(bins=50, range=(0, 100))"
   ]
  },
  {
   "cell_type": "code",
   "execution_count": 55,
   "metadata": {},
   "outputs": [
    {
     "data": {
      "text/plain": [
       "total_images           -0.030209\n",
       "last_price              0.106582\n",
       "total_area              0.161060\n",
       "rooms                   0.117794\n",
       "ceiling_height          0.056747\n",
       "floors_total           -0.048329\n",
       "living_area             0.148603\n",
       "floor                  -0.038141\n",
       "is_apartment           -0.063200\n",
       "studio                 -0.011313\n",
       "open_plan              -0.001119\n",
       "kitchen_area            0.099912\n",
       "balcony                -0.033741\n",
       "airports_nearest       -0.018262\n",
       "city_сenters_nearest   -0.056580\n",
       "parks_around3000        0.057035\n",
       "parks_nearest           0.027797\n",
       "ponds_around3000        0.074512\n",
       "ponds_nearest          -0.080609\n",
       "days_exposition         1.000000\n",
       "price_metr              0.046621\n",
       "day_of_week            -0.024806\n",
       "month                  -0.027911\n",
       "year                   -0.611374\n",
       "city_km_nearest        -0.030985\n",
       "last_price_mln          0.106582\n",
       "Name: days_exposition, dtype: float64"
      ]
     },
     "execution_count": 55,
     "metadata": {},
     "output_type": "execute_result"
    }
   ],
   "source": [
    "df[df['days_exposition']>0].corr()['days_exposition']"
   ]
  },
  {
   "cell_type": "markdown",
   "metadata": {},
   "source": [
    "В среднем квартира продается за 180 дней (медиана 95 дней). Если посмотреть по гисторгамме, то большинство квартир продается менее, чем за 100 дней. Интересно, что пик продаж на 45 и на 60 дни. Были продажи и за один день, и за максимум 1580 дней. Судя по корреляции, количество дней на продажу не сильно зависит от других параметров."
   ]
  },
  {
   "cell_type": "markdown",
   "metadata": {},
   "source": [
    "<div class=\"alert alert-success\">\n",
    "<b>✔️ Комментарий ревьюера v1:</b> \n",
    "<br>Согласен! Если интересно, то можно посмотреть на диапазон от 0 до 100 дней. Там есть пики, которым можно найти очень логичное объяснение</div>\n",
    "</div>"
   ]
  },
  {
   "cell_type": "markdown",
   "metadata": {},
   "source": [
    "#### Какие факторы больше всего влияют на общую (полную) стоимость объекта?"
   ]
  },
  {
   "cell_type": "code",
   "execution_count": 56,
   "metadata": {},
   "outputs": [
    {
     "data": {
      "text/plain": [
       "city_km_nearest        -0.254861\n",
       "city_сenters_nearest   -0.254387\n",
       "ponds_nearest          -0.104701\n",
       "year                   -0.073656\n",
       "floors_total           -0.032810\n",
       "airports_nearest       -0.030037\n",
       "balcony                -0.029883\n",
       "studio                 -0.008246\n",
       "is_apartment           -0.006440\n",
       "day_of_week             0.005123\n",
       "month                   0.005489\n",
       "floor                   0.006516\n",
       "parks_nearest           0.009902\n",
       "open_plan               0.017587\n",
       "ceiling_height          0.044984\n",
       "total_images            0.114642\n",
       "days_exposition         0.119666\n",
       "parks_around3000        0.174254\n",
       "ponds_around3000        0.183272\n",
       "rooms                   0.384380\n",
       "kitchen_area            0.516439\n",
       "living_area             0.578153\n",
       "total_area              0.679337\n",
       "price_metr              0.794036\n",
       "last_price_mln          1.000000\n",
       "last_price              1.000000\n",
       "Name: last_price, dtype: float64"
      ]
     },
     "execution_count": 56,
     "metadata": {},
     "output_type": "execute_result"
    }
   ],
   "source": [
    "df[(df['days_exposition']>0) & (df['city_km_nearest']>0) & (df['locality_name']!='другой')] \\\n",
    "    .corr()['last_price'] \\\n",
    "    .sort_values()"
   ]
  },
  {
   "cell_type": "markdown",
   "metadata": {},
   "source": [
    "На общую стоимость квартиры больше всего влияет общая площадь, жилая площадь, площадь кухни, количество комнат, удаленность от центра. "
   ]
  },
  {
   "cell_type": "markdown",
   "metadata": {},
   "source": [
    "<div class=\"alert alert-danger\">\n",
    "<b>❌ Комментарий ревьюера v1:</b> \n",
    "<br>По заданию нас просили изучить зависимость от обще йстоимости квартиры, а не от стоимости за квадратный метр\n",
    "</div>"
   ]
  },
  {
   "cell_type": "markdown",
   "metadata": {},
   "source": [
    "<div class=\"alert alert-success\">\n",
    "<b>✔️ Комментарий ревьюера v2:</b>\n",
    "<br>Правка выполнена 👍\n",
    "</div>"
   ]
  },
  {
   "cell_type": "code",
   "execution_count": 57,
   "metadata": {},
   "outputs": [
    {
     "data": {
      "text/plain": [
       "<AxesSubplot:xlabel='total_area', ylabel='last_price'>"
      ]
     },
     "execution_count": 57,
     "metadata": {},
     "output_type": "execute_result"
    },
    {
     "data": {
      "image/png": "[encoded data removed]",
      "text/plain": [
       "<Figure size 432x288 with 1 Axes>"
      ]
     },
     "metadata": {
      "needs_background": "light"
     },
     "output_type": "display_data"
    }
   ],
   "source": [
    "df.plot(x='total_area', y='last_price',  kind='scatter', alpha=0.3, ylim=(0, 20000000))"
   ]
  },
  {
   "cell_type": "code",
   "execution_count": 58,
   "metadata": {},
   "outputs": [
    {
     "data": {
      "text/plain": [
       "<AxesSubplot:xlabel='living_area', ylabel='last_price'>"
      ]
     },
     "execution_count": 58,
     "metadata": {},
     "output_type": "execute_result"
    },
    {
     "data": {
      "image/png": "[encoded data removed]",
      "text/plain": [
       "<Figure size 432x288 with 1 Axes>"
      ]
     },
     "metadata": {
      "needs_background": "light"
     },
     "output_type": "display_data"
    }
   ],
   "source": [
    "df.plot(x='living_area', y='last_price',  kind='scatter', alpha=0.3, ylim=(0, 20000000))"
   ]
  },
  {
   "cell_type": "code",
   "execution_count": 59,
   "metadata": {},
   "outputs": [
    {
     "data": {
      "text/plain": [
       "<AxesSubplot:xlabel='kitchen_area', ylabel='last_price'>"
      ]
     },
     "execution_count": 59,
     "metadata": {},
     "output_type": "execute_result"
    },
    {
     "data": {
      "image/png": "[encoded data removed]",
      "text/plain": [
       "<Figure size 432x288 with 1 Axes>"
      ]
     },
     "metadata": {
      "needs_background": "light"
     },
     "output_type": "display_data"
    }
   ],
   "source": [
    "df.plot(x='kitchen_area', y='last_price',  kind='scatter', alpha=0.3, ylim=(0, 20000000))"
   ]
  },
  {
   "cell_type": "code",
   "execution_count": 60,
   "metadata": {},
   "outputs": [
    {
     "data": {
      "text/plain": [
       "<AxesSubplot:xlabel='rooms'>"
      ]
     },
     "execution_count": 60,
     "metadata": {},
     "output_type": "execute_result"
    },
    {
     "data": {
      "image/png": "[encoded data removed]",
      "text/plain": [
       "<Figure size 432x288 with 1 Axes>"
      ]
     },
     "metadata": {
      "needs_background": "light"
     },
     "output_type": "display_data"
    }
   ],
   "source": [
    "rooms_price = df.pivot_table(index='rooms', values='last_price')\n",
    "rooms_price.plot.bar(y='last_price')"
   ]
  },
  {
   "cell_type": "code",
   "execution_count": 61,
   "metadata": {},
   "outputs": [
    {
     "data": {
      "text/plain": [
       "<AxesSubplot:xlabel='floor_type'>"
      ]
     },
     "execution_count": 61,
     "metadata": {},
     "output_type": "execute_result"
    },
    {
     "data": {
      "image/png": "[encoded data removed]",
      "text/plain": [
       "<Figure size 432x288 with 1 Axes>"
      ]
     },
     "metadata": {
      "needs_background": "light"
     },
     "output_type": "display_data"
    }
   ],
   "source": [
    "floor_type_price = df.pivot_table(index='floor_type', values='last_price')\n",
    "floor_type_price.plot.bar(y='last_price')"
   ]
  },
  {
   "cell_type": "code",
   "execution_count": 62,
   "metadata": {},
   "outputs": [
    {
     "data": {
      "text/plain": [
       "<AxesSubplot:xlabel='day_of_week'>"
      ]
     },
     "execution_count": 62,
     "metadata": {},
     "output_type": "execute_result"
    },
    {
     "data": {
      "image/png": "[encoded data removed]",
      "text/plain": [
       "<Figure size 432x288 with 1 Axes>"
      ]
     },
     "metadata": {
      "needs_background": "light"
     },
     "output_type": "display_data"
    }
   ],
   "source": [
    "day_of_week_price = df.pivot_table(index='day_of_week', values='last_price', aggfunc='median')\n",
    "day_of_week_price.plot.bar(y='last_price')"
   ]
  },
  {
   "cell_type": "code",
   "execution_count": 63,
   "metadata": {},
   "outputs": [
    {
     "data": {
      "text/plain": [
       "<AxesSubplot:xlabel='month'>"
      ]
     },
     "execution_count": 63,
     "metadata": {},
     "output_type": "execute_result"
    },
    {
     "data": {
      "image/png": "[encoded data removed]",
      "text/plain": [
       "<Figure size 432x288 with 1 Axes>"
      ]
     },
     "metadata": {
      "needs_background": "light"
     },
     "output_type": "display_data"
    }
   ],
   "source": [
    "month_price = df.pivot_table(index='month', values='last_price', aggfunc='median')\n",
    "month_price.plot.bar(y='last_price')"
   ]
  },
  {
   "cell_type": "code",
   "execution_count": 64,
   "metadata": {},
   "outputs": [
    {
     "name": "stdout",
     "output_type": "stream",
     "text": [
      "      last_price\n",
      "year            \n",
      "2014     7640000\n",
      "2015     5300000\n",
      "2016     4500000\n",
      "2017     4500000\n",
      "2018     4550000\n",
      "2019     5020000\n"
     ]
    },
    {
     "data": {
      "text/plain": [
       "<AxesSubplot:xlabel='year'>"
      ]
     },
     "execution_count": 64,
     "metadata": {},
     "output_type": "execute_result"
    },
    {
     "data": {
      "image/png": "[encoded data removed]",
      "text/plain": [
       "<Figure size 432x288 with 1 Axes>"
      ]
     },
     "metadata": {
      "needs_background": "light"
     },
     "output_type": "display_data"
    }
   ],
   "source": [
    "year_price = df.pivot_table(index='year', values='last_price', aggfunc='median')\n",
    "print(year_price)\n",
    "year_price.plot.bar(y='last_price')"
   ]
  },
  {
   "cell_type": "markdown",
   "metadata": {},
   "source": [
    "<div class=\"alert alert-danger\">\n",
    "<b>❌ Комментарий ревьюера v1:</b> \n",
    "<br>Для категории этажа, дня, месяца и года продажи нужно построить barplot или гистограмму рассчитав среднее значение или медиану. После этого необходимо написать о зависимости цены от этих параметров\n",
    "\t\n",
    "    https://pandas.pydata.org/docs/reference/api/pandas.DataFrame.plot.bar.html\n",
    "</div>"
   ]
  },
  {
   "cell_type": "markdown",
   "metadata": {},
   "source": [
    "<div class=\"alert alert-success\">\n",
    "<b>✔️ Комментарий ревьюера v2:</b>\n",
    "<br>Отлично! Теперь всё верно)\n",
    "</div>"
   ]
  },
  {
   "cell_type": "markdown",
   "metadata": {},
   "source": [
    "Исходя из графиков можно сделать вывод, что:\n",
    "- Цена зависит от общей площади, жилой и площади кухни\n",
    "- Чем больше комнат, тем дороже квартира\n",
    "- Квартиры на первом этаже дешевле. На последнем этаже незначительно дешевле в среднем, чем на остальных.\n",
    "- На квартиры выставленные в пн-ср самые высокие цены\n",
    "- В мае-июне небольшой спад цен\n",
    "- 2014-2016 цены на продаваемые квартиры опускались, 2016-2019 цены росли."
   ]
  },
  {
   "cell_type": "markdown",
   "metadata": {},
   "source": [
    "#### Посчитайте среднюю цену одного квадратного метра в 10 населённых пунктах с наибольшим числом объявлений"
   ]
  },
  {
   "cell_type": "code",
   "execution_count": 65,
   "metadata": {},
   "outputs": [
    {
     "data": {
      "text/html": [
       "<div>\n",
       "<style scoped>\n",
       "    .dataframe tbody tr th:only-of-type {\n",
       "        vertical-align: middle;\n",
       "    }\n",
       "\n",
       "    .dataframe tbody tr th {\n",
       "        vertical-align: top;\n",
       "    }\n",
       "\n",
       "    .dataframe thead tr th {\n",
       "        text-align: left;\n",
       "    }\n",
       "\n",
       "    .dataframe thead tr:last-of-type th {\n",
       "        text-align: right;\n",
       "    }\n",
       "</style>\n",
       "<table border=\"1\" class=\"dataframe\">\n",
       "  <thead>\n",
       "    <tr>\n",
       "      <th></th>\n",
       "      <th>mean</th>\n",
       "      <th>count</th>\n",
       "    </tr>\n",
       "    <tr>\n",
       "      <th></th>\n",
       "      <th>price_metr</th>\n",
       "      <th>price_metr</th>\n",
       "    </tr>\n",
       "    <tr>\n",
       "      <th>locality_name</th>\n",
       "      <th></th>\n",
       "      <th></th>\n",
       "    </tr>\n",
       "  </thead>\n",
       "  <tbody>\n",
       "    <tr>\n",
       "      <th>Санкт-Петербург</th>\n",
       "      <td>114134.355726</td>\n",
       "      <td>15402</td>\n",
       "    </tr>\n",
       "    <tr>\n",
       "      <th>поселок Мурино</th>\n",
       "      <td>85004.057852</td>\n",
       "      <td>529</td>\n",
       "    </tr>\n",
       "    <tr>\n",
       "      <th>поселок Шушары</th>\n",
       "      <td>78405.738420</td>\n",
       "      <td>436</td>\n",
       "    </tr>\n",
       "    <tr>\n",
       "      <th>Всеволожск</th>\n",
       "      <td>68618.013712</td>\n",
       "      <td>392</td>\n",
       "    </tr>\n",
       "    <tr>\n",
       "      <th>Пушкин</th>\n",
       "      <td>103221.059146</td>\n",
       "      <td>366</td>\n",
       "    </tr>\n",
       "    <tr>\n",
       "      <th>Колпино</th>\n",
       "      <td>75333.295801</td>\n",
       "      <td>337</td>\n",
       "    </tr>\n",
       "    <tr>\n",
       "      <th>поселок Парголово</th>\n",
       "      <td>90448.423806</td>\n",
       "      <td>322</td>\n",
       "    </tr>\n",
       "    <tr>\n",
       "      <th>Гатчина</th>\n",
       "      <td>68746.146763</td>\n",
       "      <td>307</td>\n",
       "    </tr>\n",
       "    <tr>\n",
       "      <th>деревня Кудрово</th>\n",
       "      <td>92297.218847</td>\n",
       "      <td>283</td>\n",
       "    </tr>\n",
       "    <tr>\n",
       "      <th>Выборг</th>\n",
       "      <td>58141.909153</td>\n",
       "      <td>237</td>\n",
       "    </tr>\n",
       "  </tbody>\n",
       "</table>\n",
       "</div>"
      ],
      "text/plain": [
       "                            mean      count\n",
       "                      price_metr price_metr\n",
       "locality_name                              \n",
       "Санкт-Петербург    114134.355726      15402\n",
       "поселок Мурино      85004.057852        529\n",
       "поселок Шушары      78405.738420        436\n",
       "Всеволожск          68618.013712        392\n",
       "Пушкин             103221.059146        366\n",
       "Колпино             75333.295801        337\n",
       "поселок Парголово   90448.423806        322\n",
       "Гатчина             68746.146763        307\n",
       "деревня Кудрово     92297.218847        283\n",
       "Выборг              58141.909153        237"
      ]
     },
     "execution_count": 65,
     "metadata": {},
     "output_type": "execute_result"
    }
   ],
   "source": [
    "spb_max = df \\\n",
    "    .pivot_table(index='locality_name', values=['price_metr'], aggfunc=['mean', 'count']) \\\n",
    "    .sort_values(('count', 'price_metr'), ascending=False) \\\n",
    "    .head(10)\n",
    "spb_max"
   ]
  },
  {
   "cell_type": "code",
   "execution_count": 66,
   "metadata": {},
   "outputs": [
    {
     "data": {
      "text/html": [
       "<div>\n",
       "<style scoped>\n",
       "    .dataframe tbody tr th:only-of-type {\n",
       "        vertical-align: middle;\n",
       "    }\n",
       "\n",
       "    .dataframe tbody tr th {\n",
       "        vertical-align: top;\n",
       "    }\n",
       "\n",
       "    .dataframe thead tr th {\n",
       "        text-align: left;\n",
       "    }\n",
       "\n",
       "    .dataframe thead tr:last-of-type th {\n",
       "        text-align: right;\n",
       "    }\n",
       "</style>\n",
       "<table border=\"1\" class=\"dataframe\">\n",
       "  <thead>\n",
       "    <tr>\n",
       "      <th></th>\n",
       "      <th>mean</th>\n",
       "      <th>count</th>\n",
       "    </tr>\n",
       "    <tr>\n",
       "      <th></th>\n",
       "      <th>price_metr</th>\n",
       "      <th>price_metr</th>\n",
       "    </tr>\n",
       "    <tr>\n",
       "      <th>locality_name</th>\n",
       "      <th></th>\n",
       "      <th></th>\n",
       "    </tr>\n",
       "  </thead>\n",
       "  <tbody>\n",
       "    <tr>\n",
       "      <th>Санкт-Петербург</th>\n",
       "      <td>114134.355726</td>\n",
       "      <td>15402</td>\n",
       "    </tr>\n",
       "  </tbody>\n",
       "</table>\n",
       "</div>"
      ],
      "text/plain": [
       "                          mean      count\n",
       "                    price_metr price_metr\n",
       "locality_name                            \n",
       "Санкт-Петербург  114134.355726      15402"
      ]
     },
     "execution_count": 66,
     "metadata": {},
     "output_type": "execute_result"
    }
   ],
   "source": [
    "spb_max.sort_values(('mean', 'price_metr'), ascending=False).head(1)"
   ]
  },
  {
   "cell_type": "code",
   "execution_count": 67,
   "metadata": {},
   "outputs": [
    {
     "data": {
      "text/html": [
       "<div>\n",
       "<style scoped>\n",
       "    .dataframe tbody tr th:only-of-type {\n",
       "        vertical-align: middle;\n",
       "    }\n",
       "\n",
       "    .dataframe tbody tr th {\n",
       "        vertical-align: top;\n",
       "    }\n",
       "\n",
       "    .dataframe thead tr th {\n",
       "        text-align: left;\n",
       "    }\n",
       "\n",
       "    .dataframe thead tr:last-of-type th {\n",
       "        text-align: right;\n",
       "    }\n",
       "</style>\n",
       "<table border=\"1\" class=\"dataframe\">\n",
       "  <thead>\n",
       "    <tr>\n",
       "      <th></th>\n",
       "      <th>mean</th>\n",
       "      <th>count</th>\n",
       "    </tr>\n",
       "    <tr>\n",
       "      <th></th>\n",
       "      <th>price_metr</th>\n",
       "      <th>price_metr</th>\n",
       "    </tr>\n",
       "    <tr>\n",
       "      <th>locality_name</th>\n",
       "      <th></th>\n",
       "      <th></th>\n",
       "    </tr>\n",
       "  </thead>\n",
       "  <tbody>\n",
       "    <tr>\n",
       "      <th>Выборг</th>\n",
       "      <td>58141.909153</td>\n",
       "      <td>237</td>\n",
       "    </tr>\n",
       "  </tbody>\n",
       "</table>\n",
       "</div>"
      ],
      "text/plain": [
       "                       mean      count\n",
       "                 price_metr price_metr\n",
       "locality_name                         \n",
       "Выборг         58141.909153        237"
      ]
     },
     "execution_count": 67,
     "metadata": {},
     "output_type": "execute_result"
    }
   ],
   "source": [
    "spb_max.sort_values(('mean', 'price_metr'), ascending=True).head(1)"
   ]
  },
  {
   "cell_type": "markdown",
   "metadata": {},
   "source": [
    "Самая низкая цена за м² в деревне Ставрополье, а замая высокая в Зеленогорске."
   ]
  },
  {
   "cell_type": "markdown",
   "metadata": {},
   "source": [
    "<div class=\"alert alert-danger\">\n",
    "<b>❌ Комментарий ревьюера v1:</b> \n",
    "<br>Тут нужно выделить населённые пункты с максимальной и минимальной ценой из того списка топ10 что ты выводишь выше, а не из всех данных \n",
    "</div>"
   ]
  },
  {
   "cell_type": "markdown",
   "metadata": {},
   "source": [
    "<div class=\"alert alert-success\">\n",
    "<b>✔️ Комментарий ревьюера v2:</b> \n",
    "<br>Всё верно! Как вариант, тут можно построить барплот для топ10, так будет более наглядно)\n",
    "</div>"
   ]
  },
  {
   "cell_type": "markdown",
   "metadata": {},
   "source": [
    "#### Вычислите среднюю цену каждого километра"
   ]
  },
  {
   "cell_type": "code",
   "execution_count": 68,
   "metadata": {},
   "outputs": [],
   "source": [
    "spb = df.query('locality_name == \\'Санкт-Петербург\\' & city_km_nearest>0').sort_values('city_km_nearest')"
   ]
  },
  {
   "cell_type": "code",
   "execution_count": 69,
   "metadata": {},
   "outputs": [
    {
     "data": {
      "text/plain": [
       "<AxesSubplot:xlabel='city_km_nearest', ylabel='price_metr'>"
      ]
     },
     "execution_count": 69,
     "metadata": {},
     "output_type": "execute_result"
    },
    {
     "data": {
      "image/png": "[encoded data removed]",
      "text/plain": [
       "<Figure size 432x288 with 1 Axes>"
      ]
     },
     "metadata": {
      "needs_background": "light"
     },
     "output_type": "display_data"
    }
   ],
   "source": [
    "spb.plot(x='city_km_nearest', y='price_metr',  kind='scatter', alpha=0.3, ylim=(0, 1000000))"
   ]
  },
  {
   "cell_type": "code",
   "execution_count": 70,
   "metadata": {},
   "outputs": [
    {
     "data": {
      "text/plain": [
       "15408.133198408148"
      ]
     },
     "execution_count": 70,
     "metadata": {},
     "output_type": "execute_result"
    }
   ],
   "source": [
    "spb['mean_km'] = spb['price_metr'] / spb['city_km_nearest']\n",
    "spb['mean_km'].mean()"
   ]
  },
  {
   "cell_type": "markdown",
   "metadata": {},
   "source": [
    "Cредняя цена каждого километра в Санкт-Петербурге 15408 руб. \n",
    "Квартиры в радиусе 0-10 км от центра города стоят дороже. Самые дорогие на расстоянии 5-7 км. Чем дальше квартира от центра, тем ниже цена."
   ]
  },
  {
   "cell_type": "markdown",
   "metadata": {},
   "source": [
    "<div class=\"alert alert-danger\">\n",
    "<b>❌ Комментарий ревьюера v1:</b> \n",
    "<br>В данных нужно оставить только Питер\n",
    "</div>"
   ]
  },
  {
   "cell_type": "markdown",
   "metadata": {},
   "source": [
    "<div class=\"alert alert-success\">\n",
    "<b>✔️ Комментарий ревьюера v2:</b>\n",
    "<br>Правка выполнена 👍\n",
    "</div>"
   ]
  },
  {
   "cell_type": "markdown",
   "metadata": {},
   "source": [
    "### Общий вывод"
   ]
  },
  {
   "cell_type": "markdown",
   "metadata": {},
   "source": [
    "    В ходе выполнения проекта исследован архив объявлений о продаже квартир в Санкт-Петербурге и соседних населённых пунктах за несколько лет. \n",
    "    На начальном этапе удалены квартиры площадью больше 300 метров и квартиры, в которых больше 5 комнат. Удалены дублирующиеся названия населенных пунктов.\n",
    "    Основное множество квартир: одно-двухкомнатные, в 5-16-этажных домах, 52-60 квадратных метра, с высотой потолка 2,65 метра.\n",
    "    Подтверждено графиками: на общую стоимость квартиры больше всего влияет общая площадь, жилая площадь, площадь кухни, количество комнат, удаленность от центра. Найдены зависимости цены от площади квартиры, кухни, а также количества комнат.\n",
    "    Установлено, что квартиры на первых этажах стоят дешевле. В мае-июне стоимость квартир незначительно уменьшается. В пн-ср чаще устанавливается более высокая стоимость на квартиры.\n",
    "    Определена средняя цена одного квадратного метра в 10 населенных пунктах, где было больше всего объявлений. Самая дорогая цена за квадратный метр в Санкт-Петербурге."
   ]
  },
  {
   "cell_type": "markdown",
   "metadata": {},
   "source": [
    "<div class=\"alert alert-danger\">\n",
    "<b>❌ Комментарий ревьюера v1:</b> \n",
    "<br>Давай увеличим объем вывода, чтобы он получится более подробным. Хорошей практикой является написание в общем выводе всех твоих действий (кратко) по проекту. А после этого нужно написать общий вывод использую информацию из промежуточных выводов после каждого раздела. Твой вывод раскрывает для заказчика всю твою проделанную работу и за что он платит деньги, даже если ему не интересен весь процесс исследования, то в отчёт он заглянет обязательно. \n",
    "</div>"
   ]
  },
  {
   "cell_type": "markdown",
   "metadata": {},
   "source": [
    "<div class=\"alert alert-warning\">\n",
    "<b>⚠️ Комментарий ревьюера v2:</b> \n",
    "<br>Старайся писать общий вывод более развернуто используя информацию из промежуточных выводов\n",
    "</div>"
   ]
  },
  {
   "cell_type": "markdown",
   "metadata": {},
   "source": [
    "\n",
    "<div class=\"alert alert-danger\">\n",
    "<b>❌ Комментарий ревьюера v1:</b> \n",
    "<br>После всех внесённых правок, обязательно перепроверь общий вывод и промежуточные выводы и поправь их по необходимости\n",
    "</div>"
   ]
  },
  {
   "cell_type": "markdown",
   "metadata": {},
   "source": [
    "<div class=\"alert alert-danger\">\n",
    "<b>❌ Итоговый комментарий ревьюера v1:</b> \n",
    "<br>Ты хорошо потрудилась, большая часть работы сделана, но остаётся внести следующие правки:\n",
    "<br>- написать короткий вывод после первичного просмотра данных\n",
    "<br>- изучить зависимость от общей цены, а не от цены за квадратный метр\n",
    "<br>- корректно изучить зависимость цены от категории этажа и времени публикации объявления\n",
    "<br>- корректно изучить топ10 населённых пунктов с наибольшим числом объявлений\n",
    "<br>- корректно рассчитать стоимость каждого километра в последнем шаге\n",
    "<br>- дописать общий вывод\n",
    "<br>- поправить выводы там, где это необходимо\n",
    "</div>"
   ]
  },
  {
   "cell_type": "markdown",
   "metadata": {},
   "source": [
    "<div class=\"alert alert-success\">\n",
    "<b>✔️ Итоговый комментарий ревьюера v2:</b>\n",
    "<br>Все правки выполнены. Молодец!\n",
    "\n",
    "<br>Я рад был поработать над проверкой твоей работы) В качестве дополнительного материала для изучения могу порекомендовать следующий ресурс:\n",
    "\n",
    "\thttps://www.python-graph-gallery.com/\n",
    "<br>В нем содержится большая библиотека графиков с готовым кодом, который можно использовать при работе.\n",
    "<br>Поздравляю со сдачей проекта и желаю удачи в дальнейшем обучении! 😉    \n",
    "</div>"
   ]
  },
  {
   "cell_type": "markdown",
   "metadata": {},
   "source": [
    "**Чек-лист готовности проекта**\n",
    "\n",
    "Поставьте 'x' в выполненных пунктах. Далее нажмите Shift+Enter."
   ]
  },
  {
   "cell_type": "markdown",
   "metadata": {},
   "source": [
    "- [x]  открыт файл\n",
    "- [ ]  файлы изучены (выведены первые строки, метод `info()`, гистограммы и т.д.)\n",
    "- [ ]  определены пропущенные значения\n",
    "- [ ]  заполнены пропущенные значения там, где это возможно\n",
    "- [ ]  есть пояснение, какие пропущенные значения обнаружены\n",
    "- [x]  изменены типы данных\n",
    "- [x]  есть пояснение, в каких столбцах изменены типы и почему\n",
    "- [x]  устранены неявные дубликаты в названиях населённых пунктов\n",
    "- [ ]  устранены редкие и выбивающиеся значения (аномалии) во всех столбцах\n",
    "- [x]  посчитано и добавлено в таблицу: цена одного квадратного метра\n",
    "- [x]  посчитано и добавлено в таблицу: день публикации объявления (0 - понедельник, 1 - вторник и т.д.)\n",
    "- [x]  посчитано и добавлено в таблицу: месяц публикации объявления\n",
    "- [x]  посчитано и добавлено в таблицу: год публикации объявления\n",
    "- [x]  посчитано и добавлено в таблицу: тип этажа квартиры (значения — «первый», «последний», «другой»)\n",
    "- [x]  посчитано и добавлено в таблицу: расстояние в км до центра города\n",
    "- [ ]  изучены и описаны следующие параметры:\n",
    "        - общая площадь;\n",
    "        - жилая площадь;\n",
    "        - площадь кухни;\n",
    "        - цена объекта;\n",
    "        - количество комнат;\n",
    "        - высота потолков;\n",
    "        - этаж квартиры;\n",
    "        - тип этажа квартиры («первый», «последний», «другой»);\n",
    "        - общее количество этажей в доме;\n",
    "        - расстояние до центра города в метрах;\n",
    "        - расстояние до ближайшего аэропорта;\n",
    "        - расстояние до ближайшего парка;\n",
    "        - день и месяц публикации объявления\n",
    "- [ ]  построены гистограммы для каждого параметра\n",
    "- [ ]  выполнено задание: \"Изучите, как быстро продавались квартиры (столбец days_exposition). Этот параметр показывает, сколько дней «висело» каждое объявление.\n",
    "    - Постройте гистограмму.\n",
    "    - Посчитайте среднее и медиану.\n",
    "    - В ячейке типа markdown опишите, сколько обычно занимает продажа. Какие продажи можно считать быстрыми, а какие — необычно долгими?\"\n",
    "- [ ]  выполнено задание: \"Какие факторы больше всего влияют на общую (полную) стоимость объекта? Постройте графики, которые покажут зависимость цены от указанных ниже параметров. Для подготовки данных перед визуализацией вы можете использовать сводные таблицы.\"\n",
    "        - общей площади;\n",
    "        - жилой площади;\n",
    "        - площади кухни;\n",
    "        - количество комнат;\n",
    "        - типа этажа, на котором расположена квартира (первый, последний, другой);\n",
    "        - даты размещения (день недели, месяц, год);\n",
    "- [x]  выполнено задание: \"Посчитайте среднюю цену одного квадратного метра в 10 населённых пунктах с наибольшим числом объявлений. Выделите населённые пункты с самой высокой и низкой стоимостью квадратного метра. Эти данные можно найти по имени в столбце `locality_name`.\"\n",
    "- [ ]  выполнено задание: \"Ранее вы посчитали расстояние до центра в километрах. Теперь выделите квартиры в Санкт-Петербурге с помощью столбца `locality_name` и вычислите среднюю цену каждого километра. Опишите, как стоимость объектов зависит от расстояния до центра города.\"\n",
    "- [ ]  в каждом этапе есть промежуточные выводы\n",
    "- [ ]  есть общий вывод"
   ]
  },
  {
   "cell_type": "code",
   "execution_count": null,
   "metadata": {},
   "outputs": [],
   "source": []
  },
  {
   "cell_type": "code",
   "execution_count": null,
   "metadata": {
    "scrolled": true
   },
   "outputs": [],
   "source": []
  },
  {
   "cell_type": "code",
   "execution_count": null,
   "metadata": {},
   "outputs": [],
   "source": []
  }
 ],
 "metadata": {
  "ExecuteTimeLog": [
   {
    "duration": 508,
    "start_time": "2023-01-03T19:09:48.860Z"
   },
   {
    "duration": 149,
    "start_time": "2023-01-03T19:10:37.745Z"
   },
   {
    "duration": 416,
    "start_time": "2023-01-03T19:10:47.947Z"
   },
   {
    "duration": 96,
    "start_time": "2023-01-03T19:11:12.269Z"
   },
   {
    "duration": 69,
    "start_time": "2023-01-03T19:11:45.242Z"
   },
   {
    "duration": 88,
    "start_time": "2023-01-03T19:11:53.090Z"
   },
   {
    "duration": 87,
    "start_time": "2023-01-03T19:12:11.730Z"
   },
   {
    "duration": 70,
    "start_time": "2023-01-03T19:13:03.339Z"
   },
   {
    "duration": 91,
    "start_time": "2023-01-03T19:13:16.497Z"
   },
   {
    "duration": 95,
    "start_time": "2023-01-03T19:13:26.226Z"
   },
   {
    "duration": 89,
    "start_time": "2023-01-03T19:14:03.946Z"
   },
   {
    "duration": 126,
    "start_time": "2023-01-03T19:15:13.515Z"
   },
   {
    "duration": 8,
    "start_time": "2023-01-03T19:15:56.885Z"
   },
   {
    "duration": 2156,
    "start_time": "2023-01-03T19:16:02.555Z"
   },
   {
    "duration": 118,
    "start_time": "2023-01-04T19:29:50.683Z"
   },
   {
    "duration": 1811,
    "start_time": "2023-01-04T19:29:50.946Z"
   },
   {
    "duration": 5,
    "start_time": "2023-01-04T19:30:29.802Z"
   },
   {
    "duration": 4,
    "start_time": "2023-01-04T19:31:04.483Z"
   },
   {
    "duration": 4,
    "start_time": "2023-01-04T19:31:18.642Z"
   },
   {
    "duration": 7,
    "start_time": "2023-01-04T19:32:21.683Z"
   },
   {
    "duration": 6,
    "start_time": "2023-01-04T19:34:11.388Z"
   },
   {
    "duration": 131,
    "start_time": "2023-01-04T19:34:24.955Z"
   },
   {
    "duration": 163,
    "start_time": "2023-01-04T19:34:41.044Z"
   },
   {
    "duration": 14,
    "start_time": "2023-01-04T19:35:30.870Z"
   },
   {
    "duration": 4,
    "start_time": "2023-01-04T19:35:56.468Z"
   },
   {
    "duration": 179,
    "start_time": "2023-01-04T19:36:02.509Z"
   },
   {
    "duration": 825,
    "start_time": "2023-01-04T19:36:43.773Z"
   },
   {
    "duration": 125,
    "start_time": "2023-01-04T19:36:51.174Z"
   },
   {
    "duration": 115,
    "start_time": "2023-01-04T19:36:58.478Z"
   },
   {
    "duration": 12,
    "start_time": "2023-01-04T19:38:42.798Z"
   },
   {
    "duration": 8,
    "start_time": "2023-01-04T19:39:08.031Z"
   },
   {
    "duration": 9,
    "start_time": "2023-01-04T19:39:48.038Z"
   },
   {
    "duration": 571,
    "start_time": "2023-01-04T19:39:58.812Z"
   },
   {
    "duration": 2398,
    "start_time": "2023-01-04T19:39:59.385Z"
   },
   {
    "duration": 70,
    "start_time": "2023-01-04T19:40:01.786Z"
   },
   {
    "duration": 144,
    "start_time": "2023-01-04T19:40:28.728Z"
   },
   {
    "duration": 120,
    "start_time": "2023-01-04T19:40:52.360Z"
   },
   {
    "duration": 121,
    "start_time": "2023-01-04T19:41:29.408Z"
   },
   {
    "duration": 119,
    "start_time": "2023-01-04T19:41:51.103Z"
   },
   {
    "duration": 8,
    "start_time": "2023-01-04T19:42:19.801Z"
   },
   {
    "duration": 7,
    "start_time": "2023-01-04T19:42:38.640Z"
   },
   {
    "duration": 7,
    "start_time": "2023-01-04T19:43:06.480Z"
   },
   {
    "duration": 10,
    "start_time": "2023-01-04T19:47:47.611Z"
   },
   {
    "duration": 9,
    "start_time": "2023-01-04T19:49:02.979Z"
   },
   {
    "duration": 9,
    "start_time": "2023-01-04T19:49:43.645Z"
   },
   {
    "duration": 9,
    "start_time": "2023-01-04T19:49:50.387Z"
   },
   {
    "duration": 7,
    "start_time": "2023-01-04T19:50:09.404Z"
   },
   {
    "duration": 7,
    "start_time": "2023-01-04T19:50:21.667Z"
   },
   {
    "duration": 7,
    "start_time": "2023-01-04T19:50:28.257Z"
   },
   {
    "duration": 7,
    "start_time": "2023-01-04T19:50:32.549Z"
   },
   {
    "duration": 149,
    "start_time": "2023-01-04T19:52:57.508Z"
   },
   {
    "duration": 145,
    "start_time": "2023-01-04T19:54:58.366Z"
   },
   {
    "duration": 12,
    "start_time": "2023-01-04T19:55:25.774Z"
   },
   {
    "duration": 235,
    "start_time": "2023-01-04T19:57:07.879Z"
   },
   {
    "duration": 872,
    "start_time": "2023-01-04T19:57:24.462Z"
   },
   {
    "duration": 1136,
    "start_time": "2023-01-04T19:57:39.856Z"
   },
   {
    "duration": 138,
    "start_time": "2023-01-04T20:00:47.400Z"
   },
   {
    "duration": 145,
    "start_time": "2023-01-04T20:01:11.376Z"
   },
   {
    "duration": 123,
    "start_time": "2023-01-04T20:01:18.338Z"
   },
   {
    "duration": 165,
    "start_time": "2023-01-04T20:01:30.699Z"
   },
   {
    "duration": 121,
    "start_time": "2023-01-04T20:01:35.926Z"
   },
   {
    "duration": 227,
    "start_time": "2023-01-04T20:01:41.969Z"
   },
   {
    "duration": 150,
    "start_time": "2023-01-04T20:02:11.536Z"
   },
   {
    "duration": 11,
    "start_time": "2023-01-04T20:02:47.313Z"
   },
   {
    "duration": 11,
    "start_time": "2023-01-04T20:03:03.615Z"
   },
   {
    "duration": 11,
    "start_time": "2023-01-04T20:03:25.576Z"
   },
   {
    "duration": 11,
    "start_time": "2023-01-04T20:03:41.279Z"
   },
   {
    "duration": 10,
    "start_time": "2023-01-04T20:03:55.535Z"
   },
   {
    "duration": 11,
    "start_time": "2023-01-04T20:04:15.624Z"
   },
   {
    "duration": 11,
    "start_time": "2023-01-04T20:04:28.996Z"
   },
   {
    "duration": 32,
    "start_time": "2023-01-04T20:04:57.832Z"
   },
   {
    "duration": 30,
    "start_time": "2023-01-04T20:05:22.776Z"
   },
   {
    "duration": 14,
    "start_time": "2023-01-04T20:05:46.450Z"
   },
   {
    "duration": 15,
    "start_time": "2023-01-04T20:06:18.760Z"
   },
   {
    "duration": 334,
    "start_time": "2023-01-04T20:11:26.619Z"
   },
   {
    "duration": 373,
    "start_time": "2023-01-04T20:11:34.899Z"
   },
   {
    "duration": 286,
    "start_time": "2023-01-04T20:11:55.804Z"
   },
   {
    "duration": 308,
    "start_time": "2023-01-04T20:12:18.827Z"
   },
   {
    "duration": 308,
    "start_time": "2023-01-04T20:12:46.500Z"
   },
   {
    "duration": 306,
    "start_time": "2023-01-04T20:18:23.262Z"
   },
   {
    "duration": 321,
    "start_time": "2023-01-04T20:18:48.663Z"
   },
   {
    "duration": 552,
    "start_time": "2023-01-04T20:18:55.425Z"
   },
   {
    "duration": 2149,
    "start_time": "2023-01-04T20:18:55.979Z"
   },
   {
    "duration": 152,
    "start_time": "2023-01-04T20:18:58.129Z"
   },
   {
    "duration": 18,
    "start_time": "2023-01-04T20:18:58.283Z"
   },
   {
    "duration": 357,
    "start_time": "2023-01-04T20:18:58.302Z"
   },
   {
    "duration": 12,
    "start_time": "2023-01-04T20:19:13.191Z"
   },
   {
    "duration": 5,
    "start_time": "2023-01-04T20:19:25.375Z"
   },
   {
    "duration": 5,
    "start_time": "2023-01-04T20:19:34.366Z"
   },
   {
    "duration": 12,
    "start_time": "2023-01-04T20:19:48.110Z"
   },
   {
    "duration": 15,
    "start_time": "2023-01-04T20:20:04.056Z"
   },
   {
    "duration": 283,
    "start_time": "2023-01-04T20:20:51.704Z"
   },
   {
    "duration": 12,
    "start_time": "2023-01-04T20:21:05.152Z"
   },
   {
    "duration": 13,
    "start_time": "2023-01-04T20:21:56.609Z"
   },
   {
    "duration": 515,
    "start_time": "2023-01-04T20:22:07.470Z"
   },
   {
    "duration": 2307,
    "start_time": "2023-01-04T20:22:07.987Z"
   },
   {
    "duration": 141,
    "start_time": "2023-01-04T20:22:10.296Z"
   },
   {
    "duration": 19,
    "start_time": "2023-01-04T20:22:10.438Z"
   },
   {
    "duration": 14,
    "start_time": "2023-01-04T20:22:10.458Z"
   },
   {
    "duration": 530,
    "start_time": "2023-01-04T20:22:35.184Z"
   },
   {
    "duration": 2285,
    "start_time": "2023-01-04T20:22:35.723Z"
   },
   {
    "duration": 137,
    "start_time": "2023-01-04T20:22:38.009Z"
   },
   {
    "duration": 17,
    "start_time": "2023-01-04T20:22:38.148Z"
   },
   {
    "duration": 13,
    "start_time": "2023-01-04T20:22:38.167Z"
   },
   {
    "duration": 13,
    "start_time": "2023-01-04T20:23:22.442Z"
   },
   {
    "duration": 13,
    "start_time": "2023-01-04T20:23:25.394Z"
   },
   {
    "duration": 13,
    "start_time": "2023-01-04T20:23:27.570Z"
   },
   {
    "duration": 556,
    "start_time": "2023-01-04T20:23:51.286Z"
   },
   {
    "duration": 2316,
    "start_time": "2023-01-04T20:23:51.844Z"
   },
   {
    "duration": 184,
    "start_time": "2023-01-04T20:23:54.161Z"
   },
   {
    "duration": 19,
    "start_time": "2023-01-04T20:23:54.347Z"
   },
   {
    "duration": 14,
    "start_time": "2023-01-04T20:23:54.367Z"
   },
   {
    "duration": 13,
    "start_time": "2023-01-04T20:26:39.386Z"
   },
   {
    "duration": 587,
    "start_time": "2023-01-04T20:26:48.589Z"
   },
   {
    "duration": 2405,
    "start_time": "2023-01-04T20:26:49.179Z"
   },
   {
    "duration": 147,
    "start_time": "2023-01-04T20:26:51.586Z"
   },
   {
    "duration": 19,
    "start_time": "2023-01-04T20:26:51.735Z"
   },
   {
    "duration": 12,
    "start_time": "2023-01-04T20:26:51.756Z"
   },
   {
    "duration": 13,
    "start_time": "2023-01-04T20:27:31.106Z"
   },
   {
    "duration": 15,
    "start_time": "2023-01-04T20:27:54.987Z"
   },
   {
    "duration": 15,
    "start_time": "2023-01-04T20:28:08.994Z"
   },
   {
    "duration": 11,
    "start_time": "2023-01-04T20:28:54.395Z"
   },
   {
    "duration": 17,
    "start_time": "2023-01-04T20:31:34.941Z"
   },
   {
    "duration": 6,
    "start_time": "2023-01-04T20:32:32.099Z"
   },
   {
    "duration": 16,
    "start_time": "2023-01-04T20:36:29.287Z"
   },
   {
    "duration": 19,
    "start_time": "2023-01-04T20:37:46.879Z"
   },
   {
    "duration": 9,
    "start_time": "2023-01-04T20:38:17.906Z"
   },
   {
    "duration": 7,
    "start_time": "2023-01-04T20:38:35.464Z"
   },
   {
    "duration": 6,
    "start_time": "2023-01-04T20:40:09.159Z"
   },
   {
    "duration": 5,
    "start_time": "2023-01-04T20:40:21.227Z"
   },
   {
    "duration": 6,
    "start_time": "2023-01-04T20:41:43.026Z"
   },
   {
    "duration": 7,
    "start_time": "2023-01-04T20:42:00.603Z"
   },
   {
    "duration": 38,
    "start_time": "2023-01-04T20:43:03.665Z"
   },
   {
    "duration": 6,
    "start_time": "2023-01-04T20:48:50.323Z"
   },
   {
    "duration": 8,
    "start_time": "2023-01-04T20:49:12.309Z"
   },
   {
    "duration": 49,
    "start_time": "2023-01-04T20:49:49.990Z"
   },
   {
    "duration": 66,
    "start_time": "2023-01-04T20:50:46.723Z"
   },
   {
    "duration": 4,
    "start_time": "2023-01-04T20:50:59.816Z"
   },
   {
    "duration": 6,
    "start_time": "2023-01-04T20:51:01.293Z"
   },
   {
    "duration": 39,
    "start_time": "2023-01-04T20:51:02.022Z"
   },
   {
    "duration": 43,
    "start_time": "2023-01-04T20:51:04.800Z"
   },
   {
    "duration": 527,
    "start_time": "2023-01-04T20:51:19.409Z"
   },
   {
    "duration": 2050,
    "start_time": "2023-01-04T20:51:19.938Z"
   },
   {
    "duration": 124,
    "start_time": "2023-01-04T20:51:21.990Z"
   },
   {
    "duration": 17,
    "start_time": "2023-01-04T20:51:22.121Z"
   },
   {
    "duration": 8,
    "start_time": "2023-01-04T20:51:22.139Z"
   },
   {
    "duration": 7,
    "start_time": "2023-01-04T20:51:22.149Z"
   },
   {
    "duration": 10,
    "start_time": "2023-01-04T20:51:22.158Z"
   },
   {
    "duration": 67,
    "start_time": "2023-01-04T20:51:22.170Z"
   },
   {
    "duration": 45,
    "start_time": "2023-01-04T20:51:22.239Z"
   },
   {
    "duration": 28,
    "start_time": "2023-01-04T20:51:59.153Z"
   },
   {
    "duration": 5,
    "start_time": "2023-01-04T20:54:19.493Z"
   },
   {
    "duration": 72,
    "start_time": "2023-01-04T20:55:45.373Z"
   },
   {
    "duration": 68,
    "start_time": "2023-01-04T20:57:01.142Z"
   },
   {
    "duration": 13,
    "start_time": "2023-01-04T20:57:28.433Z"
   },
   {
    "duration": 9,
    "start_time": "2023-01-04T20:57:39.201Z"
   },
   {
    "duration": 16,
    "start_time": "2023-01-04T20:58:57.817Z"
   },
   {
    "duration": 4,
    "start_time": "2023-01-04T20:59:33.922Z"
   },
   {
    "duration": 6,
    "start_time": "2023-01-04T20:59:39.919Z"
   },
   {
    "duration": 6,
    "start_time": "2023-01-04T20:59:53.753Z"
   },
   {
    "duration": 6,
    "start_time": "2023-01-04T20:59:58.522Z"
   },
   {
    "duration": 7,
    "start_time": "2023-01-04T21:00:02.298Z"
   },
   {
    "duration": 35,
    "start_time": "2023-01-04T21:00:18.866Z"
   },
   {
    "duration": 10,
    "start_time": "2023-01-04T21:00:26.386Z"
   },
   {
    "duration": 7,
    "start_time": "2023-01-04T21:00:32.442Z"
   },
   {
    "duration": 48,
    "start_time": "2023-01-04T21:00:45.162Z"
   },
   {
    "duration": 10,
    "start_time": "2023-01-04T21:01:00.737Z"
   },
   {
    "duration": 9,
    "start_time": "2023-01-04T21:01:09.202Z"
   },
   {
    "duration": 5,
    "start_time": "2023-01-04T21:01:20.635Z"
   },
   {
    "duration": 528,
    "start_time": "2023-01-04T21:01:29.497Z"
   },
   {
    "duration": 2100,
    "start_time": "2023-01-04T21:01:30.027Z"
   },
   {
    "duration": 5,
    "start_time": "2023-01-04T21:01:32.129Z"
   },
   {
    "duration": 14,
    "start_time": "2023-01-04T21:01:32.136Z"
   },
   {
    "duration": 136,
    "start_time": "2023-01-04T21:01:32.152Z"
   },
   {
    "duration": 32,
    "start_time": "2023-01-04T21:01:32.290Z"
   },
   {
    "duration": 9,
    "start_time": "2023-01-04T21:01:32.324Z"
   },
   {
    "duration": 16,
    "start_time": "2023-01-04T21:01:32.334Z"
   },
   {
    "duration": 6,
    "start_time": "2023-01-04T21:01:32.351Z"
   },
   {
    "duration": 39,
    "start_time": "2023-01-04T21:01:32.359Z"
   },
   {
    "duration": 49,
    "start_time": "2023-01-04T21:01:32.400Z"
   },
   {
    "duration": 21,
    "start_time": "2023-01-04T21:01:55.197Z"
   },
   {
    "duration": 454,
    "start_time": "2023-01-04T21:02:33.376Z"
   },
   {
    "duration": 2035,
    "start_time": "2023-01-04T21:02:33.832Z"
   },
   {
    "duration": 5,
    "start_time": "2023-01-04T21:02:35.870Z"
   },
   {
    "duration": 28,
    "start_time": "2023-01-04T21:02:35.877Z"
   },
   {
    "duration": 130,
    "start_time": "2023-01-04T21:02:35.907Z"
   },
   {
    "duration": 16,
    "start_time": "2023-01-04T21:02:36.038Z"
   },
   {
    "duration": 9,
    "start_time": "2023-01-04T21:02:36.056Z"
   },
   {
    "duration": 8,
    "start_time": "2023-01-04T21:02:36.066Z"
   },
   {
    "duration": 5,
    "start_time": "2023-01-04T21:02:36.075Z"
   },
   {
    "duration": 66,
    "start_time": "2023-01-04T21:02:36.082Z"
   },
   {
    "duration": 28,
    "start_time": "2023-01-04T21:02:36.149Z"
   },
   {
    "duration": 35,
    "start_time": "2023-01-04T21:06:04.111Z"
   },
   {
    "duration": 37,
    "start_time": "2023-01-04T21:08:35.760Z"
   },
   {
    "duration": 72,
    "start_time": "2023-01-04T21:10:29.051Z"
   },
   {
    "duration": 5,
    "start_time": "2023-01-04T21:16:53.815Z"
   },
   {
    "duration": 6,
    "start_time": "2023-01-04T21:17:14.170Z"
   },
   {
    "duration": 5,
    "start_time": "2023-01-04T21:17:21.649Z"
   },
   {
    "duration": 5,
    "start_time": "2023-01-04T21:20:32.568Z"
   },
   {
    "duration": 7,
    "start_time": "2023-01-04T21:24:06.028Z"
   },
   {
    "duration": 16,
    "start_time": "2023-01-04T21:24:20.432Z"
   },
   {
    "duration": 5,
    "start_time": "2023-01-04T21:24:38.211Z"
   },
   {
    "duration": 4,
    "start_time": "2023-01-04T21:26:03.916Z"
   },
   {
    "duration": 131,
    "start_time": "2023-01-04T21:26:40.518Z"
   },
   {
    "duration": 127,
    "start_time": "2023-01-04T21:26:55.108Z"
   },
   {
    "duration": 143,
    "start_time": "2023-01-04T21:27:05.112Z"
   },
   {
    "duration": 17,
    "start_time": "2023-01-04T21:30:27.220Z"
   },
   {
    "duration": 20,
    "start_time": "2023-01-04T21:30:45.832Z"
   },
   {
    "duration": 19,
    "start_time": "2023-01-04T21:31:36.673Z"
   },
   {
    "duration": 19,
    "start_time": "2023-01-04T21:33:50.834Z"
   },
   {
    "duration": 18,
    "start_time": "2023-01-04T21:34:46.795Z"
   },
   {
    "duration": 4,
    "start_time": "2023-01-04T21:37:53.996Z"
   },
   {
    "duration": 510,
    "start_time": "2023-01-04T21:38:07.810Z"
   },
   {
    "duration": 1963,
    "start_time": "2023-01-04T21:38:08.322Z"
   },
   {
    "duration": 4,
    "start_time": "2023-01-04T21:38:10.286Z"
   },
   {
    "duration": 9,
    "start_time": "2023-01-04T21:38:10.292Z"
   },
   {
    "duration": 124,
    "start_time": "2023-01-04T21:38:10.302Z"
   },
   {
    "duration": 19,
    "start_time": "2023-01-04T21:38:10.428Z"
   },
   {
    "duration": 4,
    "start_time": "2023-01-04T21:38:10.448Z"
   },
   {
    "duration": 20,
    "start_time": "2023-01-04T21:38:10.453Z"
   },
   {
    "duration": 155,
    "start_time": "2023-01-04T21:38:10.474Z"
   },
   {
    "duration": 14,
    "start_time": "2023-01-04T21:38:10.632Z"
   },
   {
    "duration": 8,
    "start_time": "2023-01-04T21:38:10.647Z"
   },
   {
    "duration": 6,
    "start_time": "2023-01-04T21:38:10.657Z"
   },
   {
    "duration": 8,
    "start_time": "2023-01-04T21:38:10.664Z"
   },
   {
    "duration": 60,
    "start_time": "2023-01-04T21:38:10.673Z"
   },
   {
    "duration": 34,
    "start_time": "2023-01-04T21:38:10.734Z"
   },
   {
    "duration": 5,
    "start_time": "2023-01-04T21:39:16.972Z"
   },
   {
    "duration": 462,
    "start_time": "2023-01-04T21:39:23.173Z"
   },
   {
    "duration": 2038,
    "start_time": "2023-01-04T21:39:23.637Z"
   },
   {
    "duration": 4,
    "start_time": "2023-01-04T21:39:25.677Z"
   },
   {
    "duration": 13,
    "start_time": "2023-01-04T21:39:25.682Z"
   },
   {
    "duration": 138,
    "start_time": "2023-01-04T21:39:25.697Z"
   },
   {
    "duration": 26,
    "start_time": "2023-01-04T21:39:25.836Z"
   },
   {
    "duration": 5,
    "start_time": "2023-01-04T21:39:25.864Z"
   },
   {
    "duration": 28,
    "start_time": "2023-01-04T21:39:25.872Z"
   },
   {
    "duration": 141,
    "start_time": "2023-01-04T21:39:25.902Z"
   },
   {
    "duration": 13,
    "start_time": "2023-01-04T21:39:26.045Z"
   },
   {
    "duration": 9,
    "start_time": "2023-01-04T21:39:26.059Z"
   },
   {
    "duration": 6,
    "start_time": "2023-01-04T21:39:26.069Z"
   },
   {
    "duration": 7,
    "start_time": "2023-01-04T21:39:26.076Z"
   },
   {
    "duration": 60,
    "start_time": "2023-01-04T21:39:26.084Z"
   },
   {
    "duration": 36,
    "start_time": "2023-01-04T21:39:26.145Z"
   },
   {
    "duration": 8,
    "start_time": "2023-01-04T21:40:28.500Z"
   },
   {
    "duration": 487,
    "start_time": "2023-01-04T21:40:41.144Z"
   },
   {
    "duration": 2044,
    "start_time": "2023-01-04T21:40:41.632Z"
   },
   {
    "duration": 5,
    "start_time": "2023-01-04T21:40:43.678Z"
   },
   {
    "duration": 11,
    "start_time": "2023-01-04T21:40:43.684Z"
   },
   {
    "duration": 138,
    "start_time": "2023-01-04T21:40:43.697Z"
   },
   {
    "duration": 21,
    "start_time": "2023-01-04T21:40:43.837Z"
   },
   {
    "duration": 21,
    "start_time": "2023-01-04T21:40:43.859Z"
   },
   {
    "duration": 14,
    "start_time": "2023-01-04T21:40:43.882Z"
   },
   {
    "duration": 149,
    "start_time": "2023-01-04T21:40:43.897Z"
   },
   {
    "duration": 18,
    "start_time": "2023-01-04T21:40:44.049Z"
   },
   {
    "duration": 12,
    "start_time": "2023-01-04T21:40:44.069Z"
   },
   {
    "duration": 7,
    "start_time": "2023-01-04T21:40:44.085Z"
   },
   {
    "duration": 35,
    "start_time": "2023-01-04T21:40:44.093Z"
   },
   {
    "duration": 51,
    "start_time": "2023-01-04T21:40:44.130Z"
   },
   {
    "duration": 60,
    "start_time": "2023-01-04T21:40:44.183Z"
   },
   {
    "duration": 24,
    "start_time": "2023-01-04T21:41:14.030Z"
   },
   {
    "duration": 151,
    "start_time": "2023-01-04T21:52:01.401Z"
   },
   {
    "duration": 14,
    "start_time": "2023-01-04T21:52:32.393Z"
   },
   {
    "duration": 19,
    "start_time": "2023-01-04T21:53:04.322Z"
   },
   {
    "duration": 21,
    "start_time": "2023-01-04T21:53:33.594Z"
   },
   {
    "duration": 21,
    "start_time": "2023-01-04T21:53:48.811Z"
   },
   {
    "duration": 19,
    "start_time": "2023-01-04T21:54:31.265Z"
   },
   {
    "duration": 149,
    "start_time": "2023-01-04T21:55:41.521Z"
   },
   {
    "duration": 500,
    "start_time": "2023-01-05T18:13:12.637Z"
   },
   {
    "duration": 2158,
    "start_time": "2023-01-05T18:13:13.138Z"
   },
   {
    "duration": 4,
    "start_time": "2023-01-05T18:13:15.297Z"
   },
   {
    "duration": 136,
    "start_time": "2023-01-05T18:13:15.302Z"
   },
   {
    "duration": 149,
    "start_time": "2023-01-05T18:13:15.440Z"
   },
   {
    "duration": 32,
    "start_time": "2023-01-05T18:13:15.590Z"
   },
   {
    "duration": 9,
    "start_time": "2023-01-05T18:13:15.624Z"
   },
   {
    "duration": 22,
    "start_time": "2023-01-05T18:13:15.634Z"
   },
   {
    "duration": 8,
    "start_time": "2023-01-05T18:13:15.658Z"
   },
   {
    "duration": 144,
    "start_time": "2023-01-05T18:13:15.668Z"
   },
   {
    "duration": 18,
    "start_time": "2023-01-05T18:13:15.822Z"
   },
   {
    "duration": 11,
    "start_time": "2023-01-05T18:13:15.841Z"
   },
   {
    "duration": 11,
    "start_time": "2023-01-05T18:13:15.854Z"
   },
   {
    "duration": 14,
    "start_time": "2023-01-05T18:13:15.869Z"
   },
   {
    "duration": 57,
    "start_time": "2023-01-05T18:13:15.885Z"
   },
   {
    "duration": 39,
    "start_time": "2023-01-05T18:13:15.944Z"
   },
   {
    "duration": 120,
    "start_time": "2023-01-05T18:13:15.985Z"
   },
   {
    "duration": 1880,
    "start_time": "2023-01-05T18:13:16.106Z"
   },
   {
    "duration": 4,
    "start_time": "2023-01-05T18:13:17.988Z"
   },
   {
    "duration": 150,
    "start_time": "2023-01-05T18:13:17.993Z"
   },
   {
    "duration": 144,
    "start_time": "2023-01-05T18:13:18.145Z"
   },
   {
    "duration": 19,
    "start_time": "2023-01-05T18:13:18.291Z"
   },
   {
    "duration": 26,
    "start_time": "2023-01-05T18:13:18.311Z"
   },
   {
    "duration": 16,
    "start_time": "2023-01-05T18:13:18.338Z"
   },
   {
    "duration": 150,
    "start_time": "2023-01-05T18:13:18.355Z"
   },
   {
    "duration": 22,
    "start_time": "2023-01-05T18:13:18.507Z"
   },
   {
    "duration": 10,
    "start_time": "2023-01-05T18:13:18.530Z"
   },
   {
    "duration": 7,
    "start_time": "2023-01-05T18:13:18.541Z"
   },
   {
    "duration": 6,
    "start_time": "2023-01-05T18:13:18.549Z"
   },
   {
    "duration": 37,
    "start_time": "2023-01-05T18:13:18.556Z"
   },
   {
    "duration": 66,
    "start_time": "2023-01-05T18:13:18.595Z"
   },
   {
    "duration": 510,
    "start_time": "2023-01-05T18:28:21.231Z"
   },
   {
    "duration": 2049,
    "start_time": "2023-01-05T18:28:21.743Z"
   },
   {
    "duration": 4,
    "start_time": "2023-01-05T18:28:23.794Z"
   },
   {
    "duration": 155,
    "start_time": "2023-01-05T18:28:23.799Z"
   },
   {
    "duration": 189,
    "start_time": "2023-01-05T18:28:23.956Z"
   },
   {
    "duration": 34,
    "start_time": "2023-01-05T18:28:24.146Z"
   },
   {
    "duration": 14,
    "start_time": "2023-01-05T18:28:24.182Z"
   },
   {
    "duration": 24,
    "start_time": "2023-01-05T18:28:24.221Z"
   },
   {
    "duration": 20,
    "start_time": "2023-01-05T18:28:24.249Z"
   },
   {
    "duration": 150,
    "start_time": "2023-01-05T18:28:24.272Z"
   },
   {
    "duration": 17,
    "start_time": "2023-01-05T18:28:24.423Z"
   },
   {
    "duration": 11,
    "start_time": "2023-01-05T18:28:24.442Z"
   },
   {
    "duration": 7,
    "start_time": "2023-01-05T18:28:24.454Z"
   },
   {
    "duration": 7,
    "start_time": "2023-01-05T18:28:24.463Z"
   },
   {
    "duration": 79,
    "start_time": "2023-01-05T18:28:24.472Z"
   },
   {
    "duration": 39,
    "start_time": "2023-01-05T18:28:24.553Z"
   },
   {
    "duration": 121,
    "start_time": "2023-01-05T18:28:24.594Z"
   },
   {
    "duration": 1890,
    "start_time": "2023-01-05T18:28:24.717Z"
   },
   {
    "duration": 15,
    "start_time": "2023-01-05T18:28:26.609Z"
   },
   {
    "duration": 153,
    "start_time": "2023-01-05T18:28:26.625Z"
   },
   {
    "duration": 154,
    "start_time": "2023-01-05T18:28:26.780Z"
   },
   {
    "duration": 19,
    "start_time": "2023-01-05T18:28:26.935Z"
   },
   {
    "duration": 16,
    "start_time": "2023-01-05T18:28:26.956Z"
   },
   {
    "duration": 15,
    "start_time": "2023-01-05T18:28:26.974Z"
   },
   {
    "duration": 167,
    "start_time": "2023-01-05T18:28:26.991Z"
   },
   {
    "duration": 15,
    "start_time": "2023-01-05T18:28:27.160Z"
   },
   {
    "duration": 12,
    "start_time": "2023-01-05T18:28:27.176Z"
   },
   {
    "duration": 31,
    "start_time": "2023-01-05T18:28:27.191Z"
   },
   {
    "duration": 6,
    "start_time": "2023-01-05T18:28:27.224Z"
   },
   {
    "duration": 38,
    "start_time": "2023-01-05T18:28:27.232Z"
   },
   {
    "duration": 65,
    "start_time": "2023-01-05T18:28:27.272Z"
   },
   {
    "duration": 22,
    "start_time": "2023-01-05T18:30:28.911Z"
   },
   {
    "duration": 5,
    "start_time": "2023-01-05T18:30:43.205Z"
   },
   {
    "duration": 364,
    "start_time": "2023-01-05T18:32:49.679Z"
   },
   {
    "duration": 287,
    "start_time": "2023-01-05T18:34:17.712Z"
   },
   {
    "duration": 509,
    "start_time": "2023-01-05T18:34:24.534Z"
   },
   {
    "duration": 2059,
    "start_time": "2023-01-05T18:34:25.045Z"
   },
   {
    "duration": 4,
    "start_time": "2023-01-05T18:34:27.105Z"
   },
   {
    "duration": 150,
    "start_time": "2023-01-05T18:34:27.111Z"
   },
   {
    "duration": 159,
    "start_time": "2023-01-05T18:34:27.263Z"
   },
   {
    "duration": 28,
    "start_time": "2023-01-05T18:34:27.423Z"
   },
   {
    "duration": 10,
    "start_time": "2023-01-05T18:34:27.453Z"
   },
   {
    "duration": 24,
    "start_time": "2023-01-05T18:34:27.464Z"
   },
   {
    "duration": 23,
    "start_time": "2023-01-05T18:34:27.490Z"
   },
   {
    "duration": 149,
    "start_time": "2023-01-05T18:34:27.514Z"
   },
   {
    "duration": 15,
    "start_time": "2023-01-05T18:34:27.664Z"
   },
   {
    "duration": 32,
    "start_time": "2023-01-05T18:34:27.680Z"
   },
   {
    "duration": 17,
    "start_time": "2023-01-05T18:34:27.713Z"
   },
   {
    "duration": 38,
    "start_time": "2023-01-05T18:34:27.733Z"
   },
   {
    "duration": 69,
    "start_time": "2023-01-05T18:34:27.773Z"
   },
   {
    "duration": 42,
    "start_time": "2023-01-05T18:34:27.844Z"
   },
   {
    "duration": 124,
    "start_time": "2023-01-05T18:34:27.888Z"
   },
   {
    "duration": 1881,
    "start_time": "2023-01-05T18:34:28.014Z"
   },
   {
    "duration": 4,
    "start_time": "2023-01-05T18:34:29.896Z"
   },
   {
    "duration": 155,
    "start_time": "2023-01-05T18:34:29.902Z"
   },
   {
    "duration": 146,
    "start_time": "2023-01-05T18:34:30.059Z"
   },
   {
    "duration": 29,
    "start_time": "2023-01-05T18:34:30.206Z"
   },
   {
    "duration": 33,
    "start_time": "2023-01-05T18:34:30.236Z"
   },
   {
    "duration": 32,
    "start_time": "2023-01-05T18:34:30.270Z"
   },
   {
    "duration": 174,
    "start_time": "2023-01-05T18:34:30.304Z"
   },
   {
    "duration": 15,
    "start_time": "2023-01-05T18:34:30.480Z"
   },
   {
    "duration": 34,
    "start_time": "2023-01-05T18:34:30.497Z"
   },
   {
    "duration": 42,
    "start_time": "2023-01-05T18:34:30.533Z"
   },
   {
    "duration": 56,
    "start_time": "2023-01-05T18:34:30.577Z"
   },
   {
    "duration": 47,
    "start_time": "2023-01-05T18:34:30.635Z"
   },
   {
    "duration": 40,
    "start_time": "2023-01-05T18:34:30.683Z"
   },
   {
    "duration": 5,
    "start_time": "2023-01-05T18:35:49.794Z"
   },
   {
    "duration": 42,
    "start_time": "2023-01-05T18:36:19.858Z"
   },
   {
    "duration": 517,
    "start_time": "2023-01-05T18:43:15.808Z"
   },
   {
    "duration": 3,
    "start_time": "2023-01-05T18:44:11.908Z"
   },
   {
    "duration": 13,
    "start_time": "2023-01-05T18:46:12.765Z"
   },
   {
    "duration": 4,
    "start_time": "2023-01-05T18:46:54.814Z"
   },
   {
    "duration": 5,
    "start_time": "2023-01-05T18:47:28.223Z"
   },
   {
    "duration": 8,
    "start_time": "2023-01-05T18:47:39.207Z"
   },
   {
    "duration": 9,
    "start_time": "2023-01-05T18:48:28.305Z"
   },
   {
    "duration": 17,
    "start_time": "2023-01-05T18:49:50.960Z"
   },
   {
    "duration": 5,
    "start_time": "2023-01-05T18:50:58.935Z"
   },
   {
    "duration": 5,
    "start_time": "2023-01-05T19:30:09.247Z"
   },
   {
    "duration": 6,
    "start_time": "2023-01-05T19:31:20.687Z"
   },
   {
    "duration": 4,
    "start_time": "2023-01-05T19:31:48.049Z"
   },
   {
    "duration": 88,
    "start_time": "2023-01-05T19:32:37.352Z"
   },
   {
    "duration": 394,
    "start_time": "2023-01-05T19:32:43.584Z"
   },
   {
    "duration": 135,
    "start_time": "2023-01-05T19:33:08.844Z"
   },
   {
    "duration": 162,
    "start_time": "2023-01-05T19:33:24.692Z"
   },
   {
    "duration": 159,
    "start_time": "2023-01-05T19:34:15.235Z"
   },
   {
    "duration": 140,
    "start_time": "2023-01-05T19:35:25.107Z"
   },
   {
    "duration": 315,
    "start_time": "2023-01-05T19:36:45.099Z"
   },
   {
    "duration": 138,
    "start_time": "2023-01-05T19:36:55.043Z"
   },
   {
    "duration": 151,
    "start_time": "2023-01-05T19:37:08.675Z"
   },
   {
    "duration": 154,
    "start_time": "2023-01-05T19:37:28.122Z"
   },
   {
    "duration": 145,
    "start_time": "2023-01-05T19:39:26.363Z"
   },
   {
    "duration": 481,
    "start_time": "2023-01-05T19:41:18.116Z"
   },
   {
    "duration": 143,
    "start_time": "2023-01-05T19:41:33.295Z"
   },
   {
    "duration": 148,
    "start_time": "2023-01-05T19:41:55.117Z"
   },
   {
    "duration": 144,
    "start_time": "2023-01-05T19:42:03.700Z"
   },
   {
    "duration": 149,
    "start_time": "2023-01-05T19:42:18.014Z"
   },
   {
    "duration": 147,
    "start_time": "2023-01-05T19:42:37.077Z"
   },
   {
    "duration": 239,
    "start_time": "2023-01-05T19:42:49.065Z"
   },
   {
    "duration": 161,
    "start_time": "2023-01-05T19:43:15.185Z"
   },
   {
    "duration": 152,
    "start_time": "2023-01-05T19:43:24.350Z"
   },
   {
    "duration": 147,
    "start_time": "2023-01-05T19:43:36.111Z"
   },
   {
    "duration": 159,
    "start_time": "2023-01-05T19:44:21.733Z"
   },
   {
    "duration": 126,
    "start_time": "2023-01-05T19:44:40.486Z"
   },
   {
    "duration": 1988,
    "start_time": "2023-01-05T19:44:41.260Z"
   },
   {
    "duration": 4,
    "start_time": "2023-01-05T19:44:43.250Z"
   },
   {
    "duration": 148,
    "start_time": "2023-01-05T19:44:44.934Z"
   },
   {
    "duration": 141,
    "start_time": "2023-01-05T19:44:46.966Z"
   },
   {
    "duration": 28,
    "start_time": "2023-01-05T19:44:49.938Z"
   },
   {
    "duration": 10,
    "start_time": "2023-01-05T19:44:52.661Z"
   },
   {
    "duration": 6,
    "start_time": "2023-01-05T19:44:53.949Z"
   },
   {
    "duration": 9,
    "start_time": "2023-01-05T19:44:56.702Z"
   },
   {
    "duration": 151,
    "start_time": "2023-01-05T19:44:59.125Z"
   },
   {
    "duration": 17,
    "start_time": "2023-01-05T19:45:03.869Z"
   },
   {
    "duration": 15,
    "start_time": "2023-01-05T19:45:06.731Z"
   },
   {
    "duration": 8,
    "start_time": "2023-01-05T19:45:09.670Z"
   },
   {
    "duration": 6,
    "start_time": "2023-01-05T19:45:12.446Z"
   },
   {
    "duration": 43,
    "start_time": "2023-01-05T19:45:13.350Z"
   },
   {
    "duration": 43,
    "start_time": "2023-01-05T19:45:16.116Z"
   },
   {
    "duration": 8,
    "start_time": "2023-01-05T19:45:22.806Z"
   },
   {
    "duration": 72,
    "start_time": "2023-01-05T19:45:23.574Z"
   },
   {
    "duration": 20,
    "start_time": "2023-01-05T19:45:33.191Z"
   },
   {
    "duration": 6,
    "start_time": "2023-01-05T19:45:44.744Z"
   },
   {
    "duration": 6,
    "start_time": "2023-01-05T19:45:55.758Z"
   },
   {
    "duration": 170,
    "start_time": "2023-01-05T19:46:00.886Z"
   },
   {
    "duration": 198,
    "start_time": "2023-01-05T19:46:44.007Z"
   },
   {
    "duration": 14,
    "start_time": "2023-01-05T19:48:33.007Z"
   },
   {
    "duration": 15,
    "start_time": "2023-01-05T19:49:37.601Z"
   },
   {
    "duration": 17,
    "start_time": "2023-01-05T19:50:00.592Z"
   },
   {
    "duration": 17,
    "start_time": "2023-01-05T19:51:39.050Z"
   },
   {
    "duration": 18,
    "start_time": "2023-01-05T19:52:04.361Z"
   },
   {
    "duration": 13,
    "start_time": "2023-01-05T19:52:33.506Z"
   },
   {
    "duration": 13,
    "start_time": "2023-01-05T19:54:14.283Z"
   },
   {
    "duration": 20,
    "start_time": "2023-01-05T19:54:27.572Z"
   },
   {
    "duration": 5,
    "start_time": "2023-01-05T19:56:06.683Z"
   },
   {
    "duration": 4,
    "start_time": "2023-01-05T19:57:52.484Z"
   },
   {
    "duration": 9,
    "start_time": "2023-01-05T19:59:15.246Z"
   },
   {
    "duration": 7,
    "start_time": "2023-01-05T19:59:20.942Z"
   },
   {
    "duration": 23,
    "start_time": "2023-01-05T19:59:26.837Z"
   },
   {
    "duration": 45,
    "start_time": "2023-01-05T19:59:51.878Z"
   },
   {
    "duration": 493,
    "start_time": "2023-01-05T20:00:05.359Z"
   },
   {
    "duration": 2121,
    "start_time": "2023-01-05T20:00:05.855Z"
   },
   {
    "duration": 5,
    "start_time": "2023-01-05T20:00:07.978Z"
   },
   {
    "duration": 158,
    "start_time": "2023-01-05T20:00:07.985Z"
   },
   {
    "duration": 163,
    "start_time": "2023-01-05T20:00:08.144Z"
   },
   {
    "duration": 37,
    "start_time": "2023-01-05T20:00:08.309Z"
   },
   {
    "duration": 11,
    "start_time": "2023-01-05T20:00:08.347Z"
   },
   {
    "duration": 5,
    "start_time": "2023-01-05T20:00:08.491Z"
   },
   {
    "duration": 11,
    "start_time": "2023-01-05T20:00:09.436Z"
   },
   {
    "duration": 162,
    "start_time": "2023-01-05T20:00:09.835Z"
   },
   {
    "duration": 16,
    "start_time": "2023-01-05T20:00:10.380Z"
   },
   {
    "duration": 12,
    "start_time": "2023-01-05T20:00:10.860Z"
   },
   {
    "duration": 7,
    "start_time": "2023-01-05T20:00:11.268Z"
   },
   {
    "duration": 6,
    "start_time": "2023-01-05T20:00:11.638Z"
   },
   {
    "duration": 64,
    "start_time": "2023-01-05T20:00:11.818Z"
   },
   {
    "duration": 42,
    "start_time": "2023-01-05T20:00:12.735Z"
   },
   {
    "duration": 10,
    "start_time": "2023-01-05T20:00:14.243Z"
   },
   {
    "duration": 7,
    "start_time": "2023-01-05T20:00:15.341Z"
   },
   {
    "duration": 6,
    "start_time": "2023-01-05T20:00:15.835Z"
   },
   {
    "duration": 5,
    "start_time": "2023-01-05T20:00:16.580Z"
   },
   {
    "duration": 142,
    "start_time": "2023-01-05T20:00:17.347Z"
   },
   {
    "duration": 19,
    "start_time": "2023-01-05T20:00:20.099Z"
   },
   {
    "duration": 66,
    "start_time": "2023-01-05T20:00:21.956Z"
   },
   {
    "duration": 16,
    "start_time": "2023-01-05T20:00:29.175Z"
   },
   {
    "duration": 20,
    "start_time": "2023-01-05T20:00:38.838Z"
   },
   {
    "duration": 21,
    "start_time": "2023-01-05T20:01:50.118Z"
   },
   {
    "duration": 21,
    "start_time": "2023-01-05T20:02:06.854Z"
   },
   {
    "duration": 21,
    "start_time": "2023-01-05T20:02:18.213Z"
   },
   {
    "duration": 23,
    "start_time": "2023-01-05T20:02:30.094Z"
   },
   {
    "duration": 48,
    "start_time": "2023-01-05T20:04:57.311Z"
   },
   {
    "duration": 309,
    "start_time": "2023-01-05T20:05:04.437Z"
   },
   {
    "duration": 303,
    "start_time": "2023-01-05T20:05:57.602Z"
   },
   {
    "duration": 70,
    "start_time": "2023-01-05T20:06:37.714Z"
   },
   {
    "duration": 22,
    "start_time": "2023-01-05T20:06:43.992Z"
   },
   {
    "duration": 12,
    "start_time": "2023-01-05T20:06:57.879Z"
   },
   {
    "duration": 16,
    "start_time": "2023-01-05T20:07:35.938Z"
   },
   {
    "duration": 128,
    "start_time": "2023-01-05T20:07:44.867Z"
   },
   {
    "duration": 1987,
    "start_time": "2023-01-05T20:07:45.025Z"
   },
   {
    "duration": 9,
    "start_time": "2023-01-05T20:07:47.014Z"
   },
   {
    "duration": 159,
    "start_time": "2023-01-05T20:07:47.025Z"
   },
   {
    "duration": 159,
    "start_time": "2023-01-05T20:07:47.186Z"
   },
   {
    "duration": 26,
    "start_time": "2023-01-05T20:07:47.346Z"
   },
   {
    "duration": 11,
    "start_time": "2023-01-05T20:07:47.401Z"
   },
   {
    "duration": 5,
    "start_time": "2023-01-05T20:07:47.840Z"
   },
   {
    "duration": 7,
    "start_time": "2023-01-05T20:07:48.159Z"
   },
   {
    "duration": 136,
    "start_time": "2023-01-05T20:07:48.508Z"
   },
   {
    "duration": 17,
    "start_time": "2023-01-05T20:07:48.993Z"
   },
   {
    "duration": 9,
    "start_time": "2023-01-05T20:07:49.360Z"
   },
   {
    "duration": 7,
    "start_time": "2023-01-05T20:07:50.695Z"
   },
   {
    "duration": 6,
    "start_time": "2023-01-05T20:07:51.216Z"
   },
   {
    "duration": 35,
    "start_time": "2023-01-05T20:07:51.720Z"
   },
   {
    "duration": 37,
    "start_time": "2023-01-05T20:07:53.035Z"
   },
   {
    "duration": 7,
    "start_time": "2023-01-05T20:07:54.353Z"
   },
   {
    "duration": 6,
    "start_time": "2023-01-05T20:07:55.960Z"
   },
   {
    "duration": 5,
    "start_time": "2023-01-05T20:07:56.956Z"
   },
   {
    "duration": 5,
    "start_time": "2023-01-05T20:07:57.888Z"
   },
   {
    "duration": 143,
    "start_time": "2023-01-05T20:07:58.961Z"
   },
   {
    "duration": 19,
    "start_time": "2023-01-05T20:08:00.794Z"
   },
   {
    "duration": 24,
    "start_time": "2023-01-05T20:08:02.289Z"
   },
   {
    "duration": 306,
    "start_time": "2023-01-05T20:08:13.792Z"
   },
   {
    "duration": 298,
    "start_time": "2023-01-05T20:08:24.610Z"
   },
   {
    "duration": 297,
    "start_time": "2023-01-05T20:08:32.203Z"
   },
   {
    "duration": 538,
    "start_time": "2023-01-05T20:08:42.410Z"
   },
   {
    "duration": 2113,
    "start_time": "2023-01-05T20:08:42.950Z"
   },
   {
    "duration": 4,
    "start_time": "2023-01-05T20:08:45.065Z"
   },
   {
    "duration": 151,
    "start_time": "2023-01-05T20:08:45.071Z"
   },
   {
    "duration": 144,
    "start_time": "2023-01-05T20:08:45.223Z"
   },
   {
    "duration": 28,
    "start_time": "2023-01-05T20:08:45.369Z"
   },
   {
    "duration": 27,
    "start_time": "2023-01-05T20:08:45.399Z"
   },
   {
    "duration": 15,
    "start_time": "2023-01-05T20:08:45.429Z"
   },
   {
    "duration": 41,
    "start_time": "2023-01-05T20:08:45.446Z"
   },
   {
    "duration": 142,
    "start_time": "2023-01-05T20:08:45.489Z"
   },
   {
    "duration": 17,
    "start_time": "2023-01-05T20:08:45.632Z"
   },
   {
    "duration": 24,
    "start_time": "2023-01-05T20:08:45.650Z"
   },
   {
    "duration": 26,
    "start_time": "2023-01-05T20:08:45.675Z"
   },
   {
    "duration": 31,
    "start_time": "2023-01-05T20:08:45.702Z"
   },
   {
    "duration": 47,
    "start_time": "2023-01-05T20:08:45.735Z"
   },
   {
    "duration": 40,
    "start_time": "2023-01-05T20:08:45.784Z"
   },
   {
    "duration": 36,
    "start_time": "2023-01-05T20:08:45.826Z"
   },
   {
    "duration": 44,
    "start_time": "2023-01-05T20:08:45.864Z"
   },
   {
    "duration": 19,
    "start_time": "2023-01-05T20:08:45.910Z"
   },
   {
    "duration": 33,
    "start_time": "2023-01-05T20:08:45.931Z"
   },
   {
    "duration": 163,
    "start_time": "2023-01-05T20:08:45.966Z"
   },
   {
    "duration": 17,
    "start_time": "2023-01-05T20:08:46.130Z"
   },
   {
    "duration": 361,
    "start_time": "2023-01-05T20:08:46.149Z"
   },
   {
    "duration": 0,
    "start_time": "2023-01-05T20:08:46.512Z"
   },
   {
    "duration": 0,
    "start_time": "2023-01-05T20:08:46.513Z"
   },
   {
    "duration": 0,
    "start_time": "2023-01-05T20:08:46.514Z"
   },
   {
    "duration": 0,
    "start_time": "2023-01-05T20:08:46.515Z"
   },
   {
    "duration": 0,
    "start_time": "2023-01-05T20:08:46.516Z"
   },
   {
    "duration": 0,
    "start_time": "2023-01-05T20:08:46.517Z"
   },
   {
    "duration": 0,
    "start_time": "2023-01-05T20:08:46.519Z"
   },
   {
    "duration": 0,
    "start_time": "2023-01-05T20:08:46.520Z"
   },
   {
    "duration": 0,
    "start_time": "2023-01-05T20:08:46.521Z"
   },
   {
    "duration": 0,
    "start_time": "2023-01-05T20:08:46.522Z"
   },
   {
    "duration": 0,
    "start_time": "2023-01-05T20:08:46.523Z"
   },
   {
    "duration": 0,
    "start_time": "2023-01-05T20:08:46.524Z"
   },
   {
    "duration": 0,
    "start_time": "2023-01-05T20:08:46.525Z"
   },
   {
    "duration": 0,
    "start_time": "2023-01-05T20:08:46.525Z"
   },
   {
    "duration": 0,
    "start_time": "2023-01-05T20:08:46.526Z"
   },
   {
    "duration": 54,
    "start_time": "2023-01-05T20:11:49.218Z"
   },
   {
    "duration": 519,
    "start_time": "2023-01-05T20:11:57.535Z"
   },
   {
    "duration": 2112,
    "start_time": "2023-01-05T20:11:58.056Z"
   },
   {
    "duration": 4,
    "start_time": "2023-01-05T20:12:00.169Z"
   },
   {
    "duration": 152,
    "start_time": "2023-01-05T20:12:00.175Z"
   },
   {
    "duration": 148,
    "start_time": "2023-01-05T20:12:00.329Z"
   },
   {
    "duration": 26,
    "start_time": "2023-01-05T20:12:00.479Z"
   },
   {
    "duration": 9,
    "start_time": "2023-01-05T20:12:00.522Z"
   },
   {
    "duration": 24,
    "start_time": "2023-01-05T20:12:00.533Z"
   },
   {
    "duration": 30,
    "start_time": "2023-01-05T20:12:00.558Z"
   },
   {
    "duration": 180,
    "start_time": "2023-01-05T20:12:00.589Z"
   },
   {
    "duration": 18,
    "start_time": "2023-01-05T20:12:00.770Z"
   },
   {
    "duration": 10,
    "start_time": "2023-01-05T20:12:00.789Z"
   },
   {
    "duration": 31,
    "start_time": "2023-01-05T20:12:00.801Z"
   },
   {
    "duration": 17,
    "start_time": "2023-01-05T20:12:00.835Z"
   },
   {
    "duration": 44,
    "start_time": "2023-01-05T20:12:00.853Z"
   },
   {
    "duration": 54,
    "start_time": "2023-01-05T20:12:00.899Z"
   },
   {
    "duration": 9,
    "start_time": "2023-01-05T20:12:00.955Z"
   },
   {
    "duration": 19,
    "start_time": "2023-01-05T20:12:00.966Z"
   },
   {
    "duration": 32,
    "start_time": "2023-01-05T20:12:00.987Z"
   },
   {
    "duration": 24,
    "start_time": "2023-01-05T20:12:01.021Z"
   },
   {
    "duration": 163,
    "start_time": "2023-01-05T20:12:01.047Z"
   },
   {
    "duration": 22,
    "start_time": "2023-01-05T20:12:01.212Z"
   },
   {
    "duration": 372,
    "start_time": "2023-01-05T20:12:01.236Z"
   },
   {
    "duration": 311,
    "start_time": "2023-01-05T20:12:23.767Z"
   },
   {
    "duration": 36,
    "start_time": "2023-01-05T20:13:19.143Z"
   },
   {
    "duration": 25,
    "start_time": "2023-01-05T20:14:07.159Z"
   },
   {
    "duration": 24,
    "start_time": "2023-01-05T20:14:16.759Z"
   },
   {
    "duration": 25,
    "start_time": "2023-01-05T20:14:30.743Z"
   },
   {
    "duration": 478,
    "start_time": "2023-01-05T20:15:50.675Z"
   },
   {
    "duration": 2176,
    "start_time": "2023-01-05T20:15:51.155Z"
   },
   {
    "duration": 4,
    "start_time": "2023-01-05T20:15:53.333Z"
   },
   {
    "duration": 152,
    "start_time": "2023-01-05T20:15:53.339Z"
   },
   {
    "duration": 160,
    "start_time": "2023-01-05T20:15:53.493Z"
   },
   {
    "duration": 27,
    "start_time": "2023-01-05T20:15:53.654Z"
   },
   {
    "duration": 10,
    "start_time": "2023-01-05T20:15:53.683Z"
   },
   {
    "duration": 29,
    "start_time": "2023-01-05T20:15:53.695Z"
   },
   {
    "duration": 10,
    "start_time": "2023-01-05T20:15:53.725Z"
   },
   {
    "duration": 159,
    "start_time": "2023-01-05T20:15:53.737Z"
   },
   {
    "duration": 29,
    "start_time": "2023-01-05T20:15:53.898Z"
   },
   {
    "duration": 9,
    "start_time": "2023-01-05T20:15:53.929Z"
   },
   {
    "duration": 11,
    "start_time": "2023-01-05T20:15:53.939Z"
   },
   {
    "duration": 10,
    "start_time": "2023-01-05T20:15:53.952Z"
   },
   {
    "duration": 59,
    "start_time": "2023-01-05T20:15:53.964Z"
   },
   {
    "duration": 51,
    "start_time": "2023-01-05T20:15:54.024Z"
   },
   {
    "duration": 9,
    "start_time": "2023-01-05T20:15:54.077Z"
   },
   {
    "duration": 34,
    "start_time": "2023-01-05T20:15:54.088Z"
   },
   {
    "duration": 6,
    "start_time": "2023-01-05T20:15:54.124Z"
   },
   {
    "duration": 14,
    "start_time": "2023-01-05T20:15:54.132Z"
   },
   {
    "duration": 199,
    "start_time": "2023-01-05T20:15:54.148Z"
   },
   {
    "duration": 17,
    "start_time": "2023-01-05T20:15:54.349Z"
   },
   {
    "duration": 13,
    "start_time": "2023-01-05T20:15:54.368Z"
   },
   {
    "duration": 522,
    "start_time": "2023-01-06T18:01:23.455Z"
   },
   {
    "duration": 2436,
    "start_time": "2023-01-06T18:01:23.980Z"
   },
   {
    "duration": 8,
    "start_time": "2023-01-06T18:01:26.418Z"
   },
   {
    "duration": 185,
    "start_time": "2023-01-06T18:01:26.428Z"
   },
   {
    "duration": 163,
    "start_time": "2023-01-06T18:01:26.623Z"
   },
   {
    "duration": 42,
    "start_time": "2023-01-06T18:01:26.787Z"
   },
   {
    "duration": 17,
    "start_time": "2023-01-06T18:01:26.830Z"
   },
   {
    "duration": 6,
    "start_time": "2023-01-06T18:01:26.849Z"
   },
   {
    "duration": 11,
    "start_time": "2023-01-06T18:01:26.856Z"
   },
   {
    "duration": 186,
    "start_time": "2023-01-06T18:01:26.869Z"
   },
   {
    "duration": 19,
    "start_time": "2023-01-06T18:01:27.057Z"
   },
   {
    "duration": 10,
    "start_time": "2023-01-06T18:01:27.078Z"
   },
   {
    "duration": 36,
    "start_time": "2023-01-06T18:01:27.089Z"
   },
   {
    "duration": 13,
    "start_time": "2023-01-06T18:01:27.128Z"
   },
   {
    "duration": 38,
    "start_time": "2023-01-06T18:01:27.143Z"
   },
   {
    "duration": 62,
    "start_time": "2023-01-06T18:01:27.183Z"
   },
   {
    "duration": 8,
    "start_time": "2023-01-06T18:01:27.247Z"
   },
   {
    "duration": 6,
    "start_time": "2023-01-06T18:01:27.257Z"
   },
   {
    "duration": 5,
    "start_time": "2023-01-06T18:01:27.265Z"
   },
   {
    "duration": 5,
    "start_time": "2023-01-06T18:01:27.272Z"
   },
   {
    "duration": 207,
    "start_time": "2023-01-06T18:01:27.278Z"
   },
   {
    "duration": 19,
    "start_time": "2023-01-06T18:01:27.486Z"
   },
   {
    "duration": 36,
    "start_time": "2023-01-06T18:01:27.507Z"
   },
   {
    "duration": 24,
    "start_time": "2023-01-06T18:05:05.644Z"
   },
   {
    "duration": 760,
    "start_time": "2023-01-06T18:05:29.425Z"
   },
   {
    "duration": 640,
    "start_time": "2023-01-06T18:05:42.045Z"
   },
   {
    "duration": 2816,
    "start_time": "2023-01-06T18:05:42.688Z"
   },
   {
    "duration": 4,
    "start_time": "2023-01-06T18:05:45.506Z"
   },
   {
    "duration": 306,
    "start_time": "2023-01-06T18:05:45.512Z"
   },
   {
    "duration": 226,
    "start_time": "2023-01-06T18:05:45.829Z"
   },
   {
    "duration": 40,
    "start_time": "2023-01-06T18:05:46.063Z"
   },
   {
    "duration": 25,
    "start_time": "2023-01-06T18:05:46.106Z"
   },
   {
    "duration": 63,
    "start_time": "2023-01-06T18:05:46.133Z"
   },
   {
    "duration": 14,
    "start_time": "2023-01-06T18:05:46.198Z"
   },
   {
    "duration": 201,
    "start_time": "2023-01-06T18:05:46.214Z"
   },
   {
    "duration": 30,
    "start_time": "2023-01-06T18:05:46.417Z"
   },
   {
    "duration": 54,
    "start_time": "2023-01-06T18:05:46.449Z"
   },
   {
    "duration": 10,
    "start_time": "2023-01-06T18:05:46.505Z"
   },
   {
    "duration": 55,
    "start_time": "2023-01-06T18:05:46.518Z"
   },
   {
    "duration": 81,
    "start_time": "2023-01-06T18:05:46.575Z"
   },
   {
    "duration": 80,
    "start_time": "2023-01-06T18:05:46.658Z"
   },
   {
    "duration": 18,
    "start_time": "2023-01-06T18:05:46.754Z"
   },
   {
    "duration": 26,
    "start_time": "2023-01-06T18:05:46.774Z"
   },
   {
    "duration": 6,
    "start_time": "2023-01-06T18:05:46.802Z"
   },
   {
    "duration": 25,
    "start_time": "2023-01-06T18:05:46.810Z"
   },
   {
    "duration": 269,
    "start_time": "2023-01-06T18:05:46.837Z"
   },
   {
    "duration": 31,
    "start_time": "2023-01-06T18:05:47.108Z"
   },
   {
    "duration": 39,
    "start_time": "2023-01-06T18:05:47.141Z"
   },
   {
    "duration": 6,
    "start_time": "2023-01-06T18:10:08.644Z"
   },
   {
    "duration": 36,
    "start_time": "2023-01-06T18:10:18.082Z"
   },
   {
    "duration": 5,
    "start_time": "2023-01-06T18:10:38.068Z"
   },
   {
    "duration": 34,
    "start_time": "2023-01-06T18:11:21.292Z"
   },
   {
    "duration": 15,
    "start_time": "2023-01-06T18:11:26.499Z"
   },
   {
    "duration": 128,
    "start_time": "2023-01-06T18:42:29.171Z"
   },
   {
    "duration": 9,
    "start_time": "2023-01-06T18:43:46.144Z"
   },
   {
    "duration": 262,
    "start_time": "2023-01-06T18:44:27.974Z"
   },
   {
    "duration": 135,
    "start_time": "2023-01-06T18:44:33.390Z"
   },
   {
    "duration": 101,
    "start_time": "2023-01-06T18:44:48.144Z"
   },
   {
    "duration": 101,
    "start_time": "2023-01-06T18:45:29.447Z"
   },
   {
    "duration": 214,
    "start_time": "2023-01-06T18:45:37.390Z"
   },
   {
    "duration": 100,
    "start_time": "2023-01-06T18:45:38.549Z"
   },
   {
    "duration": 55,
    "start_time": "2023-01-06T18:46:01.303Z"
   },
   {
    "duration": 101,
    "start_time": "2023-01-06T18:46:15.511Z"
   },
   {
    "duration": 52,
    "start_time": "2023-01-06T18:46:16.920Z"
   },
   {
    "duration": 108,
    "start_time": "2023-01-06T18:54:27.746Z"
   },
   {
    "duration": 108,
    "start_time": "2023-01-06T18:55:24.267Z"
   },
   {
    "duration": 82,
    "start_time": "2023-01-06T18:55:35.020Z"
   },
   {
    "duration": 918,
    "start_time": "2023-01-06T18:55:44.302Z"
   },
   {
    "duration": 52,
    "start_time": "2023-01-06T18:55:49.868Z"
   },
   {
    "duration": 115,
    "start_time": "2023-01-06T18:58:34.041Z"
   },
   {
    "duration": 96,
    "start_time": "2023-01-06T18:58:54.386Z"
   },
   {
    "duration": 330,
    "start_time": "2023-01-06T18:59:03.874Z"
   },
   {
    "duration": 44,
    "start_time": "2023-01-06T18:59:05.593Z"
   },
   {
    "duration": 4,
    "start_time": "2023-01-06T19:00:28.128Z"
   },
   {
    "duration": 47,
    "start_time": "2023-01-06T19:00:29.193Z"
   },
   {
    "duration": 96,
    "start_time": "2023-01-06T19:00:43.457Z"
   },
   {
    "duration": 72,
    "start_time": "2023-01-06T19:01:16.367Z"
   },
   {
    "duration": 71,
    "start_time": "2023-01-06T19:04:41.304Z"
   },
   {
    "duration": 506,
    "start_time": "2023-01-06T19:04:49.773Z"
   },
   {
    "duration": 44,
    "start_time": "2023-01-06T19:04:51.247Z"
   },
   {
    "duration": 46,
    "start_time": "2023-01-09T08:59:54.614Z"
   },
   {
    "duration": 1089,
    "start_time": "2023-01-09T09:04:42.055Z"
   },
   {
    "duration": 2430,
    "start_time": "2023-01-09T09:04:43.146Z"
   },
   {
    "duration": 5,
    "start_time": "2023-01-09T09:04:45.577Z"
   },
   {
    "duration": 148,
    "start_time": "2023-01-09T09:04:45.584Z"
   },
   {
    "duration": 168,
    "start_time": "2023-01-09T09:04:45.734Z"
   },
   {
    "duration": 30,
    "start_time": "2023-01-09T09:04:45.904Z"
   },
   {
    "duration": 9,
    "start_time": "2023-01-09T09:04:45.936Z"
   },
   {
    "duration": 10,
    "start_time": "2023-01-09T09:04:45.947Z"
   },
   {
    "duration": 11,
    "start_time": "2023-01-09T09:04:45.958Z"
   },
   {
    "duration": 160,
    "start_time": "2023-01-09T09:04:45.972Z"
   },
   {
    "duration": 18,
    "start_time": "2023-01-09T09:04:46.133Z"
   },
   {
    "duration": 12,
    "start_time": "2023-01-09T09:04:46.153Z"
   },
   {
    "duration": 9,
    "start_time": "2023-01-09T09:04:46.166Z"
   },
   {
    "duration": 19,
    "start_time": "2023-01-09T09:04:46.176Z"
   },
   {
    "duration": 61,
    "start_time": "2023-01-09T09:04:46.197Z"
   },
   {
    "duration": 69,
    "start_time": "2023-01-09T09:04:46.260Z"
   },
   {
    "duration": 8,
    "start_time": "2023-01-09T09:04:46.330Z"
   },
   {
    "duration": 23,
    "start_time": "2023-01-09T09:04:46.340Z"
   },
   {
    "duration": 32,
    "start_time": "2023-01-09T09:04:46.365Z"
   },
   {
    "duration": 21,
    "start_time": "2023-01-09T09:04:46.399Z"
   },
   {
    "duration": 176,
    "start_time": "2023-01-09T09:04:46.422Z"
   },
   {
    "duration": 24,
    "start_time": "2023-01-09T09:04:46.600Z"
   },
   {
    "duration": 14,
    "start_time": "2023-01-09T09:04:46.626Z"
   },
   {
    "duration": 19,
    "start_time": "2023-01-09T09:04:46.642Z"
   },
   {
    "duration": 152,
    "start_time": "2023-01-09T09:04:46.663Z"
   },
   {
    "duration": 65,
    "start_time": "2023-01-09T09:04:46.817Z"
   },
   {
    "duration": 80,
    "start_time": "2023-01-09T09:04:46.884Z"
   },
   {
    "duration": 275,
    "start_time": "2023-01-09T09:04:46.967Z"
   },
   {
    "duration": 36,
    "start_time": "2023-01-09T09:04:47.244Z"
   },
   {
    "duration": 36,
    "start_time": "2023-01-09T09:05:52.230Z"
   },
   {
    "duration": 15,
    "start_time": "2023-01-09T09:06:01.316Z"
   },
   {
    "duration": 7,
    "start_time": "2023-01-09T09:06:07.181Z"
   },
   {
    "duration": 4,
    "start_time": "2023-01-09T09:07:00.267Z"
   },
   {
    "duration": 7,
    "start_time": "2023-01-09T09:07:12.216Z"
   },
   {
    "duration": 68,
    "start_time": "2023-01-09T09:07:33.926Z"
   },
   {
    "duration": 8,
    "start_time": "2023-01-09T09:07:40.435Z"
   },
   {
    "duration": 10,
    "start_time": "2023-01-09T09:07:50.946Z"
   },
   {
    "duration": 9,
    "start_time": "2023-01-09T09:07:54.023Z"
   },
   {
    "duration": 11,
    "start_time": "2023-01-09T09:09:27.896Z"
   },
   {
    "duration": 8,
    "start_time": "2023-01-09T09:10:33.584Z"
   },
   {
    "duration": 8,
    "start_time": "2023-01-09T09:10:38.720Z"
   },
   {
    "duration": 15,
    "start_time": "2023-01-09T09:11:27.143Z"
   },
   {
    "duration": 12,
    "start_time": "2023-01-09T09:11:52.687Z"
   },
   {
    "duration": 13,
    "start_time": "2023-01-09T09:12:29.559Z"
   },
   {
    "duration": 13,
    "start_time": "2023-01-09T09:12:40.334Z"
   },
   {
    "duration": 28,
    "start_time": "2023-01-09T09:13:25.077Z"
   },
   {
    "duration": 23,
    "start_time": "2023-01-09T09:14:07.957Z"
   },
   {
    "duration": 17,
    "start_time": "2023-01-09T09:14:25.629Z"
   },
   {
    "duration": 17,
    "start_time": "2023-01-09T09:21:16.924Z"
   },
   {
    "duration": 8,
    "start_time": "2023-01-09T09:21:36.677Z"
   },
   {
    "duration": 7,
    "start_time": "2023-01-09T09:21:45.790Z"
   },
   {
    "duration": 5,
    "start_time": "2023-01-09T09:21:52.532Z"
   },
   {
    "duration": 9,
    "start_time": "2023-01-09T09:25:04.918Z"
   },
   {
    "duration": 3,
    "start_time": "2023-01-09T09:25:14.108Z"
   },
   {
    "duration": 4,
    "start_time": "2023-01-09T09:25:25.546Z"
   },
   {
    "duration": 4,
    "start_time": "2023-01-09T09:25:26.717Z"
   },
   {
    "duration": 143,
    "start_time": "2023-01-09T09:25:27.122Z"
   },
   {
    "duration": 70,
    "start_time": "2023-01-09T09:25:30.234Z"
   },
   {
    "duration": 69,
    "start_time": "2023-01-09T09:25:30.627Z"
   },
   {
    "duration": 290,
    "start_time": "2023-01-09T09:25:31.121Z"
   },
   {
    "duration": 6,
    "start_time": "2023-01-09T09:25:31.812Z"
   },
   {
    "duration": 150,
    "start_time": "2023-01-09T09:31:25.709Z"
   },
   {
    "duration": 267,
    "start_time": "2023-01-09T09:31:34.127Z"
   },
   {
    "duration": 161,
    "start_time": "2023-01-09T09:55:38.228Z"
   },
   {
    "duration": 173,
    "start_time": "2023-01-09T09:56:04.811Z"
   },
   {
    "duration": 153,
    "start_time": "2023-01-09T09:56:13.644Z"
   },
   {
    "duration": 10,
    "start_time": "2023-01-09T10:01:20.375Z"
   },
   {
    "duration": 15,
    "start_time": "2023-01-09T10:01:26.501Z"
   },
   {
    "duration": 157,
    "start_time": "2023-01-09T10:01:42.279Z"
   },
   {
    "duration": 129,
    "start_time": "2023-01-09T10:01:53.430Z"
   },
   {
    "duration": 2203,
    "start_time": "2023-01-09T10:01:53.605Z"
   },
   {
    "duration": 6,
    "start_time": "2023-01-09T10:01:55.821Z"
   },
   {
    "duration": 185,
    "start_time": "2023-01-09T10:01:55.829Z"
   },
   {
    "duration": 156,
    "start_time": "2023-01-09T10:01:58.350Z"
   },
   {
    "duration": 117,
    "start_time": "2023-01-09T10:02:18.670Z"
   },
   {
    "duration": 160,
    "start_time": "2023-01-09T10:02:25.525Z"
   },
   {
    "duration": 168,
    "start_time": "2023-01-09T10:02:48.254Z"
   },
   {
    "duration": 134,
    "start_time": "2023-01-09T10:03:23.277Z"
   },
   {
    "duration": 2226,
    "start_time": "2023-01-09T10:03:23.532Z"
   },
   {
    "duration": 4,
    "start_time": "2023-01-09T10:03:25.760Z"
   },
   {
    "duration": 196,
    "start_time": "2023-01-09T10:03:25.765Z"
   },
   {
    "duration": 130,
    "start_time": "2023-01-09T10:03:31.108Z"
   },
   {
    "duration": 156,
    "start_time": "2023-01-09T10:03:32.172Z"
   },
   {
    "duration": 16,
    "start_time": "2023-01-09T10:05:18.045Z"
   },
   {
    "duration": 7,
    "start_time": "2023-01-09T10:05:18.410Z"
   },
   {
    "duration": 11,
    "start_time": "2023-01-09T10:05:18.715Z"
   },
   {
    "duration": 231,
    "start_time": "2023-01-09T10:05:19.036Z"
   },
   {
    "duration": 25,
    "start_time": "2023-01-09T10:05:19.643Z"
   },
   {
    "duration": 11,
    "start_time": "2023-01-09T10:05:19.946Z"
   },
   {
    "duration": 9,
    "start_time": "2023-01-09T10:05:20.310Z"
   },
   {
    "duration": 7,
    "start_time": "2023-01-09T10:05:20.578Z"
   },
   {
    "duration": 46,
    "start_time": "2023-01-09T10:05:20.747Z"
   },
   {
    "duration": 45,
    "start_time": "2023-01-09T10:05:21.236Z"
   },
   {
    "duration": 11,
    "start_time": "2023-01-09T10:05:21.724Z"
   },
   {
    "duration": 8,
    "start_time": "2023-01-09T10:05:22.379Z"
   },
   {
    "duration": 5,
    "start_time": "2023-01-09T10:05:22.715Z"
   },
   {
    "duration": 5,
    "start_time": "2023-01-09T10:05:23.155Z"
   },
   {
    "duration": 163,
    "start_time": "2023-01-09T10:05:23.511Z"
   },
   {
    "duration": 20,
    "start_time": "2023-01-09T10:05:25.211Z"
   },
   {
    "duration": 16,
    "start_time": "2023-01-09T10:05:26.607Z"
   },
   {
    "duration": 4,
    "start_time": "2023-01-09T10:05:27.954Z"
   },
   {
    "duration": 5,
    "start_time": "2023-01-09T10:05:29.436Z"
   },
   {
    "duration": 209,
    "start_time": "2023-01-09T10:05:29.875Z"
   },
   {
    "duration": 69,
    "start_time": "2023-01-09T10:05:30.355Z"
   },
   {
    "duration": 69,
    "start_time": "2023-01-09T10:05:30.842Z"
   },
   {
    "duration": 336,
    "start_time": "2023-01-09T10:05:31.177Z"
   },
   {
    "duration": 6,
    "start_time": "2023-01-09T10:05:31.835Z"
   },
   {
    "duration": 150,
    "start_time": "2023-01-09T10:05:32.635Z"
   },
   {
    "duration": 156,
    "start_time": "2023-01-09T10:07:13.711Z"
   },
   {
    "duration": 127,
    "start_time": "2023-01-09T10:07:45.214Z"
   },
   {
    "duration": 538,
    "start_time": "2023-01-09T11:00:01.874Z"
   },
   {
    "duration": 2370,
    "start_time": "2023-01-09T11:00:02.414Z"
   },
   {
    "duration": 5,
    "start_time": "2023-01-09T11:00:04.786Z"
   },
   {
    "duration": 147,
    "start_time": "2023-01-09T11:00:04.793Z"
   },
   {
    "duration": 128,
    "start_time": "2023-01-09T11:00:04.941Z"
   },
   {
    "duration": 156,
    "start_time": "2023-01-09T11:00:05.071Z"
   },
   {
    "duration": 28,
    "start_time": "2023-01-09T11:00:05.229Z"
   },
   {
    "duration": 16,
    "start_time": "2023-01-09T11:00:05.258Z"
   },
   {
    "duration": 16,
    "start_time": "2023-01-09T11:00:05.275Z"
   },
   {
    "duration": 29,
    "start_time": "2023-01-09T11:00:05.294Z"
   },
   {
    "duration": 142,
    "start_time": "2023-01-09T11:00:05.325Z"
   },
   {
    "duration": 16,
    "start_time": "2023-01-09T11:00:05.468Z"
   },
   {
    "duration": 34,
    "start_time": "2023-01-09T11:00:05.486Z"
   },
   {
    "duration": 24,
    "start_time": "2023-01-09T11:00:05.522Z"
   },
   {
    "duration": 16,
    "start_time": "2023-01-09T11:00:05.548Z"
   },
   {
    "duration": 51,
    "start_time": "2023-01-09T11:00:05.566Z"
   },
   {
    "duration": 40,
    "start_time": "2023-01-09T11:00:05.618Z"
   },
   {
    "duration": 10,
    "start_time": "2023-01-09T11:00:05.660Z"
   },
   {
    "duration": 15,
    "start_time": "2023-01-09T11:00:05.672Z"
   },
   {
    "duration": 26,
    "start_time": "2023-01-09T11:00:05.689Z"
   },
   {
    "duration": 33,
    "start_time": "2023-01-09T11:00:05.717Z"
   },
   {
    "duration": 195,
    "start_time": "2023-01-09T11:00:05.752Z"
   },
   {
    "duration": 20,
    "start_time": "2023-01-09T11:00:05.949Z"
   },
   {
    "duration": 16,
    "start_time": "2023-01-09T11:00:05.971Z"
   },
   {
    "duration": 5,
    "start_time": "2023-01-09T11:00:05.989Z"
   },
   {
    "duration": 31,
    "start_time": "2023-01-09T11:00:05.996Z"
   },
   {
    "duration": 160,
    "start_time": "2023-01-09T11:00:06.028Z"
   },
   {
    "duration": 70,
    "start_time": "2023-01-09T11:00:06.191Z"
   },
   {
    "duration": 63,
    "start_time": "2023-01-09T11:00:06.263Z"
   },
   {
    "duration": 267,
    "start_time": "2023-01-09T11:00:06.328Z"
   },
   {
    "duration": 5,
    "start_time": "2023-01-09T11:00:06.597Z"
   },
   {
    "duration": 169,
    "start_time": "2023-01-09T11:00:06.604Z"
   },
   {
    "duration": 236,
    "start_time": "2023-01-09T11:00:06.774Z"
   },
   {
    "duration": 116,
    "start_time": "2023-01-09T11:00:07.022Z"
   },
   {
    "duration": 146,
    "start_time": "2023-01-09T11:01:12.019Z"
   },
   {
    "duration": 101,
    "start_time": "2023-01-09T11:03:21.295Z"
   },
   {
    "duration": 139,
    "start_time": "2023-01-09T11:24:38.470Z"
   },
   {
    "duration": 167,
    "start_time": "2023-01-09T11:26:01.380Z"
   },
   {
    "duration": 96,
    "start_time": "2023-01-09T11:26:45.301Z"
   },
   {
    "duration": 92,
    "start_time": "2023-01-09T11:26:59.011Z"
   },
   {
    "duration": 92,
    "start_time": "2023-01-09T11:27:13.660Z"
   },
   {
    "duration": 98,
    "start_time": "2023-01-09T11:27:20.139Z"
   },
   {
    "duration": 89,
    "start_time": "2023-01-09T11:27:25.340Z"
   },
   {
    "duration": 93,
    "start_time": "2023-01-09T11:27:33.875Z"
   },
   {
    "duration": 111,
    "start_time": "2023-01-09T11:27:46.827Z"
   },
   {
    "duration": 88,
    "start_time": "2023-01-09T11:27:58.339Z"
   },
   {
    "duration": 98,
    "start_time": "2023-01-09T11:28:27.691Z"
   },
   {
    "duration": 224,
    "start_time": "2023-01-09T11:42:17.077Z"
   },
   {
    "duration": 172,
    "start_time": "2023-01-09T11:42:49.804Z"
   },
   {
    "duration": 167,
    "start_time": "2023-01-09T11:42:56.076Z"
   },
   {
    "duration": 32,
    "start_time": "2023-01-09T11:48:37.158Z"
   },
   {
    "duration": 39,
    "start_time": "2023-01-09T11:48:46.256Z"
   },
   {
    "duration": 16,
    "start_time": "2023-01-09T11:53:49.595Z"
   },
   {
    "duration": 17,
    "start_time": "2023-01-09T11:54:11.995Z"
   },
   {
    "duration": 14,
    "start_time": "2023-01-09T11:54:21.012Z"
   },
   {
    "duration": 2639,
    "start_time": "2023-01-09T12:22:36.606Z"
   },
   {
    "duration": 4,
    "start_time": "2023-01-09T12:22:39.247Z"
   },
   {
    "duration": 220,
    "start_time": "2023-01-09T12:22:39.252Z"
   },
   {
    "duration": 125,
    "start_time": "2023-01-09T12:22:41.523Z"
   },
   {
    "duration": 156,
    "start_time": "2023-01-09T12:22:43.123Z"
   },
   {
    "duration": 12,
    "start_time": "2023-01-09T12:22:45.986Z"
   },
   {
    "duration": 14,
    "start_time": "2023-01-09T12:22:56.985Z"
   },
   {
    "duration": 5,
    "start_time": "2023-01-09T12:22:58.305Z"
   },
   {
    "duration": 7,
    "start_time": "2023-01-09T12:22:59.978Z"
   },
   {
    "duration": 25,
    "start_time": "2023-01-09T12:23:02.778Z"
   },
   {
    "duration": 117,
    "start_time": "2023-01-09T12:23:07.250Z"
   },
   {
    "duration": 2006,
    "start_time": "2023-01-09T12:23:08.122Z"
   },
   {
    "duration": 4,
    "start_time": "2023-01-09T12:23:10.130Z"
   },
   {
    "duration": 168,
    "start_time": "2023-01-09T12:23:10.135Z"
   },
   {
    "duration": 124,
    "start_time": "2023-01-09T12:23:10.305Z"
   },
   {
    "duration": 160,
    "start_time": "2023-01-09T12:23:10.431Z"
   },
   {
    "duration": 25,
    "start_time": "2023-01-09T12:23:11.170Z"
   },
   {
    "duration": 9,
    "start_time": "2023-01-09T12:23:12.562Z"
   },
   {
    "duration": 5,
    "start_time": "2023-01-09T12:23:12.937Z"
   },
   {
    "duration": 8,
    "start_time": "2023-01-09T12:23:13.616Z"
   },
   {
    "duration": 170,
    "start_time": "2023-01-09T12:23:14.058Z"
   },
   {
    "duration": 16,
    "start_time": "2023-01-09T12:23:15.146Z"
   },
   {
    "duration": 8,
    "start_time": "2023-01-09T12:24:59.288Z"
   },
   {
    "duration": 50,
    "start_time": "2023-01-09T12:26:03.912Z"
   },
   {
    "duration": 17,
    "start_time": "2023-01-09T12:26:19.056Z"
   },
   {
    "duration": 7,
    "start_time": "2023-01-09T12:26:40.904Z"
   },
   {
    "duration": 8,
    "start_time": "2023-01-09T12:27:37.062Z"
   },
   {
    "duration": 6,
    "start_time": "2023-01-09T12:27:45.495Z"
   },
   {
    "duration": 5,
    "start_time": "2023-01-09T12:27:49.670Z"
   },
   {
    "duration": 5,
    "start_time": "2023-01-09T12:27:50.414Z"
   },
   {
    "duration": 149,
    "start_time": "2023-01-09T12:27:51.247Z"
   },
   {
    "duration": 20,
    "start_time": "2023-01-09T12:27:53.694Z"
   },
   {
    "duration": 8,
    "start_time": "2023-01-09T12:28:08.006Z"
   },
   {
    "duration": 7,
    "start_time": "2023-01-09T12:28:21.567Z"
   },
   {
    "duration": 14,
    "start_time": "2023-01-09T12:28:29.030Z"
   },
   {
    "duration": 3,
    "start_time": "2023-01-09T12:28:42.917Z"
   },
   {
    "duration": 4,
    "start_time": "2023-01-09T12:28:50.285Z"
   },
   {
    "duration": 214,
    "start_time": "2023-01-09T12:28:50.941Z"
   },
   {
    "duration": 72,
    "start_time": "2023-01-09T12:28:51.541Z"
   },
   {
    "duration": 71,
    "start_time": "2023-01-09T12:28:52.213Z"
   },
   {
    "duration": 282,
    "start_time": "2023-01-09T12:28:52.999Z"
   },
   {
    "duration": 7,
    "start_time": "2023-01-09T12:28:54.157Z"
   },
   {
    "duration": 164,
    "start_time": "2023-01-09T12:28:56.805Z"
   },
   {
    "duration": 157,
    "start_time": "2023-01-09T12:28:59.910Z"
   },
   {
    "duration": 120,
    "start_time": "2023-01-09T12:29:00.212Z"
   },
   {
    "duration": 148,
    "start_time": "2023-01-09T12:29:01.225Z"
   },
   {
    "duration": 105,
    "start_time": "2023-01-09T12:29:01.629Z"
   },
   {
    "duration": 166,
    "start_time": "2023-01-09T12:29:04.309Z"
   },
   {
    "duration": 176,
    "start_time": "2023-01-09T12:30:21.716Z"
   },
   {
    "duration": 155,
    "start_time": "2023-01-09T12:30:35.348Z"
   },
   {
    "duration": 156,
    "start_time": "2023-01-09T12:30:42.581Z"
   },
   {
    "duration": 214,
    "start_time": "2023-01-09T12:32:29.970Z"
   },
   {
    "duration": 353,
    "start_time": "2023-01-09T12:32:37.115Z"
   },
   {
    "duration": 155,
    "start_time": "2023-01-09T12:37:07.190Z"
   },
   {
    "duration": 12,
    "start_time": "2023-01-09T12:39:04.238Z"
   },
   {
    "duration": 153,
    "start_time": "2023-01-09T12:39:15.990Z"
   },
   {
    "duration": 3,
    "start_time": "2023-01-09T12:39:32.205Z"
   },
   {
    "duration": 13,
    "start_time": "2023-01-09T12:39:34.077Z"
   },
   {
    "duration": 10,
    "start_time": "2023-01-09T12:39:46.565Z"
   },
   {
    "duration": 10,
    "start_time": "2023-01-09T12:39:50.173Z"
   },
   {
    "duration": 3,
    "start_time": "2023-01-09T12:39:54.958Z"
   },
   {
    "duration": 62,
    "start_time": "2023-01-09T12:39:56.147Z"
   },
   {
    "duration": 67,
    "start_time": "2023-01-09T12:39:56.916Z"
   },
   {
    "duration": 63,
    "start_time": "2023-01-09T12:39:57.292Z"
   },
   {
    "duration": 298,
    "start_time": "2023-01-09T12:39:57.644Z"
   },
   {
    "duration": 7,
    "start_time": "2023-01-09T12:39:58.171Z"
   },
   {
    "duration": 151,
    "start_time": "2023-01-09T12:39:59.679Z"
   },
   {
    "duration": 340,
    "start_time": "2023-01-09T12:40:01.173Z"
   },
   {
    "duration": 133,
    "start_time": "2023-01-09T12:40:01.621Z"
   },
   {
    "duration": 158,
    "start_time": "2023-01-09T12:40:02.518Z"
   },
   {
    "duration": 100,
    "start_time": "2023-01-09T12:40:02.712Z"
   },
   {
    "duration": 177,
    "start_time": "2023-01-09T12:40:03.516Z"
   },
   {
    "duration": 165,
    "start_time": "2023-01-09T12:40:09.029Z"
   },
   {
    "duration": 10,
    "start_time": "2023-01-09T12:40:59.341Z"
   },
   {
    "duration": 167,
    "start_time": "2023-01-09T12:41:15.916Z"
   },
   {
    "duration": 193,
    "start_time": "2023-01-09T12:41:23.804Z"
   },
   {
    "duration": 17,
    "start_time": "2023-01-09T12:42:19.075Z"
   },
   {
    "duration": 162,
    "start_time": "2023-01-09T12:42:52.883Z"
   },
   {
    "duration": 159,
    "start_time": "2023-01-09T12:43:19.154Z"
   },
   {
    "duration": 169,
    "start_time": "2023-01-09T12:43:25.868Z"
   },
   {
    "duration": 208,
    "start_time": "2023-01-09T12:43:31.539Z"
   },
   {
    "duration": 155,
    "start_time": "2023-01-09T12:43:40.658Z"
   },
   {
    "duration": 145,
    "start_time": "2023-01-09T12:43:51.170Z"
   },
   {
    "duration": 174,
    "start_time": "2023-01-09T12:44:32.930Z"
   },
   {
    "duration": 151,
    "start_time": "2023-01-09T12:44:46.833Z"
   },
   {
    "duration": 139,
    "start_time": "2023-01-09T12:44:47.736Z"
   },
   {
    "duration": 138,
    "start_time": "2023-01-09T12:44:58.817Z"
   },
   {
    "duration": 131,
    "start_time": "2023-01-09T12:45:14.929Z"
   },
   {
    "duration": 129,
    "start_time": "2023-01-09T12:45:25.562Z"
   },
   {
    "duration": 141,
    "start_time": "2023-01-09T12:45:37.193Z"
   },
   {
    "duration": 147,
    "start_time": "2023-01-09T12:46:06.585Z"
   },
   {
    "duration": 189,
    "start_time": "2023-01-09T12:46:19.177Z"
   },
   {
    "duration": 149,
    "start_time": "2023-01-09T12:46:29.216Z"
   },
   {
    "duration": 343,
    "start_time": "2023-01-09T12:57:17.829Z"
   },
   {
    "duration": 240,
    "start_time": "2023-01-09T12:57:29.564Z"
   },
   {
    "duration": 213,
    "start_time": "2023-01-09T12:57:45.923Z"
   },
   {
    "duration": 183,
    "start_time": "2023-01-09T12:58:17.269Z"
   },
   {
    "duration": 206,
    "start_time": "2023-01-09T12:58:48.075Z"
   },
   {
    "duration": 186,
    "start_time": "2023-01-09T12:59:13.084Z"
   },
   {
    "duration": 45,
    "start_time": "2023-01-09T13:00:18.515Z"
   },
   {
    "duration": 71,
    "start_time": "2023-01-09T13:00:52.633Z"
   },
   {
    "duration": 53,
    "start_time": "2023-01-09T13:01:04.949Z"
   },
   {
    "duration": 43,
    "start_time": "2023-01-09T13:03:58.032Z"
   },
   {
    "duration": 9,
    "start_time": "2023-01-09T13:06:31.805Z"
   },
   {
    "duration": 36,
    "start_time": "2023-01-09T13:06:52.301Z"
   },
   {
    "duration": 40,
    "start_time": "2023-01-09T13:07:21.460Z"
   },
   {
    "duration": 34,
    "start_time": "2023-01-09T13:07:43.548Z"
   },
   {
    "duration": 8,
    "start_time": "2023-01-09T13:26:03.941Z"
   },
   {
    "duration": 18,
    "start_time": "2023-01-09T13:26:09.446Z"
   },
   {
    "duration": 76,
    "start_time": "2023-01-09T13:26:45.549Z"
   },
   {
    "duration": 10,
    "start_time": "2023-01-09T13:26:51.228Z"
   },
   {
    "duration": 22,
    "start_time": "2023-01-09T13:26:57.196Z"
   },
   {
    "duration": 78,
    "start_time": "2023-01-09T13:27:01.204Z"
   },
   {
    "duration": 19,
    "start_time": "2023-01-09T13:27:05.980Z"
   },
   {
    "duration": 24,
    "start_time": "2023-01-09T13:27:29.828Z"
   },
   {
    "duration": 18,
    "start_time": "2023-01-09T13:28:12.516Z"
   },
   {
    "duration": 109,
    "start_time": "2023-01-09T13:30:00.722Z"
   },
   {
    "duration": 339,
    "start_time": "2023-01-09T13:31:24.089Z"
   },
   {
    "duration": 350,
    "start_time": "2023-01-09T13:31:51.248Z"
   },
   {
    "duration": 285,
    "start_time": "2023-01-09T13:31:56.624Z"
   },
   {
    "duration": 33,
    "start_time": "2023-01-09T13:32:08.424Z"
   },
   {
    "duration": 3,
    "start_time": "2023-01-09T13:32:13.072Z"
   },
   {
    "duration": 300,
    "start_time": "2023-01-09T13:32:13.872Z"
   },
   {
    "duration": 17,
    "start_time": "2023-01-09T13:32:14.359Z"
   },
   {
    "duration": 298,
    "start_time": "2023-01-09T13:32:14.679Z"
   },
   {
    "duration": 285,
    "start_time": "2023-01-09T13:32:15.960Z"
   },
   {
    "duration": 540,
    "start_time": "2023-01-09T13:32:28.245Z"
   },
   {
    "duration": 2381,
    "start_time": "2023-01-09T13:32:28.787Z"
   },
   {
    "duration": 4,
    "start_time": "2023-01-09T13:32:31.170Z"
   },
   {
    "duration": 172,
    "start_time": "2023-01-09T13:32:31.176Z"
   },
   {
    "duration": 132,
    "start_time": "2023-01-09T13:32:31.350Z"
   },
   {
    "duration": 181,
    "start_time": "2023-01-09T13:32:31.484Z"
   },
   {
    "duration": 33,
    "start_time": "2023-01-09T13:32:31.667Z"
   },
   {
    "duration": 30,
    "start_time": "2023-01-09T13:32:31.702Z"
   },
   {
    "duration": 50,
    "start_time": "2023-01-09T13:32:31.734Z"
   },
   {
    "duration": 34,
    "start_time": "2023-01-09T13:32:31.789Z"
   },
   {
    "duration": 172,
    "start_time": "2023-01-09T13:32:31.825Z"
   },
   {
    "duration": 25,
    "start_time": "2023-01-09T13:32:31.999Z"
   },
   {
    "duration": 11,
    "start_time": "2023-01-09T13:32:32.026Z"
   },
   {
    "duration": 26,
    "start_time": "2023-01-09T13:32:32.038Z"
   },
   {
    "duration": 37,
    "start_time": "2023-01-09T13:32:32.066Z"
   },
   {
    "duration": 58,
    "start_time": "2023-01-09T13:32:32.105Z"
   },
   {
    "duration": 47,
    "start_time": "2023-01-09T13:32:32.165Z"
   },
   {
    "duration": 11,
    "start_time": "2023-01-09T13:32:32.221Z"
   },
   {
    "duration": 30,
    "start_time": "2023-01-09T13:32:32.234Z"
   },
   {
    "duration": 28,
    "start_time": "2023-01-09T13:32:32.266Z"
   },
   {
    "duration": 36,
    "start_time": "2023-01-09T13:32:32.296Z"
   },
   {
    "duration": 50,
    "start_time": "2023-01-09T13:32:32.333Z"
   },
   {
    "duration": 183,
    "start_time": "2023-01-09T13:32:32.384Z"
   },
   {
    "duration": 9,
    "start_time": "2023-01-09T13:32:32.569Z"
   },
   {
    "duration": 201,
    "start_time": "2023-01-09T13:32:32.580Z"
   },
   {
    "duration": 3,
    "start_time": "2023-01-09T13:32:32.783Z"
   },
   {
    "duration": 379,
    "start_time": "2023-01-09T13:32:32.788Z"
   },
   {
    "duration": 0,
    "start_time": "2023-01-09T13:32:33.169Z"
   },
   {
    "duration": 0,
    "start_time": "2023-01-09T13:32:33.170Z"
   },
   {
    "duration": 0,
    "start_time": "2023-01-09T13:32:33.171Z"
   },
   {
    "duration": 0,
    "start_time": "2023-01-09T13:32:33.172Z"
   },
   {
    "duration": 0,
    "start_time": "2023-01-09T13:32:33.174Z"
   },
   {
    "duration": 0,
    "start_time": "2023-01-09T13:32:33.175Z"
   },
   {
    "duration": 0,
    "start_time": "2023-01-09T13:32:33.177Z"
   },
   {
    "duration": 0,
    "start_time": "2023-01-09T13:32:33.179Z"
   },
   {
    "duration": 0,
    "start_time": "2023-01-09T13:32:33.179Z"
   },
   {
    "duration": 0,
    "start_time": "2023-01-09T13:32:33.181Z"
   },
   {
    "duration": 0,
    "start_time": "2023-01-09T13:32:33.181Z"
   },
   {
    "duration": 0,
    "start_time": "2023-01-09T13:32:33.182Z"
   },
   {
    "duration": 0,
    "start_time": "2023-01-09T13:32:33.183Z"
   },
   {
    "duration": 0,
    "start_time": "2023-01-09T13:32:33.184Z"
   },
   {
    "duration": 0,
    "start_time": "2023-01-09T13:32:33.185Z"
   },
   {
    "duration": 0,
    "start_time": "2023-01-09T13:32:33.186Z"
   },
   {
    "duration": 30,
    "start_time": "2023-01-09T13:32:59.656Z"
   },
   {
    "duration": 5,
    "start_time": "2023-01-09T13:33:01.584Z"
   },
   {
    "duration": 328,
    "start_time": "2023-01-09T13:33:03.905Z"
   },
   {
    "duration": 139,
    "start_time": "2023-01-09T13:33:10.848Z"
   },
   {
    "duration": 1953,
    "start_time": "2023-01-09T13:33:11.264Z"
   },
   {
    "duration": 4,
    "start_time": "2023-01-09T13:33:13.221Z"
   },
   {
    "duration": 281,
    "start_time": "2023-01-09T13:33:14.216Z"
   },
   {
    "duration": 123,
    "start_time": "2023-01-09T13:33:15.216Z"
   },
   {
    "duration": 146,
    "start_time": "2023-01-09T13:33:15.440Z"
   },
   {
    "duration": 26,
    "start_time": "2023-01-09T13:33:16.120Z"
   },
   {
    "duration": 10,
    "start_time": "2023-01-09T13:33:17.600Z"
   },
   {
    "duration": 5,
    "start_time": "2023-01-09T13:33:18.328Z"
   },
   {
    "duration": 9,
    "start_time": "2023-01-09T13:33:18.984Z"
   },
   {
    "duration": 129,
    "start_time": "2023-01-09T13:33:19.584Z"
   },
   {
    "duration": 16,
    "start_time": "2023-01-09T13:33:20.696Z"
   },
   {
    "duration": 10,
    "start_time": "2023-01-09T13:33:21.456Z"
   },
   {
    "duration": 8,
    "start_time": "2023-01-09T13:33:22.899Z"
   },
   {
    "duration": 7,
    "start_time": "2023-01-09T13:33:23.487Z"
   },
   {
    "duration": 40,
    "start_time": "2023-01-09T13:33:23.896Z"
   },
   {
    "duration": 42,
    "start_time": "2023-01-09T13:33:25.306Z"
   },
   {
    "duration": 7,
    "start_time": "2023-01-09T13:33:25.544Z"
   },
   {
    "duration": 9,
    "start_time": "2023-01-09T13:33:26.984Z"
   },
   {
    "duration": 7,
    "start_time": "2023-01-09T13:33:28.586Z"
   },
   {
    "duration": 546,
    "start_time": "2023-01-09T13:33:48.026Z"
   },
   {
    "duration": 2351,
    "start_time": "2023-01-09T13:33:48.574Z"
   },
   {
    "duration": 4,
    "start_time": "2023-01-09T13:33:50.927Z"
   },
   {
    "duration": 179,
    "start_time": "2023-01-09T13:33:50.934Z"
   },
   {
    "duration": 130,
    "start_time": "2023-01-09T13:33:51.122Z"
   },
   {
    "duration": 176,
    "start_time": "2023-01-09T13:33:51.254Z"
   },
   {
    "duration": 29,
    "start_time": "2023-01-09T13:33:51.431Z"
   },
   {
    "duration": 10,
    "start_time": "2023-01-09T13:33:51.462Z"
   },
   {
    "duration": 15,
    "start_time": "2023-01-09T13:33:51.474Z"
   },
   {
    "duration": 32,
    "start_time": "2023-01-09T13:33:51.491Z"
   },
   {
    "duration": 172,
    "start_time": "2023-01-09T13:33:51.525Z"
   },
   {
    "duration": 30,
    "start_time": "2023-01-09T13:33:51.698Z"
   },
   {
    "duration": 9,
    "start_time": "2023-01-09T13:33:51.730Z"
   },
   {
    "duration": 9,
    "start_time": "2023-01-09T13:33:51.742Z"
   },
   {
    "duration": 6,
    "start_time": "2023-01-09T13:33:51.754Z"
   },
   {
    "duration": 70,
    "start_time": "2023-01-09T13:33:51.762Z"
   },
   {
    "duration": 44,
    "start_time": "2023-01-09T13:33:51.833Z"
   },
   {
    "duration": 8,
    "start_time": "2023-01-09T13:33:51.878Z"
   },
   {
    "duration": 40,
    "start_time": "2023-01-09T13:33:51.887Z"
   },
   {
    "duration": 9,
    "start_time": "2023-01-09T13:33:51.929Z"
   },
   {
    "duration": 24,
    "start_time": "2023-01-09T13:33:51.940Z"
   },
   {
    "duration": 21,
    "start_time": "2023-01-09T13:33:51.966Z"
   },
   {
    "duration": 179,
    "start_time": "2023-01-09T13:33:51.989Z"
   },
   {
    "duration": 8,
    "start_time": "2023-01-09T13:33:52.170Z"
   },
   {
    "duration": 44,
    "start_time": "2023-01-09T13:33:52.179Z"
   },
   {
    "duration": 3,
    "start_time": "2023-01-09T13:33:52.225Z"
   },
   {
    "duration": 29,
    "start_time": "2023-01-09T13:33:52.230Z"
   },
   {
    "duration": 4,
    "start_time": "2023-01-09T13:33:52.260Z"
   },
   {
    "duration": 167,
    "start_time": "2023-01-09T13:33:52.265Z"
   },
   {
    "duration": 66,
    "start_time": "2023-01-09T13:33:52.434Z"
   },
   {
    "duration": 81,
    "start_time": "2023-01-09T13:33:52.502Z"
   },
   {
    "duration": 304,
    "start_time": "2023-01-09T13:33:52.585Z"
   },
   {
    "duration": 5,
    "start_time": "2023-01-09T13:33:52.891Z"
   },
   {
    "duration": 191,
    "start_time": "2023-01-09T13:33:52.898Z"
   },
   {
    "duration": 270,
    "start_time": "2023-01-09T13:33:53.091Z"
   },
   {
    "duration": 131,
    "start_time": "2023-01-09T13:33:53.363Z"
   },
   {
    "duration": 175,
    "start_time": "2023-01-09T13:33:53.496Z"
   },
   {
    "duration": 112,
    "start_time": "2023-01-09T13:33:53.672Z"
   },
   {
    "duration": 184,
    "start_time": "2023-01-09T13:33:53.786Z"
   },
   {
    "duration": 216,
    "start_time": "2023-01-09T13:33:53.972Z"
   },
   {
    "duration": 60,
    "start_time": "2023-01-09T13:33:54.193Z"
   },
   {
    "duration": 42,
    "start_time": "2023-01-09T13:33:54.255Z"
   },
   {
    "duration": 43,
    "start_time": "2023-01-09T13:33:54.299Z"
   },
   {
    "duration": 22,
    "start_time": "2023-01-09T13:34:50.568Z"
   },
   {
    "duration": 557,
    "start_time": "2023-01-09T13:35:07.828Z"
   },
   {
    "duration": 2553,
    "start_time": "2023-01-09T13:35:08.387Z"
   },
   {
    "duration": 5,
    "start_time": "2023-01-09T13:35:10.942Z"
   },
   {
    "duration": 167,
    "start_time": "2023-01-09T13:35:10.949Z"
   },
   {
    "duration": 127,
    "start_time": "2023-01-09T13:35:11.118Z"
   },
   {
    "duration": 173,
    "start_time": "2023-01-09T13:35:11.247Z"
   },
   {
    "duration": 30,
    "start_time": "2023-01-09T13:35:11.422Z"
   },
   {
    "duration": 12,
    "start_time": "2023-01-09T13:35:11.454Z"
   },
   {
    "duration": 6,
    "start_time": "2023-01-09T13:35:11.468Z"
   },
   {
    "duration": 16,
    "start_time": "2023-01-09T13:35:11.477Z"
   },
   {
    "duration": 167,
    "start_time": "2023-01-09T13:35:11.521Z"
   },
   {
    "duration": 20,
    "start_time": "2023-01-09T13:35:11.690Z"
   },
   {
    "duration": 12,
    "start_time": "2023-01-09T13:35:11.723Z"
   },
   {
    "duration": 12,
    "start_time": "2023-01-09T13:35:11.737Z"
   },
   {
    "duration": 16,
    "start_time": "2023-01-09T13:35:11.751Z"
   },
   {
    "duration": 60,
    "start_time": "2023-01-09T13:35:11.769Z"
   },
   {
    "duration": 47,
    "start_time": "2023-01-09T13:35:11.831Z"
   },
   {
    "duration": 8,
    "start_time": "2023-01-09T13:35:11.880Z"
   },
   {
    "duration": 37,
    "start_time": "2023-01-09T13:35:11.889Z"
   },
   {
    "duration": 7,
    "start_time": "2023-01-09T13:35:11.928Z"
   },
   {
    "duration": 19,
    "start_time": "2023-01-09T13:35:11.936Z"
   },
   {
    "duration": 22,
    "start_time": "2023-01-09T13:35:11.957Z"
   },
   {
    "duration": 199,
    "start_time": "2023-01-09T13:35:11.980Z"
   },
   {
    "duration": 9,
    "start_time": "2023-01-09T13:35:12.180Z"
   },
   {
    "duration": 42,
    "start_time": "2023-01-09T13:35:12.191Z"
   },
   {
    "duration": 3,
    "start_time": "2023-01-09T13:35:12.235Z"
   },
   {
    "duration": 25,
    "start_time": "2023-01-09T13:35:12.240Z"
   },
   {
    "duration": 9,
    "start_time": "2023-01-09T13:35:12.269Z"
   },
   {
    "duration": 170,
    "start_time": "2023-01-09T13:35:12.279Z"
   },
   {
    "duration": 76,
    "start_time": "2023-01-09T13:35:12.451Z"
   },
   {
    "duration": 65,
    "start_time": "2023-01-09T13:35:12.529Z"
   },
   {
    "duration": 293,
    "start_time": "2023-01-09T13:35:12.596Z"
   },
   {
    "duration": 6,
    "start_time": "2023-01-09T13:35:12.891Z"
   },
   {
    "duration": 175,
    "start_time": "2023-01-09T13:35:12.899Z"
   },
   {
    "duration": 248,
    "start_time": "2023-01-09T13:35:13.076Z"
   },
   {
    "duration": 128,
    "start_time": "2023-01-09T13:35:13.326Z"
   },
   {
    "duration": 158,
    "start_time": "2023-01-09T13:35:13.456Z"
   },
   {
    "duration": 111,
    "start_time": "2023-01-09T13:35:13.616Z"
   },
   {
    "duration": 209,
    "start_time": "2023-01-09T13:35:13.729Z"
   },
   {
    "duration": 218,
    "start_time": "2023-01-09T13:35:13.940Z"
   },
   {
    "duration": 63,
    "start_time": "2023-01-09T13:35:14.160Z"
   },
   {
    "duration": 44,
    "start_time": "2023-01-09T13:35:14.225Z"
   },
   {
    "duration": 51,
    "start_time": "2023-01-09T13:35:14.272Z"
   },
   {
    "duration": 21,
    "start_time": "2023-01-09T13:36:27.277Z"
   },
   {
    "duration": 90,
    "start_time": "2023-01-09T13:38:21.347Z"
   },
   {
    "duration": 20,
    "start_time": "2023-01-09T13:38:47.475Z"
   },
   {
    "duration": 21,
    "start_time": "2023-01-09T13:39:19.962Z"
   },
   {
    "duration": 22,
    "start_time": "2023-01-09T13:39:29.569Z"
   },
   {
    "duration": 32,
    "start_time": "2023-01-09T13:40:40.680Z"
   },
   {
    "duration": 39,
    "start_time": "2023-01-09T13:49:53.945Z"
   },
   {
    "duration": 25,
    "start_time": "2023-01-09T13:50:30.431Z"
   },
   {
    "duration": 23,
    "start_time": "2023-01-09T13:50:36.711Z"
   },
   {
    "duration": 23,
    "start_time": "2023-01-09T13:50:58.680Z"
   },
   {
    "duration": 35,
    "start_time": "2023-01-09T13:51:14.230Z"
   },
   {
    "duration": 8,
    "start_time": "2023-01-09T13:51:14.741Z"
   },
   {
    "duration": 26,
    "start_time": "2023-01-09T13:51:58.118Z"
   },
   {
    "duration": 27,
    "start_time": "2023-01-09T13:55:01.195Z"
   },
   {
    "duration": 26,
    "start_time": "2023-01-09T13:55:13.716Z"
   },
   {
    "duration": 26,
    "start_time": "2023-01-09T13:55:19.403Z"
   },
   {
    "duration": 28,
    "start_time": "2023-01-09T13:55:36.386Z"
   },
   {
    "duration": 27,
    "start_time": "2023-01-09T13:55:50.394Z"
   },
   {
    "duration": 23,
    "start_time": "2023-01-09T13:58:22.960Z"
   },
   {
    "duration": 19,
    "start_time": "2023-01-09T13:58:29.920Z"
   },
   {
    "duration": 28,
    "start_time": "2023-01-09T13:58:49.504Z"
   },
   {
    "duration": 32,
    "start_time": "2023-01-09T13:59:02.984Z"
   },
   {
    "duration": 25,
    "start_time": "2023-01-09T13:59:32.775Z"
   },
   {
    "duration": 533,
    "start_time": "2023-01-10T05:13:39.122Z"
   },
   {
    "duration": 2067,
    "start_time": "2023-01-10T05:13:39.657Z"
   },
   {
    "duration": 4,
    "start_time": "2023-01-10T05:13:41.726Z"
   },
   {
    "duration": 161,
    "start_time": "2023-01-10T05:13:41.732Z"
   },
   {
    "duration": 115,
    "start_time": "2023-01-10T05:13:41.895Z"
   },
   {
    "duration": 156,
    "start_time": "2023-01-10T05:13:42.012Z"
   },
   {
    "duration": 30,
    "start_time": "2023-01-10T05:13:42.170Z"
   },
   {
    "duration": 25,
    "start_time": "2023-01-10T05:13:42.202Z"
   },
   {
    "duration": 6,
    "start_time": "2023-01-10T05:13:42.229Z"
   },
   {
    "duration": 9,
    "start_time": "2023-01-10T05:13:42.238Z"
   },
   {
    "duration": 157,
    "start_time": "2023-01-10T05:13:42.248Z"
   },
   {
    "duration": 27,
    "start_time": "2023-01-10T05:13:42.407Z"
   },
   {
    "duration": 9,
    "start_time": "2023-01-10T05:13:42.436Z"
   },
   {
    "duration": 8,
    "start_time": "2023-01-10T05:13:42.447Z"
   },
   {
    "duration": 6,
    "start_time": "2023-01-10T05:13:42.456Z"
   },
   {
    "duration": 73,
    "start_time": "2023-01-10T05:13:42.464Z"
   },
   {
    "duration": 41,
    "start_time": "2023-01-10T05:13:42.538Z"
   },
   {
    "duration": 6,
    "start_time": "2023-01-10T05:13:42.580Z"
   },
   {
    "duration": 36,
    "start_time": "2023-01-10T05:13:42.588Z"
   },
   {
    "duration": 6,
    "start_time": "2023-01-10T05:13:42.626Z"
   },
   {
    "duration": 6,
    "start_time": "2023-01-10T05:13:42.633Z"
   },
   {
    "duration": 4,
    "start_time": "2023-01-10T05:13:42.641Z"
   },
   {
    "duration": 182,
    "start_time": "2023-01-10T05:13:42.647Z"
   },
   {
    "duration": 8,
    "start_time": "2023-01-10T05:13:42.831Z"
   },
   {
    "duration": 21,
    "start_time": "2023-01-10T05:13:42.841Z"
   },
   {
    "duration": 3,
    "start_time": "2023-01-10T05:13:42.864Z"
   },
   {
    "duration": 23,
    "start_time": "2023-01-10T05:13:42.869Z"
   },
   {
    "duration": 4,
    "start_time": "2023-01-10T05:13:42.923Z"
   },
   {
    "duration": 149,
    "start_time": "2023-01-10T05:13:42.929Z"
   },
   {
    "duration": 64,
    "start_time": "2023-01-10T05:13:43.080Z"
   },
   {
    "duration": 58,
    "start_time": "2023-01-10T05:13:43.146Z"
   },
   {
    "duration": 267,
    "start_time": "2023-01-10T05:13:43.206Z"
   },
   {
    "duration": 6,
    "start_time": "2023-01-10T05:13:43.474Z"
   },
   {
    "duration": 153,
    "start_time": "2023-01-10T05:13:43.482Z"
   },
   {
    "duration": 228,
    "start_time": "2023-01-10T05:13:43.636Z"
   },
   {
    "duration": 116,
    "start_time": "2023-01-10T05:13:43.866Z"
   },
   {
    "duration": 151,
    "start_time": "2023-01-10T05:13:43.983Z"
   },
   {
    "duration": 122,
    "start_time": "2023-01-10T05:13:44.136Z"
   },
   {
    "duration": 163,
    "start_time": "2023-01-10T05:13:44.259Z"
   },
   {
    "duration": 151,
    "start_time": "2023-01-10T05:13:44.424Z"
   },
   {
    "duration": 49,
    "start_time": "2023-01-10T05:13:44.577Z"
   },
   {
    "duration": 33,
    "start_time": "2023-01-10T05:13:44.627Z"
   },
   {
    "duration": 23,
    "start_time": "2023-01-10T05:13:44.662Z"
   },
   {
    "duration": 23,
    "start_time": "2023-01-10T05:18:19.270Z"
   },
   {
    "duration": 24,
    "start_time": "2023-01-10T05:18:37.926Z"
   },
   {
    "duration": 90,
    "start_time": "2023-01-10T05:22:35.713Z"
   },
   {
    "duration": 73,
    "start_time": "2023-01-10T05:23:03.002Z"
   },
   {
    "duration": 39,
    "start_time": "2023-01-10T05:23:10.889Z"
   },
   {
    "duration": 41,
    "start_time": "2023-01-10T05:24:13.352Z"
   },
   {
    "duration": 49,
    "start_time": "2023-01-10T05:24:39.728Z"
   },
   {
    "duration": 37,
    "start_time": "2023-01-10T05:24:43.983Z"
   },
   {
    "duration": 46,
    "start_time": "2023-01-10T05:25:02.560Z"
   },
   {
    "duration": 355,
    "start_time": "2023-01-10T05:26:38.933Z"
   },
   {
    "duration": 47,
    "start_time": "2023-01-10T05:27:10.261Z"
   },
   {
    "duration": 45,
    "start_time": "2023-01-10T05:44:31.169Z"
   },
   {
    "duration": 183,
    "start_time": "2023-01-10T05:45:53.588Z"
   },
   {
    "duration": 167,
    "start_time": "2023-01-10T05:46:23.238Z"
   },
   {
    "duration": 14,
    "start_time": "2023-01-10T07:16:40.871Z"
   },
   {
    "duration": 186,
    "start_time": "2023-01-10T07:16:41.365Z"
   },
   {
    "duration": 5,
    "start_time": "2023-01-10T07:16:42.182Z"
   },
   {
    "duration": 12,
    "start_time": "2023-01-10T07:17:03.749Z"
   },
   {
    "duration": 6,
    "start_time": "2023-01-10T07:17:10.270Z"
   },
   {
    "duration": 185,
    "start_time": "2023-01-10T07:23:13.519Z"
   },
   {
    "duration": 177,
    "start_time": "2023-01-10T07:24:54.574Z"
   },
   {
    "duration": 168,
    "start_time": "2023-01-10T07:25:10.982Z"
   },
   {
    "duration": 187,
    "start_time": "2023-01-10T07:25:34.157Z"
   },
   {
    "duration": 294,
    "start_time": "2023-01-10T07:26:02.648Z"
   },
   {
    "duration": 187,
    "start_time": "2023-01-10T07:26:08.486Z"
   },
   {
    "duration": 165,
    "start_time": "2023-01-10T07:27:02.772Z"
   },
   {
    "duration": 183,
    "start_time": "2023-01-10T07:28:25.363Z"
   },
   {
    "duration": 189,
    "start_time": "2023-01-10T07:28:26.563Z"
   },
   {
    "duration": 183,
    "start_time": "2023-01-10T07:28:27.035Z"
   },
   {
    "duration": 174,
    "start_time": "2023-01-10T07:28:55.107Z"
   },
   {
    "duration": 167,
    "start_time": "2023-01-10T07:37:02.556Z"
   },
   {
    "duration": 267,
    "start_time": "2023-01-10T07:44:00.751Z"
   },
   {
    "duration": 270,
    "start_time": "2023-01-10T07:44:25.581Z"
   },
   {
    "duration": 166,
    "start_time": "2023-01-10T07:44:31.856Z"
   },
   {
    "duration": 75,
    "start_time": "2023-01-10T07:44:34.158Z"
   },
   {
    "duration": 257,
    "start_time": "2023-01-10T07:44:40.959Z"
   },
   {
    "duration": 10,
    "start_time": "2023-01-10T07:45:09.392Z"
   },
   {
    "duration": 25,
    "start_time": "2023-01-10T07:45:43.990Z"
   },
   {
    "duration": 131,
    "start_time": "2023-01-10T07:45:48.695Z"
   },
   {
    "duration": 2090,
    "start_time": "2023-01-10T07:45:48.854Z"
   },
   {
    "duration": 4,
    "start_time": "2023-01-10T07:45:50.947Z"
   },
   {
    "duration": 176,
    "start_time": "2023-01-10T07:45:50.953Z"
   },
   {
    "duration": 122,
    "start_time": "2023-01-10T07:45:51.131Z"
   },
   {
    "duration": 167,
    "start_time": "2023-01-10T07:45:51.255Z"
   },
   {
    "duration": 26,
    "start_time": "2023-01-10T07:45:51.424Z"
   },
   {
    "duration": 11,
    "start_time": "2023-01-10T07:45:52.821Z"
   },
   {
    "duration": 5,
    "start_time": "2023-01-10T07:45:55.525Z"
   },
   {
    "duration": 8,
    "start_time": "2023-01-10T07:45:57.629Z"
   },
   {
    "duration": 140,
    "start_time": "2023-01-10T07:45:59.304Z"
   },
   {
    "duration": 20,
    "start_time": "2023-01-10T07:46:01.829Z"
   },
   {
    "duration": 11,
    "start_time": "2023-01-10T07:46:06.421Z"
   },
   {
    "duration": 6,
    "start_time": "2023-01-10T07:46:30.564Z"
   },
   {
    "duration": 7,
    "start_time": "2023-01-10T07:46:32.429Z"
   },
   {
    "duration": 38,
    "start_time": "2023-01-10T07:46:33.085Z"
   },
   {
    "duration": 44,
    "start_time": "2023-01-10T07:46:34.358Z"
   },
   {
    "duration": 7,
    "start_time": "2023-01-10T07:46:34.669Z"
   },
   {
    "duration": 9,
    "start_time": "2023-01-10T07:46:36.365Z"
   },
   {
    "duration": 7,
    "start_time": "2023-01-10T07:46:38.718Z"
   },
   {
    "duration": 5,
    "start_time": "2023-01-10T07:46:40.548Z"
   },
   {
    "duration": 5,
    "start_time": "2023-01-10T07:46:41.405Z"
   },
   {
    "duration": 156,
    "start_time": "2023-01-10T07:46:41.861Z"
   },
   {
    "duration": 9,
    "start_time": "2023-01-10T07:46:43.876Z"
   },
   {
    "duration": 24,
    "start_time": "2023-01-10T07:46:45.852Z"
   },
   {
    "duration": 4,
    "start_time": "2023-01-10T07:46:48.131Z"
   },
   {
    "duration": 17,
    "start_time": "2023-01-10T07:46:49.636Z"
   },
   {
    "duration": 4,
    "start_time": "2023-01-10T07:46:51.447Z"
   },
   {
    "duration": 196,
    "start_time": "2023-01-10T07:46:51.974Z"
   },
   {
    "duration": 67,
    "start_time": "2023-01-10T07:46:52.564Z"
   },
   {
    "duration": 65,
    "start_time": "2023-01-10T07:46:53.083Z"
   },
   {
    "duration": 273,
    "start_time": "2023-01-10T07:46:53.451Z"
   },
   {
    "duration": 6,
    "start_time": "2023-01-10T07:46:53.852Z"
   },
   {
    "duration": 154,
    "start_time": "2023-01-10T07:46:54.846Z"
   },
   {
    "duration": 292,
    "start_time": "2023-01-10T07:46:55.916Z"
   },
   {
    "duration": 129,
    "start_time": "2023-01-10T07:46:56.210Z"
   },
   {
    "duration": 149,
    "start_time": "2023-01-10T07:46:56.647Z"
   },
   {
    "duration": 94,
    "start_time": "2023-01-10T07:46:56.851Z"
   },
   {
    "duration": 173,
    "start_time": "2023-01-10T07:46:58.984Z"
   },
   {
    "duration": 171,
    "start_time": "2023-01-10T07:47:00.780Z"
   },
   {
    "duration": 140,
    "start_time": "2023-01-10T07:47:04.701Z"
   },
   {
    "duration": 10,
    "start_time": "2023-01-10T07:47:32.523Z"
   },
   {
    "duration": 180,
    "start_time": "2023-01-10T07:47:44.186Z"
   },
   {
    "duration": 174,
    "start_time": "2023-01-10T07:47:52.563Z"
   },
   {
    "duration": 145,
    "start_time": "2023-01-10T07:48:01.834Z"
   },
   {
    "duration": 170,
    "start_time": "2023-01-10T07:48:34.761Z"
   },
   {
    "duration": 111,
    "start_time": "2023-01-10T07:49:29.557Z"
   },
   {
    "duration": 112,
    "start_time": "2023-01-10T07:49:36.259Z"
   },
   {
    "duration": 11,
    "start_time": "2023-01-10T07:52:20.064Z"
   },
   {
    "duration": 15,
    "start_time": "2023-01-10T07:52:24.287Z"
   },
   {
    "duration": 6,
    "start_time": "2023-01-10T07:54:04.901Z"
   },
   {
    "duration": 9,
    "start_time": "2023-01-10T07:54:40.516Z"
   },
   {
    "duration": 7,
    "start_time": "2023-01-10T07:54:45.955Z"
   },
   {
    "duration": 9,
    "start_time": "2023-01-10T07:54:52.453Z"
   },
   {
    "duration": 5,
    "start_time": "2023-01-10T07:55:04.702Z"
   },
   {
    "duration": 148,
    "start_time": "2023-01-10T07:55:53.673Z"
   },
   {
    "duration": 142,
    "start_time": "2023-01-10T07:58:10.552Z"
   },
   {
    "duration": 145,
    "start_time": "2023-01-10T07:58:45.982Z"
   },
   {
    "duration": 5,
    "start_time": "2023-01-10T07:59:01.109Z"
   },
   {
    "duration": 153,
    "start_time": "2023-01-10T07:59:16.548Z"
   },
   {
    "duration": 344,
    "start_time": "2023-01-10T08:00:16.771Z"
   },
   {
    "duration": 5,
    "start_time": "2023-01-10T08:00:32.419Z"
   },
   {
    "duration": 156,
    "start_time": "2023-01-10T08:00:38.748Z"
   },
   {
    "duration": 163,
    "start_time": "2023-01-10T08:00:49.747Z"
   },
   {
    "duration": 160,
    "start_time": "2023-01-10T08:01:10.364Z"
   },
   {
    "duration": 157,
    "start_time": "2023-01-10T08:01:17.811Z"
   },
   {
    "duration": 163,
    "start_time": "2023-01-10T08:01:38.713Z"
   },
   {
    "duration": 176,
    "start_time": "2023-01-10T08:01:53.934Z"
   },
   {
    "duration": 20,
    "start_time": "2023-01-10T08:15:47.108Z"
   },
   {
    "duration": 154,
    "start_time": "2023-01-10T08:18:17.568Z"
   },
   {
    "duration": 226,
    "start_time": "2023-01-10T08:20:04.210Z"
   },
   {
    "duration": 183,
    "start_time": "2023-01-10T08:20:13.417Z"
   },
   {
    "duration": 289,
    "start_time": "2023-01-10T08:20:28.130Z"
   },
   {
    "duration": 298,
    "start_time": "2023-01-10T08:20:48.231Z"
   },
   {
    "duration": 74,
    "start_time": "2023-01-10T08:21:02.566Z"
   },
   {
    "duration": 10,
    "start_time": "2023-01-10T08:21:09.103Z"
   },
   {
    "duration": 71,
    "start_time": "2023-01-10T08:21:21.206Z"
   },
   {
    "duration": 33,
    "start_time": "2023-01-10T08:21:28.614Z"
   },
   {
    "duration": 279,
    "start_time": "2023-01-10T08:23:49.119Z"
   },
   {
    "duration": 319,
    "start_time": "2023-01-10T08:23:54.326Z"
   },
   {
    "duration": 309,
    "start_time": "2023-01-10T08:24:51.205Z"
   },
   {
    "duration": 34,
    "start_time": "2023-01-10T08:24:56.741Z"
   },
   {
    "duration": 44,
    "start_time": "2023-01-10T08:25:26.205Z"
   },
   {
    "duration": 16,
    "start_time": "2023-01-10T08:25:38.939Z"
   },
   {
    "duration": 18,
    "start_time": "2023-01-10T08:25:41.356Z"
   },
   {
    "duration": 17,
    "start_time": "2023-01-10T08:26:12.347Z"
   },
   {
    "duration": 23,
    "start_time": "2023-01-10T08:27:37.658Z"
   },
   {
    "duration": 26,
    "start_time": "2023-01-10T08:27:42.041Z"
   },
   {
    "duration": 16,
    "start_time": "2023-01-10T08:27:46.202Z"
   },
   {
    "duration": 15,
    "start_time": "2023-01-10T08:28:37.505Z"
   },
   {
    "duration": 83,
    "start_time": "2023-01-10T08:28:44.377Z"
   },
   {
    "duration": 80,
    "start_time": "2023-01-10T08:29:00.970Z"
   },
   {
    "duration": 1262,
    "start_time": "2023-01-10T08:32:42.006Z"
   },
   {
    "duration": 175,
    "start_time": "2023-01-10T08:32:49.223Z"
   },
   {
    "duration": 94,
    "start_time": "2023-01-10T08:46:33.584Z"
   },
   {
    "duration": 157,
    "start_time": "2023-01-10T08:48:12.918Z"
   },
   {
    "duration": 138,
    "start_time": "2023-01-10T08:50:36.797Z"
   },
   {
    "duration": 172,
    "start_time": "2023-01-10T08:53:35.626Z"
   },
   {
    "duration": 206,
    "start_time": "2023-01-10T08:53:59.658Z"
   },
   {
    "duration": 195,
    "start_time": "2023-01-10T08:54:11.802Z"
   },
   {
    "duration": 177,
    "start_time": "2023-01-10T08:54:13.322Z"
   },
   {
    "duration": 211,
    "start_time": "2023-01-10T08:54:13.905Z"
   },
   {
    "duration": 389,
    "start_time": "2023-01-10T08:56:10.929Z"
   },
   {
    "duration": 169,
    "start_time": "2023-01-10T08:56:20.089Z"
   },
   {
    "duration": 167,
    "start_time": "2023-01-10T08:56:26.168Z"
   },
   {
    "duration": 162,
    "start_time": "2023-01-10T08:56:31.312Z"
   },
   {
    "duration": 570,
    "start_time": "2023-01-10T08:58:10.488Z"
   },
   {
    "duration": 2515,
    "start_time": "2023-01-10T08:58:11.060Z"
   },
   {
    "duration": 4,
    "start_time": "2023-01-10T08:58:13.577Z"
   },
   {
    "duration": 205,
    "start_time": "2023-01-10T08:58:13.583Z"
   },
   {
    "duration": 133,
    "start_time": "2023-01-10T08:58:13.791Z"
   },
   {
    "duration": 196,
    "start_time": "2023-01-10T08:58:13.926Z"
   },
   {
    "duration": 14,
    "start_time": "2023-01-10T08:58:14.125Z"
   },
   {
    "duration": 44,
    "start_time": "2023-01-10T08:58:14.142Z"
   },
   {
    "duration": 38,
    "start_time": "2023-01-10T08:58:14.188Z"
   },
   {
    "duration": 57,
    "start_time": "2023-01-10T08:58:14.230Z"
   },
   {
    "duration": 211,
    "start_time": "2023-01-10T08:58:14.290Z"
   },
   {
    "duration": 21,
    "start_time": "2023-01-10T08:58:14.503Z"
   },
   {
    "duration": 17,
    "start_time": "2023-01-10T08:58:14.526Z"
   },
   {
    "duration": 18,
    "start_time": "2023-01-10T08:58:14.545Z"
   },
   {
    "duration": 21,
    "start_time": "2023-01-10T08:58:14.565Z"
   },
   {
    "duration": 6,
    "start_time": "2023-01-10T08:58:14.587Z"
   },
   {
    "duration": 9,
    "start_time": "2023-01-10T08:58:14.594Z"
   },
   {
    "duration": 18,
    "start_time": "2023-01-10T08:58:14.604Z"
   },
   {
    "duration": 12,
    "start_time": "2023-01-10T08:58:14.624Z"
   },
   {
    "duration": 20,
    "start_time": "2023-01-10T08:58:14.638Z"
   },
   {
    "duration": 12,
    "start_time": "2023-01-10T08:58:14.659Z"
   },
   {
    "duration": 10,
    "start_time": "2023-01-10T08:58:14.672Z"
   },
   {
    "duration": 193,
    "start_time": "2023-01-10T08:58:14.685Z"
   },
   {
    "duration": 8,
    "start_time": "2023-01-10T08:58:14.880Z"
   },
   {
    "duration": 36,
    "start_time": "2023-01-10T08:58:14.889Z"
   },
   {
    "duration": 38,
    "start_time": "2023-01-10T08:58:14.928Z"
   },
   {
    "duration": 41,
    "start_time": "2023-01-10T08:58:14.968Z"
   },
   {
    "duration": 63,
    "start_time": "2023-01-10T08:58:15.012Z"
   },
   {
    "duration": 197,
    "start_time": "2023-01-10T08:58:15.076Z"
   },
   {
    "duration": 67,
    "start_time": "2023-01-10T08:58:15.275Z"
   },
   {
    "duration": 92,
    "start_time": "2023-01-10T08:58:15.343Z"
   },
   {
    "duration": 357,
    "start_time": "2023-01-10T08:58:15.437Z"
   },
   {
    "duration": 8,
    "start_time": "2023-01-10T08:58:15.796Z"
   },
   {
    "duration": 242,
    "start_time": "2023-01-10T08:58:15.806Z"
   },
   {
    "duration": 260,
    "start_time": "2023-01-10T08:58:16.050Z"
   },
   {
    "duration": 139,
    "start_time": "2023-01-10T08:58:16.312Z"
   },
   {
    "duration": 172,
    "start_time": "2023-01-10T08:58:16.452Z"
   },
   {
    "duration": 121,
    "start_time": "2023-01-10T08:58:16.627Z"
   },
   {
    "duration": 189,
    "start_time": "2023-01-10T08:58:16.750Z"
   },
   {
    "duration": 193,
    "start_time": "2023-01-10T08:58:16.941Z"
   },
   {
    "duration": 212,
    "start_time": "2023-01-10T08:58:17.137Z"
   },
   {
    "duration": 130,
    "start_time": "2023-01-10T08:58:17.350Z"
   },
   {
    "duration": 91,
    "start_time": "2023-01-10T08:58:17.482Z"
   },
   {
    "duration": 0,
    "start_time": "2023-01-10T08:58:17.574Z"
   },
   {
    "duration": 0,
    "start_time": "2023-01-10T08:58:17.576Z"
   },
   {
    "duration": 0,
    "start_time": "2023-01-10T08:58:17.577Z"
   },
   {
    "duration": 0,
    "start_time": "2023-01-10T08:58:17.578Z"
   },
   {
    "duration": 0,
    "start_time": "2023-01-10T08:58:17.579Z"
   },
   {
    "duration": 0,
    "start_time": "2023-01-10T08:58:17.580Z"
   },
   {
    "duration": 0,
    "start_time": "2023-01-10T08:58:17.581Z"
   },
   {
    "duration": 0,
    "start_time": "2023-01-10T08:58:17.582Z"
   },
   {
    "duration": 0,
    "start_time": "2023-01-10T08:58:17.583Z"
   },
   {
    "duration": 0,
    "start_time": "2023-01-10T08:58:17.585Z"
   },
   {
    "duration": 0,
    "start_time": "2023-01-10T08:58:17.586Z"
   },
   {
    "duration": 0,
    "start_time": "2023-01-10T08:58:17.587Z"
   },
   {
    "duration": 0,
    "start_time": "2023-01-10T08:58:17.588Z"
   },
   {
    "duration": 0,
    "start_time": "2023-01-10T08:58:17.589Z"
   },
   {
    "duration": 1,
    "start_time": "2023-01-10T08:58:17.589Z"
   },
   {
    "duration": 0,
    "start_time": "2023-01-10T08:58:17.590Z"
   },
   {
    "duration": 0,
    "start_time": "2023-01-10T08:58:17.591Z"
   },
   {
    "duration": 0,
    "start_time": "2023-01-10T08:58:17.592Z"
   },
   {
    "duration": 0,
    "start_time": "2023-01-10T08:58:17.593Z"
   },
   {
    "duration": 0,
    "start_time": "2023-01-10T08:58:17.594Z"
   },
   {
    "duration": 0,
    "start_time": "2023-01-10T08:58:17.595Z"
   },
   {
    "duration": 0,
    "start_time": "2023-01-10T08:58:17.596Z"
   },
   {
    "duration": 0,
    "start_time": "2023-01-10T08:58:17.597Z"
   },
   {
    "duration": 0,
    "start_time": "2023-01-10T08:58:17.598Z"
   },
   {
    "duration": 0,
    "start_time": "2023-01-10T08:58:17.599Z"
   },
   {
    "duration": 0,
    "start_time": "2023-01-10T08:58:17.600Z"
   },
   {
    "duration": 1,
    "start_time": "2023-01-10T08:58:17.600Z"
   },
   {
    "duration": 0,
    "start_time": "2023-01-10T08:58:17.601Z"
   },
   {
    "duration": 0,
    "start_time": "2023-01-10T08:58:17.602Z"
   },
   {
    "duration": 0,
    "start_time": "2023-01-10T08:58:17.603Z"
   },
   {
    "duration": 212,
    "start_time": "2023-01-10T09:14:48.144Z"
   },
   {
    "duration": 234,
    "start_time": "2023-01-10T09:14:48.746Z"
   },
   {
    "duration": 265,
    "start_time": "2023-01-10T09:14:48.982Z"
   },
   {
    "duration": 233,
    "start_time": "2023-01-10T09:14:49.255Z"
   },
   {
    "duration": 207,
    "start_time": "2023-01-10T09:14:49.946Z"
   },
   {
    "duration": 535,
    "start_time": "2023-01-10T09:23:23.209Z"
   },
   {
    "duration": 2290,
    "start_time": "2023-01-10T09:23:23.746Z"
   },
   {
    "duration": 5,
    "start_time": "2023-01-10T09:23:26.037Z"
   },
   {
    "duration": 158,
    "start_time": "2023-01-10T09:23:26.045Z"
   },
   {
    "duration": 117,
    "start_time": "2023-01-10T09:23:26.205Z"
   },
   {
    "duration": 158,
    "start_time": "2023-01-10T09:23:26.323Z"
   },
   {
    "duration": 11,
    "start_time": "2023-01-10T09:23:26.484Z"
   },
   {
    "duration": 14,
    "start_time": "2023-01-10T09:23:26.497Z"
   },
   {
    "duration": 6,
    "start_time": "2023-01-10T09:23:26.513Z"
   },
   {
    "duration": 11,
    "start_time": "2023-01-10T09:23:26.522Z"
   },
   {
    "duration": 171,
    "start_time": "2023-01-10T09:23:26.535Z"
   },
   {
    "duration": 18,
    "start_time": "2023-01-10T09:23:26.708Z"
   },
   {
    "duration": 10,
    "start_time": "2023-01-10T09:23:26.728Z"
   },
   {
    "duration": 8,
    "start_time": "2023-01-10T09:23:26.740Z"
   },
   {
    "duration": 8,
    "start_time": "2023-01-10T09:23:26.777Z"
   },
   {
    "duration": 10,
    "start_time": "2023-01-10T09:23:26.787Z"
   },
   {
    "duration": 9,
    "start_time": "2023-01-10T09:23:26.799Z"
   },
   {
    "duration": 8,
    "start_time": "2023-01-10T09:23:26.810Z"
   },
   {
    "duration": 7,
    "start_time": "2023-01-10T09:23:26.820Z"
   },
   {
    "duration": 8,
    "start_time": "2023-01-10T09:23:26.829Z"
   },
   {
    "duration": 41,
    "start_time": "2023-01-10T09:23:26.839Z"
   },
   {
    "duration": 5,
    "start_time": "2023-01-10T09:23:26.883Z"
   },
   {
    "duration": 206,
    "start_time": "2023-01-10T09:23:26.890Z"
   },
   {
    "duration": 8,
    "start_time": "2023-01-10T09:23:27.098Z"
   },
   {
    "duration": 17,
    "start_time": "2023-01-10T09:23:27.108Z"
   },
   {
    "duration": 4,
    "start_time": "2023-01-10T09:23:27.126Z"
   },
   {
    "duration": 15,
    "start_time": "2023-01-10T09:23:27.132Z"
   },
   {
    "duration": 5,
    "start_time": "2023-01-10T09:23:27.179Z"
   },
   {
    "duration": 143,
    "start_time": "2023-01-10T09:23:27.185Z"
   },
   {
    "duration": 64,
    "start_time": "2023-01-10T09:23:27.329Z"
   },
   {
    "duration": 62,
    "start_time": "2023-01-10T09:23:27.396Z"
   },
   {
    "duration": 279,
    "start_time": "2023-01-10T09:23:27.460Z"
   },
   {
    "duration": 6,
    "start_time": "2023-01-10T09:23:27.741Z"
   },
   {
    "duration": 174,
    "start_time": "2023-01-10T09:23:27.748Z"
   },
   {
    "duration": 231,
    "start_time": "2023-01-10T09:23:27.924Z"
   },
   {
    "duration": 127,
    "start_time": "2023-01-10T09:23:28.157Z"
   },
   {
    "duration": 159,
    "start_time": "2023-01-10T09:23:28.285Z"
   },
   {
    "duration": 102,
    "start_time": "2023-01-10T09:23:28.445Z"
   },
   {
    "duration": 205,
    "start_time": "2023-01-10T09:23:28.549Z"
   },
   {
    "duration": 191,
    "start_time": "2023-01-10T09:23:28.756Z"
   },
   {
    "duration": 181,
    "start_time": "2023-01-10T09:23:28.949Z"
   },
   {
    "duration": 113,
    "start_time": "2023-01-10T09:23:29.132Z"
   },
   {
    "duration": 102,
    "start_time": "2023-01-10T09:23:29.247Z"
   },
   {
    "duration": 0,
    "start_time": "2023-01-10T09:23:29.351Z"
   },
   {
    "duration": 0,
    "start_time": "2023-01-10T09:23:29.352Z"
   },
   {
    "duration": 0,
    "start_time": "2023-01-10T09:23:29.354Z"
   },
   {
    "duration": 0,
    "start_time": "2023-01-10T09:23:29.357Z"
   },
   {
    "duration": 0,
    "start_time": "2023-01-10T09:23:29.358Z"
   },
   {
    "duration": 0,
    "start_time": "2023-01-10T09:23:29.359Z"
   },
   {
    "duration": 0,
    "start_time": "2023-01-10T09:23:29.360Z"
   },
   {
    "duration": 0,
    "start_time": "2023-01-10T09:23:29.361Z"
   },
   {
    "duration": 0,
    "start_time": "2023-01-10T09:23:29.362Z"
   },
   {
    "duration": 0,
    "start_time": "2023-01-10T09:23:29.363Z"
   },
   {
    "duration": 0,
    "start_time": "2023-01-10T09:23:29.363Z"
   },
   {
    "duration": 0,
    "start_time": "2023-01-10T09:23:29.364Z"
   },
   {
    "duration": 0,
    "start_time": "2023-01-10T09:23:29.366Z"
   },
   {
    "duration": 0,
    "start_time": "2023-01-10T09:23:29.367Z"
   },
   {
    "duration": 0,
    "start_time": "2023-01-10T09:23:29.368Z"
   },
   {
    "duration": 0,
    "start_time": "2023-01-10T09:23:29.369Z"
   },
   {
    "duration": 0,
    "start_time": "2023-01-10T09:23:29.371Z"
   },
   {
    "duration": 0,
    "start_time": "2023-01-10T09:23:29.372Z"
   },
   {
    "duration": 0,
    "start_time": "2023-01-10T09:23:29.373Z"
   },
   {
    "duration": 0,
    "start_time": "2023-01-10T09:23:29.375Z"
   },
   {
    "duration": 0,
    "start_time": "2023-01-10T09:23:29.376Z"
   },
   {
    "duration": 0,
    "start_time": "2023-01-10T09:23:29.377Z"
   },
   {
    "duration": 0,
    "start_time": "2023-01-10T09:23:29.379Z"
   },
   {
    "duration": 0,
    "start_time": "2023-01-10T09:23:29.380Z"
   },
   {
    "duration": 0,
    "start_time": "2023-01-10T09:23:29.381Z"
   },
   {
    "duration": 0,
    "start_time": "2023-01-10T09:23:29.383Z"
   },
   {
    "duration": 0,
    "start_time": "2023-01-10T09:23:29.384Z"
   },
   {
    "duration": 0,
    "start_time": "2023-01-10T09:23:29.385Z"
   },
   {
    "duration": 0,
    "start_time": "2023-01-10T09:23:29.386Z"
   },
   {
    "duration": 0,
    "start_time": "2023-01-10T09:23:29.388Z"
   },
   {
    "duration": 613,
    "start_time": "2023-01-10T09:33:03.167Z"
   },
   {
    "duration": 2827,
    "start_time": "2023-01-10T09:33:03.781Z"
   },
   {
    "duration": 5,
    "start_time": "2023-01-10T09:33:06.610Z"
   },
   {
    "duration": 188,
    "start_time": "2023-01-10T09:33:06.617Z"
   },
   {
    "duration": 149,
    "start_time": "2023-01-10T09:33:06.807Z"
   },
   {
    "duration": 192,
    "start_time": "2023-01-10T09:33:06.959Z"
   },
   {
    "duration": 11,
    "start_time": "2023-01-10T09:33:07.153Z"
   },
   {
    "duration": 12,
    "start_time": "2023-01-10T09:33:07.166Z"
   },
   {
    "duration": 6,
    "start_time": "2023-01-10T09:33:07.180Z"
   },
   {
    "duration": 39,
    "start_time": "2023-01-10T09:33:07.188Z"
   },
   {
    "duration": 210,
    "start_time": "2023-01-10T09:33:07.229Z"
   },
   {
    "duration": 19,
    "start_time": "2023-01-10T09:33:07.440Z"
   },
   {
    "duration": 17,
    "start_time": "2023-01-10T09:33:07.461Z"
   },
   {
    "duration": 7,
    "start_time": "2023-01-10T09:33:07.480Z"
   },
   {
    "duration": 33,
    "start_time": "2023-01-10T09:33:07.489Z"
   },
   {
    "duration": 15,
    "start_time": "2023-01-10T09:33:07.524Z"
   },
   {
    "duration": 20,
    "start_time": "2023-01-10T09:33:07.541Z"
   },
   {
    "duration": 8,
    "start_time": "2023-01-10T09:33:07.563Z"
   },
   {
    "duration": 11,
    "start_time": "2023-01-10T09:33:07.574Z"
   },
   {
    "duration": 16,
    "start_time": "2023-01-10T09:33:07.587Z"
   },
   {
    "duration": 26,
    "start_time": "2023-01-10T09:33:07.605Z"
   },
   {
    "duration": 18,
    "start_time": "2023-01-10T09:33:07.633Z"
   },
   {
    "duration": 196,
    "start_time": "2023-01-10T09:33:07.654Z"
   },
   {
    "duration": 12,
    "start_time": "2023-01-10T09:33:07.853Z"
   },
   {
    "duration": 20,
    "start_time": "2023-01-10T09:33:07.868Z"
   },
   {
    "duration": 7,
    "start_time": "2023-01-10T09:33:07.890Z"
   },
   {
    "duration": 36,
    "start_time": "2023-01-10T09:33:07.899Z"
   },
   {
    "duration": 6,
    "start_time": "2023-01-10T09:33:07.942Z"
   },
   {
    "duration": 196,
    "start_time": "2023-01-10T09:33:07.950Z"
   },
   {
    "duration": 106,
    "start_time": "2023-01-10T09:33:08.148Z"
   },
   {
    "duration": 105,
    "start_time": "2023-01-10T09:33:08.257Z"
   },
   {
    "duration": 359,
    "start_time": "2023-01-10T09:33:08.364Z"
   },
   {
    "duration": 8,
    "start_time": "2023-01-10T09:33:08.726Z"
   },
   {
    "duration": 194,
    "start_time": "2023-01-10T09:33:08.737Z"
   },
   {
    "duration": 275,
    "start_time": "2023-01-10T09:33:08.934Z"
   },
   {
    "duration": 166,
    "start_time": "2023-01-10T09:33:09.210Z"
   },
   {
    "duration": 183,
    "start_time": "2023-01-10T09:33:09.377Z"
   },
   {
    "duration": 114,
    "start_time": "2023-01-10T09:33:09.562Z"
   },
   {
    "duration": 201,
    "start_time": "2023-01-10T09:33:09.678Z"
   },
   {
    "duration": 201,
    "start_time": "2023-01-10T09:33:09.881Z"
   },
   {
    "duration": 195,
    "start_time": "2023-01-10T09:33:10.084Z"
   },
   {
    "duration": 131,
    "start_time": "2023-01-10T09:33:10.281Z"
   },
   {
    "duration": 77,
    "start_time": "2023-01-10T09:33:10.414Z"
   },
   {
    "duration": 0,
    "start_time": "2023-01-10T09:33:10.493Z"
   },
   {
    "duration": 0,
    "start_time": "2023-01-10T09:33:10.495Z"
   },
   {
    "duration": 0,
    "start_time": "2023-01-10T09:33:10.496Z"
   },
   {
    "duration": 0,
    "start_time": "2023-01-10T09:33:10.498Z"
   },
   {
    "duration": 0,
    "start_time": "2023-01-10T09:33:10.499Z"
   },
   {
    "duration": 0,
    "start_time": "2023-01-10T09:33:10.500Z"
   },
   {
    "duration": 0,
    "start_time": "2023-01-10T09:33:10.501Z"
   },
   {
    "duration": 0,
    "start_time": "2023-01-10T09:33:10.502Z"
   },
   {
    "duration": 0,
    "start_time": "2023-01-10T09:33:10.503Z"
   },
   {
    "duration": 0,
    "start_time": "2023-01-10T09:33:10.505Z"
   },
   {
    "duration": 0,
    "start_time": "2023-01-10T09:33:10.507Z"
   },
   {
    "duration": 0,
    "start_time": "2023-01-10T09:33:10.508Z"
   },
   {
    "duration": 0,
    "start_time": "2023-01-10T09:33:10.509Z"
   },
   {
    "duration": 0,
    "start_time": "2023-01-10T09:33:10.511Z"
   },
   {
    "duration": 0,
    "start_time": "2023-01-10T09:33:10.512Z"
   },
   {
    "duration": 0,
    "start_time": "2023-01-10T09:33:10.514Z"
   },
   {
    "duration": 0,
    "start_time": "2023-01-10T09:33:10.516Z"
   },
   {
    "duration": 0,
    "start_time": "2023-01-10T09:33:10.518Z"
   },
   {
    "duration": 0,
    "start_time": "2023-01-10T09:33:10.519Z"
   },
   {
    "duration": 0,
    "start_time": "2023-01-10T09:33:10.520Z"
   },
   {
    "duration": 0,
    "start_time": "2023-01-10T09:33:10.522Z"
   },
   {
    "duration": 0,
    "start_time": "2023-01-10T09:33:10.524Z"
   },
   {
    "duration": 0,
    "start_time": "2023-01-10T09:33:10.525Z"
   },
   {
    "duration": 0,
    "start_time": "2023-01-10T09:33:10.526Z"
   },
   {
    "duration": 0,
    "start_time": "2023-01-10T09:33:10.527Z"
   },
   {
    "duration": 0,
    "start_time": "2023-01-10T09:33:10.529Z"
   },
   {
    "duration": 0,
    "start_time": "2023-01-10T09:33:10.530Z"
   },
   {
    "duration": 0,
    "start_time": "2023-01-10T09:33:10.531Z"
   },
   {
    "duration": 0,
    "start_time": "2023-01-10T09:33:10.532Z"
   },
   {
    "duration": 0,
    "start_time": "2023-01-10T09:33:10.533Z"
   },
   {
    "duration": 583,
    "start_time": "2023-01-10T09:33:28.284Z"
   },
   {
    "duration": 2606,
    "start_time": "2023-01-10T09:33:28.869Z"
   },
   {
    "duration": 5,
    "start_time": "2023-01-10T09:33:31.477Z"
   },
   {
    "duration": 212,
    "start_time": "2023-01-10T09:33:31.485Z"
   },
   {
    "duration": 146,
    "start_time": "2023-01-10T09:33:31.699Z"
   },
   {
    "duration": 160,
    "start_time": "2023-01-10T09:33:31.847Z"
   },
   {
    "duration": 23,
    "start_time": "2023-01-10T09:33:32.009Z"
   },
   {
    "duration": 14,
    "start_time": "2023-01-10T09:33:32.035Z"
   },
   {
    "duration": 18,
    "start_time": "2023-01-10T09:33:32.051Z"
   },
   {
    "duration": 32,
    "start_time": "2023-01-10T09:33:32.073Z"
   },
   {
    "duration": 175,
    "start_time": "2023-01-10T09:33:32.107Z"
   },
   {
    "duration": 19,
    "start_time": "2023-01-10T09:33:32.283Z"
   },
   {
    "duration": 26,
    "start_time": "2023-01-10T09:33:32.304Z"
   },
   {
    "duration": 10,
    "start_time": "2023-01-10T09:33:32.332Z"
   },
   {
    "duration": 13,
    "start_time": "2023-01-10T09:33:32.344Z"
   },
   {
    "duration": 7,
    "start_time": "2023-01-10T09:33:32.359Z"
   },
   {
    "duration": 25,
    "start_time": "2023-01-10T09:33:32.369Z"
   },
   {
    "duration": 34,
    "start_time": "2023-01-10T09:33:32.396Z"
   },
   {
    "duration": 23,
    "start_time": "2023-01-10T09:33:32.432Z"
   },
   {
    "duration": 12,
    "start_time": "2023-01-10T09:33:32.457Z"
   },
   {
    "duration": 28,
    "start_time": "2023-01-10T09:33:32.471Z"
   },
   {
    "duration": 6,
    "start_time": "2023-01-10T09:33:32.502Z"
   },
   {
    "duration": 271,
    "start_time": "2023-01-10T09:33:32.509Z"
   },
   {
    "duration": 11,
    "start_time": "2023-01-10T09:33:32.782Z"
   },
   {
    "duration": 45,
    "start_time": "2023-01-10T09:33:32.795Z"
   },
   {
    "duration": 26,
    "start_time": "2023-01-10T09:33:32.843Z"
   },
   {
    "duration": 25,
    "start_time": "2023-01-10T09:33:32.871Z"
   },
   {
    "duration": 16,
    "start_time": "2023-01-10T09:33:32.902Z"
   },
   {
    "duration": 194,
    "start_time": "2023-01-10T09:33:32.920Z"
   },
   {
    "duration": 81,
    "start_time": "2023-01-10T09:33:33.116Z"
   },
   {
    "duration": 110,
    "start_time": "2023-01-10T09:33:33.199Z"
   },
   {
    "duration": 340,
    "start_time": "2023-01-10T09:33:33.312Z"
   },
   {
    "duration": 6,
    "start_time": "2023-01-10T09:33:33.654Z"
   },
   {
    "duration": 188,
    "start_time": "2023-01-10T09:33:33.662Z"
   },
   {
    "duration": 318,
    "start_time": "2023-01-10T09:33:33.852Z"
   },
   {
    "duration": 196,
    "start_time": "2023-01-10T09:33:34.174Z"
   },
   {
    "duration": 241,
    "start_time": "2023-01-10T09:33:34.372Z"
   },
   {
    "duration": 133,
    "start_time": "2023-01-10T09:33:34.615Z"
   },
   {
    "duration": 225,
    "start_time": "2023-01-10T09:33:34.750Z"
   },
   {
    "duration": 198,
    "start_time": "2023-01-10T09:33:34.978Z"
   },
   {
    "duration": 190,
    "start_time": "2023-01-10T09:33:35.178Z"
   },
   {
    "duration": 141,
    "start_time": "2023-01-10T09:33:35.371Z"
   },
   {
    "duration": 186,
    "start_time": "2023-01-10T09:33:35.514Z"
   },
   {
    "duration": 109,
    "start_time": "2023-01-10T09:33:35.702Z"
   },
   {
    "duration": 212,
    "start_time": "2023-01-10T09:33:35.813Z"
   },
   {
    "duration": 179,
    "start_time": "2023-01-10T09:33:36.027Z"
   },
   {
    "duration": 76,
    "start_time": "2023-01-10T09:33:36.208Z"
   },
   {
    "duration": 0,
    "start_time": "2023-01-10T09:33:36.286Z"
   },
   {
    "duration": 0,
    "start_time": "2023-01-10T09:33:36.288Z"
   },
   {
    "duration": 0,
    "start_time": "2023-01-10T09:33:36.289Z"
   },
   {
    "duration": 0,
    "start_time": "2023-01-10T09:33:36.290Z"
   },
   {
    "duration": 0,
    "start_time": "2023-01-10T09:33:36.291Z"
   },
   {
    "duration": 0,
    "start_time": "2023-01-10T09:33:36.293Z"
   },
   {
    "duration": 0,
    "start_time": "2023-01-10T09:33:36.295Z"
   },
   {
    "duration": 0,
    "start_time": "2023-01-10T09:33:36.296Z"
   },
   {
    "duration": 0,
    "start_time": "2023-01-10T09:33:36.298Z"
   },
   {
    "duration": 0,
    "start_time": "2023-01-10T09:33:36.299Z"
   },
   {
    "duration": 0,
    "start_time": "2023-01-10T09:33:36.300Z"
   },
   {
    "duration": 0,
    "start_time": "2023-01-10T09:33:36.301Z"
   },
   {
    "duration": 1,
    "start_time": "2023-01-10T09:33:36.302Z"
   },
   {
    "duration": 0,
    "start_time": "2023-01-10T09:33:36.304Z"
   },
   {
    "duration": 0,
    "start_time": "2023-01-10T09:33:36.305Z"
   },
   {
    "duration": 0,
    "start_time": "2023-01-10T09:33:36.306Z"
   },
   {
    "duration": 0,
    "start_time": "2023-01-10T09:33:36.307Z"
   },
   {
    "duration": 0,
    "start_time": "2023-01-10T09:33:36.309Z"
   },
   {
    "duration": 0,
    "start_time": "2023-01-10T09:33:36.310Z"
   },
   {
    "duration": 0,
    "start_time": "2023-01-10T09:33:36.312Z"
   },
   {
    "duration": 0,
    "start_time": "2023-01-10T09:33:36.313Z"
   },
   {
    "duration": 0,
    "start_time": "2023-01-10T09:33:36.315Z"
   },
   {
    "duration": 0,
    "start_time": "2023-01-10T09:33:36.316Z"
   },
   {
    "duration": 0,
    "start_time": "2023-01-10T09:33:36.317Z"
   },
   {
    "duration": 0,
    "start_time": "2023-01-10T09:33:36.320Z"
   },
   {
    "duration": 619,
    "start_time": "2023-01-10T09:33:54.198Z"
   },
   {
    "duration": 2393,
    "start_time": "2023-01-10T09:33:54.823Z"
   },
   {
    "duration": 4,
    "start_time": "2023-01-10T09:33:57.217Z"
   },
   {
    "duration": 176,
    "start_time": "2023-01-10T09:33:57.224Z"
   },
   {
    "duration": 133,
    "start_time": "2023-01-10T09:33:57.403Z"
   },
   {
    "duration": 176,
    "start_time": "2023-01-10T09:33:57.539Z"
   },
   {
    "duration": 27,
    "start_time": "2023-01-10T09:33:57.717Z"
   },
   {
    "duration": 11,
    "start_time": "2023-01-10T09:33:57.748Z"
   },
   {
    "duration": 12,
    "start_time": "2023-01-10T09:33:57.761Z"
   },
   {
    "duration": 9,
    "start_time": "2023-01-10T09:33:57.775Z"
   },
   {
    "duration": 186,
    "start_time": "2023-01-10T09:33:57.786Z"
   },
   {
    "duration": 18,
    "start_time": "2023-01-10T09:33:57.973Z"
   },
   {
    "duration": 30,
    "start_time": "2023-01-10T09:33:57.993Z"
   },
   {
    "duration": 9,
    "start_time": "2023-01-10T09:33:58.029Z"
   },
   {
    "duration": 22,
    "start_time": "2023-01-10T09:33:58.040Z"
   },
   {
    "duration": 6,
    "start_time": "2023-01-10T09:33:58.064Z"
   },
   {
    "duration": 12,
    "start_time": "2023-01-10T09:33:58.072Z"
   },
   {
    "duration": 7,
    "start_time": "2023-01-10T09:33:58.086Z"
   },
   {
    "duration": 6,
    "start_time": "2023-01-10T09:33:58.095Z"
   },
   {
    "duration": 7,
    "start_time": "2023-01-10T09:33:58.123Z"
   },
   {
    "duration": 9,
    "start_time": "2023-01-10T09:33:58.132Z"
   },
   {
    "duration": 12,
    "start_time": "2023-01-10T09:33:58.143Z"
   },
   {
    "duration": 205,
    "start_time": "2023-01-10T09:33:58.157Z"
   },
   {
    "duration": 10,
    "start_time": "2023-01-10T09:33:58.364Z"
   },
   {
    "duration": 16,
    "start_time": "2023-01-10T09:33:58.375Z"
   },
   {
    "duration": 3,
    "start_time": "2023-01-10T09:33:58.393Z"
   },
   {
    "duration": 43,
    "start_time": "2023-01-10T09:33:58.397Z"
   },
   {
    "duration": 7,
    "start_time": "2023-01-10T09:33:58.442Z"
   },
   {
    "duration": 153,
    "start_time": "2023-01-10T09:33:58.450Z"
   },
   {
    "duration": 70,
    "start_time": "2023-01-10T09:33:58.605Z"
   },
   {
    "duration": 73,
    "start_time": "2023-01-10T09:33:58.677Z"
   },
   {
    "duration": 301,
    "start_time": "2023-01-10T09:33:58.752Z"
   },
   {
    "duration": 6,
    "start_time": "2023-01-10T09:33:59.054Z"
   },
   {
    "duration": 198,
    "start_time": "2023-01-10T09:33:59.062Z"
   },
   {
    "duration": 275,
    "start_time": "2023-01-10T09:33:59.262Z"
   },
   {
    "duration": 133,
    "start_time": "2023-01-10T09:33:59.539Z"
   },
   {
    "duration": 181,
    "start_time": "2023-01-10T09:33:59.674Z"
   },
   {
    "duration": 128,
    "start_time": "2023-01-10T09:33:59.857Z"
   },
   {
    "duration": 206,
    "start_time": "2023-01-10T09:33:59.987Z"
   },
   {
    "duration": 223,
    "start_time": "2023-01-10T09:34:00.195Z"
   },
   {
    "duration": 227,
    "start_time": "2023-01-10T09:34:00.426Z"
   },
   {
    "duration": 126,
    "start_time": "2023-01-10T09:34:00.655Z"
   },
   {
    "duration": 200,
    "start_time": "2023-01-10T09:34:00.783Z"
   },
   {
    "duration": 102,
    "start_time": "2023-01-10T09:34:00.984Z"
   },
   {
    "duration": 185,
    "start_time": "2023-01-10T09:34:01.087Z"
   },
   {
    "duration": 183,
    "start_time": "2023-01-10T09:34:01.273Z"
   },
   {
    "duration": 283,
    "start_time": "2023-01-10T09:34:01.458Z"
   },
   {
    "duration": 193,
    "start_time": "2023-01-10T09:34:01.743Z"
   },
   {
    "duration": 157,
    "start_time": "2023-01-10T09:34:01.938Z"
   },
   {
    "duration": 67,
    "start_time": "2023-01-10T09:34:02.097Z"
   },
   {
    "duration": 0,
    "start_time": "2023-01-10T09:34:02.166Z"
   },
   {
    "duration": 0,
    "start_time": "2023-01-10T09:34:02.167Z"
   },
   {
    "duration": 0,
    "start_time": "2023-01-10T09:34:02.168Z"
   },
   {
    "duration": 0,
    "start_time": "2023-01-10T09:34:02.169Z"
   },
   {
    "duration": 0,
    "start_time": "2023-01-10T09:34:02.170Z"
   },
   {
    "duration": 0,
    "start_time": "2023-01-10T09:34:02.171Z"
   },
   {
    "duration": 0,
    "start_time": "2023-01-10T09:34:02.173Z"
   },
   {
    "duration": 0,
    "start_time": "2023-01-10T09:34:02.174Z"
   },
   {
    "duration": 0,
    "start_time": "2023-01-10T09:34:02.175Z"
   },
   {
    "duration": 0,
    "start_time": "2023-01-10T09:34:02.176Z"
   },
   {
    "duration": 0,
    "start_time": "2023-01-10T09:34:02.177Z"
   },
   {
    "duration": 0,
    "start_time": "2023-01-10T09:34:02.178Z"
   },
   {
    "duration": 0,
    "start_time": "2023-01-10T09:34:02.179Z"
   },
   {
    "duration": 0,
    "start_time": "2023-01-10T09:34:02.180Z"
   },
   {
    "duration": 0,
    "start_time": "2023-01-10T09:34:02.181Z"
   },
   {
    "duration": 0,
    "start_time": "2023-01-10T09:34:02.182Z"
   },
   {
    "duration": 0,
    "start_time": "2023-01-10T09:34:02.183Z"
   },
   {
    "duration": 0,
    "start_time": "2023-01-10T09:34:02.185Z"
   },
   {
    "duration": 0,
    "start_time": "2023-01-10T09:34:02.186Z"
   },
   {
    "duration": 0,
    "start_time": "2023-01-10T09:34:02.188Z"
   },
   {
    "duration": 582,
    "start_time": "2023-01-10T09:34:17.678Z"
   },
   {
    "duration": 2854,
    "start_time": "2023-01-10T09:34:18.262Z"
   },
   {
    "duration": 17,
    "start_time": "2023-01-10T09:34:21.119Z"
   },
   {
    "duration": 207,
    "start_time": "2023-01-10T09:34:21.143Z"
   },
   {
    "duration": 133,
    "start_time": "2023-01-10T09:34:21.352Z"
   },
   {
    "duration": 197,
    "start_time": "2023-01-10T09:34:21.487Z"
   },
   {
    "duration": 13,
    "start_time": "2023-01-10T09:34:21.686Z"
   },
   {
    "duration": 10,
    "start_time": "2023-01-10T09:34:21.701Z"
   },
   {
    "duration": 41,
    "start_time": "2023-01-10T09:34:21.713Z"
   },
   {
    "duration": 21,
    "start_time": "2023-01-10T09:34:21.758Z"
   },
   {
    "duration": 162,
    "start_time": "2023-01-10T09:34:21.781Z"
   },
   {
    "duration": 18,
    "start_time": "2023-01-10T09:34:21.944Z"
   },
   {
    "duration": 12,
    "start_time": "2023-01-10T09:34:21.964Z"
   },
   {
    "duration": 13,
    "start_time": "2023-01-10T09:34:21.978Z"
   },
   {
    "duration": 20,
    "start_time": "2023-01-10T09:34:21.993Z"
   },
   {
    "duration": 6,
    "start_time": "2023-01-10T09:34:22.025Z"
   },
   {
    "duration": 19,
    "start_time": "2023-01-10T09:34:22.033Z"
   },
   {
    "duration": 9,
    "start_time": "2023-01-10T09:34:22.054Z"
   },
   {
    "duration": 10,
    "start_time": "2023-01-10T09:34:22.064Z"
   },
   {
    "duration": 10,
    "start_time": "2023-01-10T09:34:22.075Z"
   },
   {
    "duration": 8,
    "start_time": "2023-01-10T09:34:22.087Z"
   },
   {
    "duration": 28,
    "start_time": "2023-01-10T09:34:22.097Z"
   },
   {
    "duration": 197,
    "start_time": "2023-01-10T09:34:22.127Z"
   },
   {
    "duration": 12,
    "start_time": "2023-01-10T09:34:22.326Z"
   },
   {
    "duration": 34,
    "start_time": "2023-01-10T09:34:22.340Z"
   },
   {
    "duration": 4,
    "start_time": "2023-01-10T09:34:22.376Z"
   },
   {
    "duration": 29,
    "start_time": "2023-01-10T09:34:22.382Z"
   },
   {
    "duration": 6,
    "start_time": "2023-01-10T09:34:22.428Z"
   },
   {
    "duration": 153,
    "start_time": "2023-01-10T09:34:22.436Z"
   },
   {
    "duration": 81,
    "start_time": "2023-01-10T09:34:22.590Z"
   },
   {
    "duration": 86,
    "start_time": "2023-01-10T09:34:22.673Z"
   },
   {
    "duration": 315,
    "start_time": "2023-01-10T09:34:22.762Z"
   },
   {
    "duration": 7,
    "start_time": "2023-01-10T09:34:23.079Z"
   },
   {
    "duration": 190,
    "start_time": "2023-01-10T09:34:23.088Z"
   },
   {
    "duration": 273,
    "start_time": "2023-01-10T09:34:23.280Z"
   },
   {
    "duration": 136,
    "start_time": "2023-01-10T09:34:23.555Z"
   },
   {
    "duration": 175,
    "start_time": "2023-01-10T09:34:23.693Z"
   },
   {
    "duration": 132,
    "start_time": "2023-01-10T09:34:23.870Z"
   },
   {
    "duration": 255,
    "start_time": "2023-01-10T09:34:24.004Z"
   },
   {
    "duration": 226,
    "start_time": "2023-01-10T09:34:24.261Z"
   },
   {
    "duration": 190,
    "start_time": "2023-01-10T09:34:24.490Z"
   },
   {
    "duration": 161,
    "start_time": "2023-01-10T09:34:24.682Z"
   },
   {
    "duration": 178,
    "start_time": "2023-01-10T09:34:24.847Z"
   },
   {
    "duration": 121,
    "start_time": "2023-01-10T09:34:25.028Z"
   },
   {
    "duration": 194,
    "start_time": "2023-01-10T09:34:25.150Z"
   },
   {
    "duration": 166,
    "start_time": "2023-01-10T09:34:25.347Z"
   },
   {
    "duration": 268,
    "start_time": "2023-01-10T09:34:25.514Z"
   },
   {
    "duration": 218,
    "start_time": "2023-01-10T09:34:25.783Z"
   },
   {
    "duration": 162,
    "start_time": "2023-01-10T09:34:26.002Z"
   },
   {
    "duration": 175,
    "start_time": "2023-01-10T09:34:26.165Z"
   },
   {
    "duration": 79,
    "start_time": "2023-01-10T09:34:26.343Z"
   },
   {
    "duration": 0,
    "start_time": "2023-01-10T09:34:26.424Z"
   },
   {
    "duration": 0,
    "start_time": "2023-01-10T09:34:26.426Z"
   },
   {
    "duration": 0,
    "start_time": "2023-01-10T09:34:26.429Z"
   },
   {
    "duration": 0,
    "start_time": "2023-01-10T09:34:26.430Z"
   },
   {
    "duration": 0,
    "start_time": "2023-01-10T09:34:26.432Z"
   },
   {
    "duration": 0,
    "start_time": "2023-01-10T09:34:26.433Z"
   },
   {
    "duration": 0,
    "start_time": "2023-01-10T09:34:26.437Z"
   },
   {
    "duration": 0,
    "start_time": "2023-01-10T09:34:26.438Z"
   },
   {
    "duration": 0,
    "start_time": "2023-01-10T09:34:26.440Z"
   },
   {
    "duration": 0,
    "start_time": "2023-01-10T09:34:26.441Z"
   },
   {
    "duration": 0,
    "start_time": "2023-01-10T09:34:26.443Z"
   },
   {
    "duration": 0,
    "start_time": "2023-01-10T09:34:26.444Z"
   },
   {
    "duration": 0,
    "start_time": "2023-01-10T09:34:26.445Z"
   },
   {
    "duration": 0,
    "start_time": "2023-01-10T09:34:26.446Z"
   },
   {
    "duration": 0,
    "start_time": "2023-01-10T09:34:26.448Z"
   },
   {
    "duration": 0,
    "start_time": "2023-01-10T09:34:26.449Z"
   },
   {
    "duration": 0,
    "start_time": "2023-01-10T09:34:26.451Z"
   },
   {
    "duration": 0,
    "start_time": "2023-01-10T09:34:26.452Z"
   },
   {
    "duration": 584,
    "start_time": "2023-01-10T09:34:42.066Z"
   },
   {
    "duration": 2600,
    "start_time": "2023-01-10T09:34:42.652Z"
   },
   {
    "duration": 5,
    "start_time": "2023-01-10T09:34:45.254Z"
   },
   {
    "duration": 161,
    "start_time": "2023-01-10T09:34:45.261Z"
   },
   {
    "duration": 133,
    "start_time": "2023-01-10T09:34:45.427Z"
   },
   {
    "duration": 189,
    "start_time": "2023-01-10T09:34:45.561Z"
   },
   {
    "duration": 12,
    "start_time": "2023-01-10T09:34:45.752Z"
   },
   {
    "duration": 11,
    "start_time": "2023-01-10T09:34:45.766Z"
   },
   {
    "duration": 14,
    "start_time": "2023-01-10T09:34:45.779Z"
   },
   {
    "duration": 37,
    "start_time": "2023-01-10T09:34:45.795Z"
   },
   {
    "duration": 184,
    "start_time": "2023-01-10T09:34:45.834Z"
   },
   {
    "duration": 25,
    "start_time": "2023-01-10T09:34:46.026Z"
   },
   {
    "duration": 13,
    "start_time": "2023-01-10T09:34:46.053Z"
   },
   {
    "duration": 8,
    "start_time": "2023-01-10T09:34:46.070Z"
   },
   {
    "duration": 8,
    "start_time": "2023-01-10T09:34:46.080Z"
   },
   {
    "duration": 37,
    "start_time": "2023-01-10T09:34:46.090Z"
   },
   {
    "duration": 20,
    "start_time": "2023-01-10T09:34:46.128Z"
   },
   {
    "duration": 8,
    "start_time": "2023-01-10T09:34:46.149Z"
   },
   {
    "duration": 5,
    "start_time": "2023-01-10T09:34:46.159Z"
   },
   {
    "duration": 7,
    "start_time": "2023-01-10T09:34:46.165Z"
   },
   {
    "duration": 7,
    "start_time": "2023-01-10T09:34:46.173Z"
   },
   {
    "duration": 45,
    "start_time": "2023-01-10T09:34:46.181Z"
   },
   {
    "duration": 203,
    "start_time": "2023-01-10T09:34:46.237Z"
   },
   {
    "duration": 10,
    "start_time": "2023-01-10T09:34:46.442Z"
   },
   {
    "duration": 28,
    "start_time": "2023-01-10T09:34:46.455Z"
   },
   {
    "duration": 3,
    "start_time": "2023-01-10T09:34:46.485Z"
   },
   {
    "duration": 39,
    "start_time": "2023-01-10T09:34:46.490Z"
   },
   {
    "duration": 5,
    "start_time": "2023-01-10T09:34:46.531Z"
   },
   {
    "duration": 169,
    "start_time": "2023-01-10T09:34:46.537Z"
   },
   {
    "duration": 86,
    "start_time": "2023-01-10T09:34:46.708Z"
   },
   {
    "duration": 77,
    "start_time": "2023-01-10T09:34:46.795Z"
   },
   {
    "duration": 336,
    "start_time": "2023-01-10T09:34:46.874Z"
   },
   {
    "duration": 6,
    "start_time": "2023-01-10T09:34:47.211Z"
   },
   {
    "duration": 172,
    "start_time": "2023-01-10T09:34:47.222Z"
   },
   {
    "duration": 258,
    "start_time": "2023-01-10T09:34:47.396Z"
   },
   {
    "duration": 124,
    "start_time": "2023-01-10T09:34:47.656Z"
   },
   {
    "duration": 172,
    "start_time": "2023-01-10T09:34:47.782Z"
   },
   {
    "duration": 124,
    "start_time": "2023-01-10T09:34:47.955Z"
   },
   {
    "duration": 183,
    "start_time": "2023-01-10T09:34:48.081Z"
   },
   {
    "duration": 194,
    "start_time": "2023-01-10T09:34:48.266Z"
   },
   {
    "duration": 230,
    "start_time": "2023-01-10T09:34:48.465Z"
   },
   {
    "duration": 143,
    "start_time": "2023-01-10T09:34:48.696Z"
   },
   {
    "duration": 166,
    "start_time": "2023-01-10T09:34:48.841Z"
   },
   {
    "duration": 139,
    "start_time": "2023-01-10T09:34:49.008Z"
   },
   {
    "duration": 245,
    "start_time": "2023-01-10T09:34:49.149Z"
   },
   {
    "duration": 161,
    "start_time": "2023-01-10T09:34:49.396Z"
   },
   {
    "duration": 270,
    "start_time": "2023-01-10T09:34:49.559Z"
   },
   {
    "duration": 177,
    "start_time": "2023-01-10T09:34:49.843Z"
   },
   {
    "duration": 172,
    "start_time": "2023-01-10T09:34:50.022Z"
   },
   {
    "duration": 170,
    "start_time": "2023-01-10T09:34:50.196Z"
   },
   {
    "duration": 179,
    "start_time": "2023-01-10T09:34:50.367Z"
   },
   {
    "duration": 46,
    "start_time": "2023-01-10T09:34:50.549Z"
   },
   {
    "duration": 66,
    "start_time": "2023-01-10T09:34:50.597Z"
   },
   {
    "duration": 205,
    "start_time": "2023-01-10T09:34:50.665Z"
   },
   {
    "duration": 210,
    "start_time": "2023-01-10T09:34:50.872Z"
   },
   {
    "duration": 210,
    "start_time": "2023-01-10T09:34:51.084Z"
   },
   {
    "duration": 219,
    "start_time": "2023-01-10T09:34:51.296Z"
   },
   {
    "duration": 228,
    "start_time": "2023-01-10T09:34:51.524Z"
   },
   {
    "duration": 220,
    "start_time": "2023-01-10T09:34:51.753Z"
   },
   {
    "duration": 197,
    "start_time": "2023-01-10T09:34:51.975Z"
   },
   {
    "duration": 232,
    "start_time": "2023-01-10T09:34:52.175Z"
   },
   {
    "duration": 37,
    "start_time": "2023-01-10T09:34:52.409Z"
   },
   {
    "duration": 33,
    "start_time": "2023-01-10T09:34:52.448Z"
   },
   {
    "duration": 57,
    "start_time": "2023-01-10T09:34:52.483Z"
   },
   {
    "duration": 18,
    "start_time": "2023-01-10T09:34:52.542Z"
   },
   {
    "duration": 233,
    "start_time": "2023-01-10T09:34:52.562Z"
   },
   {
    "duration": 8,
    "start_time": "2023-01-10T09:34:52.797Z"
   },
   {
    "duration": 635,
    "start_time": "2023-01-10T18:53:19.539Z"
   },
   {
    "duration": 2619,
    "start_time": "2023-01-10T18:53:20.176Z"
   },
   {
    "duration": 5,
    "start_time": "2023-01-10T18:53:22.797Z"
   },
   {
    "duration": 192,
    "start_time": "2023-01-10T18:53:22.804Z"
   },
   {
    "duration": 186,
    "start_time": "2023-01-10T18:53:22.998Z"
   },
   {
    "duration": 200,
    "start_time": "2023-01-10T18:53:23.186Z"
   },
   {
    "duration": 11,
    "start_time": "2023-01-10T18:53:23.388Z"
   },
   {
    "duration": 11,
    "start_time": "2023-01-10T18:53:23.401Z"
   },
   {
    "duration": 26,
    "start_time": "2023-01-10T18:53:23.436Z"
   },
   {
    "duration": 14,
    "start_time": "2023-01-10T18:53:23.466Z"
   },
   {
    "duration": 175,
    "start_time": "2023-01-10T18:53:23.482Z"
   },
   {
    "duration": 17,
    "start_time": "2023-01-10T18:53:23.659Z"
   },
   {
    "duration": 10,
    "start_time": "2023-01-10T18:53:23.678Z"
   },
   {
    "duration": 16,
    "start_time": "2023-01-10T18:53:23.690Z"
   },
   {
    "duration": 17,
    "start_time": "2023-01-10T18:53:23.707Z"
   },
   {
    "duration": 23,
    "start_time": "2023-01-10T18:53:23.726Z"
   },
   {
    "duration": 18,
    "start_time": "2023-01-10T18:53:23.753Z"
   },
   {
    "duration": 9,
    "start_time": "2023-01-10T18:53:23.773Z"
   },
   {
    "duration": 12,
    "start_time": "2023-01-10T18:53:23.784Z"
   },
   {
    "duration": 15,
    "start_time": "2023-01-10T18:53:23.798Z"
   },
   {
    "duration": 16,
    "start_time": "2023-01-10T18:53:23.816Z"
   },
   {
    "duration": 24,
    "start_time": "2023-01-10T18:53:23.835Z"
   },
   {
    "duration": 180,
    "start_time": "2023-01-10T18:53:23.860Z"
   },
   {
    "duration": 18,
    "start_time": "2023-01-10T18:53:24.042Z"
   },
   {
    "duration": 23,
    "start_time": "2023-01-10T18:53:24.062Z"
   },
   {
    "duration": 4,
    "start_time": "2023-01-10T18:53:24.087Z"
   },
   {
    "duration": 23,
    "start_time": "2023-01-10T18:53:24.093Z"
   },
   {
    "duration": 25,
    "start_time": "2023-01-10T18:53:24.122Z"
   },
   {
    "duration": 161,
    "start_time": "2023-01-10T18:53:24.153Z"
   },
   {
    "duration": 115,
    "start_time": "2023-01-10T18:53:24.316Z"
   },
   {
    "duration": 80,
    "start_time": "2023-01-10T18:53:24.437Z"
   },
   {
    "duration": 337,
    "start_time": "2023-01-10T18:53:24.519Z"
   },
   {
    "duration": 9,
    "start_time": "2023-01-10T18:53:24.857Z"
   },
   {
    "duration": 191,
    "start_time": "2023-01-10T18:53:24.868Z"
   },
   {
    "duration": 247,
    "start_time": "2023-01-10T18:53:25.062Z"
   },
   {
    "duration": 148,
    "start_time": "2023-01-10T18:53:25.311Z"
   },
   {
    "duration": 171,
    "start_time": "2023-01-10T18:53:25.461Z"
   },
   {
    "duration": 138,
    "start_time": "2023-01-10T18:53:25.636Z"
   },
   {
    "duration": 197,
    "start_time": "2023-01-10T18:53:25.776Z"
   },
   {
    "duration": 222,
    "start_time": "2023-01-10T18:53:25.975Z"
   },
   {
    "duration": 181,
    "start_time": "2023-01-10T18:53:26.199Z"
   },
   {
    "duration": 133,
    "start_time": "2023-01-10T18:53:26.381Z"
   },
   {
    "duration": 175,
    "start_time": "2023-01-10T18:53:26.516Z"
   },
   {
    "duration": 157,
    "start_time": "2023-01-10T18:53:26.694Z"
   },
   {
    "duration": 201,
    "start_time": "2023-01-10T18:53:26.854Z"
   },
   {
    "duration": 170,
    "start_time": "2023-01-10T18:53:27.060Z"
   },
   {
    "duration": 253,
    "start_time": "2023-01-10T18:53:27.234Z"
   },
   {
    "duration": 266,
    "start_time": "2023-01-10T18:53:27.489Z"
   },
   {
    "duration": 237,
    "start_time": "2023-01-10T18:53:27.759Z"
   },
   {
    "duration": 240,
    "start_time": "2023-01-10T18:53:27.998Z"
   },
   {
    "duration": 225,
    "start_time": "2023-01-10T18:53:28.240Z"
   },
   {
    "duration": 88,
    "start_time": "2023-01-10T18:53:28.467Z"
   },
   {
    "duration": 39,
    "start_time": "2023-01-10T18:53:28.558Z"
   },
   {
    "duration": 210,
    "start_time": "2023-01-10T18:53:28.600Z"
   },
   {
    "duration": 199,
    "start_time": "2023-01-10T18:53:28.812Z"
   },
   {
    "duration": 213,
    "start_time": "2023-01-10T18:53:29.012Z"
   },
   {
    "duration": 224,
    "start_time": "2023-01-10T18:53:29.236Z"
   },
   {
    "duration": 194,
    "start_time": "2023-01-10T18:53:29.462Z"
   },
   {
    "duration": 198,
    "start_time": "2023-01-10T18:53:29.658Z"
   },
   {
    "duration": 199,
    "start_time": "2023-01-10T18:53:29.858Z"
   },
   {
    "duration": 210,
    "start_time": "2023-01-10T18:53:30.059Z"
   },
   {
    "duration": 35,
    "start_time": "2023-01-10T18:53:30.271Z"
   },
   {
    "duration": 60,
    "start_time": "2023-01-10T18:53:30.308Z"
   },
   {
    "duration": 45,
    "start_time": "2023-01-10T18:53:30.370Z"
   },
   {
    "duration": 75,
    "start_time": "2023-01-10T18:53:30.418Z"
   },
   {
    "duration": 281,
    "start_time": "2023-01-10T18:53:30.496Z"
   },
   {
    "duration": 10,
    "start_time": "2023-01-10T18:53:30.780Z"
   },
   {
    "duration": 19,
    "start_time": "2023-01-10T18:54:30.752Z"
   },
   {
    "duration": 16,
    "start_time": "2023-01-10T18:54:52.367Z"
   },
   {
    "duration": 7,
    "start_time": "2023-01-10T18:55:09.276Z"
   },
   {
    "duration": 24,
    "start_time": "2023-01-10T18:55:39.513Z"
   },
   {
    "duration": 100,
    "start_time": "2023-01-10T18:55:43.975Z"
   },
   {
    "duration": 12,
    "start_time": "2023-01-10T18:56:40.681Z"
   },
   {
    "duration": 6,
    "start_time": "2023-01-10T18:56:47.068Z"
   },
   {
    "duration": 398,
    "start_time": "2023-01-11T05:15:36.669Z"
   },
   {
    "duration": 191,
    "start_time": "2023-01-11T05:15:37.546Z"
   },
   {
    "duration": 3,
    "start_time": "2023-01-11T05:15:57.241Z"
   },
   {
    "duration": 143,
    "start_time": "2023-01-11T05:16:00.282Z"
   },
   {
    "duration": 2488,
    "start_time": "2023-01-11T05:16:18.473Z"
   },
   {
    "duration": 93,
    "start_time": "2023-01-11T05:21:38.157Z"
   },
   {
    "duration": 157,
    "start_time": "2023-01-11T05:21:46.300Z"
   },
   {
    "duration": 166,
    "start_time": "2023-01-11T05:22:55.700Z"
   },
   {
    "duration": 1249,
    "start_time": "2023-01-11T06:55:15.254Z"
   },
   {
    "duration": 1204,
    "start_time": "2023-01-11T06:55:29.459Z"
   },
   {
    "duration": 406,
    "start_time": "2023-01-11T06:58:48.421Z"
   },
   {
    "duration": 3,
    "start_time": "2023-01-11T06:58:48.829Z"
   },
   {
    "duration": 141,
    "start_time": "2023-01-11T06:58:48.833Z"
   },
   {
    "duration": 2249,
    "start_time": "2023-01-11T06:58:48.976Z"
   },
   {
    "duration": 5,
    "start_time": "2023-01-11T06:58:51.227Z"
   },
   {
    "duration": 148,
    "start_time": "2023-01-11T06:58:51.234Z"
   },
   {
    "duration": 111,
    "start_time": "2023-01-11T06:58:51.384Z"
   },
   {
    "duration": 151,
    "start_time": "2023-01-11T06:58:51.496Z"
   },
   {
    "duration": 9,
    "start_time": "2023-01-11T06:58:51.649Z"
   },
   {
    "duration": 10,
    "start_time": "2023-01-11T06:58:51.661Z"
   },
   {
    "duration": 5,
    "start_time": "2023-01-11T06:58:51.672Z"
   },
   {
    "duration": 11,
    "start_time": "2023-01-11T06:58:51.679Z"
   },
   {
    "duration": 154,
    "start_time": "2023-01-11T06:58:51.692Z"
   },
   {
    "duration": 16,
    "start_time": "2023-01-11T06:58:51.848Z"
   },
   {
    "duration": 9,
    "start_time": "2023-01-11T06:58:51.866Z"
   },
   {
    "duration": 5,
    "start_time": "2023-01-11T06:58:51.877Z"
   },
   {
    "duration": 30,
    "start_time": "2023-01-11T06:58:51.884Z"
   },
   {
    "duration": 5,
    "start_time": "2023-01-11T06:58:51.915Z"
   },
   {
    "duration": 12,
    "start_time": "2023-01-11T06:58:51.922Z"
   },
   {
    "duration": 21,
    "start_time": "2023-01-11T06:58:51.936Z"
   },
   {
    "duration": 5,
    "start_time": "2023-01-11T06:58:51.958Z"
   },
   {
    "duration": 12,
    "start_time": "2023-01-11T06:58:51.964Z"
   },
   {
    "duration": 10,
    "start_time": "2023-01-11T06:58:51.978Z"
   },
   {
    "duration": 6,
    "start_time": "2023-01-11T06:58:51.990Z"
   },
   {
    "duration": 154,
    "start_time": "2023-01-11T06:58:51.997Z"
   },
   {
    "duration": 8,
    "start_time": "2023-01-11T06:58:52.152Z"
   },
   {
    "duration": 18,
    "start_time": "2023-01-11T06:58:52.161Z"
   },
   {
    "duration": 3,
    "start_time": "2023-01-11T06:58:52.183Z"
   },
   {
    "duration": 35,
    "start_time": "2023-01-11T06:58:52.187Z"
   },
   {
    "duration": 4,
    "start_time": "2023-01-11T06:58:52.223Z"
   },
   {
    "duration": 163,
    "start_time": "2023-01-11T06:58:52.228Z"
   },
   {
    "duration": 61,
    "start_time": "2023-01-11T06:58:52.393Z"
   },
   {
    "duration": 70,
    "start_time": "2023-01-11T06:58:52.455Z"
   },
   {
    "duration": 271,
    "start_time": "2023-01-11T06:58:52.526Z"
   },
   {
    "duration": 5,
    "start_time": "2023-01-11T06:58:52.799Z"
   },
   {
    "duration": 168,
    "start_time": "2023-01-11T06:58:52.817Z"
   },
   {
    "duration": 203,
    "start_time": "2023-01-11T06:58:52.987Z"
   },
   {
    "duration": 111,
    "start_time": "2023-01-11T06:58:53.192Z"
   },
   {
    "duration": 164,
    "start_time": "2023-01-11T06:58:53.313Z"
   },
   {
    "duration": 98,
    "start_time": "2023-01-11T06:58:53.479Z"
   },
   {
    "duration": 172,
    "start_time": "2023-01-11T06:58:53.579Z"
   },
   {
    "duration": 174,
    "start_time": "2023-01-11T06:58:53.752Z"
   },
   {
    "duration": 177,
    "start_time": "2023-01-11T06:58:53.928Z"
   },
   {
    "duration": 118,
    "start_time": "2023-01-11T06:58:54.107Z"
   },
   {
    "duration": 158,
    "start_time": "2023-01-11T06:58:54.227Z"
   },
   {
    "duration": 103,
    "start_time": "2023-01-11T06:58:54.387Z"
   },
   {
    "duration": 204,
    "start_time": "2023-01-11T06:58:54.491Z"
   },
   {
    "duration": 234,
    "start_time": "2023-01-11T06:58:54.697Z"
   },
   {
    "duration": 141,
    "start_time": "2023-01-11T06:58:54.933Z"
   },
   {
    "duration": 168,
    "start_time": "2023-01-11T06:58:55.076Z"
   },
   {
    "duration": 140,
    "start_time": "2023-01-11T06:58:55.245Z"
   },
   {
    "duration": 162,
    "start_time": "2023-01-11T06:58:55.387Z"
   },
   {
    "duration": 162,
    "start_time": "2023-01-11T06:58:55.551Z"
   },
   {
    "duration": 45,
    "start_time": "2023-01-11T06:58:55.714Z"
   },
   {
    "duration": 54,
    "start_time": "2023-01-11T06:58:55.761Z"
   },
   {
    "duration": 184,
    "start_time": "2023-01-11T06:58:55.818Z"
   },
   {
    "duration": 180,
    "start_time": "2023-01-11T06:58:56.004Z"
   },
   {
    "duration": 174,
    "start_time": "2023-01-11T06:58:56.186Z"
   },
   {
    "duration": 194,
    "start_time": "2023-01-11T06:58:56.361Z"
   },
   {
    "duration": 171,
    "start_time": "2023-01-11T06:58:56.556Z"
   },
   {
    "duration": 267,
    "start_time": "2023-01-11T06:58:56.729Z"
   },
   {
    "duration": 176,
    "start_time": "2023-01-11T06:58:56.998Z"
   },
   {
    "duration": 184,
    "start_time": "2023-01-11T06:58:57.176Z"
   },
   {
    "duration": 26,
    "start_time": "2023-01-11T06:58:57.361Z"
   },
   {
    "duration": 41,
    "start_time": "2023-01-11T06:58:57.389Z"
   },
   {
    "duration": 22,
    "start_time": "2023-01-11T06:58:57.432Z"
   },
   {
    "duration": 12,
    "start_time": "2023-01-11T06:58:57.456Z"
   },
   {
    "duration": 197,
    "start_time": "2023-01-11T06:58:57.469Z"
   },
   {
    "duration": 6,
    "start_time": "2023-01-11T06:58:57.667Z"
   },
   {
    "duration": 14,
    "start_time": "2023-01-11T07:04:36.569Z"
   },
   {
    "duration": 147,
    "start_time": "2023-01-11T07:05:50.735Z"
   },
   {
    "duration": 156,
    "start_time": "2023-01-11T07:06:03.416Z"
   },
   {
    "duration": 219,
    "start_time": "2023-01-11T07:11:38.274Z"
   },
   {
    "duration": 167,
    "start_time": "2023-01-11T07:11:52.257Z"
   },
   {
    "duration": 149,
    "start_time": "2023-01-11T07:14:03.152Z"
   },
   {
    "duration": 155,
    "start_time": "2023-01-11T07:14:06.272Z"
   },
   {
    "duration": 265,
    "start_time": "2023-01-11T07:15:02.583Z"
   },
   {
    "duration": 186,
    "start_time": "2023-01-11T07:15:10.502Z"
   },
   {
    "duration": 190,
    "start_time": "2023-01-11T07:15:18.279Z"
   },
   {
    "duration": 412,
    "start_time": "2023-01-11T07:17:48.936Z"
   },
   {
    "duration": 3,
    "start_time": "2023-01-11T07:17:49.350Z"
   },
   {
    "duration": 148,
    "start_time": "2023-01-11T07:17:49.355Z"
   },
   {
    "duration": 2200,
    "start_time": "2023-01-11T07:17:49.505Z"
   },
   {
    "duration": 5,
    "start_time": "2023-01-11T07:17:51.708Z"
   },
   {
    "duration": 176,
    "start_time": "2023-01-11T07:17:51.715Z"
   },
   {
    "duration": 108,
    "start_time": "2023-01-11T07:17:51.893Z"
   },
   {
    "duration": 182,
    "start_time": "2023-01-11T07:17:52.003Z"
   },
   {
    "duration": 11,
    "start_time": "2023-01-11T07:17:52.187Z"
   },
   {
    "duration": 21,
    "start_time": "2023-01-11T07:17:52.200Z"
   },
   {
    "duration": 5,
    "start_time": "2023-01-11T07:17:52.223Z"
   },
   {
    "duration": 18,
    "start_time": "2023-01-11T07:17:52.229Z"
   },
   {
    "duration": 159,
    "start_time": "2023-01-11T07:17:52.249Z"
   },
   {
    "duration": 18,
    "start_time": "2023-01-11T07:17:52.414Z"
   },
   {
    "duration": 11,
    "start_time": "2023-01-11T07:17:52.434Z"
   },
   {
    "duration": 8,
    "start_time": "2023-01-11T07:17:52.446Z"
   },
   {
    "duration": 8,
    "start_time": "2023-01-11T07:17:52.455Z"
   },
   {
    "duration": 5,
    "start_time": "2023-01-11T07:17:52.465Z"
   },
   {
    "duration": 45,
    "start_time": "2023-01-11T07:17:52.472Z"
   },
   {
    "duration": 8,
    "start_time": "2023-01-11T07:17:52.519Z"
   },
   {
    "duration": 5,
    "start_time": "2023-01-11T07:17:52.528Z"
   },
   {
    "duration": 8,
    "start_time": "2023-01-11T07:17:52.535Z"
   },
   {
    "duration": 8,
    "start_time": "2023-01-11T07:17:52.544Z"
   },
   {
    "duration": 6,
    "start_time": "2023-01-11T07:17:52.553Z"
   },
   {
    "duration": 200,
    "start_time": "2023-01-11T07:17:52.560Z"
   },
   {
    "duration": 8,
    "start_time": "2023-01-11T07:17:52.762Z"
   },
   {
    "duration": 16,
    "start_time": "2023-01-11T07:17:52.771Z"
   },
   {
    "duration": 10,
    "start_time": "2023-01-11T07:17:52.789Z"
   },
   {
    "duration": 14,
    "start_time": "2023-01-11T07:17:52.813Z"
   },
   {
    "duration": 4,
    "start_time": "2023-01-11T07:17:52.829Z"
   },
   {
    "duration": 172,
    "start_time": "2023-01-11T07:17:52.834Z"
   },
   {
    "duration": 60,
    "start_time": "2023-01-11T07:17:53.007Z"
   },
   {
    "duration": 68,
    "start_time": "2023-01-11T07:17:53.068Z"
   },
   {
    "duration": 274,
    "start_time": "2023-01-11T07:17:53.138Z"
   },
   {
    "duration": 5,
    "start_time": "2023-01-11T07:17:53.414Z"
   },
   {
    "duration": 161,
    "start_time": "2023-01-11T07:17:53.421Z"
   },
   {
    "duration": 204,
    "start_time": "2023-01-11T07:17:53.584Z"
   },
   {
    "duration": 116,
    "start_time": "2023-01-11T07:17:53.790Z"
   },
   {
    "duration": 151,
    "start_time": "2023-01-11T07:17:53.912Z"
   },
   {
    "duration": 100,
    "start_time": "2023-01-11T07:17:54.065Z"
   },
   {
    "duration": 165,
    "start_time": "2023-01-11T07:17:54.169Z"
   },
   {
    "duration": 174,
    "start_time": "2023-01-11T07:17:54.336Z"
   },
   {
    "duration": 205,
    "start_time": "2023-01-11T07:17:54.512Z"
   },
   {
    "duration": 122,
    "start_time": "2023-01-11T07:17:54.718Z"
   },
   {
    "duration": 164,
    "start_time": "2023-01-11T07:17:54.841Z"
   },
   {
    "duration": 83,
    "start_time": "2023-01-11T07:17:55.006Z"
   },
   {
    "duration": 165,
    "start_time": "2023-01-11T07:17:55.090Z"
   },
   {
    "duration": 232,
    "start_time": "2023-01-11T07:17:55.256Z"
   },
   {
    "duration": 152,
    "start_time": "2023-01-11T07:17:55.489Z"
   },
   {
    "duration": 170,
    "start_time": "2023-01-11T07:17:55.643Z"
   },
   {
    "duration": 146,
    "start_time": "2023-01-11T07:17:55.814Z"
   },
   {
    "duration": 143,
    "start_time": "2023-01-11T07:17:55.961Z"
   },
   {
    "duration": 155,
    "start_time": "2023-01-11T07:17:56.112Z"
   },
   {
    "duration": 176,
    "start_time": "2023-01-11T07:17:56.269Z"
   },
   {
    "duration": 46,
    "start_time": "2023-01-11T07:17:56.447Z"
   },
   {
    "duration": 48,
    "start_time": "2023-01-11T07:17:56.504Z"
   },
   {
    "duration": 170,
    "start_time": "2023-01-11T07:17:56.554Z"
   },
   {
    "duration": 202,
    "start_time": "2023-01-11T07:17:56.727Z"
   },
   {
    "duration": 203,
    "start_time": "2023-01-11T07:17:56.931Z"
   },
   {
    "duration": 170,
    "start_time": "2023-01-11T07:17:57.136Z"
   },
   {
    "duration": 221,
    "start_time": "2023-01-11T07:17:57.308Z"
   },
   {
    "duration": 148,
    "start_time": "2023-01-11T07:17:57.531Z"
   },
   {
    "duration": 154,
    "start_time": "2023-01-11T07:17:57.681Z"
   },
   {
    "duration": 422,
    "start_time": "2023-01-11T07:19:55.828Z"
   },
   {
    "duration": 3,
    "start_time": "2023-01-11T07:19:56.251Z"
   },
   {
    "duration": 124,
    "start_time": "2023-01-11T07:19:56.699Z"
   },
   {
    "duration": 2184,
    "start_time": "2023-01-11T07:19:58.481Z"
   },
   {
    "duration": 5,
    "start_time": "2023-01-11T07:20:00.668Z"
   },
   {
    "duration": 182,
    "start_time": "2023-01-11T07:20:00.675Z"
   },
   {
    "duration": 127,
    "start_time": "2023-01-11T07:20:00.859Z"
   },
   {
    "duration": 149,
    "start_time": "2023-01-11T07:20:01.378Z"
   },
   {
    "duration": 11,
    "start_time": "2023-01-11T07:20:01.722Z"
   },
   {
    "duration": 9,
    "start_time": "2023-01-11T07:20:02.233Z"
   },
   {
    "duration": 5,
    "start_time": "2023-01-11T07:20:02.849Z"
   },
   {
    "duration": 9,
    "start_time": "2023-01-11T07:20:03.227Z"
   },
   {
    "duration": 127,
    "start_time": "2023-01-11T07:20:03.552Z"
   },
   {
    "duration": 15,
    "start_time": "2023-01-11T07:20:04.361Z"
   },
   {
    "duration": 14,
    "start_time": "2023-01-11T07:20:04.699Z"
   },
   {
    "duration": 6,
    "start_time": "2023-01-11T07:20:05.017Z"
   },
   {
    "duration": 6,
    "start_time": "2023-01-11T07:20:05.997Z"
   },
   {
    "duration": 6,
    "start_time": "2023-01-11T07:20:06.372Z"
   },
   {
    "duration": 8,
    "start_time": "2023-01-11T07:20:07.536Z"
   },
   {
    "duration": 7,
    "start_time": "2023-01-11T07:20:07.873Z"
   },
   {
    "duration": 5,
    "start_time": "2023-01-11T07:20:08.801Z"
   },
   {
    "duration": 6,
    "start_time": "2023-01-11T07:20:10.008Z"
   },
   {
    "duration": 6,
    "start_time": "2023-01-11T07:20:10.906Z"
   },
   {
    "duration": 5,
    "start_time": "2023-01-11T07:20:11.705Z"
   },
   {
    "duration": 150,
    "start_time": "2023-01-11T07:20:12.361Z"
   },
   {
    "duration": 8,
    "start_time": "2023-01-11T07:20:14.465Z"
   },
   {
    "duration": 16,
    "start_time": "2023-01-11T07:20:15.025Z"
   },
   {
    "duration": 4,
    "start_time": "2023-01-11T07:20:15.872Z"
   },
   {
    "duration": 15,
    "start_time": "2023-01-11T07:20:24.344Z"
   },
   {
    "duration": 4,
    "start_time": "2023-01-11T07:20:28.505Z"
   },
   {
    "duration": 156,
    "start_time": "2023-01-11T07:20:28.952Z"
   },
   {
    "duration": 63,
    "start_time": "2023-01-11T07:20:29.296Z"
   },
   {
    "duration": 62,
    "start_time": "2023-01-11T07:20:29.609Z"
   },
   {
    "duration": 261,
    "start_time": "2023-01-11T07:20:29.936Z"
   },
   {
    "duration": 7,
    "start_time": "2023-01-11T07:20:30.416Z"
   },
   {
    "duration": 144,
    "start_time": "2023-01-11T07:20:32.656Z"
   },
   {
    "duration": 205,
    "start_time": "2023-01-11T07:20:34.808Z"
   },
   {
    "duration": 107,
    "start_time": "2023-01-11T07:20:35.137Z"
   },
   {
    "duration": 144,
    "start_time": "2023-01-11T07:20:36.400Z"
   },
   {
    "duration": 92,
    "start_time": "2023-01-11T07:20:36.768Z"
   },
   {
    "duration": 150,
    "start_time": "2023-01-11T07:20:37.960Z"
   },
   {
    "duration": 170,
    "start_time": "2023-01-11T07:20:40.864Z"
   },
   {
    "duration": 162,
    "start_time": "2023-01-11T07:20:43.256Z"
   },
   {
    "duration": 104,
    "start_time": "2023-01-11T07:20:43.994Z"
   },
   {
    "duration": 145,
    "start_time": "2023-01-11T07:20:45.537Z"
   },
   {
    "duration": 93,
    "start_time": "2023-01-11T07:20:46.857Z"
   },
   {
    "duration": 164,
    "start_time": "2023-01-11T07:20:47.746Z"
   },
   {
    "duration": 217,
    "start_time": "2023-01-11T07:20:48.683Z"
   },
   {
    "duration": 133,
    "start_time": "2023-01-11T07:20:49.567Z"
   },
   {
    "duration": 178,
    "start_time": "2023-01-11T07:20:50.369Z"
   },
   {
    "duration": 124,
    "start_time": "2023-01-11T07:20:51.824Z"
   },
   {
    "duration": 136,
    "start_time": "2023-01-11T07:20:53.079Z"
   },
   {
    "duration": 150,
    "start_time": "2023-01-11T07:20:56.503Z"
   },
   {
    "duration": 169,
    "start_time": "2023-01-11T07:20:58.447Z"
   },
   {
    "duration": 47,
    "start_time": "2023-01-11T07:21:01.351Z"
   },
   {
    "duration": 37,
    "start_time": "2023-01-11T07:21:04.432Z"
   },
   {
    "duration": 186,
    "start_time": "2023-01-11T07:21:07.088Z"
   },
   {
    "duration": 189,
    "start_time": "2023-01-11T07:21:08.057Z"
   },
   {
    "duration": 187,
    "start_time": "2023-01-11T07:21:08.263Z"
   },
   {
    "duration": 162,
    "start_time": "2023-01-11T07:21:11.112Z"
   },
   {
    "duration": 48,
    "start_time": "2023-01-11T07:22:20.451Z"
   },
   {
    "duration": 406,
    "start_time": "2023-01-11T07:22:27.119Z"
   },
   {
    "duration": 2,
    "start_time": "2023-01-11T07:22:27.552Z"
   },
   {
    "duration": 131,
    "start_time": "2023-01-11T07:22:27.967Z"
   },
   {
    "duration": 420,
    "start_time": "2023-01-11T07:23:12.281Z"
   },
   {
    "duration": 3,
    "start_time": "2023-01-11T07:23:12.702Z"
   },
   {
    "duration": 125,
    "start_time": "2023-01-11T07:23:12.973Z"
   },
   {
    "duration": 261046,
    "start_time": "2023-01-11T07:23:21.482Z"
   },
   {
    "duration": 10,
    "start_time": "2023-01-11T07:29:43.587Z"
   },
   {
    "duration": 10,
    "start_time": "2023-01-11T07:29:58.805Z"
   },
   {
    "duration": 10,
    "start_time": "2023-01-11T07:30:45.083Z"
   },
   {
    "duration": 1315,
    "start_time": "2023-01-11T07:30:56.707Z"
   },
   {
    "duration": 75,
    "start_time": "2023-01-11T07:31:10.730Z"
   },
   {
    "duration": 220,
    "start_time": "2023-01-11T07:31:15.709Z"
   },
   {
    "duration": 424,
    "start_time": "2023-01-11T07:31:36.077Z"
   },
   {
    "duration": 3,
    "start_time": "2023-01-11T07:31:36.502Z"
   },
   {
    "duration": 138,
    "start_time": "2023-01-11T07:31:36.506Z"
   },
   {
    "duration": 2271,
    "start_time": "2023-01-11T07:31:36.646Z"
   },
   {
    "duration": 5,
    "start_time": "2023-01-11T07:31:38.921Z"
   },
   {
    "duration": 179,
    "start_time": "2023-01-11T07:31:38.928Z"
   },
   {
    "duration": 122,
    "start_time": "2023-01-11T07:31:39.113Z"
   },
   {
    "duration": 165,
    "start_time": "2023-01-11T07:31:39.237Z"
   },
   {
    "duration": 17,
    "start_time": "2023-01-11T07:31:39.404Z"
   },
   {
    "duration": 12,
    "start_time": "2023-01-11T07:31:39.423Z"
   },
   {
    "duration": 28,
    "start_time": "2023-01-11T07:31:39.436Z"
   },
   {
    "duration": 30,
    "start_time": "2023-01-11T07:31:39.466Z"
   },
   {
    "duration": 137,
    "start_time": "2023-01-11T07:31:39.498Z"
   },
   {
    "duration": 17,
    "start_time": "2023-01-11T07:31:39.638Z"
   },
   {
    "duration": 34,
    "start_time": "2023-01-11T07:31:39.657Z"
   },
   {
    "duration": 33,
    "start_time": "2023-01-11T07:31:39.693Z"
   },
   {
    "duration": 15,
    "start_time": "2023-01-11T07:31:39.728Z"
   },
   {
    "duration": 23,
    "start_time": "2023-01-11T07:31:39.745Z"
   },
   {
    "duration": 19,
    "start_time": "2023-01-11T07:31:39.770Z"
   },
   {
    "duration": 8,
    "start_time": "2023-01-11T07:31:39.791Z"
   },
   {
    "duration": 5,
    "start_time": "2023-01-11T07:31:39.801Z"
   },
   {
    "duration": 14,
    "start_time": "2023-01-11T07:31:39.808Z"
   },
   {
    "duration": 24,
    "start_time": "2023-01-11T07:31:39.823Z"
   },
   {
    "duration": 22,
    "start_time": "2023-01-11T07:31:39.849Z"
   },
   {
    "duration": 216,
    "start_time": "2023-01-11T07:31:39.873Z"
   },
   {
    "duration": 10,
    "start_time": "2023-01-11T07:31:40.092Z"
   },
   {
    "duration": 25,
    "start_time": "2023-01-11T07:31:40.114Z"
   },
   {
    "duration": 14,
    "start_time": "2023-01-11T07:31:40.141Z"
   },
   {
    "duration": 32,
    "start_time": "2023-01-11T07:31:40.157Z"
   },
   {
    "duration": 6,
    "start_time": "2023-01-11T07:31:40.191Z"
   },
   {
    "duration": 198,
    "start_time": "2023-01-11T07:31:40.199Z"
   },
   {
    "duration": 97,
    "start_time": "2023-01-11T07:31:40.400Z"
   },
   {
    "duration": 92,
    "start_time": "2023-01-11T07:31:40.499Z"
   },
   {
    "duration": 280,
    "start_time": "2023-01-11T07:31:40.593Z"
   },
   {
    "duration": 6,
    "start_time": "2023-01-11T07:31:40.874Z"
   },
   {
    "duration": 164,
    "start_time": "2023-01-11T07:31:40.881Z"
   },
   {
    "duration": 222,
    "start_time": "2023-01-11T07:31:41.046Z"
   },
   {
    "duration": 121,
    "start_time": "2023-01-11T07:31:41.269Z"
   },
   {
    "duration": 160,
    "start_time": "2023-01-11T07:31:41.391Z"
   },
   {
    "duration": 104,
    "start_time": "2023-01-11T07:31:41.552Z"
   },
   {
    "duration": 165,
    "start_time": "2023-01-11T07:31:41.660Z"
   },
   {
    "duration": 177,
    "start_time": "2023-01-11T07:31:41.827Z"
   },
   {
    "duration": 186,
    "start_time": "2023-01-11T07:31:42.006Z"
   },
   {
    "duration": 124,
    "start_time": "2023-01-11T07:31:42.193Z"
   },
   {
    "duration": 154,
    "start_time": "2023-01-11T07:31:42.319Z"
   },
   {
    "duration": 94,
    "start_time": "2023-01-11T07:31:42.475Z"
   },
   {
    "duration": 170,
    "start_time": "2023-01-11T07:31:42.570Z"
   },
   {
    "duration": 241,
    "start_time": "2023-01-11T07:31:42.742Z"
   },
   {
    "duration": 150,
    "start_time": "2023-01-11T07:31:42.985Z"
   },
   {
    "duration": 183,
    "start_time": "2023-01-11T07:31:43.137Z"
   },
   {
    "duration": 144,
    "start_time": "2023-01-11T07:31:43.322Z"
   },
   {
    "duration": 153,
    "start_time": "2023-01-11T07:31:43.468Z"
   },
   {
    "duration": 171,
    "start_time": "2023-01-11T07:31:43.623Z"
   },
   {
    "duration": 183,
    "start_time": "2023-01-11T07:31:43.795Z"
   },
   {
    "duration": 57,
    "start_time": "2023-01-11T07:31:43.980Z"
   },
   {
    "duration": 38,
    "start_time": "2023-01-11T07:31:44.039Z"
   },
   {
    "duration": 214,
    "start_time": "2023-01-11T07:31:44.079Z"
   },
   {
    "duration": 201,
    "start_time": "2023-01-11T07:31:44.295Z"
   },
   {
    "duration": 214,
    "start_time": "2023-01-11T07:31:44.499Z"
   },
   {
    "duration": 166,
    "start_time": "2023-01-11T07:31:44.715Z"
   },
   {
    "duration": 233,
    "start_time": "2023-01-11T07:31:44.882Z"
   },
   {
    "duration": 156,
    "start_time": "2023-01-11T07:31:45.116Z"
   },
   {
    "duration": 169,
    "start_time": "2023-01-11T07:31:45.273Z"
   },
   {
    "duration": 294979,
    "start_time": "2023-01-11T07:31:45.444Z"
   },
   {
    "duration": 34,
    "start_time": "2023-01-11T07:36:40.425Z"
   },
   {
    "duration": 49,
    "start_time": "2023-01-11T07:36:40.461Z"
   },
   {
    "duration": 42,
    "start_time": "2023-01-11T07:36:40.512Z"
   },
   {
    "duration": 14,
    "start_time": "2023-01-11T07:36:40.556Z"
   },
   {
    "duration": 203,
    "start_time": "2023-01-11T07:36:40.572Z"
   },
   {
    "duration": 7,
    "start_time": "2023-01-11T07:36:40.777Z"
   },
   {
    "duration": 160,
    "start_time": "2023-01-11T07:36:40.788Z"
   },
   {
    "duration": 18,
    "start_time": "2023-01-11T07:39:06.259Z"
   },
   {
    "duration": 153,
    "start_time": "2023-01-11T07:39:21.573Z"
   },
   {
    "duration": 157,
    "start_time": "2023-01-11T07:39:51.651Z"
   },
   {
    "duration": 148,
    "start_time": "2023-01-11T07:45:16.286Z"
   },
   {
    "duration": 142,
    "start_time": "2023-01-11T07:45:23.808Z"
   },
   {
    "duration": 151,
    "start_time": "2023-01-11T07:45:29.785Z"
   },
   {
    "duration": 148,
    "start_time": "2023-01-11T07:46:04.501Z"
   },
   {
    "duration": 173,
    "start_time": "2023-01-11T07:46:34.774Z"
   },
   {
    "duration": 175,
    "start_time": "2023-01-11T07:47:22.062Z"
   },
   {
    "duration": 147,
    "start_time": "2023-01-11T07:47:48.606Z"
   },
   {
    "duration": 146,
    "start_time": "2023-01-11T07:48:09.790Z"
   },
   {
    "duration": 453,
    "start_time": "2023-01-11T07:48:37.992Z"
   },
   {
    "duration": 3,
    "start_time": "2023-01-11T07:48:38.446Z"
   },
   {
    "duration": 133,
    "start_time": "2023-01-11T07:48:38.451Z"
   },
   {
    "duration": 2259,
    "start_time": "2023-01-11T07:48:38.586Z"
   },
   {
    "duration": 5,
    "start_time": "2023-01-11T07:48:40.847Z"
   },
   {
    "duration": 198,
    "start_time": "2023-01-11T07:48:40.853Z"
   },
   {
    "duration": 111,
    "start_time": "2023-01-11T07:48:41.053Z"
   },
   {
    "duration": 158,
    "start_time": "2023-01-11T07:48:41.166Z"
   },
   {
    "duration": 11,
    "start_time": "2023-01-11T07:48:41.326Z"
   },
   {
    "duration": 10,
    "start_time": "2023-01-11T07:48:41.341Z"
   },
   {
    "duration": 21,
    "start_time": "2023-01-11T07:48:41.353Z"
   },
   {
    "duration": 21,
    "start_time": "2023-01-11T07:48:41.376Z"
   },
   {
    "duration": 157,
    "start_time": "2023-01-11T07:48:41.398Z"
   },
   {
    "duration": 16,
    "start_time": "2023-01-11T07:48:41.557Z"
   },
   {
    "duration": 8,
    "start_time": "2023-01-11T07:48:41.575Z"
   },
   {
    "duration": 6,
    "start_time": "2023-01-11T07:48:41.585Z"
   },
   {
    "duration": 21,
    "start_time": "2023-01-11T07:48:41.592Z"
   },
   {
    "duration": 8,
    "start_time": "2023-01-11T07:48:41.615Z"
   },
   {
    "duration": 8,
    "start_time": "2023-01-11T07:48:41.625Z"
   },
   {
    "duration": 8,
    "start_time": "2023-01-11T07:48:41.634Z"
   },
   {
    "duration": 7,
    "start_time": "2023-01-11T07:48:41.643Z"
   },
   {
    "duration": 11,
    "start_time": "2023-01-11T07:48:41.652Z"
   },
   {
    "duration": 8,
    "start_time": "2023-01-11T07:48:41.665Z"
   },
   {
    "duration": 41,
    "start_time": "2023-01-11T07:48:41.675Z"
   },
   {
    "duration": 166,
    "start_time": "2023-01-11T07:48:41.717Z"
   },
   {
    "duration": 8,
    "start_time": "2023-01-11T07:48:41.885Z"
   },
   {
    "duration": 28,
    "start_time": "2023-01-11T07:48:41.894Z"
   },
   {
    "duration": 3,
    "start_time": "2023-01-11T07:48:41.926Z"
   },
   {
    "duration": 18,
    "start_time": "2023-01-11T07:48:41.931Z"
   },
   {
    "duration": 4,
    "start_time": "2023-01-11T07:48:41.950Z"
   },
   {
    "duration": 171,
    "start_time": "2023-01-11T07:48:41.956Z"
   },
   {
    "duration": 58,
    "start_time": "2023-01-11T07:48:42.129Z"
   },
   {
    "duration": 71,
    "start_time": "2023-01-11T07:48:42.189Z"
   },
   {
    "duration": 268,
    "start_time": "2023-01-11T07:48:42.262Z"
   },
   {
    "duration": 5,
    "start_time": "2023-01-11T07:48:42.532Z"
   },
   {
    "duration": 153,
    "start_time": "2023-01-11T07:48:42.538Z"
   },
   {
    "duration": 209,
    "start_time": "2023-01-11T07:48:42.693Z"
   },
   {
    "duration": 126,
    "start_time": "2023-01-11T07:48:42.904Z"
   },
   {
    "duration": 151,
    "start_time": "2023-01-11T07:48:43.032Z"
   },
   {
    "duration": 97,
    "start_time": "2023-01-11T07:48:43.185Z"
   },
   {
    "duration": 176,
    "start_time": "2023-01-11T07:48:43.284Z"
   },
   {
    "duration": 168,
    "start_time": "2023-01-11T07:48:43.462Z"
   },
   {
    "duration": 177,
    "start_time": "2023-01-11T07:48:43.632Z"
   },
   {
    "duration": 117,
    "start_time": "2023-01-11T07:48:43.812Z"
   },
   {
    "duration": 166,
    "start_time": "2023-01-11T07:48:43.931Z"
   },
   {
    "duration": 88,
    "start_time": "2023-01-11T07:48:44.099Z"
   },
   {
    "duration": 173,
    "start_time": "2023-01-11T07:48:44.188Z"
   },
   {
    "duration": 227,
    "start_time": "2023-01-11T07:48:44.363Z"
   },
   {
    "duration": 164,
    "start_time": "2023-01-11T07:48:44.591Z"
   },
   {
    "duration": 171,
    "start_time": "2023-01-11T07:48:44.757Z"
   },
   {
    "duration": 142,
    "start_time": "2023-01-11T07:48:44.930Z"
   },
   {
    "duration": 163,
    "start_time": "2023-01-11T07:48:45.074Z"
   },
   {
    "duration": 170,
    "start_time": "2023-01-11T07:48:45.239Z"
   },
   {
    "duration": 175,
    "start_time": "2023-01-11T07:48:45.413Z"
   },
   {
    "duration": 48,
    "start_time": "2023-01-11T07:48:45.590Z"
   },
   {
    "duration": 37,
    "start_time": "2023-01-11T07:48:45.640Z"
   },
   {
    "duration": 209,
    "start_time": "2023-01-11T07:48:45.679Z"
   },
   {
    "duration": 199,
    "start_time": "2023-01-11T07:48:45.890Z"
   },
   {
    "duration": 193,
    "start_time": "2023-01-11T07:48:46.090Z"
   },
   {
    "duration": 155,
    "start_time": "2023-01-11T07:48:46.285Z"
   },
   {
    "duration": 227,
    "start_time": "2023-01-11T07:48:46.442Z"
   },
   {
    "duration": 160,
    "start_time": "2023-01-11T07:48:46.671Z"
   },
   {
    "duration": 193,
    "start_time": "2023-01-11T07:48:46.833Z"
   },
   {
    "duration": 160,
    "start_time": "2023-01-11T07:48:47.028Z"
   },
   {
    "duration": 30,
    "start_time": "2023-01-11T07:48:47.190Z"
   },
   {
    "duration": 23,
    "start_time": "2023-01-11T07:48:47.221Z"
   },
   {
    "duration": 24,
    "start_time": "2023-01-11T07:48:47.245Z"
   },
   {
    "duration": 14,
    "start_time": "2023-01-11T07:48:47.270Z"
   },
   {
    "duration": 220,
    "start_time": "2023-01-11T07:48:47.286Z"
   },
   {
    "duration": 6,
    "start_time": "2023-01-11T07:48:47.512Z"
   },
   {
    "duration": 159,
    "start_time": "2023-01-11T08:29:13.537Z"
   },
   {
    "duration": 185,
    "start_time": "2023-01-11T08:29:26.763Z"
   },
   {
    "duration": 137,
    "start_time": "2023-01-11T08:29:33.033Z"
   },
   {
    "duration": 24,
    "start_time": "2023-01-11T08:33:21.125Z"
   },
   {
    "duration": 9,
    "start_time": "2023-01-11T08:33:37.366Z"
   },
   {
    "duration": 9,
    "start_time": "2023-01-11T08:33:48.870Z"
   },
   {
    "duration": 10,
    "start_time": "2023-01-11T08:35:05.429Z"
   },
   {
    "duration": 184,
    "start_time": "2023-01-11T08:36:48.870Z"
   },
   {
    "duration": 54,
    "start_time": "2023-01-11T08:37:09.204Z"
   },
   {
    "duration": 12,
    "start_time": "2023-01-11T08:37:17.029Z"
   },
   {
    "duration": 404,
    "start_time": "2023-01-11T13:12:40.935Z"
   },
   {
    "duration": 2,
    "start_time": "2023-01-11T13:12:41.342Z"
   },
   {
    "duration": 154,
    "start_time": "2023-01-11T13:12:41.345Z"
   },
   {
    "duration": 2200,
    "start_time": "2023-01-11T13:12:41.501Z"
   },
   {
    "duration": 4,
    "start_time": "2023-01-11T13:12:43.703Z"
   },
   {
    "duration": 145,
    "start_time": "2023-01-11T13:12:43.708Z"
   },
   {
    "duration": 114,
    "start_time": "2023-01-11T13:12:43.855Z"
   },
   {
    "duration": 160,
    "start_time": "2023-01-11T13:12:43.971Z"
   },
   {
    "duration": 11,
    "start_time": "2023-01-11T13:12:44.133Z"
   },
   {
    "duration": 9,
    "start_time": "2023-01-11T13:12:44.147Z"
   },
   {
    "duration": 6,
    "start_time": "2023-01-11T13:12:44.158Z"
   },
   {
    "duration": 11,
    "start_time": "2023-01-11T13:12:44.166Z"
   },
   {
    "duration": 166,
    "start_time": "2023-01-11T13:12:44.179Z"
   },
   {
    "duration": 17,
    "start_time": "2023-01-11T13:12:44.347Z"
   },
   {
    "duration": 9,
    "start_time": "2023-01-11T13:12:44.365Z"
   },
   {
    "duration": 9,
    "start_time": "2023-01-11T13:12:44.375Z"
   },
   {
    "duration": 27,
    "start_time": "2023-01-11T13:12:44.386Z"
   },
   {
    "duration": 5,
    "start_time": "2023-01-11T13:12:44.415Z"
   },
   {
    "duration": 36,
    "start_time": "2023-01-11T13:12:44.422Z"
   },
   {
    "duration": 37,
    "start_time": "2023-01-11T13:12:44.459Z"
   },
   {
    "duration": 36,
    "start_time": "2023-01-11T13:12:44.497Z"
   },
   {
    "duration": 33,
    "start_time": "2023-01-11T13:12:44.535Z"
   },
   {
    "duration": 44,
    "start_time": "2023-01-11T13:12:44.569Z"
   },
   {
    "duration": 31,
    "start_time": "2023-01-11T13:12:44.615Z"
   },
   {
    "duration": 195,
    "start_time": "2023-01-11T13:12:44.648Z"
   },
   {
    "duration": 10,
    "start_time": "2023-01-11T13:12:44.844Z"
   },
   {
    "duration": 29,
    "start_time": "2023-01-11T13:12:44.855Z"
   },
   {
    "duration": 12,
    "start_time": "2023-01-11T13:12:44.889Z"
   },
   {
    "duration": 36,
    "start_time": "2023-01-11T13:12:44.903Z"
   },
   {
    "duration": 12,
    "start_time": "2023-01-11T13:12:44.941Z"
   },
   {
    "duration": 182,
    "start_time": "2023-01-11T13:12:44.954Z"
   },
   {
    "duration": 63,
    "start_time": "2023-01-11T13:12:45.137Z"
   },
   {
    "duration": 84,
    "start_time": "2023-01-11T13:12:45.202Z"
   },
   {
    "duration": 271,
    "start_time": "2023-01-11T13:12:45.287Z"
   },
   {
    "duration": 5,
    "start_time": "2023-01-11T13:12:45.559Z"
   },
   {
    "duration": 161,
    "start_time": "2023-01-11T13:12:45.566Z"
   },
   {
    "duration": 210,
    "start_time": "2023-01-11T13:12:45.729Z"
   },
   {
    "duration": 113,
    "start_time": "2023-01-11T13:12:45.941Z"
   },
   {
    "duration": 161,
    "start_time": "2023-01-11T13:12:46.056Z"
   },
   {
    "duration": 110,
    "start_time": "2023-01-11T13:12:46.219Z"
   },
   {
    "duration": 171,
    "start_time": "2023-01-11T13:12:46.331Z"
   },
   {
    "duration": 197,
    "start_time": "2023-01-11T13:12:46.504Z"
   },
   {
    "duration": 183,
    "start_time": "2023-01-11T13:12:46.703Z"
   },
   {
    "duration": 128,
    "start_time": "2023-01-11T13:12:46.888Z"
   },
   {
    "duration": 153,
    "start_time": "2023-01-11T13:12:47.018Z"
   },
   {
    "duration": 92,
    "start_time": "2023-01-11T13:12:47.173Z"
   },
   {
    "duration": 169,
    "start_time": "2023-01-11T13:12:47.267Z"
   },
   {
    "duration": 235,
    "start_time": "2023-01-11T13:12:47.438Z"
   },
   {
    "duration": 145,
    "start_time": "2023-01-11T13:12:47.675Z"
   },
   {
    "duration": 167,
    "start_time": "2023-01-11T13:12:47.822Z"
   },
   {
    "duration": 128,
    "start_time": "2023-01-11T13:12:47.990Z"
   },
   {
    "duration": 148,
    "start_time": "2023-01-11T13:12:48.120Z"
   },
   {
    "duration": 157,
    "start_time": "2023-01-11T13:12:48.269Z"
   },
   {
    "duration": 175,
    "start_time": "2023-01-11T13:12:48.428Z"
   },
   {
    "duration": 50,
    "start_time": "2023-01-11T13:12:48.604Z"
   },
   {
    "duration": 37,
    "start_time": "2023-01-11T13:12:48.656Z"
   },
   {
    "duration": 213,
    "start_time": "2023-01-11T13:12:48.695Z"
   },
   {
    "duration": 203,
    "start_time": "2023-01-11T13:12:48.910Z"
   },
   {
    "duration": 203,
    "start_time": "2023-01-11T13:12:49.116Z"
   },
   {
    "duration": 156,
    "start_time": "2023-01-11T13:12:49.321Z"
   },
   {
    "duration": 218,
    "start_time": "2023-01-11T13:12:49.479Z"
   },
   {
    "duration": 141,
    "start_time": "2023-01-11T13:12:49.699Z"
   },
   {
    "duration": 165,
    "start_time": "2023-01-11T13:12:49.841Z"
   },
   {
    "duration": 156,
    "start_time": "2023-01-11T13:12:50.007Z"
   },
   {
    "duration": 24,
    "start_time": "2023-01-11T13:12:50.164Z"
   },
   {
    "duration": 8,
    "start_time": "2023-01-11T13:12:50.190Z"
   },
   {
    "duration": 20,
    "start_time": "2023-01-11T13:12:50.199Z"
   },
   {
    "duration": 30,
    "start_time": "2023-01-11T13:12:50.221Z"
   },
   {
    "duration": 216,
    "start_time": "2023-01-11T13:12:50.253Z"
   },
   {
    "duration": 9,
    "start_time": "2023-01-11T13:12:50.471Z"
   },
   {
    "duration": 407,
    "start_time": "2023-01-11T18:23:13.142Z"
   },
   {
    "duration": 3,
    "start_time": "2023-01-11T18:23:13.551Z"
   },
   {
    "duration": 133,
    "start_time": "2023-01-11T18:23:13.556Z"
   },
   {
    "duration": 2181,
    "start_time": "2023-01-11T18:23:13.692Z"
   },
   {
    "duration": 5,
    "start_time": "2023-01-11T18:23:15.875Z"
   },
   {
    "duration": 158,
    "start_time": "2023-01-11T18:23:15.882Z"
   },
   {
    "duration": 111,
    "start_time": "2023-01-11T18:23:16.041Z"
   },
   {
    "duration": 155,
    "start_time": "2023-01-11T18:23:16.153Z"
   },
   {
    "duration": 10,
    "start_time": "2023-01-11T18:23:16.310Z"
   },
   {
    "duration": 12,
    "start_time": "2023-01-11T18:23:16.323Z"
   },
   {
    "duration": 8,
    "start_time": "2023-01-11T18:23:16.337Z"
   },
   {
    "duration": 9,
    "start_time": "2023-01-11T18:23:16.346Z"
   },
   {
    "duration": 138,
    "start_time": "2023-01-11T18:23:16.377Z"
   },
   {
    "duration": 16,
    "start_time": "2023-01-11T18:23:16.516Z"
   },
   {
    "duration": 8,
    "start_time": "2023-01-11T18:23:16.534Z"
   },
   {
    "duration": 6,
    "start_time": "2023-01-11T18:23:16.544Z"
   },
   {
    "duration": 7,
    "start_time": "2023-01-11T18:23:16.577Z"
   },
   {
    "duration": 7,
    "start_time": "2023-01-11T18:23:16.585Z"
   },
   {
    "duration": 7,
    "start_time": "2023-01-11T18:23:16.594Z"
   },
   {
    "duration": 7,
    "start_time": "2023-01-11T18:23:16.603Z"
   },
   {
    "duration": 6,
    "start_time": "2023-01-11T18:23:16.612Z"
   },
   {
    "duration": 9,
    "start_time": "2023-01-11T18:23:16.620Z"
   },
   {
    "duration": 4,
    "start_time": "2023-01-11T18:23:16.631Z"
   },
   {
    "duration": 42,
    "start_time": "2023-01-11T18:23:16.637Z"
   },
   {
    "duration": 165,
    "start_time": "2023-01-11T18:23:16.681Z"
   },
   {
    "duration": 10,
    "start_time": "2023-01-11T18:23:16.848Z"
   },
   {
    "duration": 29,
    "start_time": "2023-01-11T18:23:16.860Z"
   },
   {
    "duration": 3,
    "start_time": "2023-01-11T18:23:16.893Z"
   },
   {
    "duration": 17,
    "start_time": "2023-01-11T18:23:16.898Z"
   },
   {
    "duration": 4,
    "start_time": "2023-01-11T18:23:16.917Z"
   },
   {
    "duration": 184,
    "start_time": "2023-01-11T18:23:16.923Z"
   },
   {
    "duration": 78,
    "start_time": "2023-01-11T18:23:17.109Z"
   },
   {
    "duration": 72,
    "start_time": "2023-01-11T18:23:17.189Z"
   },
   {
    "duration": 307,
    "start_time": "2023-01-11T18:23:17.263Z"
   },
   {
    "duration": 8,
    "start_time": "2023-01-11T18:23:17.572Z"
   },
   {
    "duration": 162,
    "start_time": "2023-01-11T18:23:17.582Z"
   },
   {
    "duration": 233,
    "start_time": "2023-01-11T18:23:17.746Z"
   },
   {
    "duration": 125,
    "start_time": "2023-01-11T18:23:17.981Z"
   },
   {
    "duration": 186,
    "start_time": "2023-01-11T18:23:18.108Z"
   },
   {
    "duration": 134,
    "start_time": "2023-01-11T18:23:18.296Z"
   },
   {
    "duration": 177,
    "start_time": "2023-01-11T18:23:18.432Z"
   },
   {
    "duration": 184,
    "start_time": "2023-01-11T18:23:18.611Z"
   },
   {
    "duration": 183,
    "start_time": "2023-01-11T18:23:18.796Z"
   },
   {
    "duration": 136,
    "start_time": "2023-01-11T18:23:18.981Z"
   },
   {
    "duration": 157,
    "start_time": "2023-01-11T18:23:19.119Z"
   },
   {
    "duration": 80,
    "start_time": "2023-01-11T18:23:19.277Z"
   },
   {
    "duration": 174,
    "start_time": "2023-01-11T18:23:19.359Z"
   },
   {
    "duration": 226,
    "start_time": "2023-01-11T18:23:19.535Z"
   },
   {
    "duration": 150,
    "start_time": "2023-01-11T18:23:19.762Z"
   },
   {
    "duration": 182,
    "start_time": "2023-01-11T18:23:19.913Z"
   },
   {
    "duration": 141,
    "start_time": "2023-01-11T18:23:20.096Z"
   },
   {
    "duration": 147,
    "start_time": "2023-01-11T18:23:20.239Z"
   },
   {
    "duration": 153,
    "start_time": "2023-01-11T18:23:20.388Z"
   },
   {
    "duration": 176,
    "start_time": "2023-01-11T18:23:20.543Z"
   },
   {
    "duration": 59,
    "start_time": "2023-01-11T18:23:20.721Z"
   },
   {
    "duration": 40,
    "start_time": "2023-01-11T18:23:20.782Z"
   },
   {
    "duration": 231,
    "start_time": "2023-01-11T18:23:20.824Z"
   },
   {
    "duration": 203,
    "start_time": "2023-01-11T18:23:21.057Z"
   },
   {
    "duration": 197,
    "start_time": "2023-01-11T18:23:21.262Z"
   },
   {
    "duration": 157,
    "start_time": "2023-01-11T18:23:21.460Z"
   },
   {
    "duration": 227,
    "start_time": "2023-01-11T18:23:21.619Z"
   },
   {
    "duration": 156,
    "start_time": "2023-01-11T18:23:21.848Z"
   },
   {
    "duration": 184,
    "start_time": "2023-01-11T18:23:22.005Z"
   },
   {
    "duration": 162,
    "start_time": "2023-01-11T18:23:22.191Z"
   },
   {
    "duration": 34,
    "start_time": "2023-01-11T18:23:22.355Z"
   },
   {
    "duration": 8,
    "start_time": "2023-01-11T18:23:22.391Z"
   },
   {
    "duration": 11,
    "start_time": "2023-01-11T18:23:22.401Z"
   },
   {
    "duration": 19,
    "start_time": "2023-01-11T18:23:22.413Z"
   },
   {
    "duration": 187,
    "start_time": "2023-01-11T18:23:22.433Z"
   },
   {
    "duration": 7,
    "start_time": "2023-01-11T18:23:22.622Z"
   }
  ],
  "kernelspec": {
   "display_name": "Python 3 (ipykernel)",
   "language": "python",
   "name": "python3"
  },
  "language_info": {
   "codemirror_mode": {
    "name": "ipython",
    "version": 3
   },
   "file_extension": ".py",
   "mimetype": "text/x-python",
   "name": "python",
   "nbconvert_exporter": "python",
   "pygments_lexer": "ipython3",
   "version": "3.9.5"
  },
  "toc": {
   "base_numbering": 1,
   "nav_menu": {},
   "number_sections": true,
   "sideBar": true,
   "skip_h1_title": true,
   "title_cell": "Table of Contents",
   "title_sidebar": "Contents",
   "toc_cell": false,
   "toc_position": {},
   "toc_section_display": true,
   "toc_window_display": false
  }
 },
 "nbformat": 4,
 "nbformat_minor": 2
}
